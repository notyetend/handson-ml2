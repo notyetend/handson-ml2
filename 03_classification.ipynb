{
 "cells": [
  {
   "cell_type": "markdown",
   "metadata": {},
   "source": [
    "**Chapter 3 – Classification**\n",
    "\n",
    "_This notebook contains all the sample code and solutions to the exercises in chapter 3._"
   ]
  },
  {
   "cell_type": "markdown",
   "metadata": {},
   "source": [
    "<table align=\"left\">\n",
    "  <td>\n",
    "    <a target=\"_blank\" href=\"https://colab.research.google.com/github/notyetend/handson-ml2/blob/master/03_classification.ipynb\"><img src=\"https://www.tensorflow.org/images/colab_logo_32px.png\" />Run in Google Colab</a>\n",
    "  </td>\n",
    "</table>"
   ]
  },
  {
   "cell_type": "markdown",
   "metadata": {},
   "source": [
    "# Setup"
   ]
  },
  {
   "cell_type": "markdown",
   "metadata": {},
   "source": [
    "First, let's import a few common modules, ensure MatplotLib plots figures inline and prepare a function to save the figures. We also check that Python 3.5 or later is installed (although Python 2.x may work, it is deprecated so we strongly recommend you use Python 3 instead), as well as Scikit-Learn ≥0.20."
   ]
  },
  {
   "cell_type": "code",
   "execution_count": 1,
   "metadata": {},
   "outputs": [],
   "source": [
    "# Python ≥3.5 is required\n",
    "import sys\n",
    "assert sys.version_info >= (3, 5)\n",
    "\n",
    "# Scikit-Learn ≥0.20 is required\n",
    "import sklearn\n",
    "assert sklearn.__version__ >= \"0.20\"\n",
    "\n",
    "# Common imports\n",
    "import numpy as np\n",
    "import os\n",
    "\n",
    "# to make this notebook's output stable across runs\n",
    "np.random.seed(42)\n",
    "\n",
    "# To plot pretty figures\n",
    "%matplotlib inline\n",
    "import matplotlib as mpl\n",
    "import matplotlib.pyplot as plt\n",
    "mpl.rc('axes', labelsize=14)\n",
    "mpl.rc('xtick', labelsize=12)\n",
    "mpl.rc('ytick', labelsize=12)\n",
    "\n",
    "# Where to save the figures\n",
    "PROJECT_ROOT_DIR = \".\"\n",
    "CHAPTER_ID = \"classification\"\n",
    "IMAGES_PATH = os.path.join(PROJECT_ROOT_DIR, \"images\", CHAPTER_ID)\n",
    "os.makedirs(IMAGES_PATH, exist_ok=True)\n",
    "\n",
    "def save_fig(fig_id, tight_layout=True, fig_extension=\"png\", resolution=300):\n",
    "    path = os.path.join(IMAGES_PATH, fig_id + \".\" + fig_extension)\n",
    "    print(\"Saving figure\", fig_id)\n",
    "    if tight_layout:\n",
    "        plt.tight_layout()\n",
    "    plt.savefig(path, format=fig_extension, dpi=resolution)"
   ]
  },
  {
   "cell_type": "markdown",
   "metadata": {},
   "source": [
    "# MNIST"
   ]
  },
  {
   "cell_type": "code",
   "execution_count": 2,
   "metadata": {},
   "outputs": [
    {
     "data": {
      "text/plain": [
       "dict_keys(['data', 'target', 'feature_names', 'DESCR', 'details', 'categories', 'url'])"
      ]
     },
     "execution_count": 2,
     "metadata": {},
     "output_type": "execute_result"
    }
   ],
   "source": [
    "from sklearn.datasets import fetch_openml\n",
    "mnist = fetch_openml('mnist_784', version=1)\n",
    "mnist.keys()"
   ]
  },
  {
   "cell_type": "code",
   "execution_count": 3,
   "metadata": {},
   "outputs": [
    {
     "data": {
      "text/plain": [
       "(70000, 784)"
      ]
     },
     "execution_count": 3,
     "metadata": {},
     "output_type": "execute_result"
    }
   ],
   "source": [
    "X, y = mnist[\"data\"], mnist[\"target\"]\n",
    "X.shape"
   ]
  },
  {
   "cell_type": "code",
   "execution_count": 4,
   "metadata": {},
   "outputs": [
    {
     "data": {
      "text/plain": [
       "(70000,)"
      ]
     },
     "execution_count": 4,
     "metadata": {},
     "output_type": "execute_result"
    }
   ],
   "source": [
    "y.shape"
   ]
  },
  {
   "cell_type": "code",
   "execution_count": 5,
   "metadata": {},
   "outputs": [
    {
     "data": {
      "text/plain": [
       "784"
      ]
     },
     "execution_count": 5,
     "metadata": {},
     "output_type": "execute_result"
    }
   ],
   "source": [
    "28 * 28"
   ]
  },
  {
   "cell_type": "code",
   "execution_count": 6,
   "metadata": {},
   "outputs": [
    {
     "name": "stdout",
     "output_type": "stream",
     "text": [
      "Saving figure some_digit_plot\n"
     ]
    },
    {
     "data": {
      "image/png": "[encoded data removed]",
      "text/plain": [
       "<Figure size 432x288 with 1 Axes>"
      ]
     },
     "metadata": {
      "needs_background": "light"
     },
     "output_type": "display_data"
    }
   ],
   "source": [
    "%matplotlib inline\n",
    "import matplotlib as mpl\n",
    "import matplotlib.pyplot as plt\n",
    "\n",
    "some_digit = X[0]\n",
    "some_digit_image = some_digit.reshape(28, 28)\n",
    "plt.imshow(some_digit_image, cmap=mpl.cm.binary)\n",
    "plt.axis(\"off\")\n",
    "\n",
    "save_fig(\"some_digit_plot\")\n",
    "plt.show()"
   ]
  },
  {
   "cell_type": "code",
   "execution_count": 7,
   "metadata": {},
   "outputs": [
    {
     "data": {
      "text/plain": [
       "'5'"
      ]
     },
     "execution_count": 7,
     "metadata": {},
     "output_type": "execute_result"
    }
   ],
   "source": [
    "y[0]"
   ]
  },
  {
   "cell_type": "code",
   "execution_count": 8,
   "metadata": {},
   "outputs": [],
   "source": [
    "y = y.astype(np.uint8)"
   ]
  },
  {
   "cell_type": "code",
   "execution_count": 9,
   "metadata": {},
   "outputs": [],
   "source": [
    "def plot_digit(data):\n",
    "    image = data.reshape(28, 28)\n",
    "    plt.imshow(image, cmap = mpl.cm.binary,\n",
    "               interpolation=\"nearest\")\n",
    "    plt.axis(\"off\")"
   ]
  },
  {
   "cell_type": "code",
   "execution_count": 10,
   "metadata": {},
   "outputs": [],
   "source": [
    "# EXTRA\n",
    "def plot_digits(instances, images_per_row=10, **options):\n",
    "    size = 28\n",
    "    images_per_row = min(len(instances), images_per_row)\n",
    "    images = [instance.reshape(size,size) for instance in instances]\n",
    "    n_rows = (len(instances) - 1) // images_per_row + 1\n",
    "    row_images = []\n",
    "    n_empty = n_rows * images_per_row - len(instances)\n",
    "    images.append(np.zeros((size, size * n_empty)))\n",
    "    for row in range(n_rows):\n",
    "        rimages = images[row * images_per_row : (row + 1) * images_per_row]\n",
    "        row_images.append(np.concatenate(rimages, axis=1))\n",
    "    image = np.concatenate(row_images, axis=0)\n",
    "    plt.imshow(image, cmap = mpl.cm.binary, **options)\n",
    "    plt.axis(\"off\")"
   ]
  },
  {
   "cell_type": "code",
   "execution_count": 11,
   "metadata": {},
   "outputs": [
    {
     "name": "stdout",
     "output_type": "stream",
     "text": [
      "Saving figure more_digits_plot\n"
     ]
    },
    {
     "data": {
      "image/png": "[encoded data removed]",
      "text/plain": [
       "<Figure size 648x648 with 1 Axes>"
      ]
     },
     "metadata": {
      "needs_background": "light"
     },
     "output_type": "display_data"
    }
   ],
   "source": [
    "plt.figure(figsize=(9,9))\n",
    "example_images = X[:100]\n",
    "plot_digits(example_images, images_per_row=10)\n",
    "save_fig(\"more_digits_plot\")\n",
    "plt.show()"
   ]
  },
  {
   "cell_type": "code",
   "execution_count": 12,
   "metadata": {},
   "outputs": [
    {
     "data": {
      "text/plain": [
       "5"
      ]
     },
     "execution_count": 12,
     "metadata": {},
     "output_type": "execute_result"
    }
   ],
   "source": [
    "y[0]"
   ]
  },
  {
   "cell_type": "markdown",
   "metadata": {},
   "source": [
    "###### 왜 6만개만 사용하지?"
   ]
  },
  {
   "cell_type": "code",
   "execution_count": 13,
   "metadata": {},
   "outputs": [],
   "source": [
    "X_train, X_test, y_train, y_test = X[:60000], X[60000:], y[:60000], y[60000:]"
   ]
  },
  {
   "cell_type": "markdown",
   "metadata": {},
   "source": [
    "###### 우선 2항 분류만 하기 위해서 숫자 그림이 5인지 아닌지로 나눈다."
   ]
  },
  {
   "cell_type": "markdown",
   "metadata": {},
   "source": [
    "# Binary classifier"
   ]
  },
  {
   "cell_type": "code",
   "execution_count": 14,
   "metadata": {},
   "outputs": [],
   "source": [
    "y_train_5 = (y_train == 5)\n",
    "y_test_5 = (y_test == 5)"
   ]
  },
  {
   "cell_type": "code",
   "execution_count": 15,
   "metadata": {},
   "outputs": [
    {
     "data": {
      "text/plain": [
       "array([ True, False, False, ...,  True, False, False])"
      ]
     },
     "execution_count": 15,
     "metadata": {},
     "output_type": "execute_result"
    }
   ],
   "source": [
    "y_train_5"
   ]
  },
  {
   "cell_type": "markdown",
   "metadata": {},
   "source": [
    "**Note**: some hyperparameters will have a different defaut value in future versions of Scikit-Learn, such as `max_iter` and `tol`. To be future-proof, we explicitly set these hyperparameters to their future default values. For simplicity, this is not shown in the book."
   ]
  },
  {
   "cell_type": "markdown",
   "metadata": {},
   "source": [
    "###### SGD는 바로 그 Stochastic Gradient Descent인가? 이게 왜 여기서 나와?     그게 아니라 regularized linear models with stochastic gradient descent (SGD)"
   ]
  },
  {
   "cell_type": "code",
   "execution_count": 16,
   "metadata": {},
   "outputs": [
    {
     "data": {
      "text/plain": [
       "SGDClassifier(alpha=0.0001, average=False, class_weight=None,\n",
       "              early_stopping=False, epsilon=0.1, eta0=0.0, fit_intercept=True,\n",
       "              l1_ratio=0.15, learning_rate='optimal', loss='hinge',\n",
       "              max_iter=1000, n_iter_no_change=5, n_jobs=None, penalty='l2',\n",
       "              power_t=0.5, random_state=42, shuffle=True, tol=0.001,\n",
       "              validation_fraction=0.1, verbose=0, warm_start=False)"
      ]
     },
     "execution_count": 16,
     "metadata": {},
     "output_type": "execute_result"
    }
   ],
   "source": [
    "from sklearn.linear_model import SGDClassifier\n",
    "\n",
    "sgd_clf = SGDClassifier(max_iter=1000, tol=1e-3, random_state=42)\n",
    "sgd_clf.fit(X_train, y_train_5)"
   ]
  },
  {
   "cell_type": "markdown",
   "metadata": {},
   "source": [
    "###### 2항 분류 문제로 바꿨기 때문에 예측 결과도 True/False이다."
   ]
  },
  {
   "cell_type": "code",
   "execution_count": 17,
   "metadata": {},
   "outputs": [
    {
     "data": {
      "text/plain": [
       "array([ True])"
      ]
     },
     "execution_count": 17,
     "metadata": {},
     "output_type": "execute_result"
    }
   ],
   "source": [
    "sgd_clf.predict([some_digit])"
   ]
  },
  {
   "cell_type": "markdown",
   "metadata": {},
   "source": [
    "###### 3-fold cv를 했을 때, 각 fold의 accuracy를 보여준다."
   ]
  },
  {
   "cell_type": "code",
   "execution_count": 18,
   "metadata": {},
   "outputs": [
    {
     "data": {
      "text/plain": [
       "array([0.95035, 0.96035, 0.9604 ])"
      ]
     },
     "execution_count": 18,
     "metadata": {},
     "output_type": "execute_result"
    }
   ],
   "source": [
    "from sklearn.model_selection import cross_val_score\n",
    "cross_val_score(sgd_clf, X_train, y_train_5, cv=3, scoring=\"accuracy\")"
   ]
  },
  {
   "cell_type": "markdown",
   "metadata": {},
   "source": [
    "###### StratifiedKFold는 층화 K-fold? 인가? 어떤 feature를 기준으로 층을 나눌지 지정하는게 나오겠지? 그런데 바로 앞에서 cross_val_score를 사용하는 것과 뭐가 다르지? 같은걸 다른 방법으로 해본건가? 결과는 조금 다르네.."
   ]
  },
  {
   "cell_type": "code",
   "execution_count": 19,
   "metadata": {},
   "outputs": [
    {
     "name": "stdout",
     "output_type": "stream",
     "text": [
      "0.95035\n",
      "0.96035\n",
      "0.9604\n"
     ]
    }
   ],
   "source": [
    "from sklearn.model_selection import StratifiedKFold\n",
    "from sklearn.base import clone\n",
    "\n",
    "skfolds = StratifiedKFold(n_splits=3, random_state=42)\n",
    "\n",
    "for train_index, test_index in skfolds.split(X_train, y_train_5):\n",
    "    clone_clf = clone(sgd_clf)\n",
    "    X_train_folds = X_train[train_index]\n",
    "    y_train_folds = y_train_5[train_index]\n",
    "    X_test_fold = X_train[test_index]\n",
    "    y_test_fold = y_train_5[test_index]\n",
    "\n",
    "    clone_clf.fit(X_train_folds, y_train_folds)\n",
    "    y_pred = clone_clf.predict(X_test_fold)\n",
    "    n_correct = sum(y_pred == y_test_fold)\n",
    "    print(n_correct / len(y_pred))"
   ]
  },
  {
   "cell_type": "code",
   "execution_count": 20,
   "metadata": {},
   "outputs": [],
   "source": [
    "from sklearn.base import BaseEstimator\n",
    "class Never5Classifier(BaseEstimator):\n",
    "    def fit(self, X, y=None):\n",
    "        pass\n",
    "    def predict(self, X):\n",
    "        return np.zeros((len(X), 1), dtype=bool)"
   ]
  },
  {
   "cell_type": "markdown",
   "metadata": {},
   "source": [
    "###### 헐~ 항상 False로만 예측하는 classifier에 대한 accuracy는 높다. 이건 False 샘플이 90%에 육박하기 때문이다."
   ]
  },
  {
   "cell_type": "code",
   "execution_count": 21,
   "metadata": {},
   "outputs": [
    {
     "data": {
      "text/plain": [
       "array([0.91125, 0.90855, 0.90915])"
      ]
     },
     "execution_count": 21,
     "metadata": {},
     "output_type": "execute_result"
    }
   ],
   "source": [
    "never_5_clf = Never5Classifier()\n",
    "cross_val_score(never_5_clf, X_train, y_train_5, cv=3, scoring=\"accuracy\")"
   ]
  },
  {
   "cell_type": "markdown",
   "metadata": {},
   "source": [
    "###### cross_val_predict는 뭐하는 것인가?\n",
    "\n",
    "> The function cross_val_predict has a similar interface to cross_val_score, but returns, for each element in the input, the prediction that was obtained for that element when it was in the test set. Only cross-validation strategies that assign all elements to a test set exactly once can be used (otherwise, an exception is raised).\n",
    "\n",
    "> cv 셋을 나눌때 각 샘플은 딱 한번식만 test 셋에 들어가도록 나뉜다. 예를들어 1번부터 100번 샘플까지 있고 cv=4로 나눴다면, 1\\~25, 25\\~50, 51\\~75, 76\\~100 이렇게 4가지 test 셋이 존재할 수 있으며, 각 셈플이 테스트 셋에 속했을 때 예측값을 cross_val_predict가 반환한다."
   ]
  },
  {
   "cell_type": "code",
   "execution_count": 22,
   "metadata": {},
   "outputs": [],
   "source": [
    "from sklearn.model_selection import cross_val_predict\n",
    "\n",
    "y_train_pred = cross_val_predict(sgd_clf, X_train, y_train_5, cv=3)"
   ]
  },
  {
   "cell_type": "code",
   "execution_count": 23,
   "metadata": {},
   "outputs": [
    {
     "data": {
      "text/plain": [
       "array([ True, False, False, ...,  True, False, False])"
      ]
     },
     "execution_count": 23,
     "metadata": {},
     "output_type": "execute_result"
    }
   ],
   "source": [
    "y_train_pred"
   ]
  },
  {
   "cell_type": "code",
   "execution_count": 24,
   "metadata": {},
   "outputs": [
    {
     "data": {
      "text/plain": [
       "array([[53892,   687],\n",
       "       [ 1891,  3530]], dtype=int64)"
      ]
     },
     "execution_count": 24,
     "metadata": {},
     "output_type": "execute_result"
    }
   ],
   "source": [
    "from sklearn.metrics import confusion_matrix\n",
    "\n",
    "confusion_matrix(y_train_5, y_train_pred)  # 라벨, 예측값\n",
    "# i-th row and j-th column entry indicates the number of samples with true label being i-th class and prediced label being j-th class.\n",
    "# TP FN\n",
    "# FP TN"
   ]
  },
  {
   "cell_type": "code",
   "execution_count": 25,
   "metadata": {},
   "outputs": [
    {
     "data": {
      "text/plain": [
       "array([[54579,     0],\n",
       "       [    0,  5421]], dtype=int64)"
      ]
     },
     "execution_count": 25,
     "metadata": {},
     "output_type": "execute_result"
    }
   ],
   "source": [
    "y_train_perfect_predictions = y_train_5  # pretend we reached perfection\n",
    "confusion_matrix(y_train_5, y_train_perfect_predictions)"
   ]
  },
  {
   "cell_type": "code",
   "execution_count": 26,
   "metadata": {},
   "outputs": [
    {
     "data": {
      "text/plain": [
       "0.8370879772350012"
      ]
     },
     "execution_count": 26,
     "metadata": {},
     "output_type": "execute_result"
    }
   ],
   "source": [
    "from sklearn.metrics import precision_score, recall_score\n",
    "\n",
    "precision_score(y_train_5, y_train_pred)"
   ]
  },
  {
   "cell_type": "markdown",
   "metadata": {},
   "source": [
    "###### 이 숫자는 뭐지?"
   ]
  },
  {
   "cell_type": "code",
   "execution_count": 27,
   "metadata": {},
   "outputs": [
    {
     "data": {
      "text/plain": [
       "0.7290850836596654"
      ]
     },
     "execution_count": 27,
     "metadata": {},
     "output_type": "execute_result"
    }
   ],
   "source": [
    "4096 / (4096 + 1522)"
   ]
  },
  {
   "cell_type": "code",
   "execution_count": 28,
   "metadata": {},
   "outputs": [
    {
     "data": {
      "text/plain": [
       "0.6511713705958311"
      ]
     },
     "execution_count": 28,
     "metadata": {},
     "output_type": "execute_result"
    }
   ],
   "source": [
    "recall_score(y_train_5, y_train_pred)"
   ]
  },
  {
   "cell_type": "code",
   "execution_count": 29,
   "metadata": {},
   "outputs": [
    {
     "data": {
      "text/plain": [
       "0.7555801512636044"
      ]
     },
     "execution_count": 29,
     "metadata": {},
     "output_type": "execute_result"
    }
   ],
   "source": [
    "4096 / (4096 + 1325)"
   ]
  },
  {
   "cell_type": "code",
   "execution_count": 30,
   "metadata": {},
   "outputs": [
    {
     "data": {
      "text/plain": [
       "0.7325171197343846"
      ]
     },
     "execution_count": 30,
     "metadata": {},
     "output_type": "execute_result"
    }
   ],
   "source": [
    "from sklearn.metrics import f1_score\n",
    "\n",
    "f1_score(y_train_5, y_train_pred)"
   ]
  },
  {
   "cell_type": "code",
   "execution_count": 31,
   "metadata": {},
   "outputs": [
    {
     "data": {
      "text/plain": [
       "0.7420962043663375"
      ]
     },
     "execution_count": 31,
     "metadata": {},
     "output_type": "execute_result"
    }
   ],
   "source": [
    "4096 / (4096 + (1522 + 1325) / 2)"
   ]
  },
  {
   "cell_type": "markdown",
   "metadata": {},
   "source": [
    "###### 문서에는 decision_function에 대한 설명으로 'Predict confidence scores for samples.'라고 적혀 있다. confidence score는 뭘까?\n",
    "\n",
    "> The confidence score for a sample is the signed distance of that sample to the hyperplane.\n",
    "\n",
    "> 즉 공간을 나누는 하이퍼 플레인과 샘플간의 +-거리이다."
   ]
  },
  {
   "cell_type": "code",
   "execution_count": 32,
   "metadata": {},
   "outputs": [
    {
     "data": {
      "text/plain": [
       "array([2164.22030239])"
      ]
     },
     "execution_count": 32,
     "metadata": {},
     "output_type": "execute_result"
    }
   ],
   "source": [
    "y_scores = sgd_clf.decision_function([some_digit])\n",
    "y_scores"
   ]
  },
  {
   "cell_type": "code",
   "execution_count": 33,
   "metadata": {},
   "outputs": [],
   "source": [
    "threshold = 0\n",
    "y_some_digit_pred = (y_scores > threshold)"
   ]
  },
  {
   "cell_type": "code",
   "execution_count": 34,
   "metadata": {},
   "outputs": [
    {
     "data": {
      "text/plain": [
       "array([ True])"
      ]
     },
     "execution_count": 34,
     "metadata": {},
     "output_type": "execute_result"
    }
   ],
   "source": [
    "y_some_digit_pred"
   ]
  },
  {
   "cell_type": "code",
   "execution_count": 35,
   "metadata": {},
   "outputs": [
    {
     "data": {
      "text/plain": [
       "array([False])"
      ]
     },
     "execution_count": 35,
     "metadata": {},
     "output_type": "execute_result"
    }
   ],
   "source": [
    "threshold = 8000\n",
    "y_some_digit_pred = (y_scores > threshold)\n",
    "y_some_digit_pred"
   ]
  },
  {
   "cell_type": "markdown",
   "metadata": {},
   "source": [
    "###### cross_val_predict을 이용해 각 샘플에 대한 어떤 값을 얻을지 method=\"decision_function\"와 같은 방식으로 지정할 수 있구나\n",
    "> 그런데 그냥 모델 학습시키고 predict하면 될거 같은데, cross_val_predict를 사용하는 이점이 있나???????"
   ]
  },
  {
   "cell_type": "code",
   "execution_count": 36,
   "metadata": {},
   "outputs": [],
   "source": [
    "y_scores = cross_val_predict(sgd_clf, X_train, y_train_5, cv=3,\n",
    "                             method=\"decision_function\")"
   ]
  },
  {
   "cell_type": "markdown",
   "metadata": {},
   "source": [
    "### precisions, recalls, thresholds"
   ]
  },
  {
   "cell_type": "code",
   "execution_count": 37,
   "metadata": {},
   "outputs": [],
   "source": [
    "from sklearn.metrics import precision_recall_curve\n",
    "\n",
    "precisions, recalls, thresholds = precision_recall_curve(y_train_5, y_scores)"
   ]
  },
  {
   "cell_type": "code",
   "execution_count": 38,
   "metadata": {},
   "outputs": [
    {
     "data": {
      "text/plain": [
       "(59967, 59967, 59966, 60000, 60000)"
      ]
     },
     "execution_count": 38,
     "metadata": {},
     "output_type": "execute_result"
    }
   ],
   "source": [
    "len(precisions), len(recalls), len(thresholds), len(y_train_5), len(y_scores)\n",
    "\n",
    "# 이상하다. y_train_5와 y_scores는 6천개인데, 왜 precisions, recalls, thresholds는 그렇지 않을까?"
   ]
  },
  {
   "cell_type": "code",
   "execution_count": 39,
   "metadata": {},
   "outputs": [
    {
     "data": {
      "text/plain": [
       "(59967, 0.7590702947845804, 0.0)"
      ]
     },
     "execution_count": 39,
     "metadata": {},
     "output_type": "execute_result"
    }
   ],
   "source": [
    "# F1-score를 추가해보자.\n",
    "f1 = 2 * (precisions * recalls) / (precisions + recalls)\n",
    "len(f1), max(f1), min(f1)"
   ]
  },
  {
   "cell_type": "code",
   "execution_count": 40,
   "metadata": {},
   "outputs": [
    {
     "data": {
      "text/plain": [
       "array([False, False, False, ...,  True,  True,  True])"
      ]
     },
     "execution_count": 40,
     "metadata": {},
     "output_type": "execute_result"
    }
   ],
   "source": [
    "precisions >= 0.90"
   ]
  },
  {
   "cell_type": "code",
   "execution_count": 41,
   "metadata": {},
   "outputs": [
    {
     "data": {
      "text/plain": [
       "57075"
      ]
     },
     "execution_count": 41,
     "metadata": {},
     "output_type": "execute_result"
    }
   ],
   "source": [
    "np.argmax(precisions >= 0.90)"
   ]
  },
  {
   "cell_type": "code",
   "execution_count": 42,
   "metadata": {},
   "outputs": [
    {
     "data": {
      "text/plain": [
       "0"
      ]
     },
     "execution_count": 42,
     "metadata": {},
     "output_type": "execute_result"
    }
   ],
   "source": [
    "np.argmin(precisions >= 0.90)"
   ]
  },
  {
   "cell_type": "code",
   "execution_count": 43,
   "metadata": {},
   "outputs": [
    {
     "name": "stdout",
     "output_type": "stream",
     "text": [
      "Saving figure precision_recall_vs_threshold_plot\n"
     ]
    },
    {
     "data": {
      "image/png": "[encoded data removed]",
      "text/plain": [
       "<Figure size 576x288 with 1 Axes>"
      ]
     },
     "metadata": {
      "needs_background": "light"
     },
     "output_type": "display_data"
    }
   ],
   "source": [
    "def plot_precision_recall_vs_threshold(precisions, recalls, thresholds):\n",
    "    plt.plot(thresholds, precisions[:-1], \"b--\", label=\"Precision\", linewidth=2)\n",
    "    plt.plot(thresholds, recalls[:-1], \"g-\", label=\"Recall\", linewidth=2)\n",
    "    plt.legend(loc=\"center right\", fontsize=16) # Not shown in the book\n",
    "    plt.xlabel(\"Threshold\", fontsize=16)        # Not shown\n",
    "    plt.grid(True)                              # Not shown\n",
    "    plt.axis([-50000, 50000, 0, 1])             # Not shown\n",
    "\n",
    "\n",
    "\n",
    "recall_90_precision = recalls[np.argmax(precisions >= 0.90)]\n",
    "threshold_90_precision = thresholds[np.argmax(precisions >= 0.90)]\n",
    "\n",
    "\n",
    "plt.figure(figsize=(8, 4))                                                                  # Not shown\n",
    "plot_precision_recall_vs_threshold(precisions, recalls, thresholds)\n",
    "plt.plot([threshold_90_precision, threshold_90_precision], [0., 0.9], \"r:\")                 # Not shown\n",
    "plt.plot([-50000, threshold_90_precision], [0.9, 0.9], \"r:\")                                # Not shown\n",
    "plt.plot([-50000, threshold_90_precision], [recall_90_precision, recall_90_precision], \"r:\")# Not shown\n",
    "plt.plot([threshold_90_precision], [0.9], \"ro\")                                             # Not shown\n",
    "plt.plot([threshold_90_precision], [recall_90_precision], \"ro\")                             # Not shown\n",
    "save_fig(\"precision_recall_vs_threshold_plot\")                                              # Not shown\n",
    "plt.show()"
   ]
  },
  {
   "cell_type": "markdown",
   "metadata": {},
   "source": [
    "###### F1-score도 그려보면 아래와 같다."
   ]
  },
  {
   "cell_type": "code",
   "execution_count": 44,
   "metadata": {},
   "outputs": [],
   "source": [
    "def get_f_beta_score(precisions, recalls, beta=1):\n",
    "    return (1 + beta**2) * (precisions * recalls) / (beta**2 * precisions + recalls)"
   ]
  },
  {
   "cell_type": "code",
   "execution_count": 45,
   "metadata": {},
   "outputs": [
    {
     "name": "stdout",
     "output_type": "stream",
     "text": [
      "Saving figure precision_recall_vs_threshold_plot\n"
     ]
    },
    {
     "data": {
      "image/png": "[encoded data removed]",
      "text/plain": [
       "<Figure size 576x288 with 1 Axes>"
      ]
     },
     "metadata": {
      "needs_background": "light"
     },
     "output_type": "display_data"
    }
   ],
   "source": [
    "def plot_precision_recall_f1_vs_threshold(precisions, recalls, thresholds):\n",
    "    f1 = get_f_beta_score(precisions, recalls, 1)\n",
    "    f2 = get_f_beta_score(precisions, recalls, 2)\n",
    "    f_half = get_f_beta_score(precisions, recalls, 0.5)\n",
    "    \n",
    "    \n",
    "    plt.plot(thresholds, precisions[:-1], \"b--\", label=\"Precision\", linewidth=2)\n",
    "    plt.plot(thresholds, recalls[:-1], \"g-\", label=\"Recall\", linewidth=2)\n",
    "    plt.plot(thresholds, f1[:-1], \"r-\", label=\"F1-score\", linewidth=2)\n",
    "    plt.plot(thresholds, f2[:-1], \"c-\", label=\"F2-score\", linewidth=2)\n",
    "    plt.plot(thresholds, f_half[:-1], \"y-\", label=\"F0.5-score\", linewidth=2)\n",
    "    \n",
    "    plt.legend(loc=\"center right\", fontsize=16) # Not shown in the book\n",
    "    plt.xlabel(\"Threshold\", fontsize=16)        # Not shown\n",
    "    plt.grid(True)                              # Not shown\n",
    "    plt.axis([-50000, 50000, 0, 1])             # Not shown\n",
    "\n",
    "\n",
    "\n",
    "recall_90_precision = recalls[np.argmax(precisions >= 0.90)]\n",
    "threshold_90_precision = thresholds[np.argmax(precisions >= 0.90)]\n",
    "\n",
    "\n",
    "plt.figure(figsize=(8, 4))                                                                  # Not shown\n",
    "plot_precision_recall_f1_vs_threshold(precisions, recalls, thresholds)\n",
    "plt.plot([threshold_90_precision, threshold_90_precision], [0., 0.9], \"r:\")                 # Not shown\n",
    "plt.plot([-50000, threshold_90_precision], [0.9, 0.9], \"r:\")                                # Not shown\n",
    "plt.plot([-50000, threshold_90_precision], [recall_90_precision, recall_90_precision], \"r:\")# Not shown\n",
    "plt.plot([threshold_90_precision], [0.9], \"ro\")                                             # Not shown\n",
    "plt.plot([threshold_90_precision], [recall_90_precision], \"ro\")                             # Not shown\n",
    "save_fig(\"precision_recall_vs_threshold_plot\")                                              # Not shown\n",
    "plt.show()"
   ]
  },
  {
   "cell_type": "markdown",
   "metadata": {},
   "source": [
    "###### precision은 왜 threshold 2만 이상에서 찌그러지는걸까?\n",
    "> 책 95 페이지(원서)에 있는 설명에 따르면, threshold를 높이다보면 precision의 분포에 해당하는 TP + FP가 줄어든다. 예를들어 TP/(TP+FP)가 4/5에서 3/4로 변하는 경우 precision 감소"
   ]
  },
  {
   "cell_type": "markdown",
   "metadata": {},
   "source": [
    "###### threshold에 따른 FN, TP, FN, TN 건수도 그려본다. @@@"
   ]
  },
  {
   "cell_type": "code",
   "execution_count": 104,
   "metadata": {},
   "outputs": [],
   "source": [
    "from sklearn.metrics import precision_recall_curve\n",
    "\n",
    "precisions, recalls, thresholds = precision_recall_curve(y_train_5, y_scores)"
   ]
  },
  {
   "cell_type": "code",
   "execution_count": 101,
   "metadata": {},
   "outputs": [],
   "source": [
    "def fast_confusion_matrix_with_threshold(y_true, y_scores, threshold):\n",
    "    # fn: 1, 0\n",
    "    # tp: 1, 1\n",
    "    # fp: 0, 1\n",
    "    # tn: 0, 0\n",
    "    y_pred = y_scores >= threshold\n",
    "    inv_y_true = np.invert(y_true)\n",
    "    inv_y_pred = np.invert(y_pred)\n",
    "    fn = sum(y_true * inv_y_pred)\n",
    "    tp = sum(y_true * y_pred)\n",
    "    fp = sum(inv_y_true * y_pred)\n",
    "    tn = sum(inv_y_true * inv_y_pred)\n",
    "    # TN FP\n",
    "    # FN TP\n",
    "    return {'tn': tn, 'fp': fp, 'fn': fn, 'tp': tp}"
   ]
  },
  {
   "cell_type": "code",
   "execution_count": 102,
   "metadata": {},
   "outputs": [
    {
     "data": {
      "text/plain": [
       "array([[53892,   687],\n",
       "       [ 1891,  3530]], dtype=int64)"
      ]
     },
     "execution_count": 102,
     "metadata": {},
     "output_type": "execute_result"
    }
   ],
   "source": [
    "confusion_matrix(y_true, y_scores > 0)"
   ]
  },
  {
   "cell_type": "code",
   "execution_count": 103,
   "metadata": {},
   "outputs": [
    {
     "data": {
      "text/plain": [
       "{'tn': 53892, 'fp': 687, 'fn': 1891, 'tp': 3530}"
      ]
     },
     "execution_count": 103,
     "metadata": {},
     "output_type": "execute_result"
    }
   ],
   "source": [
    "fast_confusion_matrix_with_threshold(y_true, y_scores, 0)"
   ]
  },
  {
   "cell_type": "code",
   "execution_count": null,
   "metadata": {},
   "outputs": [],
   "source": [
    "confs = [fast_confusion_matrix_with_threshold(y_train_5, y_scores, t) for t in thresholds]"
   ]
  },
  {
   "cell_type": "code",
   "execution_count": 107,
   "metadata": {},
   "outputs": [
    {
     "data": {
      "text/plain": [
       "[{'tn': 66, 'fp': 54513, 'fn': 1, 'tp': 5420}]"
      ]
     },
     "execution_count": 107,
     "metadata": {},
     "output_type": "execute_result"
    }
   ],
   "source": [
    "confs"
   ]
  },
  {
   "cell_type": "code",
   "execution_count": null,
   "metadata": {},
   "outputs": [],
   "source": []
  },
  {
   "cell_type": "code",
   "execution_count": null,
   "metadata": {},
   "outputs": [],
   "source": []
  },
  {
   "cell_type": "code",
   "execution_count": null,
   "metadata": {},
   "outputs": [],
   "source": []
  },
  {
   "cell_type": "code",
   "execution_count": null,
   "metadata": {},
   "outputs": [],
   "source": []
  },
  {
   "cell_type": "code",
   "execution_count": 42,
   "metadata": {
    "scrolled": true
   },
   "outputs": [
    {
     "data": {
      "text/plain": [
       "True"
      ]
     },
     "execution_count": 42,
     "metadata": {},
     "output_type": "execute_result"
    }
   ],
   "source": [
    "# y_scores는 결정면(decision plane)과의 +- 거리이다.\n",
    "(y_train_pred == (y_scores > 0)).all()"
   ]
  },
  {
   "cell_type": "code",
   "execution_count": 43,
   "metadata": {
    "scrolled": false
   },
   "outputs": [
    {
     "name": "stdout",
     "output_type": "stream",
     "text": [
      "Saving figure precision_vs_recall_plot\n"
     ]
    },
    {
     "data": {
      "image/png": "[encoded data removed]",
      "text/plain": [
       "<Figure size 576x432 with 1 Axes>"
      ]
     },
     "metadata": {
      "needs_background": "light"
     },
     "output_type": "display_data"
    }
   ],
   "source": [
    "def plot_precision_vs_recall(precisions, recalls):\n",
    "    plt.plot(recalls, precisions, \"b-\", linewidth=2)\n",
    "    plt.xlabel(\"Recall\", fontsize=16)\n",
    "    plt.ylabel(\"Precision\", fontsize=16)\n",
    "    plt.axis([0, 1, 0, 1])\n",
    "    plt.grid(True)\n",
    "\n",
    "plt.figure(figsize=(8, 6))\n",
    "plot_precision_vs_recall(precisions, recalls)\n",
    "plt.plot([0.4368, 0.4368], [0., 0.9], \"r:\")\n",
    "plt.plot([0.0, 0.4368], [0.9, 0.9], \"r:\")\n",
    "plt.plot([0.4368], [0.9], \"ro\")\n",
    "save_fig(\"precision_vs_recall_plot\")\n",
    "plt.show()"
   ]
  },
  {
   "cell_type": "code",
   "execution_count": 44,
   "metadata": {},
   "outputs": [
    {
     "data": {
      "text/plain": [
       "array([False, False, False, ...,  True,  True,  True])"
      ]
     },
     "execution_count": 44,
     "metadata": {},
     "output_type": "execute_result"
    }
   ],
   "source": [
    "precisions >= 0.90"
   ]
  },
  {
   "cell_type": "code",
   "execution_count": 45,
   "metadata": {},
   "outputs": [],
   "source": [
    "# np.argmax는 인자로 주어진 시퀀스에서 값이 가장 클때의 index 값을 반환\n",
    "# np.argmax(precisions >= 0.90) 이건 precision이 0.9보다 큰 가장 우측 index\n",
    "# 위 그림에서 빨간 점에 해당하는 threshold를 찾는 것이다.\n",
    "threshold_90_precision = thresholds[np.argmax(precisions >= 0.90)]"
   ]
  },
  {
   "cell_type": "code",
   "execution_count": 46,
   "metadata": {},
   "outputs": [
    {
     "data": {
      "text/plain": [
       "3370.0194991439557"
      ]
     },
     "execution_count": 46,
     "metadata": {},
     "output_type": "execute_result"
    }
   ],
   "source": [
    "threshold_90_precision"
   ]
  },
  {
   "cell_type": "code",
   "execution_count": 47,
   "metadata": {},
   "outputs": [],
   "source": [
    "# 위에서 구한 threshold를 기준으로한 예측값을 찾는다.\n",
    "y_train_pred_90 = (y_scores >= threshold_90_precision)"
   ]
  },
  {
   "cell_type": "code",
   "execution_count": 48,
   "metadata": {},
   "outputs": [
    {
     "data": {
      "text/plain": [
       "0.9000345901072293"
      ]
     },
     "execution_count": 48,
     "metadata": {},
     "output_type": "execute_result"
    }
   ],
   "source": [
    "# 다시 precision을 계산한다.(다시 확인 하는 것..)\n",
    "precision_score(y_train_5, y_train_pred_90)"
   ]
  },
  {
   "cell_type": "code",
   "execution_count": 49,
   "metadata": {},
   "outputs": [
    {
     "data": {
      "text/plain": [
       "0.4799852425751706"
      ]
     },
     "execution_count": 49,
     "metadata": {},
     "output_type": "execute_result"
    }
   ],
   "source": [
    "recall_score(y_train_5, y_train_pred_90)"
   ]
  },
  {
   "cell_type": "markdown",
   "metadata": {},
   "source": [
    "# ROC curves"
   ]
  },
  {
   "cell_type": "code",
   "execution_count": 50,
   "metadata": {},
   "outputs": [],
   "source": [
    "from sklearn.metrics import roc_curve\n",
    "\n",
    "fpr, tpr, thresholds = roc_curve(y_train_5, y_scores)"
   ]
  },
  {
   "cell_type": "code",
   "execution_count": 51,
   "metadata": {},
   "outputs": [
    {
     "name": "stdout",
     "output_type": "stream",
     "text": [
      "Saving figure roc_curve_plot\n"
     ]
    },
    {
     "data": {
      "image/png": "[encoded data removed]",
      "text/plain": [
       "<Figure size 576x432 with 1 Axes>"
      ]
     },
     "metadata": {
      "needs_background": "light"
     },
     "output_type": "display_data"
    }
   ],
   "source": [
    "def plot_roc_curve(fpr, tpr, label=None):\n",
    "    plt.plot(fpr, tpr, linewidth=2, label=label)\n",
    "    plt.plot([0, 1], [0, 1], 'k--') # dashed diagonal\n",
    "    plt.axis([0, 1, 0, 1])                                    # Not shown in the book\n",
    "    plt.xlabel('False Positive Rate (Fall-Out)', fontsize=16) # Not shown\n",
    "    plt.ylabel('True Positive Rate (Recall)', fontsize=16)    # Not shown\n",
    "    plt.grid(True)                                            # Not shown\n",
    "\n",
    "plt.figure(figsize=(8, 6))                         # Not shown\n",
    "plot_roc_curve(fpr, tpr)\n",
    "plt.plot([4.837e-3, 4.837e-3], [0., 0.4368], \"r:\") # Not shown\n",
    "plt.plot([0.0, 4.837e-3], [0.4368, 0.4368], \"r:\")  # Not shown\n",
    "plt.plot([4.837e-3], [0.4368], \"ro\")               # Not shown\n",
    "save_fig(\"roc_curve_plot\")                         # Not shown\n",
    "plt.show()"
   ]
  },
  {
   "cell_type": "code",
   "execution_count": 52,
   "metadata": {
    "scrolled": true
   },
   "outputs": [
    {
     "data": {
      "text/plain": [
       "0.9604938554008616"
      ]
     },
     "execution_count": 52,
     "metadata": {},
     "output_type": "execute_result"
    }
   ],
   "source": [
    "from sklearn.metrics import roc_auc_score\n",
    "\n",
    "roc_auc_score(y_train_5, y_scores)"
   ]
  },
  {
   "cell_type": "markdown",
   "metadata": {},
   "source": [
    "###### 이번에는 cross_val_predict의 method인자로 \"predict_proba\"를 사용하고 있다. 이건 뭘까?\n",
    "> 각 라벨에 대한 확률 값을 반환하게 된다. 반환값의 컬럼은 각 라벨에 대응되는데, 그 순서는 정렬?순서라고 한다. 어떤 정렬순서라는건가 도대체"
   ]
  },
  {
   "cell_type": "markdown",
   "metadata": {},
   "source": [
    "**Note**: we set `n_estimators=100` to be future-proof since this will be the default value in Scikit-Learn 0.22."
   ]
  },
  {
   "cell_type": "code",
   "execution_count": 53,
   "metadata": {},
   "outputs": [],
   "source": [
    "from sklearn.ensemble import RandomForestClassifier\n",
    "forest_clf = RandomForestClassifier(n_estimators=100, random_state=42)\n",
    "y_probas_forest = cross_val_predict(forest_clf, X_train, y_train_5, cv=3,\n",
    "                                    method=\"predict_proba\")"
   ]
  },
  {
   "cell_type": "code",
   "execution_count": 54,
   "metadata": {},
   "outputs": [
    {
     "data": {
      "text/plain": [
       "array([ True, False, False, ...,  True, False, False])"
      ]
     },
     "execution_count": 54,
     "metadata": {},
     "output_type": "execute_result"
    }
   ],
   "source": [
    "y_train_5"
   ]
  },
  {
   "cell_type": "code",
   "execution_count": 55,
   "metadata": {},
   "outputs": [
    {
     "data": {
      "text/plain": [
       "array([[0.11, 0.89],\n",
       "       [0.99, 0.01],\n",
       "       [0.96, 0.04],\n",
       "       ...,\n",
       "       [0.02, 0.98],\n",
       "       [0.92, 0.08],\n",
       "       [0.94, 0.06]])"
      ]
     },
     "execution_count": 55,
     "metadata": {},
     "output_type": "execute_result"
    }
   ],
   "source": [
    "y_probas_forest  # 여기서는 각 컬럼이 False, True에 대응하나보다."
   ]
  },
  {
   "cell_type": "code",
   "execution_count": 56,
   "metadata": {},
   "outputs": [],
   "source": [
    "y_scores_forest = y_probas_forest[:, 1] # score = proba of positive class\n",
    "fpr_forest, tpr_forest, thresholds_forest = roc_curve(y_train_5,y_scores_forest)"
   ]
  },
  {
   "cell_type": "code",
   "execution_count": 57,
   "metadata": {},
   "outputs": [
    {
     "name": "stdout",
     "output_type": "stream",
     "text": [
      "Saving figure roc_curve_comparison_plot\n"
     ]
    },
    {
     "data": {
      "image/png": "[encoded data removed]",
      "text/plain": [
       "<Figure size 576x432 with 1 Axes>"
      ]
     },
     "metadata": {
      "needs_background": "light"
     },
     "output_type": "display_data"
    }
   ],
   "source": [
    "plt.figure(figsize=(8, 6))\n",
    "plt.plot(fpr, tpr, \"b:\", linewidth=2, label=\"SGD\")\n",
    "plot_roc_curve(fpr_forest, tpr_forest, \"Random Forest\")\n",
    "plt.plot([4.837e-3, 4.837e-3], [0., 0.4368], \"r:\")\n",
    "plt.plot([0.0, 4.837e-3], [0.4368, 0.4368], \"r:\")\n",
    "plt.plot([4.837e-3], [0.4368], \"ro\")\n",
    "plt.plot([4.837e-3, 4.837e-3], [0., 0.9487], \"r:\")\n",
    "plt.plot([4.837e-3], [0.9487], \"ro\")\n",
    "plt.grid(True)\n",
    "plt.legend(loc=\"lower right\", fontsize=16)\n",
    "save_fig(\"roc_curve_comparison_plot\")\n",
    "plt.show()"
   ]
  },
  {
   "cell_type": "code",
   "execution_count": 58,
   "metadata": {},
   "outputs": [
    {
     "data": {
      "text/plain": [
       "0.9983436731328145"
      ]
     },
     "execution_count": 58,
     "metadata": {},
     "output_type": "execute_result"
    }
   ],
   "source": [
    "roc_auc_score(y_train_5, y_scores_forest)"
   ]
  },
  {
   "cell_type": "code",
   "execution_count": 66,
   "metadata": {},
   "outputs": [],
   "source": [
    "y_train_pred_forest = cross_val_predict(forest_clf, X_train, y_train_5, cv=3)"
   ]
  },
  {
   "cell_type": "code",
   "execution_count": 63,
   "metadata": {
    "scrolled": true
   },
   "outputs": [
    {
     "data": {
      "text/plain": [
       "array([ True, False, False, ...,  True, False, False])"
      ]
     },
     "execution_count": 63,
     "metadata": {},
     "output_type": "execute_result"
    }
   ],
   "source": [
    "y_train_pred_forest"
   ]
  },
  {
   "cell_type": "code",
   "execution_count": 60,
   "metadata": {},
   "outputs": [
    {
     "data": {
      "text/plain": [
       "0.8662608374838591"
      ]
     },
     "execution_count": 60,
     "metadata": {},
     "output_type": "execute_result"
    }
   ],
   "source": [
    "recall_score(y_train_5, y_train_pred_forest)"
   ]
  },
  {
   "cell_type": "markdown",
   "metadata": {},
   "source": [
    "###### CatBoost는 어떤지 한번 해 보자."
   ]
  },
  {
   "cell_type": "code",
   "execution_count": 69,
   "metadata": {},
   "outputs": [],
   "source": [
    "from catboost import CatBoostClassifier"
   ]
  },
  {
   "cell_type": "code",
   "execution_count": 78,
   "metadata": {},
   "outputs": [],
   "source": [
    "cb_model = CatBoostClassifier()\n",
    "# iterations=2, learning_rate=1, depth=30"
   ]
  },
  {
   "cell_type": "code",
   "execution_count": 79,
   "metadata": {},
   "outputs": [
    {
     "name": "stdout",
     "output_type": "stream",
     "text": [
      "Learning rate set to 0.049775\n",
      "0:\tlearn: 0.6165393\ttotal: 71.6ms\tremaining: 1m 11s\n",
      "1:\tlearn: 0.5464562\ttotal: 131ms\tremaining: 1m 5s\n",
      "2:\tlearn: 0.4878538\ttotal: 186ms\tremaining: 1m 1s\n",
      "3:\tlearn: 0.4301804\ttotal: 244ms\tremaining: 1m\n",
      "4:\tlearn: 0.3893511\ttotal: 310ms\tremaining: 1m 1s\n",
      "5:\tlearn: 0.3560291\ttotal: 376ms\tremaining: 1m 2s\n",
      "6:\tlearn: 0.3217106\ttotal: 437ms\tremaining: 1m 1s\n",
      "7:\tlearn: 0.2935139\ttotal: 495ms\tremaining: 1m 1s\n",
      "8:\tlearn: 0.2725792\ttotal: 561ms\tremaining: 1m 1s\n",
      "9:\tlearn: 0.2533174\ttotal: 620ms\tremaining: 1m 1s\n",
      "10:\tlearn: 0.2366790\ttotal: 676ms\tremaining: 1m\n",
      "11:\tlearn: 0.2190149\ttotal: 748ms\tremaining: 1m 1s\n",
      "12:\tlearn: 0.2018353\ttotal: 809ms\tremaining: 1m 1s\n",
      "13:\tlearn: 0.1903298\ttotal: 874ms\tremaining: 1m 1s\n",
      "14:\tlearn: 0.1796790\ttotal: 936ms\tremaining: 1m 1s\n",
      "15:\tlearn: 0.1715714\ttotal: 1s\tremaining: 1m 1s\n",
      "16:\tlearn: 0.1650380\ttotal: 1.06s\tremaining: 1m 1s\n",
      "17:\tlearn: 0.1564138\ttotal: 1.12s\tremaining: 1m 1s\n",
      "18:\tlearn: 0.1501253\ttotal: 1.19s\tremaining: 1m 1s\n",
      "19:\tlearn: 0.1432983\ttotal: 1.25s\tremaining: 1m 1s\n",
      "20:\tlearn: 0.1383575\ttotal: 1.31s\tremaining: 1m 1s\n",
      "21:\tlearn: 0.1323333\ttotal: 1.38s\tremaining: 1m 1s\n",
      "22:\tlearn: 0.1267216\ttotal: 1.44s\tremaining: 1m 1s\n",
      "23:\tlearn: 0.1218433\ttotal: 1.5s\tremaining: 1m 1s\n",
      "24:\tlearn: 0.1184413\ttotal: 1.56s\tremaining: 1m 1s\n",
      "25:\tlearn: 0.1146539\ttotal: 1.63s\tremaining: 1m 1s\n",
      "26:\tlearn: 0.1116302\ttotal: 1.69s\tremaining: 1m\n",
      "27:\tlearn: 0.1082828\ttotal: 1.76s\tremaining: 1m\n",
      "28:\tlearn: 0.1045936\ttotal: 1.82s\tremaining: 1m 1s\n",
      "29:\tlearn: 0.1008096\ttotal: 1.89s\tremaining: 1m 1s\n",
      "30:\tlearn: 0.0984067\ttotal: 1.95s\tremaining: 1m\n",
      "31:\tlearn: 0.0959183\ttotal: 2.02s\tremaining: 1m 1s\n",
      "32:\tlearn: 0.0930728\ttotal: 2.08s\tremaining: 1m 1s\n",
      "33:\tlearn: 0.0910780\ttotal: 2.15s\tremaining: 1m 1s\n",
      "34:\tlearn: 0.0889410\ttotal: 2.22s\tremaining: 1m 1s\n",
      "35:\tlearn: 0.0871454\ttotal: 2.28s\tremaining: 1m 1s\n",
      "36:\tlearn: 0.0856303\ttotal: 2.34s\tremaining: 1m\n",
      "37:\tlearn: 0.0839447\ttotal: 2.41s\tremaining: 1m\n",
      "38:\tlearn: 0.0821439\ttotal: 2.47s\tremaining: 1m\n",
      "39:\tlearn: 0.0808861\ttotal: 2.54s\tremaining: 1m\n",
      "40:\tlearn: 0.0797077\ttotal: 2.6s\tremaining: 1m\n",
      "41:\tlearn: 0.0785307\ttotal: 2.66s\tremaining: 1m\n",
      "42:\tlearn: 0.0775347\ttotal: 2.73s\tremaining: 1m\n",
      "43:\tlearn: 0.0764290\ttotal: 2.79s\tremaining: 1m\n",
      "44:\tlearn: 0.0751827\ttotal: 2.85s\tremaining: 1m\n",
      "45:\tlearn: 0.0740303\ttotal: 2.92s\tremaining: 1m\n",
      "46:\tlearn: 0.0730877\ttotal: 2.98s\tremaining: 1m\n",
      "47:\tlearn: 0.0722232\ttotal: 3.04s\tremaining: 1m\n",
      "48:\tlearn: 0.0706198\ttotal: 3.1s\tremaining: 1m\n",
      "49:\tlearn: 0.0695551\ttotal: 3.17s\tremaining: 1m\n",
      "50:\tlearn: 0.0683094\ttotal: 3.24s\tremaining: 1m\n",
      "51:\tlearn: 0.0669354\ttotal: 3.3s\tremaining: 1m\n",
      "52:\tlearn: 0.0658304\ttotal: 3.38s\tremaining: 1m\n",
      "53:\tlearn: 0.0648732\ttotal: 3.45s\tremaining: 1m\n",
      "54:\tlearn: 0.0642775\ttotal: 3.52s\tremaining: 1m\n",
      "55:\tlearn: 0.0636121\ttotal: 3.59s\tremaining: 1m\n",
      "56:\tlearn: 0.0627222\ttotal: 3.66s\tremaining: 1m\n",
      "57:\tlearn: 0.0620539\ttotal: 3.73s\tremaining: 1m\n",
      "58:\tlearn: 0.0611946\ttotal: 3.8s\tremaining: 1m\n",
      "59:\tlearn: 0.0605228\ttotal: 3.88s\tremaining: 1m\n",
      "60:\tlearn: 0.0597868\ttotal: 3.95s\tremaining: 1m\n",
      "61:\tlearn: 0.0592156\ttotal: 4.03s\tremaining: 1m\n",
      "62:\tlearn: 0.0583401\ttotal: 4.1s\tremaining: 1m 1s\n",
      "63:\tlearn: 0.0577782\ttotal: 4.17s\tremaining: 1m\n",
      "64:\tlearn: 0.0573502\ttotal: 4.23s\tremaining: 1m\n",
      "65:\tlearn: 0.0564160\ttotal: 4.3s\tremaining: 1m\n",
      "66:\tlearn: 0.0558738\ttotal: 4.37s\tremaining: 1m\n",
      "67:\tlearn: 0.0553322\ttotal: 4.44s\tremaining: 1m\n",
      "68:\tlearn: 0.0547787\ttotal: 4.5s\tremaining: 1m\n",
      "69:\tlearn: 0.0544707\ttotal: 4.56s\tremaining: 1m\n",
      "70:\tlearn: 0.0537109\ttotal: 4.63s\tremaining: 1m\n",
      "71:\tlearn: 0.0528024\ttotal: 4.7s\tremaining: 1m\n",
      "72:\tlearn: 0.0522904\ttotal: 4.76s\tremaining: 1m\n",
      "73:\tlearn: 0.0519286\ttotal: 4.82s\tremaining: 1m\n",
      "74:\tlearn: 0.0515234\ttotal: 4.89s\tremaining: 1m\n",
      "75:\tlearn: 0.0508103\ttotal: 4.96s\tremaining: 1m\n",
      "76:\tlearn: 0.0504042\ttotal: 5.02s\tremaining: 1m\n",
      "77:\tlearn: 0.0498554\ttotal: 5.08s\tremaining: 1m\n",
      "78:\tlearn: 0.0495073\ttotal: 5.14s\tremaining: 60s\n",
      "79:\tlearn: 0.0491896\ttotal: 5.21s\tremaining: 60s\n",
      "80:\tlearn: 0.0488741\ttotal: 5.28s\tremaining: 59.9s\n",
      "81:\tlearn: 0.0485673\ttotal: 5.34s\tremaining: 59.8s\n",
      "82:\tlearn: 0.0480664\ttotal: 5.41s\tremaining: 59.8s\n",
      "83:\tlearn: 0.0477896\ttotal: 5.48s\tremaining: 59.7s\n",
      "84:\tlearn: 0.0472849\ttotal: 5.54s\tremaining: 59.6s\n",
      "85:\tlearn: 0.0469181\ttotal: 5.6s\tremaining: 59.6s\n",
      "86:\tlearn: 0.0465228\ttotal: 5.67s\tremaining: 59.6s\n",
      "87:\tlearn: 0.0462106\ttotal: 5.74s\tremaining: 59.5s\n",
      "88:\tlearn: 0.0459205\ttotal: 5.8s\tremaining: 59.4s\n",
      "89:\tlearn: 0.0455281\ttotal: 5.87s\tremaining: 59.3s\n",
      "90:\tlearn: 0.0452868\ttotal: 5.93s\tremaining: 59.3s\n",
      "91:\tlearn: 0.0448864\ttotal: 6s\tremaining: 59.2s\n",
      "92:\tlearn: 0.0445275\ttotal: 6.07s\tremaining: 59.2s\n",
      "93:\tlearn: 0.0441070\ttotal: 6.14s\tremaining: 59.2s\n",
      "94:\tlearn: 0.0437749\ttotal: 6.2s\tremaining: 59.1s\n",
      "95:\tlearn: 0.0435688\ttotal: 6.27s\tremaining: 59s\n",
      "96:\tlearn: 0.0433593\ttotal: 6.33s\tremaining: 58.9s\n",
      "97:\tlearn: 0.0430479\ttotal: 6.39s\tremaining: 58.8s\n",
      "98:\tlearn: 0.0427364\ttotal: 6.45s\tremaining: 58.7s\n",
      "99:\tlearn: 0.0423556\ttotal: 6.52s\tremaining: 58.7s\n",
      "100:\tlearn: 0.0422030\ttotal: 6.58s\tremaining: 58.6s\n",
      "101:\tlearn: 0.0419489\ttotal: 6.65s\tremaining: 58.5s\n",
      "102:\tlearn: 0.0417029\ttotal: 6.72s\tremaining: 58.5s\n",
      "103:\tlearn: 0.0415981\ttotal: 6.79s\tremaining: 58.5s\n",
      "104:\tlearn: 0.0413390\ttotal: 6.85s\tremaining: 58.4s\n",
      "105:\tlearn: 0.0408902\ttotal: 6.92s\tremaining: 58.4s\n",
      "106:\tlearn: 0.0406791\ttotal: 6.99s\tremaining: 58.3s\n",
      "107:\tlearn: 0.0402498\ttotal: 7.05s\tremaining: 58.3s\n",
      "108:\tlearn: 0.0399284\ttotal: 7.12s\tremaining: 58.2s\n",
      "109:\tlearn: 0.0397709\ttotal: 7.18s\tremaining: 58.1s\n",
      "110:\tlearn: 0.0395777\ttotal: 7.24s\tremaining: 58s\n",
      "111:\tlearn: 0.0393890\ttotal: 7.31s\tremaining: 57.9s\n",
      "112:\tlearn: 0.0389745\ttotal: 7.38s\tremaining: 57.9s\n",
      "113:\tlearn: 0.0388794\ttotal: 7.44s\tremaining: 57.8s\n",
      "114:\tlearn: 0.0387536\ttotal: 7.51s\tremaining: 57.8s\n",
      "115:\tlearn: 0.0386090\ttotal: 7.57s\tremaining: 57.7s\n",
      "116:\tlearn: 0.0383537\ttotal: 7.63s\tremaining: 57.6s\n",
      "117:\tlearn: 0.0380920\ttotal: 7.71s\tremaining: 57.6s\n",
      "118:\tlearn: 0.0379445\ttotal: 7.77s\tremaining: 57.5s\n",
      "119:\tlearn: 0.0376601\ttotal: 7.85s\tremaining: 57.6s\n",
      "120:\tlearn: 0.0375246\ttotal: 7.94s\tremaining: 57.7s\n",
      "121:\tlearn: 0.0373566\ttotal: 8.03s\tremaining: 57.8s\n",
      "122:\tlearn: 0.0371506\ttotal: 8.13s\tremaining: 58s\n",
      "123:\tlearn: 0.0368969\ttotal: 8.21s\tremaining: 58s\n",
      "124:\tlearn: 0.0366461\ttotal: 8.31s\tremaining: 58.2s\n",
      "125:\tlearn: 0.0364364\ttotal: 8.4s\tremaining: 58.3s\n",
      "126:\tlearn: 0.0362671\ttotal: 8.48s\tremaining: 58.3s\n",
      "127:\tlearn: 0.0361253\ttotal: 8.55s\tremaining: 58.3s\n",
      "128:\tlearn: 0.0360344\ttotal: 8.63s\tremaining: 58.3s\n",
      "129:\tlearn: 0.0357511\ttotal: 8.71s\tremaining: 58.3s\n",
      "130:\tlearn: 0.0356795\ttotal: 8.78s\tremaining: 58.2s\n",
      "131:\tlearn: 0.0354445\ttotal: 8.84s\tremaining: 58.1s\n",
      "132:\tlearn: 0.0353187\ttotal: 8.9s\tremaining: 58s\n",
      "133:\tlearn: 0.0353001\ttotal: 8.95s\tremaining: 57.9s\n",
      "134:\tlearn: 0.0351902\ttotal: 9.01s\tremaining: 57.7s\n",
      "135:\tlearn: 0.0350746\ttotal: 9.08s\tremaining: 57.7s\n",
      "136:\tlearn: 0.0349981\ttotal: 9.15s\tremaining: 57.6s\n",
      "137:\tlearn: 0.0345656\ttotal: 9.23s\tremaining: 57.7s\n",
      "138:\tlearn: 0.0344542\ttotal: 9.31s\tremaining: 57.7s\n",
      "139:\tlearn: 0.0343055\ttotal: 9.39s\tremaining: 57.7s\n",
      "140:\tlearn: 0.0339783\ttotal: 9.48s\tremaining: 57.7s\n",
      "141:\tlearn: 0.0338164\ttotal: 9.56s\tremaining: 57.7s\n",
      "142:\tlearn: 0.0336144\ttotal: 9.63s\tremaining: 57.7s\n",
      "143:\tlearn: 0.0336000\ttotal: 9.7s\tremaining: 57.7s\n",
      "144:\tlearn: 0.0335121\ttotal: 9.78s\tremaining: 57.6s\n",
      "145:\tlearn: 0.0333285\ttotal: 9.83s\tremaining: 57.5s\n",
      "146:\tlearn: 0.0332389\ttotal: 9.89s\tremaining: 57.4s\n",
      "147:\tlearn: 0.0331375\ttotal: 9.95s\tremaining: 57.3s\n",
      "148:\tlearn: 0.0330535\ttotal: 10s\tremaining: 57.2s\n",
      "149:\tlearn: 0.0330225\ttotal: 10.1s\tremaining: 57.1s\n",
      "150:\tlearn: 0.0328636\ttotal: 10.2s\tremaining: 57.1s\n",
      "151:\tlearn: 0.0327380\ttotal: 10.2s\tremaining: 57.1s\n",
      "152:\tlearn: 0.0327231\ttotal: 10.3s\tremaining: 57s\n",
      "153:\tlearn: 0.0325451\ttotal: 10.4s\tremaining: 57s\n",
      "154:\tlearn: 0.0324229\ttotal: 10.5s\tremaining: 57s\n",
      "155:\tlearn: 0.0323703\ttotal: 10.5s\tremaining: 56.9s\n",
      "156:\tlearn: 0.0322533\ttotal: 10.6s\tremaining: 56.9s\n",
      "157:\tlearn: 0.0320025\ttotal: 10.7s\tremaining: 56.9s\n",
      "158:\tlearn: 0.0319294\ttotal: 10.7s\tremaining: 56.8s\n",
      "159:\tlearn: 0.0319072\ttotal: 10.8s\tremaining: 56.7s\n",
      "160:\tlearn: 0.0317878\ttotal: 10.9s\tremaining: 56.6s\n",
      "161:\tlearn: 0.0315588\ttotal: 10.9s\tremaining: 56.5s\n",
      "162:\tlearn: 0.0315318\ttotal: 11s\tremaining: 56.4s\n",
      "163:\tlearn: 0.0313436\ttotal: 11.1s\tremaining: 56.3s\n",
      "164:\tlearn: 0.0313309\ttotal: 11.1s\tremaining: 56.3s\n"
     ]
    },
    {
     "name": "stdout",
     "output_type": "stream",
     "text": [
      "165:\tlearn: 0.0310571\ttotal: 11.2s\tremaining: 56.3s\n",
      "166:\tlearn: 0.0308001\ttotal: 11.3s\tremaining: 56.3s\n",
      "167:\tlearn: 0.0306927\ttotal: 11.4s\tremaining: 56.3s\n",
      "168:\tlearn: 0.0305252\ttotal: 11.4s\tremaining: 56.3s\n",
      "169:\tlearn: 0.0304888\ttotal: 11.5s\tremaining: 56.2s\n",
      "170:\tlearn: 0.0304781\ttotal: 11.6s\tremaining: 56.1s\n",
      "171:\tlearn: 0.0303968\ttotal: 11.7s\tremaining: 56.1s\n",
      "172:\tlearn: 0.0303883\ttotal: 11.7s\tremaining: 56s\n",
      "173:\tlearn: 0.0301585\ttotal: 11.8s\tremaining: 56s\n",
      "174:\tlearn: 0.0300479\ttotal: 11.9s\tremaining: 55.9s\n",
      "175:\tlearn: 0.0298946\ttotal: 11.9s\tremaining: 55.8s\n",
      "176:\tlearn: 0.0298771\ttotal: 12s\tremaining: 55.7s\n",
      "177:\tlearn: 0.0298702\ttotal: 12s\tremaining: 55.6s\n",
      "178:\tlearn: 0.0296730\ttotal: 12.1s\tremaining: 55.6s\n",
      "179:\tlearn: 0.0293554\ttotal: 12.2s\tremaining: 55.6s\n",
      "180:\tlearn: 0.0292581\ttotal: 12.3s\tremaining: 55.6s\n",
      "181:\tlearn: 0.0291843\ttotal: 12.4s\tremaining: 55.5s\n",
      "182:\tlearn: 0.0291578\ttotal: 12.4s\tremaining: 55.5s\n",
      "183:\tlearn: 0.0290370\ttotal: 12.5s\tremaining: 55.5s\n",
      "184:\tlearn: 0.0290209\ttotal: 12.6s\tremaining: 55.4s\n",
      "185:\tlearn: 0.0289855\ttotal: 12.6s\tremaining: 55.3s\n",
      "186:\tlearn: 0.0288791\ttotal: 12.7s\tremaining: 55.3s\n",
      "187:\tlearn: 0.0287909\ttotal: 12.8s\tremaining: 55.2s\n",
      "188:\tlearn: 0.0286530\ttotal: 12.9s\tremaining: 55.2s\n",
      "189:\tlearn: 0.0286435\ttotal: 12.9s\tremaining: 55.2s\n",
      "190:\tlearn: 0.0285262\ttotal: 13s\tremaining: 55.1s\n",
      "191:\tlearn: 0.0284330\ttotal: 13.1s\tremaining: 55.1s\n",
      "192:\tlearn: 0.0284276\ttotal: 13.2s\tremaining: 55s\n",
      "193:\tlearn: 0.0283469\ttotal: 13.2s\tremaining: 55s\n",
      "194:\tlearn: 0.0283271\ttotal: 13.3s\tremaining: 54.9s\n",
      "195:\tlearn: 0.0281794\ttotal: 13.4s\tremaining: 54.9s\n",
      "196:\tlearn: 0.0280834\ttotal: 13.5s\tremaining: 54.8s\n",
      "197:\tlearn: 0.0279689\ttotal: 13.5s\tremaining: 54.8s\n",
      "198:\tlearn: 0.0278408\ttotal: 13.6s\tremaining: 54.8s\n",
      "199:\tlearn: 0.0277693\ttotal: 13.7s\tremaining: 54.7s\n",
      "200:\tlearn: 0.0276544\ttotal: 13.7s\tremaining: 54.6s\n",
      "201:\tlearn: 0.0275863\ttotal: 13.8s\tremaining: 54.6s\n",
      "202:\tlearn: 0.0274123\ttotal: 13.9s\tremaining: 54.6s\n",
      "203:\tlearn: 0.0272398\ttotal: 14s\tremaining: 54.6s\n",
      "204:\tlearn: 0.0272327\ttotal: 14.1s\tremaining: 54.5s\n",
      "205:\tlearn: 0.0271495\ttotal: 14.1s\tremaining: 54.5s\n",
      "206:\tlearn: 0.0270200\ttotal: 14.2s\tremaining: 54.4s\n",
      "207:\tlearn: 0.0268662\ttotal: 14.3s\tremaining: 54.4s\n",
      "208:\tlearn: 0.0268547\ttotal: 14.3s\tremaining: 54.3s\n",
      "209:\tlearn: 0.0267156\ttotal: 14.4s\tremaining: 54.3s\n",
      "210:\tlearn: 0.0265741\ttotal: 14.5s\tremaining: 54.2s\n",
      "211:\tlearn: 0.0263374\ttotal: 14.6s\tremaining: 54.2s\n",
      "212:\tlearn: 0.0261995\ttotal: 14.7s\tremaining: 54.2s\n",
      "213:\tlearn: 0.0261024\ttotal: 14.7s\tremaining: 54.1s\n",
      "214:\tlearn: 0.0260956\ttotal: 14.8s\tremaining: 54s\n",
      "215:\tlearn: 0.0260540\ttotal: 14.8s\tremaining: 53.9s\n",
      "216:\tlearn: 0.0259315\ttotal: 14.9s\tremaining: 53.8s\n",
      "217:\tlearn: 0.0258015\ttotal: 15s\tremaining: 53.8s\n",
      "218:\tlearn: 0.0257959\ttotal: 15s\tremaining: 53.6s\n",
      "219:\tlearn: 0.0256630\ttotal: 15.1s\tremaining: 53.6s\n",
      "220:\tlearn: 0.0255776\ttotal: 15.2s\tremaining: 53.5s\n",
      "221:\tlearn: 0.0255544\ttotal: 15.3s\tremaining: 53.5s\n",
      "222:\tlearn: 0.0254838\ttotal: 15.3s\tremaining: 53.4s\n",
      "223:\tlearn: 0.0253921\ttotal: 15.4s\tremaining: 53.3s\n",
      "224:\tlearn: 0.0252194\ttotal: 15.5s\tremaining: 53.3s\n",
      "225:\tlearn: 0.0250684\ttotal: 15.6s\tremaining: 53.3s\n",
      "226:\tlearn: 0.0250063\ttotal: 15.6s\tremaining: 53.2s\n",
      "227:\tlearn: 0.0249398\ttotal: 15.7s\tremaining: 53.1s\n",
      "228:\tlearn: 0.0249370\ttotal: 15.8s\tremaining: 53s\n",
      "229:\tlearn: 0.0249068\ttotal: 15.8s\tremaining: 52.9s\n",
      "230:\tlearn: 0.0248511\ttotal: 15.9s\tremaining: 52.8s\n",
      "231:\tlearn: 0.0248453\ttotal: 15.9s\tremaining: 52.7s\n",
      "232:\tlearn: 0.0248424\ttotal: 16s\tremaining: 52.6s\n",
      "233:\tlearn: 0.0247548\ttotal: 16.1s\tremaining: 52.6s\n",
      "234:\tlearn: 0.0247004\ttotal: 16.1s\tremaining: 52.5s\n",
      "235:\tlearn: 0.0246706\ttotal: 16.2s\tremaining: 52.4s\n",
      "236:\tlearn: 0.0246666\ttotal: 16.3s\tremaining: 52.4s\n",
      "237:\tlearn: 0.0246629\ttotal: 16.3s\tremaining: 52.3s\n",
      "238:\tlearn: 0.0245121\ttotal: 16.4s\tremaining: 52.3s\n",
      "239:\tlearn: 0.0245083\ttotal: 16.5s\tremaining: 52.2s\n",
      "240:\tlearn: 0.0244634\ttotal: 16.6s\tremaining: 52.1s\n",
      "241:\tlearn: 0.0243903\ttotal: 16.6s\tremaining: 52.1s\n",
      "242:\tlearn: 0.0242579\ttotal: 16.7s\tremaining: 52s\n",
      "243:\tlearn: 0.0242091\ttotal: 16.8s\tremaining: 51.9s\n",
      "244:\tlearn: 0.0242048\ttotal: 16.8s\tremaining: 51.8s\n",
      "245:\tlearn: 0.0241954\ttotal: 16.9s\tremaining: 51.7s\n",
      "246:\tlearn: 0.0241932\ttotal: 16.9s\tremaining: 51.6s\n",
      "247:\tlearn: 0.0240743\ttotal: 17s\tremaining: 51.5s\n",
      "248:\tlearn: 0.0240711\ttotal: 17.1s\tremaining: 51.5s\n",
      "249:\tlearn: 0.0240383\ttotal: 17.1s\tremaining: 51.4s\n",
      "250:\tlearn: 0.0240361\ttotal: 17.2s\tremaining: 51.4s\n",
      "251:\tlearn: 0.0239322\ttotal: 17.3s\tremaining: 51.3s\n",
      "252:\tlearn: 0.0238864\ttotal: 17.4s\tremaining: 51.2s\n",
      "253:\tlearn: 0.0238147\ttotal: 17.4s\tremaining: 51.2s\n",
      "254:\tlearn: 0.0237202\ttotal: 17.5s\tremaining: 51.1s\n",
      "255:\tlearn: 0.0237149\ttotal: 17.6s\tremaining: 51s\n",
      "256:\tlearn: 0.0235305\ttotal: 17.6s\tremaining: 51s\n",
      "257:\tlearn: 0.0234287\ttotal: 17.7s\tremaining: 51s\n",
      "258:\tlearn: 0.0234141\ttotal: 17.8s\tremaining: 50.9s\n",
      "259:\tlearn: 0.0233536\ttotal: 17.8s\tremaining: 50.8s\n",
      "260:\tlearn: 0.0232766\ttotal: 17.9s\tremaining: 50.7s\n",
      "261:\tlearn: 0.0231931\ttotal: 18s\tremaining: 50.6s\n",
      "262:\tlearn: 0.0231124\ttotal: 18s\tremaining: 50.5s\n",
      "263:\tlearn: 0.0231106\ttotal: 18.1s\tremaining: 50.5s\n",
      "264:\tlearn: 0.0230584\ttotal: 18.2s\tremaining: 50.4s\n",
      "265:\tlearn: 0.0230557\ttotal: 18.2s\tremaining: 50.3s\n",
      "266:\tlearn: 0.0230493\ttotal: 18.3s\tremaining: 50.2s\n",
      "267:\tlearn: 0.0229604\ttotal: 18.4s\tremaining: 50.2s\n",
      "268:\tlearn: 0.0227732\ttotal: 18.5s\tremaining: 50.1s\n",
      "269:\tlearn: 0.0227716\ttotal: 18.5s\tremaining: 50.1s\n",
      "270:\tlearn: 0.0227553\ttotal: 18.6s\tremaining: 50s\n",
      "271:\tlearn: 0.0226667\ttotal: 18.7s\tremaining: 49.9s\n",
      "272:\tlearn: 0.0226590\ttotal: 18.7s\tremaining: 49.9s\n",
      "273:\tlearn: 0.0226564\ttotal: 18.8s\tremaining: 49.7s\n",
      "274:\tlearn: 0.0226268\ttotal: 18.8s\tremaining: 49.7s\n",
      "275:\tlearn: 0.0226223\ttotal: 18.9s\tremaining: 49.6s\n",
      "276:\tlearn: 0.0226170\ttotal: 19s\tremaining: 49.5s\n",
      "277:\tlearn: 0.0226105\ttotal: 19s\tremaining: 49.4s\n",
      "278:\tlearn: 0.0226079\ttotal: 19.1s\tremaining: 49.3s\n",
      "279:\tlearn: 0.0225531\ttotal: 19.2s\tremaining: 49.3s\n",
      "280:\tlearn: 0.0224580\ttotal: 19.2s\tremaining: 49.2s\n",
      "281:\tlearn: 0.0223797\ttotal: 19.3s\tremaining: 49.1s\n",
      "282:\tlearn: 0.0222750\ttotal: 19.4s\tremaining: 49.1s\n",
      "283:\tlearn: 0.0222650\ttotal: 19.4s\tremaining: 49s\n",
      "284:\tlearn: 0.0222565\ttotal: 19.5s\tremaining: 49s\n",
      "285:\tlearn: 0.0222386\ttotal: 19.6s\tremaining: 48.9s\n",
      "286:\tlearn: 0.0221618\ttotal: 19.7s\tremaining: 48.8s\n",
      "287:\tlearn: 0.0221602\ttotal: 19.7s\tremaining: 48.8s\n",
      "288:\tlearn: 0.0221581\ttotal: 19.8s\tremaining: 48.6s\n",
      "289:\tlearn: 0.0221559\ttotal: 19.8s\tremaining: 48.6s\n",
      "290:\tlearn: 0.0220810\ttotal: 19.9s\tremaining: 48.5s\n",
      "291:\tlearn: 0.0220780\ttotal: 20s\tremaining: 48.4s\n",
      "292:\tlearn: 0.0219899\ttotal: 20.1s\tremaining: 48.4s\n",
      "293:\tlearn: 0.0218593\ttotal: 20.1s\tremaining: 48.3s\n",
      "294:\tlearn: 0.0217960\ttotal: 20.2s\tremaining: 48.2s\n",
      "295:\tlearn: 0.0217711\ttotal: 20.3s\tremaining: 48.2s\n",
      "296:\tlearn: 0.0217673\ttotal: 20.3s\tremaining: 48.1s\n",
      "297:\tlearn: 0.0217208\ttotal: 20.4s\tremaining: 48s\n",
      "298:\tlearn: 0.0217161\ttotal: 20.5s\tremaining: 48s\n",
      "299:\tlearn: 0.0217085\ttotal: 20.5s\tremaining: 47.9s\n",
      "300:\tlearn: 0.0217001\ttotal: 20.6s\tremaining: 47.9s\n",
      "301:\tlearn: 0.0215854\ttotal: 20.7s\tremaining: 47.8s\n",
      "302:\tlearn: 0.0214945\ttotal: 20.8s\tremaining: 47.8s\n",
      "303:\tlearn: 0.0213749\ttotal: 20.8s\tremaining: 47.7s\n",
      "304:\tlearn: 0.0212880\ttotal: 20.9s\tremaining: 47.7s\n",
      "305:\tlearn: 0.0212843\ttotal: 21s\tremaining: 47.6s\n",
      "306:\tlearn: 0.0212706\ttotal: 21s\tremaining: 47.5s\n",
      "307:\tlearn: 0.0212388\ttotal: 21.1s\tremaining: 47.5s\n",
      "308:\tlearn: 0.0212361\ttotal: 21.2s\tremaining: 47.4s\n",
      "309:\tlearn: 0.0212242\ttotal: 21.2s\tremaining: 47.3s\n",
      "310:\tlearn: 0.0212088\ttotal: 21.3s\tremaining: 47.2s\n",
      "311:\tlearn: 0.0210960\ttotal: 21.4s\tremaining: 47.2s\n",
      "312:\tlearn: 0.0210923\ttotal: 21.5s\tremaining: 47.1s\n",
      "313:\tlearn: 0.0210626\ttotal: 21.5s\tremaining: 47s\n",
      "314:\tlearn: 0.0210334\ttotal: 21.6s\tremaining: 47s\n",
      "315:\tlearn: 0.0209425\ttotal: 21.7s\tremaining: 46.9s\n",
      "316:\tlearn: 0.0208298\ttotal: 21.7s\tremaining: 46.9s\n",
      "317:\tlearn: 0.0207890\ttotal: 21.8s\tremaining: 46.8s\n",
      "318:\tlearn: 0.0207111\ttotal: 21.9s\tremaining: 46.7s\n",
      "319:\tlearn: 0.0206967\ttotal: 22s\tremaining: 46.7s\n",
      "320:\tlearn: 0.0206943\ttotal: 22s\tremaining: 46.6s\n",
      "321:\tlearn: 0.0206840\ttotal: 22.1s\tremaining: 46.5s\n",
      "322:\tlearn: 0.0206787\ttotal: 22.1s\tremaining: 46.4s\n",
      "323:\tlearn: 0.0206770\ttotal: 22.2s\tremaining: 46.3s\n"
     ]
    },
    {
     "name": "stdout",
     "output_type": "stream",
     "text": [
      "324:\tlearn: 0.0205671\ttotal: 22.3s\tremaining: 46.3s\n",
      "325:\tlearn: 0.0205100\ttotal: 22.4s\tremaining: 46.2s\n",
      "326:\tlearn: 0.0204261\ttotal: 22.4s\tremaining: 46.2s\n",
      "327:\tlearn: 0.0204231\ttotal: 22.5s\tremaining: 46.1s\n",
      "328:\tlearn: 0.0202949\ttotal: 22.6s\tremaining: 46.1s\n",
      "329:\tlearn: 0.0202691\ttotal: 22.7s\tremaining: 46s\n",
      "330:\tlearn: 0.0201316\ttotal: 22.8s\tremaining: 46s\n",
      "331:\tlearn: 0.0201169\ttotal: 22.8s\tremaining: 45.9s\n",
      "332:\tlearn: 0.0199524\ttotal: 22.9s\tremaining: 45.9s\n",
      "333:\tlearn: 0.0199368\ttotal: 23s\tremaining: 45.8s\n",
      "334:\tlearn: 0.0198933\ttotal: 23s\tremaining: 45.7s\n",
      "335:\tlearn: 0.0198582\ttotal: 23.1s\tremaining: 45.7s\n",
      "336:\tlearn: 0.0198026\ttotal: 23.2s\tremaining: 45.6s\n",
      "337:\tlearn: 0.0197224\ttotal: 23.3s\tremaining: 45.5s\n",
      "338:\tlearn: 0.0195944\ttotal: 23.3s\tremaining: 45.5s\n",
      "339:\tlearn: 0.0195645\ttotal: 23.4s\tremaining: 45.5s\n",
      "340:\tlearn: 0.0195634\ttotal: 23.5s\tremaining: 45.4s\n",
      "341:\tlearn: 0.0195353\ttotal: 23.6s\tremaining: 45.3s\n",
      "342:\tlearn: 0.0194308\ttotal: 23.7s\tremaining: 45.3s\n",
      "343:\tlearn: 0.0192878\ttotal: 23.7s\tremaining: 45.3s\n",
      "344:\tlearn: 0.0192532\ttotal: 23.8s\tremaining: 45.2s\n",
      "345:\tlearn: 0.0192437\ttotal: 23.9s\tremaining: 45.1s\n",
      "346:\tlearn: 0.0191962\ttotal: 24s\tremaining: 45.1s\n",
      "347:\tlearn: 0.0191935\ttotal: 24s\tremaining: 45.1s\n",
      "348:\tlearn: 0.0191529\ttotal: 24.1s\tremaining: 45s\n",
      "349:\tlearn: 0.0190828\ttotal: 24.2s\tremaining: 45s\n",
      "350:\tlearn: 0.0190073\ttotal: 24.3s\tremaining: 44.9s\n",
      "351:\tlearn: 0.0189093\ttotal: 24.4s\tremaining: 44.9s\n",
      "352:\tlearn: 0.0188928\ttotal: 24.5s\tremaining: 44.8s\n",
      "353:\tlearn: 0.0188642\ttotal: 24.6s\tremaining: 44.8s\n",
      "354:\tlearn: 0.0188242\ttotal: 24.6s\tremaining: 44.8s\n",
      "355:\tlearn: 0.0188114\ttotal: 24.7s\tremaining: 44.7s\n",
      "356:\tlearn: 0.0187757\ttotal: 24.8s\tremaining: 44.7s\n",
      "357:\tlearn: 0.0187735\ttotal: 24.9s\tremaining: 44.6s\n",
      "358:\tlearn: 0.0187724\ttotal: 25s\tremaining: 44.6s\n",
      "359:\tlearn: 0.0187450\ttotal: 25s\tremaining: 44.5s\n",
      "360:\tlearn: 0.0187255\ttotal: 25.1s\tremaining: 44.4s\n",
      "361:\tlearn: 0.0186870\ttotal: 25.2s\tremaining: 44.4s\n",
      "362:\tlearn: 0.0186027\ttotal: 25.3s\tremaining: 44.4s\n",
      "363:\tlearn: 0.0185911\ttotal: 25.4s\tremaining: 44.3s\n",
      "364:\tlearn: 0.0185898\ttotal: 25.4s\tremaining: 44.2s\n",
      "365:\tlearn: 0.0185883\ttotal: 25.5s\tremaining: 44.2s\n",
      "366:\tlearn: 0.0185689\ttotal: 25.6s\tremaining: 44.1s\n",
      "367:\tlearn: 0.0185038\ttotal: 25.7s\tremaining: 44.1s\n",
      "368:\tlearn: 0.0184762\ttotal: 25.7s\tremaining: 44s\n",
      "369:\tlearn: 0.0184440\ttotal: 25.8s\tremaining: 44s\n",
      "370:\tlearn: 0.0183679\ttotal: 25.9s\tremaining: 43.9s\n",
      "371:\tlearn: 0.0183373\ttotal: 26s\tremaining: 43.9s\n",
      "372:\tlearn: 0.0182386\ttotal: 26.1s\tremaining: 43.8s\n",
      "373:\tlearn: 0.0182347\ttotal: 26.2s\tremaining: 43.8s\n",
      "374:\tlearn: 0.0182332\ttotal: 26.2s\tremaining: 43.7s\n",
      "375:\tlearn: 0.0182178\ttotal: 26.3s\tremaining: 43.7s\n",
      "376:\tlearn: 0.0180808\ttotal: 26.4s\tremaining: 43.6s\n",
      "377:\tlearn: 0.0180800\ttotal: 26.5s\tremaining: 43.6s\n",
      "378:\tlearn: 0.0180675\ttotal: 26.6s\tremaining: 43.5s\n",
      "379:\tlearn: 0.0180088\ttotal: 26.6s\tremaining: 43.5s\n",
      "380:\tlearn: 0.0179527\ttotal: 26.7s\tremaining: 43.4s\n",
      "381:\tlearn: 0.0179376\ttotal: 26.8s\tremaining: 43.4s\n",
      "382:\tlearn: 0.0179357\ttotal: 26.9s\tremaining: 43.3s\n",
      "383:\tlearn: 0.0179325\ttotal: 27s\tremaining: 43.3s\n",
      "384:\tlearn: 0.0178229\ttotal: 27.1s\tremaining: 43.3s\n",
      "385:\tlearn: 0.0177329\ttotal: 27.2s\tremaining: 43.2s\n",
      "386:\tlearn: 0.0177166\ttotal: 27.3s\tremaining: 43.2s\n",
      "387:\tlearn: 0.0177086\ttotal: 27.3s\tremaining: 43.1s\n",
      "388:\tlearn: 0.0177076\ttotal: 27.4s\tremaining: 43s\n",
      "389:\tlearn: 0.0176883\ttotal: 27.5s\tremaining: 43s\n",
      "390:\tlearn: 0.0176870\ttotal: 27.6s\tremaining: 42.9s\n",
      "391:\tlearn: 0.0176690\ttotal: 27.6s\tremaining: 42.9s\n",
      "392:\tlearn: 0.0176532\ttotal: 27.7s\tremaining: 42.8s\n",
      "393:\tlearn: 0.0175925\ttotal: 27.8s\tremaining: 42.8s\n",
      "394:\tlearn: 0.0175917\ttotal: 27.9s\tremaining: 42.7s\n",
      "395:\tlearn: 0.0175652\ttotal: 28s\tremaining: 42.6s\n",
      "396:\tlearn: 0.0174974\ttotal: 28s\tremaining: 42.6s\n",
      "397:\tlearn: 0.0174304\ttotal: 28.1s\tremaining: 42.6s\n",
      "398:\tlearn: 0.0174225\ttotal: 28.2s\tremaining: 42.5s\n",
      "399:\tlearn: 0.0173788\ttotal: 28.3s\tremaining: 42.4s\n",
      "400:\tlearn: 0.0172933\ttotal: 28.4s\tremaining: 42.4s\n",
      "401:\tlearn: 0.0172917\ttotal: 28.5s\tremaining: 42.3s\n",
      "402:\tlearn: 0.0172908\ttotal: 28.5s\tremaining: 42.3s\n",
      "403:\tlearn: 0.0172432\ttotal: 28.6s\tremaining: 42.2s\n",
      "404:\tlearn: 0.0172425\ttotal: 28.7s\tremaining: 42.2s\n",
      "405:\tlearn: 0.0172413\ttotal: 28.8s\tremaining: 42.1s\n",
      "406:\tlearn: 0.0171760\ttotal: 28.9s\tremaining: 42.1s\n",
      "407:\tlearn: 0.0171359\ttotal: 29s\tremaining: 42s\n",
      "408:\tlearn: 0.0171052\ttotal: 29s\tremaining: 41.9s\n",
      "409:\tlearn: 0.0171036\ttotal: 29.1s\tremaining: 41.9s\n",
      "410:\tlearn: 0.0170210\ttotal: 29.2s\tremaining: 41.8s\n",
      "411:\tlearn: 0.0169317\ttotal: 29.3s\tremaining: 41.8s\n",
      "412:\tlearn: 0.0169304\ttotal: 29.3s\tremaining: 41.7s\n",
      "413:\tlearn: 0.0169291\ttotal: 29.4s\tremaining: 41.6s\n",
      "414:\tlearn: 0.0169084\ttotal: 29.5s\tremaining: 41.6s\n",
      "415:\tlearn: 0.0168530\ttotal: 29.6s\tremaining: 41.5s\n",
      "416:\tlearn: 0.0168013\ttotal: 29.7s\tremaining: 41.5s\n",
      "417:\tlearn: 0.0167999\ttotal: 29.8s\tremaining: 41.4s\n",
      "418:\tlearn: 0.0167609\ttotal: 29.8s\tremaining: 41.4s\n",
      "419:\tlearn: 0.0167225\ttotal: 29.9s\tremaining: 41.3s\n",
      "420:\tlearn: 0.0167139\ttotal: 30s\tremaining: 41.2s\n",
      "421:\tlearn: 0.0165879\ttotal: 30.1s\tremaining: 41.2s\n",
      "422:\tlearn: 0.0165523\ttotal: 30.2s\tremaining: 41.2s\n",
      "423:\tlearn: 0.0165517\ttotal: 30.2s\tremaining: 41.1s\n",
      "424:\tlearn: 0.0165047\ttotal: 30.3s\tremaining: 41s\n",
      "425:\tlearn: 0.0164791\ttotal: 30.4s\tremaining: 41s\n",
      "426:\tlearn: 0.0164716\ttotal: 30.5s\tremaining: 40.9s\n",
      "427:\tlearn: 0.0164120\ttotal: 30.6s\tremaining: 40.8s\n",
      "428:\tlearn: 0.0164098\ttotal: 30.6s\tremaining: 40.8s\n",
      "429:\tlearn: 0.0163698\ttotal: 30.7s\tremaining: 40.7s\n",
      "430:\tlearn: 0.0163231\ttotal: 30.8s\tremaining: 40.7s\n",
      "431:\tlearn: 0.0163102\ttotal: 30.9s\tremaining: 40.6s\n",
      "432:\tlearn: 0.0162802\ttotal: 31s\tremaining: 40.5s\n",
      "433:\tlearn: 0.0162788\ttotal: 31s\tremaining: 40.5s\n",
      "434:\tlearn: 0.0162321\ttotal: 31.1s\tremaining: 40.4s\n",
      "435:\tlearn: 0.0161033\ttotal: 31.2s\tremaining: 40.3s\n",
      "436:\tlearn: 0.0160959\ttotal: 31.2s\tremaining: 40.3s\n",
      "437:\tlearn: 0.0160891\ttotal: 31.3s\tremaining: 40.2s\n",
      "438:\tlearn: 0.0160763\ttotal: 31.4s\tremaining: 40.1s\n",
      "439:\tlearn: 0.0159924\ttotal: 31.5s\tremaining: 40s\n",
      "440:\tlearn: 0.0159662\ttotal: 31.5s\tremaining: 40s\n",
      "441:\tlearn: 0.0159654\ttotal: 31.6s\tremaining: 39.9s\n",
      "442:\tlearn: 0.0159602\ttotal: 31.7s\tremaining: 39.8s\n",
      "443:\tlearn: 0.0159247\ttotal: 31.8s\tremaining: 39.8s\n",
      "444:\tlearn: 0.0158667\ttotal: 31.8s\tremaining: 39.7s\n",
      "445:\tlearn: 0.0158084\ttotal: 31.9s\tremaining: 39.6s\n",
      "446:\tlearn: 0.0158079\ttotal: 32s\tremaining: 39.5s\n",
      "447:\tlearn: 0.0157956\ttotal: 32s\tremaining: 39.5s\n",
      "448:\tlearn: 0.0157949\ttotal: 32.1s\tremaining: 39.4s\n",
      "449:\tlearn: 0.0157839\ttotal: 32.2s\tremaining: 39.3s\n",
      "450:\tlearn: 0.0157455\ttotal: 32.2s\tremaining: 39.2s\n",
      "451:\tlearn: 0.0156771\ttotal: 32.3s\tremaining: 39.2s\n",
      "452:\tlearn: 0.0156694\ttotal: 32.4s\tremaining: 39.1s\n",
      "453:\tlearn: 0.0156453\ttotal: 32.5s\tremaining: 39s\n",
      "454:\tlearn: 0.0156091\ttotal: 32.5s\tremaining: 39s\n",
      "455:\tlearn: 0.0155511\ttotal: 32.6s\tremaining: 38.9s\n",
      "456:\tlearn: 0.0155452\ttotal: 32.7s\tremaining: 38.8s\n",
      "457:\tlearn: 0.0155148\ttotal: 32.8s\tremaining: 38.8s\n",
      "458:\tlearn: 0.0154877\ttotal: 32.8s\tremaining: 38.7s\n",
      "459:\tlearn: 0.0154762\ttotal: 32.9s\tremaining: 38.6s\n",
      "460:\tlearn: 0.0154176\ttotal: 33s\tremaining: 38.5s\n",
      "461:\tlearn: 0.0153469\ttotal: 33s\tremaining: 38.5s\n",
      "462:\tlearn: 0.0153196\ttotal: 33.1s\tremaining: 38.4s\n",
      "463:\tlearn: 0.0152913\ttotal: 33.2s\tremaining: 38.3s\n",
      "464:\tlearn: 0.0152026\ttotal: 33.3s\tremaining: 38.3s\n",
      "465:\tlearn: 0.0151958\ttotal: 33.3s\tremaining: 38.2s\n",
      "466:\tlearn: 0.0151823\ttotal: 33.4s\tremaining: 38.1s\n",
      "467:\tlearn: 0.0151517\ttotal: 33.5s\tremaining: 38.1s\n",
      "468:\tlearn: 0.0150797\ttotal: 33.6s\tremaining: 38s\n",
      "469:\tlearn: 0.0150416\ttotal: 33.7s\tremaining: 38s\n",
      "470:\tlearn: 0.0150407\ttotal: 33.7s\tremaining: 37.9s\n",
      "471:\tlearn: 0.0150382\ttotal: 33.8s\tremaining: 37.8s\n",
      "472:\tlearn: 0.0149969\ttotal: 33.9s\tremaining: 37.7s\n",
      "473:\tlearn: 0.0149727\ttotal: 33.9s\tremaining: 37.7s\n",
      "474:\tlearn: 0.0149497\ttotal: 34s\tremaining: 37.6s\n",
      "475:\tlearn: 0.0148985\ttotal: 34.1s\tremaining: 37.5s\n",
      "476:\tlearn: 0.0148943\ttotal: 34.2s\tremaining: 37.5s\n",
      "477:\tlearn: 0.0148676\ttotal: 34.2s\tremaining: 37.4s\n",
      "478:\tlearn: 0.0148667\ttotal: 34.3s\tremaining: 37.3s\n",
      "479:\tlearn: 0.0148301\ttotal: 34.4s\tremaining: 37.2s\n",
      "480:\tlearn: 0.0147814\ttotal: 34.4s\tremaining: 37.2s\n",
      "481:\tlearn: 0.0147753\ttotal: 34.5s\tremaining: 37.1s\n",
      "482:\tlearn: 0.0147307\ttotal: 34.6s\tremaining: 37s\n",
      "483:\tlearn: 0.0146723\ttotal: 34.7s\tremaining: 37s\n"
     ]
    },
    {
     "name": "stdout",
     "output_type": "stream",
     "text": [
      "484:\tlearn: 0.0146048\ttotal: 34.7s\tremaining: 36.9s\n",
      "485:\tlearn: 0.0145925\ttotal: 34.8s\tremaining: 36.8s\n",
      "486:\tlearn: 0.0145896\ttotal: 34.9s\tremaining: 36.7s\n",
      "487:\tlearn: 0.0145672\ttotal: 34.9s\tremaining: 36.7s\n",
      "488:\tlearn: 0.0145665\ttotal: 35s\tremaining: 36.6s\n",
      "489:\tlearn: 0.0145429\ttotal: 35.1s\tremaining: 36.5s\n",
      "490:\tlearn: 0.0145328\ttotal: 35.2s\tremaining: 36.4s\n",
      "491:\tlearn: 0.0145202\ttotal: 35.2s\tremaining: 36.4s\n",
      "492:\tlearn: 0.0145026\ttotal: 35.3s\tremaining: 36.3s\n",
      "493:\tlearn: 0.0144821\ttotal: 35.4s\tremaining: 36.2s\n",
      "494:\tlearn: 0.0144323\ttotal: 35.5s\tremaining: 36.2s\n",
      "495:\tlearn: 0.0143996\ttotal: 35.5s\tremaining: 36.1s\n",
      "496:\tlearn: 0.0143464\ttotal: 35.6s\tremaining: 36s\n",
      "497:\tlearn: 0.0143295\ttotal: 35.7s\tremaining: 36s\n",
      "498:\tlearn: 0.0143085\ttotal: 35.7s\tremaining: 35.9s\n",
      "499:\tlearn: 0.0142230\ttotal: 35.8s\tremaining: 35.8s\n",
      "500:\tlearn: 0.0142177\ttotal: 35.9s\tremaining: 35.7s\n",
      "501:\tlearn: 0.0141858\ttotal: 36s\tremaining: 35.7s\n",
      "502:\tlearn: 0.0141834\ttotal: 36s\tremaining: 35.6s\n",
      "503:\tlearn: 0.0141587\ttotal: 36.1s\tremaining: 35.5s\n",
      "504:\tlearn: 0.0141084\ttotal: 36.2s\tremaining: 35.5s\n",
      "505:\tlearn: 0.0140950\ttotal: 36.3s\tremaining: 35.4s\n",
      "506:\tlearn: 0.0140619\ttotal: 36.4s\tremaining: 35.4s\n",
      "507:\tlearn: 0.0140053\ttotal: 36.5s\tremaining: 35.3s\n",
      "508:\tlearn: 0.0140036\ttotal: 36.5s\tremaining: 35.2s\n",
      "509:\tlearn: 0.0139275\ttotal: 36.6s\tremaining: 35.2s\n",
      "510:\tlearn: 0.0138987\ttotal: 36.6s\tremaining: 35.1s\n",
      "511:\tlearn: 0.0138973\ttotal: 36.7s\tremaining: 35s\n",
      "512:\tlearn: 0.0138867\ttotal: 36.8s\tremaining: 34.9s\n",
      "513:\tlearn: 0.0138683\ttotal: 36.8s\tremaining: 34.8s\n",
      "514:\tlearn: 0.0138567\ttotal: 36.9s\tremaining: 34.8s\n",
      "515:\tlearn: 0.0138305\ttotal: 37s\tremaining: 34.7s\n",
      "516:\tlearn: 0.0137782\ttotal: 37s\tremaining: 34.6s\n",
      "517:\tlearn: 0.0137738\ttotal: 37.1s\tremaining: 34.5s\n",
      "518:\tlearn: 0.0137043\ttotal: 37.2s\tremaining: 34.4s\n",
      "519:\tlearn: 0.0136960\ttotal: 37.2s\tremaining: 34.4s\n",
      "520:\tlearn: 0.0136722\ttotal: 37.3s\tremaining: 34.3s\n",
      "521:\tlearn: 0.0136574\ttotal: 37.4s\tremaining: 34.2s\n",
      "522:\tlearn: 0.0136570\ttotal: 37.4s\tremaining: 34.1s\n",
      "523:\tlearn: 0.0136155\ttotal: 37.5s\tremaining: 34s\n",
      "524:\tlearn: 0.0136070\ttotal: 37.5s\tremaining: 34s\n",
      "525:\tlearn: 0.0135991\ttotal: 37.6s\tremaining: 33.9s\n",
      "526:\tlearn: 0.0135238\ttotal: 37.7s\tremaining: 33.8s\n",
      "527:\tlearn: 0.0135018\ttotal: 37.8s\tremaining: 33.8s\n",
      "528:\tlearn: 0.0134924\ttotal: 37.8s\tremaining: 33.7s\n",
      "529:\tlearn: 0.0134590\ttotal: 37.9s\tremaining: 33.6s\n",
      "530:\tlearn: 0.0134169\ttotal: 38s\tremaining: 33.6s\n",
      "531:\tlearn: 0.0133803\ttotal: 38.1s\tremaining: 33.5s\n",
      "532:\tlearn: 0.0133529\ttotal: 38.1s\tremaining: 33.4s\n",
      "533:\tlearn: 0.0133523\ttotal: 38.2s\tremaining: 33.4s\n",
      "534:\tlearn: 0.0132872\ttotal: 38.3s\tremaining: 33.3s\n",
      "535:\tlearn: 0.0132619\ttotal: 38.4s\tremaining: 33.2s\n",
      "536:\tlearn: 0.0132545\ttotal: 38.4s\tremaining: 33.1s\n",
      "537:\tlearn: 0.0132327\ttotal: 38.5s\tremaining: 33.1s\n",
      "538:\tlearn: 0.0132327\ttotal: 38.6s\tremaining: 33s\n",
      "539:\tlearn: 0.0132274\ttotal: 38.7s\tremaining: 32.9s\n",
      "540:\tlearn: 0.0132221\ttotal: 38.7s\tremaining: 32.9s\n",
      "541:\tlearn: 0.0132179\ttotal: 38.8s\tremaining: 32.8s\n",
      "542:\tlearn: 0.0131988\ttotal: 38.9s\tremaining: 32.7s\n",
      "543:\tlearn: 0.0131869\ttotal: 38.9s\tremaining: 32.6s\n",
      "544:\tlearn: 0.0131022\ttotal: 39s\tremaining: 32.6s\n",
      "545:\tlearn: 0.0130540\ttotal: 39.1s\tremaining: 32.5s\n",
      "546:\tlearn: 0.0130532\ttotal: 39.2s\tremaining: 32.4s\n",
      "547:\tlearn: 0.0130488\ttotal: 39.2s\tremaining: 32.4s\n",
      "548:\tlearn: 0.0130443\ttotal: 39.3s\tremaining: 32.3s\n",
      "549:\tlearn: 0.0130318\ttotal: 39.4s\tremaining: 32.2s\n",
      "550:\tlearn: 0.0129981\ttotal: 39.5s\tremaining: 32.2s\n",
      "551:\tlearn: 0.0129977\ttotal: 39.5s\tremaining: 32.1s\n",
      "552:\tlearn: 0.0129792\ttotal: 39.6s\tremaining: 32s\n",
      "553:\tlearn: 0.0129196\ttotal: 39.7s\tremaining: 32s\n",
      "554:\tlearn: 0.0128873\ttotal: 39.8s\tremaining: 31.9s\n",
      "555:\tlearn: 0.0128192\ttotal: 39.8s\tremaining: 31.8s\n",
      "556:\tlearn: 0.0128146\ttotal: 39.9s\tremaining: 31.7s\n",
      "557:\tlearn: 0.0128092\ttotal: 40s\tremaining: 31.7s\n",
      "558:\tlearn: 0.0128089\ttotal: 40.1s\tremaining: 31.6s\n",
      "559:\tlearn: 0.0127257\ttotal: 40.1s\tremaining: 31.5s\n",
      "560:\tlearn: 0.0126979\ttotal: 40.2s\tremaining: 31.5s\n",
      "561:\tlearn: 0.0126470\ttotal: 40.3s\tremaining: 31.4s\n",
      "562:\tlearn: 0.0126367\ttotal: 40.3s\tremaining: 31.3s\n",
      "563:\tlearn: 0.0126276\ttotal: 40.4s\tremaining: 31.2s\n",
      "564:\tlearn: 0.0126074\ttotal: 40.5s\tremaining: 31.2s\n",
      "565:\tlearn: 0.0126024\ttotal: 40.5s\tremaining: 31.1s\n",
      "566:\tlearn: 0.0125958\ttotal: 40.6s\tremaining: 31s\n",
      "567:\tlearn: 0.0125845\ttotal: 40.7s\tremaining: 31s\n",
      "568:\tlearn: 0.0125838\ttotal: 40.8s\tremaining: 30.9s\n",
      "569:\tlearn: 0.0125533\ttotal: 40.9s\tremaining: 30.8s\n",
      "570:\tlearn: 0.0125355\ttotal: 40.9s\tremaining: 30.7s\n",
      "571:\tlearn: 0.0125049\ttotal: 41s\tremaining: 30.7s\n",
      "572:\tlearn: 0.0124841\ttotal: 41.1s\tremaining: 30.6s\n",
      "573:\tlearn: 0.0124579\ttotal: 41.1s\tremaining: 30.5s\n",
      "574:\tlearn: 0.0124073\ttotal: 41.2s\tremaining: 30.5s\n",
      "575:\tlearn: 0.0123721\ttotal: 41.3s\tremaining: 30.4s\n",
      "576:\tlearn: 0.0123712\ttotal: 41.4s\tremaining: 30.3s\n",
      "577:\tlearn: 0.0123695\ttotal: 41.4s\tremaining: 30.3s\n",
      "578:\tlearn: 0.0123370\ttotal: 41.5s\tremaining: 30.2s\n",
      "579:\tlearn: 0.0122444\ttotal: 41.6s\tremaining: 30.1s\n",
      "580:\tlearn: 0.0122389\ttotal: 41.7s\tremaining: 30.1s\n",
      "581:\tlearn: 0.0121601\ttotal: 41.8s\tremaining: 30s\n",
      "582:\tlearn: 0.0121563\ttotal: 41.8s\tremaining: 29.9s\n",
      "583:\tlearn: 0.0121524\ttotal: 41.9s\tremaining: 29.8s\n",
      "584:\tlearn: 0.0121425\ttotal: 42s\tremaining: 29.8s\n",
      "585:\tlearn: 0.0120890\ttotal: 42s\tremaining: 29.7s\n",
      "586:\tlearn: 0.0120825\ttotal: 42.1s\tremaining: 29.6s\n",
      "587:\tlearn: 0.0120719\ttotal: 42.2s\tremaining: 29.6s\n",
      "588:\tlearn: 0.0120558\ttotal: 42.3s\tremaining: 29.5s\n",
      "589:\tlearn: 0.0120102\ttotal: 42.3s\tremaining: 29.4s\n",
      "590:\tlearn: 0.0119871\ttotal: 42.4s\tremaining: 29.3s\n",
      "591:\tlearn: 0.0119816\ttotal: 42.5s\tremaining: 29.3s\n",
      "592:\tlearn: 0.0119809\ttotal: 42.5s\tremaining: 29.2s\n",
      "593:\tlearn: 0.0119299\ttotal: 42.6s\tremaining: 29.1s\n",
      "594:\tlearn: 0.0119245\ttotal: 42.7s\tremaining: 29.1s\n",
      "595:\tlearn: 0.0118848\ttotal: 42.8s\tremaining: 29s\n",
      "596:\tlearn: 0.0118848\ttotal: 42.9s\tremaining: 28.9s\n",
      "597:\tlearn: 0.0118543\ttotal: 42.9s\tremaining: 28.9s\n",
      "598:\tlearn: 0.0118183\ttotal: 43s\tremaining: 28.8s\n",
      "599:\tlearn: 0.0118086\ttotal: 43.1s\tremaining: 28.7s\n",
      "600:\tlearn: 0.0117981\ttotal: 43.2s\tremaining: 28.7s\n",
      "601:\tlearn: 0.0117515\ttotal: 43.2s\tremaining: 28.6s\n",
      "602:\tlearn: 0.0117486\ttotal: 43.3s\tremaining: 28.5s\n",
      "603:\tlearn: 0.0117036\ttotal: 43.4s\tremaining: 28.5s\n",
      "604:\tlearn: 0.0116781\ttotal: 43.5s\tremaining: 28.4s\n",
      "605:\tlearn: 0.0116621\ttotal: 43.6s\tremaining: 28.3s\n",
      "606:\tlearn: 0.0116616\ttotal: 43.6s\tremaining: 28.3s\n",
      "607:\tlearn: 0.0116612\ttotal: 43.7s\tremaining: 28.2s\n",
      "608:\tlearn: 0.0116547\ttotal: 43.8s\tremaining: 28.1s\n",
      "609:\tlearn: 0.0116498\ttotal: 43.9s\tremaining: 28s\n",
      "610:\tlearn: 0.0115936\ttotal: 43.9s\tremaining: 28s\n",
      "611:\tlearn: 0.0115740\ttotal: 44s\tremaining: 27.9s\n",
      "612:\tlearn: 0.0115094\ttotal: 44.1s\tremaining: 27.8s\n",
      "613:\tlearn: 0.0115041\ttotal: 44.1s\tremaining: 27.8s\n",
      "614:\tlearn: 0.0114734\ttotal: 44.2s\tremaining: 27.7s\n",
      "615:\tlearn: 0.0114626\ttotal: 44.3s\tremaining: 27.6s\n",
      "616:\tlearn: 0.0114619\ttotal: 44.4s\tremaining: 27.5s\n",
      "617:\tlearn: 0.0114144\ttotal: 44.5s\tremaining: 27.5s\n",
      "618:\tlearn: 0.0114069\ttotal: 44.5s\tremaining: 27.4s\n",
      "619:\tlearn: 0.0113714\ttotal: 44.6s\tremaining: 27.3s\n",
      "620:\tlearn: 0.0113657\ttotal: 44.7s\tremaining: 27.3s\n",
      "621:\tlearn: 0.0113432\ttotal: 44.8s\tremaining: 27.2s\n",
      "622:\tlearn: 0.0113080\ttotal: 44.9s\tremaining: 27.1s\n",
      "623:\tlearn: 0.0112993\ttotal: 44.9s\tremaining: 27.1s\n",
      "624:\tlearn: 0.0112991\ttotal: 45s\tremaining: 27s\n",
      "625:\tlearn: 0.0112822\ttotal: 45.1s\tremaining: 27s\n",
      "626:\tlearn: 0.0112795\ttotal: 45.2s\tremaining: 26.9s\n",
      "627:\tlearn: 0.0112434\ttotal: 45.3s\tremaining: 26.8s\n",
      "628:\tlearn: 0.0112421\ttotal: 45.4s\tremaining: 26.8s\n",
      "629:\tlearn: 0.0112209\ttotal: 45.4s\tremaining: 26.7s\n",
      "630:\tlearn: 0.0112207\ttotal: 45.5s\tremaining: 26.6s\n",
      "631:\tlearn: 0.0111928\ttotal: 45.6s\tremaining: 26.6s\n",
      "632:\tlearn: 0.0111926\ttotal: 45.7s\tremaining: 26.5s\n",
      "633:\tlearn: 0.0111601\ttotal: 45.8s\tremaining: 26.4s\n",
      "634:\tlearn: 0.0111550\ttotal: 45.9s\tremaining: 26.4s\n",
      "635:\tlearn: 0.0111547\ttotal: 45.9s\tremaining: 26.3s\n",
      "636:\tlearn: 0.0111488\ttotal: 46s\tremaining: 26.2s\n",
      "637:\tlearn: 0.0111014\ttotal: 46.1s\tremaining: 26.1s\n",
      "638:\tlearn: 0.0110711\ttotal: 46.2s\tremaining: 26.1s\n",
      "639:\tlearn: 0.0110289\ttotal: 46.2s\tremaining: 26s\n",
      "640:\tlearn: 0.0110287\ttotal: 46.3s\tremaining: 25.9s\n",
      "641:\tlearn: 0.0109806\ttotal: 46.4s\tremaining: 25.9s\n",
      "642:\tlearn: 0.0109709\ttotal: 46.5s\tremaining: 25.8s\n",
      "643:\tlearn: 0.0109242\ttotal: 46.6s\tremaining: 25.8s\n",
      "644:\tlearn: 0.0109191\ttotal: 46.7s\tremaining: 25.7s\n"
     ]
    },
    {
     "name": "stdout",
     "output_type": "stream",
     "text": [
      "645:\tlearn: 0.0108984\ttotal: 46.7s\tremaining: 25.6s\n",
      "646:\tlearn: 0.0108957\ttotal: 46.8s\tremaining: 25.5s\n",
      "647:\tlearn: 0.0108760\ttotal: 46.9s\tremaining: 25.5s\n",
      "648:\tlearn: 0.0108614\ttotal: 47s\tremaining: 25.4s\n",
      "649:\tlearn: 0.0108609\ttotal: 47s\tremaining: 25.3s\n",
      "650:\tlearn: 0.0108239\ttotal: 47.1s\tremaining: 25.3s\n",
      "651:\tlearn: 0.0107770\ttotal: 47.2s\tremaining: 25.2s\n",
      "652:\tlearn: 0.0107770\ttotal: 47.3s\tremaining: 25.1s\n",
      "653:\tlearn: 0.0107726\ttotal: 47.3s\tremaining: 25s\n",
      "654:\tlearn: 0.0107642\ttotal: 47.4s\tremaining: 25s\n",
      "655:\tlearn: 0.0107534\ttotal: 47.5s\tremaining: 24.9s\n",
      "656:\tlearn: 0.0107417\ttotal: 47.6s\tremaining: 24.8s\n",
      "657:\tlearn: 0.0107359\ttotal: 47.6s\tremaining: 24.8s\n",
      "658:\tlearn: 0.0107241\ttotal: 47.7s\tremaining: 24.7s\n",
      "659:\tlearn: 0.0107057\ttotal: 47.8s\tremaining: 24.6s\n",
      "660:\tlearn: 0.0106761\ttotal: 47.8s\tremaining: 24.5s\n",
      "661:\tlearn: 0.0106728\ttotal: 47.9s\tremaining: 24.5s\n",
      "662:\tlearn: 0.0106689\ttotal: 48s\tremaining: 24.4s\n",
      "663:\tlearn: 0.0106639\ttotal: 48.1s\tremaining: 24.3s\n",
      "664:\tlearn: 0.0106126\ttotal: 48.1s\tremaining: 24.3s\n",
      "665:\tlearn: 0.0106052\ttotal: 48.2s\tremaining: 24.2s\n",
      "666:\tlearn: 0.0105663\ttotal: 48.3s\tremaining: 24.1s\n",
      "667:\tlearn: 0.0105661\ttotal: 48.4s\tremaining: 24s\n",
      "668:\tlearn: 0.0105478\ttotal: 48.4s\tremaining: 24s\n",
      "669:\tlearn: 0.0105179\ttotal: 48.5s\tremaining: 23.9s\n",
      "670:\tlearn: 0.0104811\ttotal: 48.6s\tremaining: 23.8s\n",
      "671:\tlearn: 0.0104768\ttotal: 48.7s\tremaining: 23.7s\n",
      "672:\tlearn: 0.0104764\ttotal: 48.7s\tremaining: 23.7s\n",
      "673:\tlearn: 0.0104759\ttotal: 48.8s\tremaining: 23.6s\n",
      "674:\tlearn: 0.0104689\ttotal: 48.9s\tremaining: 23.5s\n",
      "675:\tlearn: 0.0104528\ttotal: 49s\tremaining: 23.5s\n",
      "676:\tlearn: 0.0104402\ttotal: 49s\tremaining: 23.4s\n",
      "677:\tlearn: 0.0104091\ttotal: 49.1s\tremaining: 23.3s\n",
      "678:\tlearn: 0.0104090\ttotal: 49.2s\tremaining: 23.3s\n",
      "679:\tlearn: 0.0103701\ttotal: 49.3s\tremaining: 23.2s\n",
      "680:\tlearn: 0.0103510\ttotal: 49.4s\tremaining: 23.1s\n",
      "681:\tlearn: 0.0103228\ttotal: 49.4s\tremaining: 23s\n",
      "682:\tlearn: 0.0103020\ttotal: 49.5s\tremaining: 23s\n",
      "683:\tlearn: 0.0102832\ttotal: 49.6s\tremaining: 22.9s\n",
      "684:\tlearn: 0.0102629\ttotal: 49.7s\tremaining: 22.8s\n",
      "685:\tlearn: 0.0102628\ttotal: 49.7s\tremaining: 22.8s\n",
      "686:\tlearn: 0.0102473\ttotal: 49.8s\tremaining: 22.7s\n",
      "687:\tlearn: 0.0102297\ttotal: 49.9s\tremaining: 22.6s\n",
      "688:\tlearn: 0.0101968\ttotal: 50s\tremaining: 22.6s\n",
      "689:\tlearn: 0.0101966\ttotal: 50s\tremaining: 22.5s\n",
      "690:\tlearn: 0.0101699\ttotal: 50.1s\tremaining: 22.4s\n",
      "691:\tlearn: 0.0101626\ttotal: 50.2s\tremaining: 22.4s\n",
      "692:\tlearn: 0.0101573\ttotal: 50.3s\tremaining: 22.3s\n",
      "693:\tlearn: 0.0101383\ttotal: 50.4s\tremaining: 22.2s\n",
      "694:\tlearn: 0.0101165\ttotal: 50.5s\tremaining: 22.2s\n",
      "695:\tlearn: 0.0101138\ttotal: 50.6s\tremaining: 22.1s\n",
      "696:\tlearn: 0.0101088\ttotal: 50.7s\tremaining: 22s\n",
      "697:\tlearn: 0.0100941\ttotal: 50.7s\tremaining: 22s\n",
      "698:\tlearn: 0.0100709\ttotal: 50.8s\tremaining: 21.9s\n",
      "699:\tlearn: 0.0100707\ttotal: 50.9s\tremaining: 21.8s\n",
      "700:\tlearn: 0.0100705\ttotal: 51s\tremaining: 21.7s\n",
      "701:\tlearn: 0.0100591\ttotal: 51.1s\tremaining: 21.7s\n",
      "702:\tlearn: 0.0100585\ttotal: 51.2s\tremaining: 21.6s\n",
      "703:\tlearn: 0.0100550\ttotal: 51.2s\tremaining: 21.5s\n",
      "704:\tlearn: 0.0100313\ttotal: 51.3s\tremaining: 21.5s\n",
      "705:\tlearn: 0.0100311\ttotal: 51.4s\tremaining: 21.4s\n",
      "706:\tlearn: 0.0100282\ttotal: 51.5s\tremaining: 21.3s\n",
      "707:\tlearn: 0.0100236\ttotal: 51.6s\tremaining: 21.3s\n",
      "708:\tlearn: 0.0099891\ttotal: 51.6s\tremaining: 21.2s\n",
      "709:\tlearn: 0.0099693\ttotal: 51.7s\tremaining: 21.1s\n",
      "710:\tlearn: 0.0099481\ttotal: 51.8s\tremaining: 21.1s\n",
      "711:\tlearn: 0.0099476\ttotal: 51.9s\tremaining: 21s\n",
      "712:\tlearn: 0.0099252\ttotal: 51.9s\tremaining: 20.9s\n",
      "713:\tlearn: 0.0099078\ttotal: 52s\tremaining: 20.8s\n",
      "714:\tlearn: 0.0098951\ttotal: 52.1s\tremaining: 20.8s\n",
      "715:\tlearn: 0.0098784\ttotal: 52.2s\tremaining: 20.7s\n",
      "716:\tlearn: 0.0098509\ttotal: 52.3s\tremaining: 20.6s\n",
      "717:\tlearn: 0.0098506\ttotal: 52.4s\tremaining: 20.6s\n",
      "718:\tlearn: 0.0098370\ttotal: 52.4s\tremaining: 20.5s\n",
      "719:\tlearn: 0.0097894\ttotal: 52.5s\tremaining: 20.4s\n",
      "720:\tlearn: 0.0097874\ttotal: 52.6s\tremaining: 20.3s\n",
      "721:\tlearn: 0.0097471\ttotal: 52.7s\tremaining: 20.3s\n",
      "722:\tlearn: 0.0097433\ttotal: 52.7s\tremaining: 20.2s\n",
      "723:\tlearn: 0.0097210\ttotal: 52.8s\tremaining: 20.1s\n",
      "724:\tlearn: 0.0097160\ttotal: 52.9s\tremaining: 20.1s\n",
      "725:\tlearn: 0.0097158\ttotal: 53s\tremaining: 20s\n",
      "726:\tlearn: 0.0097156\ttotal: 53s\tremaining: 19.9s\n",
      "727:\tlearn: 0.0097128\ttotal: 53.1s\tremaining: 19.8s\n",
      "728:\tlearn: 0.0097030\ttotal: 53.2s\tremaining: 19.8s\n",
      "729:\tlearn: 0.0096655\ttotal: 53.3s\tremaining: 19.7s\n",
      "730:\tlearn: 0.0096405\ttotal: 53.3s\tremaining: 19.6s\n",
      "731:\tlearn: 0.0096160\ttotal: 53.4s\tremaining: 19.6s\n",
      "732:\tlearn: 0.0095459\ttotal: 53.5s\tremaining: 19.5s\n",
      "733:\tlearn: 0.0095088\ttotal: 53.6s\tremaining: 19.4s\n",
      "734:\tlearn: 0.0094920\ttotal: 53.7s\tremaining: 19.3s\n",
      "735:\tlearn: 0.0094649\ttotal: 53.7s\tremaining: 19.3s\n",
      "736:\tlearn: 0.0094586\ttotal: 53.8s\tremaining: 19.2s\n",
      "737:\tlearn: 0.0094564\ttotal: 53.9s\tremaining: 19.1s\n",
      "738:\tlearn: 0.0094560\ttotal: 53.9s\tremaining: 19.1s\n",
      "739:\tlearn: 0.0094551\ttotal: 54s\tremaining: 19s\n",
      "740:\tlearn: 0.0094421\ttotal: 54.1s\tremaining: 18.9s\n",
      "741:\tlearn: 0.0094142\ttotal: 54.2s\tremaining: 18.8s\n",
      "742:\tlearn: 0.0094053\ttotal: 54.2s\tremaining: 18.8s\n",
      "743:\tlearn: 0.0093946\ttotal: 54.3s\tremaining: 18.7s\n",
      "744:\tlearn: 0.0093447\ttotal: 54.4s\tremaining: 18.6s\n",
      "745:\tlearn: 0.0093369\ttotal: 54.5s\tremaining: 18.5s\n",
      "746:\tlearn: 0.0093367\ttotal: 54.5s\tremaining: 18.5s\n",
      "747:\tlearn: 0.0092976\ttotal: 54.6s\tremaining: 18.4s\n",
      "748:\tlearn: 0.0092974\ttotal: 54.7s\tremaining: 18.3s\n",
      "749:\tlearn: 0.0092563\ttotal: 54.8s\tremaining: 18.3s\n",
      "750:\tlearn: 0.0092324\ttotal: 54.8s\tremaining: 18.2s\n",
      "751:\tlearn: 0.0092007\ttotal: 54.9s\tremaining: 18.1s\n",
      "752:\tlearn: 0.0091764\ttotal: 55s\tremaining: 18s\n",
      "753:\tlearn: 0.0091747\ttotal: 55.1s\tremaining: 18s\n",
      "754:\tlearn: 0.0091700\ttotal: 55.2s\tremaining: 17.9s\n",
      "755:\tlearn: 0.0091212\ttotal: 55.2s\tremaining: 17.8s\n",
      "756:\tlearn: 0.0091212\ttotal: 55.3s\tremaining: 17.8s\n",
      "757:\tlearn: 0.0091120\ttotal: 55.4s\tremaining: 17.7s\n",
      "758:\tlearn: 0.0090972\ttotal: 55.5s\tremaining: 17.6s\n",
      "759:\tlearn: 0.0090932\ttotal: 55.5s\tremaining: 17.5s\n",
      "760:\tlearn: 0.0090636\ttotal: 55.6s\tremaining: 17.5s\n",
      "761:\tlearn: 0.0090607\ttotal: 55.7s\tremaining: 17.4s\n",
      "762:\tlearn: 0.0090274\ttotal: 55.7s\tremaining: 17.3s\n",
      "763:\tlearn: 0.0090230\ttotal: 55.8s\tremaining: 17.2s\n",
      "764:\tlearn: 0.0089953\ttotal: 55.9s\tremaining: 17.2s\n",
      "765:\tlearn: 0.0089935\ttotal: 56s\tremaining: 17.1s\n",
      "766:\tlearn: 0.0089844\ttotal: 56s\tremaining: 17s\n",
      "767:\tlearn: 0.0089743\ttotal: 56.1s\tremaining: 16.9s\n",
      "768:\tlearn: 0.0089658\ttotal: 56.2s\tremaining: 16.9s\n",
      "769:\tlearn: 0.0089657\ttotal: 56.2s\tremaining: 16.8s\n",
      "770:\tlearn: 0.0089518\ttotal: 56.3s\tremaining: 16.7s\n",
      "771:\tlearn: 0.0089517\ttotal: 56.4s\tremaining: 16.6s\n",
      "772:\tlearn: 0.0089489\ttotal: 56.4s\tremaining: 16.6s\n",
      "773:\tlearn: 0.0089190\ttotal: 56.5s\tremaining: 16.5s\n",
      "774:\tlearn: 0.0089178\ttotal: 56.6s\tremaining: 16.4s\n",
      "775:\tlearn: 0.0088795\ttotal: 56.7s\tremaining: 16.4s\n",
      "776:\tlearn: 0.0088793\ttotal: 56.8s\tremaining: 16.3s\n",
      "777:\tlearn: 0.0088748\ttotal: 56.8s\tremaining: 16.2s\n",
      "778:\tlearn: 0.0088694\ttotal: 56.9s\tremaining: 16.1s\n",
      "779:\tlearn: 0.0088685\ttotal: 57s\tremaining: 16.1s\n",
      "780:\tlearn: 0.0088678\ttotal: 57s\tremaining: 16s\n",
      "781:\tlearn: 0.0088630\ttotal: 57.1s\tremaining: 15.9s\n",
      "782:\tlearn: 0.0088553\ttotal: 57.2s\tremaining: 15.8s\n",
      "783:\tlearn: 0.0088551\ttotal: 57.2s\tremaining: 15.8s\n",
      "784:\tlearn: 0.0088549\ttotal: 57.3s\tremaining: 15.7s\n",
      "785:\tlearn: 0.0088417\ttotal: 57.4s\tremaining: 15.6s\n",
      "786:\tlearn: 0.0088391\ttotal: 57.4s\tremaining: 15.5s\n",
      "787:\tlearn: 0.0088390\ttotal: 57.5s\tremaining: 15.5s\n",
      "788:\tlearn: 0.0088352\ttotal: 57.6s\tremaining: 15.4s\n",
      "789:\tlearn: 0.0088214\ttotal: 57.7s\tremaining: 15.3s\n",
      "790:\tlearn: 0.0088145\ttotal: 57.7s\tremaining: 15.3s\n",
      "791:\tlearn: 0.0088121\ttotal: 57.8s\tremaining: 15.2s\n",
      "792:\tlearn: 0.0087840\ttotal: 57.9s\tremaining: 15.1s\n",
      "793:\tlearn: 0.0087839\ttotal: 57.9s\tremaining: 15s\n",
      "794:\tlearn: 0.0087803\ttotal: 58s\tremaining: 15s\n",
      "795:\tlearn: 0.0087318\ttotal: 58.1s\tremaining: 14.9s\n",
      "796:\tlearn: 0.0087280\ttotal: 58.2s\tremaining: 14.8s\n",
      "797:\tlearn: 0.0087278\ttotal: 58.2s\tremaining: 14.7s\n",
      "798:\tlearn: 0.0087276\ttotal: 58.3s\tremaining: 14.7s\n",
      "799:\tlearn: 0.0087274\ttotal: 58.4s\tremaining: 14.6s\n",
      "800:\tlearn: 0.0087250\ttotal: 58.4s\tremaining: 14.5s\n",
      "801:\tlearn: 0.0087224\ttotal: 58.5s\tremaining: 14.4s\n",
      "802:\tlearn: 0.0087054\ttotal: 58.6s\tremaining: 14.4s\n",
      "803:\tlearn: 0.0087051\ttotal: 58.7s\tremaining: 14.3s\n",
      "804:\tlearn: 0.0087045\ttotal: 58.7s\tremaining: 14.2s\n",
      "805:\tlearn: 0.0087044\ttotal: 58.8s\tremaining: 14.2s\n",
      "806:\tlearn: 0.0087042\ttotal: 58.9s\tremaining: 14.1s\n"
     ]
    },
    {
     "name": "stdout",
     "output_type": "stream",
     "text": [
      "807:\tlearn: 0.0087000\ttotal: 58.9s\tremaining: 14s\n",
      "808:\tlearn: 0.0086950\ttotal: 59s\tremaining: 13.9s\n",
      "809:\tlearn: 0.0086933\ttotal: 59.1s\tremaining: 13.9s\n",
      "810:\tlearn: 0.0086686\ttotal: 59.2s\tremaining: 13.8s\n",
      "811:\tlearn: 0.0086685\ttotal: 59.2s\tremaining: 13.7s\n",
      "812:\tlearn: 0.0086462\ttotal: 59.3s\tremaining: 13.6s\n",
      "813:\tlearn: 0.0086460\ttotal: 59.4s\tremaining: 13.6s\n",
      "814:\tlearn: 0.0086249\ttotal: 59.4s\tremaining: 13.5s\n",
      "815:\tlearn: 0.0086216\ttotal: 59.5s\tremaining: 13.4s\n",
      "816:\tlearn: 0.0086061\ttotal: 59.6s\tremaining: 13.3s\n",
      "817:\tlearn: 0.0085935\ttotal: 59.7s\tremaining: 13.3s\n",
      "818:\tlearn: 0.0085935\ttotal: 59.7s\tremaining: 13.2s\n",
      "819:\tlearn: 0.0085855\ttotal: 59.8s\tremaining: 13.1s\n",
      "820:\tlearn: 0.0085624\ttotal: 59.9s\tremaining: 13.1s\n",
      "821:\tlearn: 0.0085300\ttotal: 59.9s\tremaining: 13s\n",
      "822:\tlearn: 0.0085259\ttotal: 1m\tremaining: 12.9s\n",
      "823:\tlearn: 0.0085257\ttotal: 1m\tremaining: 12.8s\n",
      "824:\tlearn: 0.0085196\ttotal: 1m\tremaining: 12.8s\n",
      "825:\tlearn: 0.0085046\ttotal: 1m\tremaining: 12.7s\n",
      "826:\tlearn: 0.0084850\ttotal: 1m\tremaining: 12.6s\n",
      "827:\tlearn: 0.0084850\ttotal: 1m\tremaining: 12.5s\n",
      "828:\tlearn: 0.0084702\ttotal: 1m\tremaining: 12.5s\n",
      "829:\tlearn: 0.0084515\ttotal: 1m\tremaining: 12.4s\n",
      "830:\tlearn: 0.0084513\ttotal: 1m\tremaining: 12.3s\n",
      "831:\tlearn: 0.0084269\ttotal: 1m\tremaining: 12.2s\n",
      "832:\tlearn: 0.0084268\ttotal: 1m\tremaining: 12.2s\n",
      "833:\tlearn: 0.0084172\ttotal: 1m\tremaining: 12.1s\n",
      "834:\tlearn: 0.0084143\ttotal: 1m\tremaining: 12s\n",
      "835:\tlearn: 0.0084142\ttotal: 1m\tremaining: 12s\n",
      "836:\tlearn: 0.0084140\ttotal: 1m 1s\tremaining: 11.9s\n",
      "837:\tlearn: 0.0083981\ttotal: 1m 1s\tremaining: 11.8s\n",
      "838:\tlearn: 0.0083931\ttotal: 1m 1s\tremaining: 11.7s\n",
      "839:\tlearn: 0.0083930\ttotal: 1m 1s\tremaining: 11.7s\n",
      "840:\tlearn: 0.0083864\ttotal: 1m 1s\tremaining: 11.6s\n",
      "841:\tlearn: 0.0083526\ttotal: 1m 1s\tremaining: 11.5s\n",
      "842:\tlearn: 0.0083461\ttotal: 1m 1s\tremaining: 11.4s\n",
      "843:\tlearn: 0.0083342\ttotal: 1m 1s\tremaining: 11.4s\n",
      "844:\tlearn: 0.0083332\ttotal: 1m 1s\tremaining: 11.3s\n",
      "845:\tlearn: 0.0083330\ttotal: 1m 1s\tremaining: 11.2s\n",
      "846:\tlearn: 0.0083229\ttotal: 1m 1s\tremaining: 11.2s\n",
      "847:\tlearn: 0.0083154\ttotal: 1m 1s\tremaining: 11.1s\n",
      "848:\tlearn: 0.0082842\ttotal: 1m 1s\tremaining: 11s\n",
      "849:\tlearn: 0.0082839\ttotal: 1m 1s\tremaining: 10.9s\n",
      "850:\tlearn: 0.0082815\ttotal: 1m 2s\tremaining: 10.9s\n",
      "851:\tlearn: 0.0082557\ttotal: 1m 2s\tremaining: 10.8s\n",
      "852:\tlearn: 0.0082437\ttotal: 1m 2s\tremaining: 10.7s\n",
      "853:\tlearn: 0.0082187\ttotal: 1m 2s\tremaining: 10.6s\n",
      "854:\tlearn: 0.0081891\ttotal: 1m 2s\tremaining: 10.6s\n",
      "855:\tlearn: 0.0081872\ttotal: 1m 2s\tremaining: 10.5s\n",
      "856:\tlearn: 0.0081847\ttotal: 1m 2s\tremaining: 10.4s\n",
      "857:\tlearn: 0.0081521\ttotal: 1m 2s\tremaining: 10.4s\n",
      "858:\tlearn: 0.0081351\ttotal: 1m 2s\tremaining: 10.3s\n",
      "859:\tlearn: 0.0081350\ttotal: 1m 2s\tremaining: 10.2s\n",
      "860:\tlearn: 0.0081148\ttotal: 1m 2s\tremaining: 10.1s\n",
      "861:\tlearn: 0.0081148\ttotal: 1m 2s\tremaining: 10.1s\n",
      "862:\tlearn: 0.0081079\ttotal: 1m 2s\tremaining: 9.99s\n",
      "863:\tlearn: 0.0081049\ttotal: 1m 3s\tremaining: 9.92s\n",
      "864:\tlearn: 0.0081048\ttotal: 1m 3s\tremaining: 9.85s\n",
      "865:\tlearn: 0.0081046\ttotal: 1m 3s\tremaining: 9.77s\n",
      "866:\tlearn: 0.0080930\ttotal: 1m 3s\tremaining: 9.7s\n",
      "867:\tlearn: 0.0080542\ttotal: 1m 3s\tremaining: 9.63s\n",
      "868:\tlearn: 0.0080515\ttotal: 1m 3s\tremaining: 9.56s\n",
      "869:\tlearn: 0.0080512\ttotal: 1m 3s\tremaining: 9.48s\n",
      "870:\tlearn: 0.0080472\ttotal: 1m 3s\tremaining: 9.41s\n",
      "871:\tlearn: 0.0080406\ttotal: 1m 3s\tremaining: 9.34s\n",
      "872:\tlearn: 0.0080338\ttotal: 1m 3s\tremaining: 9.27s\n",
      "873:\tlearn: 0.0080249\ttotal: 1m 3s\tremaining: 9.19s\n",
      "874:\tlearn: 0.0080040\ttotal: 1m 3s\tremaining: 9.12s\n",
      "875:\tlearn: 0.0079785\ttotal: 1m 3s\tremaining: 9.05s\n",
      "876:\tlearn: 0.0079763\ttotal: 1m 3s\tremaining: 8.97s\n",
      "877:\tlearn: 0.0079633\ttotal: 1m 4s\tremaining: 8.9s\n",
      "878:\tlearn: 0.0079614\ttotal: 1m 4s\tremaining: 8.83s\n",
      "879:\tlearn: 0.0079614\ttotal: 1m 4s\tremaining: 8.75s\n",
      "880:\tlearn: 0.0079532\ttotal: 1m 4s\tremaining: 8.68s\n",
      "881:\tlearn: 0.0079261\ttotal: 1m 4s\tremaining: 8.61s\n",
      "882:\tlearn: 0.0079002\ttotal: 1m 4s\tremaining: 8.54s\n",
      "883:\tlearn: 0.0078795\ttotal: 1m 4s\tremaining: 8.47s\n",
      "884:\tlearn: 0.0078494\ttotal: 1m 4s\tremaining: 8.4s\n",
      "885:\tlearn: 0.0078486\ttotal: 1m 4s\tremaining: 8.32s\n",
      "886:\tlearn: 0.0078329\ttotal: 1m 4s\tremaining: 8.25s\n",
      "887:\tlearn: 0.0078328\ttotal: 1m 4s\tremaining: 8.18s\n",
      "888:\tlearn: 0.0078155\ttotal: 1m 4s\tremaining: 8.11s\n",
      "889:\tlearn: 0.0078048\ttotal: 1m 5s\tremaining: 8.04s\n",
      "890:\tlearn: 0.0078043\ttotal: 1m 5s\tremaining: 7.96s\n",
      "891:\tlearn: 0.0077895\ttotal: 1m 5s\tremaining: 7.89s\n",
      "892:\tlearn: 0.0077866\ttotal: 1m 5s\tremaining: 7.82s\n",
      "893:\tlearn: 0.0077541\ttotal: 1m 5s\tremaining: 7.75s\n",
      "894:\tlearn: 0.0077467\ttotal: 1m 5s\tremaining: 7.68s\n",
      "895:\tlearn: 0.0077362\ttotal: 1m 5s\tremaining: 7.61s\n",
      "896:\tlearn: 0.0077329\ttotal: 1m 5s\tremaining: 7.54s\n",
      "897:\tlearn: 0.0077329\ttotal: 1m 5s\tremaining: 7.46s\n",
      "898:\tlearn: 0.0077251\ttotal: 1m 5s\tremaining: 7.39s\n",
      "899:\tlearn: 0.0077153\ttotal: 1m 5s\tremaining: 7.32s\n",
      "900:\tlearn: 0.0077120\ttotal: 1m 5s\tremaining: 7.25s\n",
      "901:\tlearn: 0.0077094\ttotal: 1m 6s\tremaining: 7.18s\n",
      "902:\tlearn: 0.0076950\ttotal: 1m 6s\tremaining: 7.11s\n",
      "903:\tlearn: 0.0076747\ttotal: 1m 6s\tremaining: 7.04s\n",
      "904:\tlearn: 0.0076727\ttotal: 1m 6s\tremaining: 6.96s\n",
      "905:\tlearn: 0.0076333\ttotal: 1m 6s\tremaining: 6.89s\n",
      "906:\tlearn: 0.0076047\ttotal: 1m 6s\tremaining: 6.82s\n",
      "907:\tlearn: 0.0076018\ttotal: 1m 6s\tremaining: 6.75s\n",
      "908:\tlearn: 0.0075996\ttotal: 1m 6s\tremaining: 6.68s\n",
      "909:\tlearn: 0.0075918\ttotal: 1m 6s\tremaining: 6.61s\n",
      "910:\tlearn: 0.0075818\ttotal: 1m 6s\tremaining: 6.53s\n",
      "911:\tlearn: 0.0075801\ttotal: 1m 6s\tremaining: 6.46s\n",
      "912:\tlearn: 0.0075776\ttotal: 1m 7s\tremaining: 6.39s\n",
      "913:\tlearn: 0.0075291\ttotal: 1m 7s\tremaining: 6.32s\n",
      "914:\tlearn: 0.0075289\ttotal: 1m 7s\tremaining: 6.25s\n",
      "915:\tlearn: 0.0075149\ttotal: 1m 7s\tremaining: 6.17s\n",
      "916:\tlearn: 0.0075034\ttotal: 1m 7s\tremaining: 6.1s\n",
      "917:\tlearn: 0.0074812\ttotal: 1m 7s\tremaining: 6.03s\n",
      "918:\tlearn: 0.0074668\ttotal: 1m 7s\tremaining: 5.96s\n",
      "919:\tlearn: 0.0074665\ttotal: 1m 7s\tremaining: 5.89s\n",
      "920:\tlearn: 0.0074587\ttotal: 1m 7s\tremaining: 5.82s\n",
      "921:\tlearn: 0.0074478\ttotal: 1m 7s\tremaining: 5.74s\n",
      "922:\tlearn: 0.0074449\ttotal: 1m 7s\tremaining: 5.67s\n",
      "923:\tlearn: 0.0074363\ttotal: 1m 8s\tremaining: 5.6s\n",
      "924:\tlearn: 0.0074361\ttotal: 1m 8s\tremaining: 5.52s\n",
      "925:\tlearn: 0.0074249\ttotal: 1m 8s\tremaining: 5.45s\n",
      "926:\tlearn: 0.0074237\ttotal: 1m 8s\tremaining: 5.38s\n",
      "927:\tlearn: 0.0074216\ttotal: 1m 8s\tremaining: 5.3s\n",
      "928:\tlearn: 0.0074075\ttotal: 1m 8s\tremaining: 5.23s\n",
      "929:\tlearn: 0.0073692\ttotal: 1m 8s\tremaining: 5.16s\n",
      "930:\tlearn: 0.0073523\ttotal: 1m 8s\tremaining: 5.09s\n",
      "931:\tlearn: 0.0073522\ttotal: 1m 8s\tremaining: 5.01s\n",
      "932:\tlearn: 0.0073497\ttotal: 1m 8s\tremaining: 4.94s\n",
      "933:\tlearn: 0.0073496\ttotal: 1m 8s\tremaining: 4.87s\n",
      "934:\tlearn: 0.0073181\ttotal: 1m 8s\tremaining: 4.8s\n",
      "935:\tlearn: 0.0073052\ttotal: 1m 9s\tremaining: 4.72s\n",
      "936:\tlearn: 0.0072871\ttotal: 1m 9s\tremaining: 4.65s\n",
      "937:\tlearn: 0.0072802\ttotal: 1m 9s\tremaining: 4.58s\n",
      "938:\tlearn: 0.0072496\ttotal: 1m 9s\tremaining: 4.51s\n",
      "939:\tlearn: 0.0072495\ttotal: 1m 9s\tremaining: 4.43s\n",
      "940:\tlearn: 0.0072361\ttotal: 1m 9s\tremaining: 4.36s\n",
      "941:\tlearn: 0.0072228\ttotal: 1m 9s\tremaining: 4.29s\n",
      "942:\tlearn: 0.0072227\ttotal: 1m 9s\tremaining: 4.22s\n",
      "943:\tlearn: 0.0072093\ttotal: 1m 9s\tremaining: 4.14s\n",
      "944:\tlearn: 0.0072088\ttotal: 1m 9s\tremaining: 4.07s\n",
      "945:\tlearn: 0.0071875\ttotal: 1m 10s\tremaining: 4s\n",
      "946:\tlearn: 0.0071870\ttotal: 1m 10s\tremaining: 3.92s\n",
      "947:\tlearn: 0.0071869\ttotal: 1m 10s\tremaining: 3.85s\n",
      "948:\tlearn: 0.0071652\ttotal: 1m 10s\tremaining: 3.78s\n",
      "949:\tlearn: 0.0071651\ttotal: 1m 10s\tremaining: 3.7s\n",
      "950:\tlearn: 0.0071650\ttotal: 1m 10s\tremaining: 3.63s\n",
      "951:\tlearn: 0.0071587\ttotal: 1m 10s\tremaining: 3.56s\n",
      "952:\tlearn: 0.0071586\ttotal: 1m 10s\tremaining: 3.48s\n",
      "953:\tlearn: 0.0071538\ttotal: 1m 10s\tremaining: 3.41s\n",
      "954:\tlearn: 0.0071447\ttotal: 1m 10s\tremaining: 3.33s\n",
      "955:\tlearn: 0.0071446\ttotal: 1m 10s\tremaining: 3.26s\n",
      "956:\tlearn: 0.0071400\ttotal: 1m 10s\tremaining: 3.19s\n",
      "957:\tlearn: 0.0071214\ttotal: 1m 10s\tremaining: 3.11s\n",
      "958:\tlearn: 0.0071036\ttotal: 1m 11s\tremaining: 3.04s\n",
      "959:\tlearn: 0.0070892\ttotal: 1m 11s\tremaining: 2.97s\n",
      "960:\tlearn: 0.0070699\ttotal: 1m 11s\tremaining: 2.89s\n",
      "961:\tlearn: 0.0070238\ttotal: 1m 11s\tremaining: 2.82s\n",
      "962:\tlearn: 0.0070203\ttotal: 1m 11s\tremaining: 2.75s\n",
      "963:\tlearn: 0.0070198\ttotal: 1m 11s\tremaining: 2.67s\n",
      "964:\tlearn: 0.0070197\ttotal: 1m 11s\tremaining: 2.6s\n",
      "965:\tlearn: 0.0069983\ttotal: 1m 11s\tremaining: 2.52s\n",
      "966:\tlearn: 0.0069980\ttotal: 1m 11s\tremaining: 2.45s\n"
     ]
    },
    {
     "name": "stdout",
     "output_type": "stream",
     "text": [
      "967:\tlearn: 0.0069846\ttotal: 1m 11s\tremaining: 2.38s\n",
      "968:\tlearn: 0.0069662\ttotal: 1m 12s\tremaining: 2.3s\n",
      "969:\tlearn: 0.0069256\ttotal: 1m 12s\tremaining: 2.23s\n",
      "970:\tlearn: 0.0069256\ttotal: 1m 12s\tremaining: 2.15s\n",
      "971:\tlearn: 0.0069254\ttotal: 1m 12s\tremaining: 2.08s\n",
      "972:\tlearn: 0.0069002\ttotal: 1m 12s\tremaining: 2.01s\n",
      "973:\tlearn: 0.0069002\ttotal: 1m 12s\tremaining: 1.93s\n",
      "974:\tlearn: 0.0069002\ttotal: 1m 12s\tremaining: 1.86s\n",
      "975:\tlearn: 0.0068909\ttotal: 1m 12s\tremaining: 1.78s\n",
      "976:\tlearn: 0.0068608\ttotal: 1m 12s\tremaining: 1.71s\n",
      "977:\tlearn: 0.0068608\ttotal: 1m 12s\tremaining: 1.64s\n",
      "978:\tlearn: 0.0068529\ttotal: 1m 12s\tremaining: 1.56s\n",
      "979:\tlearn: 0.0068527\ttotal: 1m 12s\tremaining: 1.49s\n",
      "980:\tlearn: 0.0068486\ttotal: 1m 13s\tremaining: 1.41s\n",
      "981:\tlearn: 0.0068485\ttotal: 1m 13s\tremaining: 1.34s\n",
      "982:\tlearn: 0.0068483\ttotal: 1m 13s\tremaining: 1.26s\n",
      "983:\tlearn: 0.0068478\ttotal: 1m 13s\tremaining: 1.19s\n",
      "984:\tlearn: 0.0068477\ttotal: 1m 13s\tremaining: 1.12s\n",
      "985:\tlearn: 0.0068369\ttotal: 1m 13s\tremaining: 1.04s\n",
      "986:\tlearn: 0.0068101\ttotal: 1m 13s\tremaining: 968ms\n",
      "987:\tlearn: 0.0068005\ttotal: 1m 13s\tremaining: 894ms\n",
      "988:\tlearn: 0.0067624\ttotal: 1m 13s\tremaining: 820ms\n",
      "989:\tlearn: 0.0067468\ttotal: 1m 13s\tremaining: 745ms\n",
      "990:\tlearn: 0.0067417\ttotal: 1m 13s\tremaining: 671ms\n",
      "991:\tlearn: 0.0067393\ttotal: 1m 13s\tremaining: 596ms\n",
      "992:\tlearn: 0.0067308\ttotal: 1m 14s\tremaining: 522ms\n",
      "993:\tlearn: 0.0067284\ttotal: 1m 14s\tremaining: 447ms\n",
      "994:\tlearn: 0.0067204\ttotal: 1m 14s\tremaining: 373ms\n",
      "995:\tlearn: 0.0067019\ttotal: 1m 14s\tremaining: 298ms\n",
      "996:\tlearn: 0.0067019\ttotal: 1m 14s\tremaining: 224ms\n",
      "997:\tlearn: 0.0066934\ttotal: 1m 14s\tremaining: 149ms\n",
      "998:\tlearn: 0.0066923\ttotal: 1m 14s\tremaining: 74.7ms\n",
      "999:\tlearn: 0.0066859\ttotal: 1m 14s\tremaining: 0us\n",
      "Learning rate set to 0.049775\n",
      "0:\tlearn: 0.6178860\ttotal: 69ms\tremaining: 1m 8s\n",
      "1:\tlearn: 0.5535182\ttotal: 129ms\tremaining: 1m 4s\n",
      "2:\tlearn: 0.4967172\ttotal: 199ms\tremaining: 1m 5s\n",
      "3:\tlearn: 0.4400945\ttotal: 267ms\tremaining: 1m 6s\n",
      "4:\tlearn: 0.3933930\ttotal: 333ms\tremaining: 1m 6s\n",
      "5:\tlearn: 0.3582195\ttotal: 404ms\tremaining: 1m 6s\n",
      "6:\tlearn: 0.3291393\ttotal: 470ms\tremaining: 1m 6s\n",
      "7:\tlearn: 0.3013314\ttotal: 536ms\tremaining: 1m 6s\n",
      "8:\tlearn: 0.2771716\ttotal: 600ms\tremaining: 1m 6s\n",
      "9:\tlearn: 0.2535263\ttotal: 672ms\tremaining: 1m 6s\n",
      "10:\tlearn: 0.2334533\ttotal: 750ms\tremaining: 1m 7s\n",
      "11:\tlearn: 0.2161279\ttotal: 826ms\tremaining: 1m 7s\n",
      "12:\tlearn: 0.2022322\ttotal: 892ms\tremaining: 1m 7s\n",
      "13:\tlearn: 0.1892061\ttotal: 956ms\tremaining: 1m 7s\n",
      "14:\tlearn: 0.1802476\ttotal: 1.02s\tremaining: 1m 6s\n",
      "15:\tlearn: 0.1699985\ttotal: 1.09s\tremaining: 1m 7s\n",
      "16:\tlearn: 0.1623658\ttotal: 1.16s\tremaining: 1m 6s\n",
      "17:\tlearn: 0.1549089\ttotal: 1.23s\tremaining: 1m 7s\n",
      "18:\tlearn: 0.1471379\ttotal: 1.31s\tremaining: 1m 7s\n",
      "19:\tlearn: 0.1412507\ttotal: 1.37s\tremaining: 1m 7s\n",
      "20:\tlearn: 0.1359331\ttotal: 1.44s\tremaining: 1m 7s\n",
      "21:\tlearn: 0.1299709\ttotal: 1.53s\tremaining: 1m 8s\n",
      "22:\tlearn: 0.1261113\ttotal: 1.6s\tremaining: 1m 7s\n",
      "23:\tlearn: 0.1229574\ttotal: 1.66s\tremaining: 1m 7s\n",
      "24:\tlearn: 0.1182555\ttotal: 1.74s\tremaining: 1m 7s\n",
      "25:\tlearn: 0.1137996\ttotal: 1.81s\tremaining: 1m 7s\n",
      "26:\tlearn: 0.1103491\ttotal: 1.88s\tremaining: 1m 7s\n",
      "27:\tlearn: 0.1064114\ttotal: 1.95s\tremaining: 1m 7s\n",
      "28:\tlearn: 0.1032019\ttotal: 2.02s\tremaining: 1m 7s\n",
      "29:\tlearn: 0.1010641\ttotal: 2.09s\tremaining: 1m 7s\n",
      "30:\tlearn: 0.0987700\ttotal: 2.18s\tremaining: 1m 8s\n",
      "31:\tlearn: 0.0962458\ttotal: 2.25s\tremaining: 1m 8s\n",
      "32:\tlearn: 0.0942821\ttotal: 2.32s\tremaining: 1m 8s\n",
      "33:\tlearn: 0.0923359\ttotal: 2.41s\tremaining: 1m 8s\n",
      "34:\tlearn: 0.0902180\ttotal: 2.47s\tremaining: 1m 8s\n",
      "35:\tlearn: 0.0878036\ttotal: 2.55s\tremaining: 1m 8s\n",
      "36:\tlearn: 0.0856596\ttotal: 2.62s\tremaining: 1m 8s\n",
      "37:\tlearn: 0.0839524\ttotal: 2.69s\tremaining: 1m 7s\n",
      "38:\tlearn: 0.0819395\ttotal: 2.75s\tremaining: 1m 7s\n",
      "39:\tlearn: 0.0804957\ttotal: 2.85s\tremaining: 1m 8s\n",
      "40:\tlearn: 0.0787739\ttotal: 2.92s\tremaining: 1m 8s\n",
      "41:\tlearn: 0.0771963\ttotal: 2.99s\tremaining: 1m 8s\n",
      "42:\tlearn: 0.0757253\ttotal: 3.07s\tremaining: 1m 8s\n",
      "43:\tlearn: 0.0740780\ttotal: 3.13s\tremaining: 1m 8s\n",
      "44:\tlearn: 0.0730813\ttotal: 3.2s\tremaining: 1m 7s\n",
      "45:\tlearn: 0.0718498\ttotal: 3.27s\tremaining: 1m 7s\n",
      "46:\tlearn: 0.0709250\ttotal: 3.33s\tremaining: 1m 7s\n",
      "47:\tlearn: 0.0697897\ttotal: 3.41s\tremaining: 1m 7s\n",
      "48:\tlearn: 0.0687786\ttotal: 3.48s\tremaining: 1m 7s\n",
      "49:\tlearn: 0.0680433\ttotal: 3.55s\tremaining: 1m 7s\n",
      "50:\tlearn: 0.0670855\ttotal: 3.62s\tremaining: 1m 7s\n",
      "51:\tlearn: 0.0663893\ttotal: 3.69s\tremaining: 1m 7s\n",
      "52:\tlearn: 0.0656118\ttotal: 3.75s\tremaining: 1m 7s\n",
      "53:\tlearn: 0.0647136\ttotal: 3.81s\tremaining: 1m 6s\n",
      "54:\tlearn: 0.0635547\ttotal: 3.9s\tremaining: 1m 6s\n",
      "55:\tlearn: 0.0626792\ttotal: 3.96s\tremaining: 1m 6s\n",
      "56:\tlearn: 0.0617077\ttotal: 4.04s\tremaining: 1m 6s\n",
      "57:\tlearn: 0.0611579\ttotal: 4.1s\tremaining: 1m 6s\n",
      "58:\tlearn: 0.0605668\ttotal: 4.17s\tremaining: 1m 6s\n",
      "59:\tlearn: 0.0599623\ttotal: 4.24s\tremaining: 1m 6s\n",
      "60:\tlearn: 0.0590642\ttotal: 4.31s\tremaining: 1m 6s\n",
      "61:\tlearn: 0.0581028\ttotal: 4.37s\tremaining: 1m 6s\n",
      "62:\tlearn: 0.0572762\ttotal: 4.45s\tremaining: 1m 6s\n",
      "63:\tlearn: 0.0562608\ttotal: 4.53s\tremaining: 1m 6s\n",
      "64:\tlearn: 0.0557266\ttotal: 4.59s\tremaining: 1m 6s\n",
      "65:\tlearn: 0.0552100\ttotal: 4.66s\tremaining: 1m 5s\n",
      "66:\tlearn: 0.0545150\ttotal: 4.76s\tremaining: 1m 6s\n",
      "67:\tlearn: 0.0536534\ttotal: 4.84s\tremaining: 1m 6s\n",
      "68:\tlearn: 0.0531629\ttotal: 4.95s\tremaining: 1m 6s\n",
      "69:\tlearn: 0.0525821\ttotal: 5.05s\tremaining: 1m 7s\n",
      "70:\tlearn: 0.0519897\ttotal: 5.14s\tremaining: 1m 7s\n",
      "71:\tlearn: 0.0512661\ttotal: 5.23s\tremaining: 1m 7s\n",
      "72:\tlearn: 0.0504837\ttotal: 5.33s\tremaining: 1m 7s\n",
      "73:\tlearn: 0.0499885\ttotal: 5.41s\tremaining: 1m 7s\n",
      "74:\tlearn: 0.0496211\ttotal: 5.51s\tremaining: 1m 8s\n",
      "75:\tlearn: 0.0492133\ttotal: 5.62s\tremaining: 1m 8s\n",
      "76:\tlearn: 0.0486818\ttotal: 5.71s\tremaining: 1m 8s\n",
      "77:\tlearn: 0.0481231\ttotal: 5.8s\tremaining: 1m 8s\n",
      "78:\tlearn: 0.0477708\ttotal: 5.9s\tremaining: 1m 8s\n",
      "79:\tlearn: 0.0474148\ttotal: 5.96s\tremaining: 1m 8s\n",
      "80:\tlearn: 0.0471145\ttotal: 6.05s\tremaining: 1m 8s\n",
      "81:\tlearn: 0.0468066\ttotal: 6.13s\tremaining: 1m 8s\n",
      "82:\tlearn: 0.0462551\ttotal: 6.22s\tremaining: 1m 8s\n",
      "83:\tlearn: 0.0459723\ttotal: 6.31s\tremaining: 1m 8s\n",
      "84:\tlearn: 0.0456072\ttotal: 6.39s\tremaining: 1m 8s\n",
      "85:\tlearn: 0.0451795\ttotal: 6.49s\tremaining: 1m 8s\n",
      "86:\tlearn: 0.0444985\ttotal: 6.59s\tremaining: 1m 9s\n",
      "87:\tlearn: 0.0440837\ttotal: 6.68s\tremaining: 1m 9s\n",
      "88:\tlearn: 0.0437673\ttotal: 6.77s\tremaining: 1m 9s\n",
      "89:\tlearn: 0.0433075\ttotal: 6.86s\tremaining: 1m 9s\n",
      "90:\tlearn: 0.0428097\ttotal: 6.93s\tremaining: 1m 9s\n",
      "91:\tlearn: 0.0424937\ttotal: 7s\tremaining: 1m 9s\n",
      "92:\tlearn: 0.0419039\ttotal: 7.1s\tremaining: 1m 9s\n",
      "93:\tlearn: 0.0415771\ttotal: 7.2s\tremaining: 1m 9s\n",
      "94:\tlearn: 0.0412865\ttotal: 7.27s\tremaining: 1m 9s\n",
      "95:\tlearn: 0.0409075\ttotal: 7.36s\tremaining: 1m 9s\n",
      "96:\tlearn: 0.0407092\ttotal: 7.45s\tremaining: 1m 9s\n",
      "97:\tlearn: 0.0404674\ttotal: 7.53s\tremaining: 1m 9s\n",
      "98:\tlearn: 0.0402325\ttotal: 7.62s\tremaining: 1m 9s\n",
      "99:\tlearn: 0.0399809\ttotal: 7.73s\tremaining: 1m 9s\n",
      "100:\tlearn: 0.0397936\ttotal: 7.81s\tremaining: 1m 9s\n",
      "101:\tlearn: 0.0396337\ttotal: 7.91s\tremaining: 1m 9s\n",
      "102:\tlearn: 0.0393260\ttotal: 7.97s\tremaining: 1m 9s\n",
      "103:\tlearn: 0.0390482\ttotal: 8.06s\tremaining: 1m 9s\n",
      "104:\tlearn: 0.0387860\ttotal: 8.16s\tremaining: 1m 9s\n",
      "105:\tlearn: 0.0385383\ttotal: 8.24s\tremaining: 1m 9s\n",
      "106:\tlearn: 0.0382935\ttotal: 8.33s\tremaining: 1m 9s\n",
      "107:\tlearn: 0.0380692\ttotal: 8.41s\tremaining: 1m 9s\n",
      "108:\tlearn: 0.0378582\ttotal: 8.49s\tremaining: 1m 9s\n",
      "109:\tlearn: 0.0376393\ttotal: 8.58s\tremaining: 1m 9s\n",
      "110:\tlearn: 0.0373414\ttotal: 8.67s\tremaining: 1m 9s\n",
      "111:\tlearn: 0.0370857\ttotal: 8.76s\tremaining: 1m 9s\n",
      "112:\tlearn: 0.0368190\ttotal: 8.84s\tremaining: 1m 9s\n",
      "113:\tlearn: 0.0368044\ttotal: 8.91s\tremaining: 1m 9s\n",
      "114:\tlearn: 0.0365703\ttotal: 8.98s\tremaining: 1m 9s\n",
      "115:\tlearn: 0.0363660\ttotal: 9.06s\tremaining: 1m 9s\n",
      "116:\tlearn: 0.0361488\ttotal: 9.15s\tremaining: 1m 9s\n",
      "117:\tlearn: 0.0360081\ttotal: 9.24s\tremaining: 1m 9s\n",
      "118:\tlearn: 0.0357311\ttotal: 9.32s\tremaining: 1m 9s\n",
      "119:\tlearn: 0.0354133\ttotal: 9.41s\tremaining: 1m 9s\n",
      "120:\tlearn: 0.0352740\ttotal: 9.49s\tremaining: 1m 8s\n",
      "121:\tlearn: 0.0352624\ttotal: 9.56s\tremaining: 1m 8s\n",
      "122:\tlearn: 0.0350523\ttotal: 9.66s\tremaining: 1m 8s\n",
      "123:\tlearn: 0.0348518\ttotal: 9.75s\tremaining: 1m 8s\n",
      "124:\tlearn: 0.0345912\ttotal: 9.83s\tremaining: 1m 8s\n",
      "125:\tlearn: 0.0344230\ttotal: 9.91s\tremaining: 1m 8s\n"
     ]
    },
    {
     "name": "stdout",
     "output_type": "stream",
     "text": [
      "126:\tlearn: 0.0342502\ttotal: 9.98s\tremaining: 1m 8s\n",
      "127:\tlearn: 0.0340065\ttotal: 10.1s\tremaining: 1m 8s\n",
      "128:\tlearn: 0.0339517\ttotal: 10.1s\tremaining: 1m 8s\n",
      "129:\tlearn: 0.0336962\ttotal: 10.2s\tremaining: 1m 8s\n",
      "130:\tlearn: 0.0335674\ttotal: 10.3s\tremaining: 1m 8s\n",
      "131:\tlearn: 0.0335375\ttotal: 10.4s\tremaining: 1m 8s\n",
      "132:\tlearn: 0.0335232\ttotal: 10.5s\tremaining: 1m 8s\n",
      "133:\tlearn: 0.0334327\ttotal: 10.6s\tremaining: 1m 8s\n",
      "134:\tlearn: 0.0334137\ttotal: 10.6s\tremaining: 1m 8s\n",
      "135:\tlearn: 0.0332777\ttotal: 10.7s\tremaining: 1m 8s\n",
      "136:\tlearn: 0.0331135\ttotal: 10.8s\tremaining: 1m 7s\n",
      "137:\tlearn: 0.0327863\ttotal: 10.9s\tremaining: 1m 7s\n",
      "138:\tlearn: 0.0327726\ttotal: 10.9s\tremaining: 1m 7s\n",
      "139:\tlearn: 0.0325696\ttotal: 11s\tremaining: 1m 7s\n",
      "140:\tlearn: 0.0324429\ttotal: 11.1s\tremaining: 1m 7s\n",
      "141:\tlearn: 0.0322752\ttotal: 11.2s\tremaining: 1m 7s\n",
      "142:\tlearn: 0.0319854\ttotal: 11.3s\tremaining: 1m 7s\n",
      "143:\tlearn: 0.0318593\ttotal: 11.4s\tremaining: 1m 7s\n",
      "144:\tlearn: 0.0317398\ttotal: 11.4s\tremaining: 1m 7s\n",
      "145:\tlearn: 0.0317294\ttotal: 11.5s\tremaining: 1m 7s\n",
      "146:\tlearn: 0.0316401\ttotal: 11.6s\tremaining: 1m 7s\n",
      "147:\tlearn: 0.0315277\ttotal: 11.7s\tremaining: 1m 7s\n",
      "148:\tlearn: 0.0314742\ttotal: 11.8s\tremaining: 1m 7s\n",
      "149:\tlearn: 0.0311275\ttotal: 11.8s\tremaining: 1m 7s\n",
      "150:\tlearn: 0.0310939\ttotal: 11.9s\tremaining: 1m 6s\n",
      "151:\tlearn: 0.0309567\ttotal: 12s\tremaining: 1m 6s\n",
      "152:\tlearn: 0.0309405\ttotal: 12s\tremaining: 1m 6s\n",
      "153:\tlearn: 0.0309338\ttotal: 12.1s\tremaining: 1m 6s\n",
      "154:\tlearn: 0.0307806\ttotal: 12.2s\tremaining: 1m 6s\n",
      "155:\tlearn: 0.0306023\ttotal: 12.3s\tremaining: 1m 6s\n",
      "156:\tlearn: 0.0304173\ttotal: 12.4s\tremaining: 1m 6s\n",
      "157:\tlearn: 0.0303824\ttotal: 12.4s\tremaining: 1m 6s\n",
      "158:\tlearn: 0.0303577\ttotal: 12.5s\tremaining: 1m 6s\n",
      "159:\tlearn: 0.0301364\ttotal: 12.6s\tremaining: 1m 6s\n",
      "160:\tlearn: 0.0298378\ttotal: 12.7s\tremaining: 1m 6s\n",
      "161:\tlearn: 0.0298301\ttotal: 12.8s\tremaining: 1m 6s\n",
      "162:\tlearn: 0.0296065\ttotal: 12.8s\tremaining: 1m 5s\n",
      "163:\tlearn: 0.0295890\ttotal: 12.9s\tremaining: 1m 5s\n",
      "164:\tlearn: 0.0294859\ttotal: 13s\tremaining: 1m 5s\n",
      "165:\tlearn: 0.0294799\ttotal: 13.1s\tremaining: 1m 5s\n",
      "166:\tlearn: 0.0293521\ttotal: 13.1s\tremaining: 1m 5s\n",
      "167:\tlearn: 0.0292034\ttotal: 13.2s\tremaining: 1m 5s\n",
      "168:\tlearn: 0.0291975\ttotal: 13.3s\tremaining: 1m 5s\n",
      "169:\tlearn: 0.0290570\ttotal: 13.4s\tremaining: 1m 5s\n",
      "170:\tlearn: 0.0289290\ttotal: 13.5s\tremaining: 1m 5s\n",
      "171:\tlearn: 0.0289179\ttotal: 13.5s\tremaining: 1m 5s\n",
      "172:\tlearn: 0.0288536\ttotal: 13.6s\tremaining: 1m 5s\n",
      "173:\tlearn: 0.0287166\ttotal: 13.7s\tremaining: 1m 4s\n",
      "174:\tlearn: 0.0286275\ttotal: 13.8s\tremaining: 1m 4s\n",
      "175:\tlearn: 0.0285090\ttotal: 13.9s\tremaining: 1m 4s\n",
      "176:\tlearn: 0.0283539\ttotal: 13.9s\tremaining: 1m 4s\n",
      "177:\tlearn: 0.0281433\ttotal: 14s\tremaining: 1m 4s\n",
      "178:\tlearn: 0.0281254\ttotal: 14.1s\tremaining: 1m 4s\n",
      "179:\tlearn: 0.0280155\ttotal: 14.2s\tremaining: 1m 4s\n",
      "180:\tlearn: 0.0279659\ttotal: 14.2s\tremaining: 1m 4s\n",
      "181:\tlearn: 0.0279597\ttotal: 14.3s\tremaining: 1m 4s\n",
      "182:\tlearn: 0.0278261\ttotal: 14.4s\tremaining: 1m 4s\n",
      "183:\tlearn: 0.0277383\ttotal: 14.5s\tremaining: 1m 4s\n",
      "184:\tlearn: 0.0277226\ttotal: 14.5s\tremaining: 1m 4s\n",
      "185:\tlearn: 0.0276496\ttotal: 14.6s\tremaining: 1m 4s\n",
      "186:\tlearn: 0.0276402\ttotal: 14.7s\tremaining: 1m 3s\n",
      "187:\tlearn: 0.0276333\ttotal: 14.8s\tremaining: 1m 3s\n",
      "188:\tlearn: 0.0275891\ttotal: 14.9s\tremaining: 1m 3s\n",
      "189:\tlearn: 0.0275792\ttotal: 14.9s\tremaining: 1m 3s\n",
      "190:\tlearn: 0.0274575\ttotal: 15s\tremaining: 1m 3s\n",
      "191:\tlearn: 0.0273075\ttotal: 15.1s\tremaining: 1m 3s\n",
      "192:\tlearn: 0.0272451\ttotal: 15.2s\tremaining: 1m 3s\n",
      "193:\tlearn: 0.0271582\ttotal: 15.2s\tremaining: 1m 3s\n",
      "194:\tlearn: 0.0270624\ttotal: 15.3s\tremaining: 1m 3s\n",
      "195:\tlearn: 0.0268667\ttotal: 15.4s\tremaining: 1m 3s\n",
      "196:\tlearn: 0.0267540\ttotal: 15.5s\tremaining: 1m 3s\n",
      "197:\tlearn: 0.0267133\ttotal: 15.6s\tremaining: 1m 3s\n",
      "198:\tlearn: 0.0265953\ttotal: 15.6s\tremaining: 1m 2s\n",
      "199:\tlearn: 0.0265139\ttotal: 15.7s\tremaining: 1m 2s\n",
      "200:\tlearn: 0.0265046\ttotal: 15.8s\tremaining: 1m 2s\n",
      "201:\tlearn: 0.0264998\ttotal: 15.9s\tremaining: 1m 2s\n",
      "202:\tlearn: 0.0264925\ttotal: 15.9s\tremaining: 1m 2s\n",
      "203:\tlearn: 0.0264827\ttotal: 16s\tremaining: 1m 2s\n",
      "204:\tlearn: 0.0262711\ttotal: 16.1s\tremaining: 1m 2s\n",
      "205:\tlearn: 0.0262398\ttotal: 16.2s\tremaining: 1m 2s\n",
      "206:\tlearn: 0.0262362\ttotal: 16.2s\tremaining: 1m 2s\n",
      "207:\tlearn: 0.0261483\ttotal: 16.3s\tremaining: 1m 2s\n",
      "208:\tlearn: 0.0260859\ttotal: 16.4s\tremaining: 1m 2s\n",
      "209:\tlearn: 0.0260810\ttotal: 16.5s\tremaining: 1m 1s\n",
      "210:\tlearn: 0.0259123\ttotal: 16.5s\tremaining: 1m 1s\n",
      "211:\tlearn: 0.0257775\ttotal: 16.6s\tremaining: 1m 1s\n",
      "212:\tlearn: 0.0256178\ttotal: 16.7s\tremaining: 1m 1s\n",
      "213:\tlearn: 0.0255500\ttotal: 16.8s\tremaining: 1m 1s\n",
      "214:\tlearn: 0.0255427\ttotal: 16.9s\tremaining: 1m 1s\n",
      "215:\tlearn: 0.0253876\ttotal: 16.9s\tremaining: 1m 1s\n",
      "216:\tlearn: 0.0253342\ttotal: 17s\tremaining: 1m 1s\n",
      "217:\tlearn: 0.0252128\ttotal: 17.1s\tremaining: 1m 1s\n",
      "218:\tlearn: 0.0252087\ttotal: 17.2s\tremaining: 1m 1s\n",
      "219:\tlearn: 0.0251784\ttotal: 17.3s\tremaining: 1m 1s\n",
      "220:\tlearn: 0.0251600\ttotal: 17.4s\tremaining: 1m 1s\n",
      "221:\tlearn: 0.0251565\ttotal: 17.5s\tremaining: 1m 1s\n",
      "222:\tlearn: 0.0251498\ttotal: 17.5s\tremaining: 1m 1s\n",
      "223:\tlearn: 0.0251429\ttotal: 17.6s\tremaining: 1m 1s\n",
      "224:\tlearn: 0.0251035\ttotal: 17.7s\tremaining: 1m\n",
      "225:\tlearn: 0.0250977\ttotal: 17.8s\tremaining: 1m\n",
      "226:\tlearn: 0.0250943\ttotal: 17.8s\tremaining: 1m\n",
      "227:\tlearn: 0.0249781\ttotal: 17.9s\tremaining: 1m\n",
      "228:\tlearn: 0.0248470\ttotal: 18s\tremaining: 1m\n",
      "229:\tlearn: 0.0247432\ttotal: 18.1s\tremaining: 1m\n",
      "230:\tlearn: 0.0247303\ttotal: 18.2s\tremaining: 1m\n",
      "231:\tlearn: 0.0246463\ttotal: 18.3s\tremaining: 1m\n",
      "232:\tlearn: 0.0246422\ttotal: 18.3s\tremaining: 1m\n",
      "233:\tlearn: 0.0246369\ttotal: 18.4s\tremaining: 1m\n",
      "234:\tlearn: 0.0246003\ttotal: 18.5s\tremaining: 1m\n",
      "235:\tlearn: 0.0245982\ttotal: 18.6s\tremaining: 1m\n",
      "236:\tlearn: 0.0244368\ttotal: 18.6s\tremaining: 1m\n",
      "237:\tlearn: 0.0243841\ttotal: 18.7s\tremaining: 60s\n",
      "238:\tlearn: 0.0243569\ttotal: 18.8s\tremaining: 59.9s\n",
      "239:\tlearn: 0.0243437\ttotal: 18.9s\tremaining: 59.8s\n",
      "240:\tlearn: 0.0242054\ttotal: 18.9s\tremaining: 59.7s\n",
      "241:\tlearn: 0.0240572\ttotal: 19s\tremaining: 59.6s\n",
      "242:\tlearn: 0.0239620\ttotal: 19.1s\tremaining: 59.5s\n",
      "243:\tlearn: 0.0239539\ttotal: 19.2s\tremaining: 59.5s\n",
      "244:\tlearn: 0.0239395\ttotal: 19.3s\tremaining: 59.4s\n",
      "245:\tlearn: 0.0237834\ttotal: 19.4s\tremaining: 59.3s\n",
      "246:\tlearn: 0.0237166\ttotal: 19.4s\tremaining: 59.2s\n",
      "247:\tlearn: 0.0237102\ttotal: 19.5s\tremaining: 59.1s\n",
      "248:\tlearn: 0.0237057\ttotal: 19.6s\tremaining: 59s\n",
      "249:\tlearn: 0.0236278\ttotal: 19.6s\tremaining: 58.9s\n",
      "250:\tlearn: 0.0236083\ttotal: 19.7s\tremaining: 58.8s\n",
      "251:\tlearn: 0.0234601\ttotal: 19.8s\tremaining: 58.8s\n",
      "252:\tlearn: 0.0234588\ttotal: 19.9s\tremaining: 58.6s\n",
      "253:\tlearn: 0.0233917\ttotal: 19.9s\tremaining: 58.5s\n",
      "254:\tlearn: 0.0233394\ttotal: 20s\tremaining: 58.4s\n",
      "255:\tlearn: 0.0233337\ttotal: 20.1s\tremaining: 58.3s\n",
      "256:\tlearn: 0.0233299\ttotal: 20.1s\tremaining: 58.2s\n",
      "257:\tlearn: 0.0232505\ttotal: 20.2s\tremaining: 58.2s\n",
      "258:\tlearn: 0.0231775\ttotal: 20.3s\tremaining: 58.1s\n",
      "259:\tlearn: 0.0231567\ttotal: 20.4s\tremaining: 58s\n",
      "260:\tlearn: 0.0230691\ttotal: 20.5s\tremaining: 57.9s\n",
      "261:\tlearn: 0.0229358\ttotal: 20.5s\tremaining: 57.9s\n",
      "262:\tlearn: 0.0228699\ttotal: 20.6s\tremaining: 57.8s\n",
      "263:\tlearn: 0.0228652\ttotal: 20.7s\tremaining: 57.7s\n",
      "264:\tlearn: 0.0227982\ttotal: 20.8s\tremaining: 57.6s\n",
      "265:\tlearn: 0.0227466\ttotal: 20.8s\tremaining: 57.5s\n",
      "266:\tlearn: 0.0227388\ttotal: 20.9s\tremaining: 57.4s\n",
      "267:\tlearn: 0.0226803\ttotal: 21s\tremaining: 57.3s\n",
      "268:\tlearn: 0.0226437\ttotal: 21s\tremaining: 57.2s\n",
      "269:\tlearn: 0.0225498\ttotal: 21.1s\tremaining: 57.1s\n",
      "270:\tlearn: 0.0225403\ttotal: 21.2s\tremaining: 57s\n",
      "271:\tlearn: 0.0224075\ttotal: 21.3s\tremaining: 57s\n",
      "272:\tlearn: 0.0223521\ttotal: 21.4s\tremaining: 56.9s\n",
      "273:\tlearn: 0.0223236\ttotal: 21.4s\tremaining: 56.8s\n",
      "274:\tlearn: 0.0222147\ttotal: 21.5s\tremaining: 56.7s\n",
      "275:\tlearn: 0.0221276\ttotal: 21.6s\tremaining: 56.6s\n",
      "276:\tlearn: 0.0221246\ttotal: 21.7s\tremaining: 56.5s\n",
      "277:\tlearn: 0.0219679\ttotal: 21.7s\tremaining: 56.5s\n",
      "278:\tlearn: 0.0219552\ttotal: 21.8s\tremaining: 56.4s\n",
      "279:\tlearn: 0.0218264\ttotal: 21.9s\tremaining: 56.3s\n",
      "280:\tlearn: 0.0217814\ttotal: 21.9s\tremaining: 56.1s\n",
      "281:\tlearn: 0.0217789\ttotal: 22s\tremaining: 56s\n",
      "282:\tlearn: 0.0217759\ttotal: 22.1s\tremaining: 55.9s\n",
      "283:\tlearn: 0.0216352\ttotal: 22.1s\tremaining: 55.8s\n",
      "284:\tlearn: 0.0216323\ttotal: 22.2s\tremaining: 55.7s\n",
      "285:\tlearn: 0.0214994\ttotal: 22.3s\tremaining: 55.6s\n"
     ]
    },
    {
     "name": "stdout",
     "output_type": "stream",
     "text": [
      "286:\tlearn: 0.0214926\ttotal: 22.4s\tremaining: 55.6s\n",
      "287:\tlearn: 0.0214904\ttotal: 22.4s\tremaining: 55.5s\n",
      "288:\tlearn: 0.0214400\ttotal: 22.5s\tremaining: 55.4s\n",
      "289:\tlearn: 0.0214261\ttotal: 22.6s\tremaining: 55.3s\n",
      "290:\tlearn: 0.0212364\ttotal: 22.7s\tremaining: 55.2s\n",
      "291:\tlearn: 0.0211949\ttotal: 22.7s\tremaining: 55.1s\n",
      "292:\tlearn: 0.0210130\ttotal: 22.8s\tremaining: 55.1s\n",
      "293:\tlearn: 0.0210018\ttotal: 22.9s\tremaining: 55s\n",
      "294:\tlearn: 0.0209982\ttotal: 22.9s\tremaining: 54.8s\n",
      "295:\tlearn: 0.0209960\ttotal: 23s\tremaining: 54.7s\n",
      "296:\tlearn: 0.0209889\ttotal: 23.1s\tremaining: 54.6s\n",
      "297:\tlearn: 0.0208709\ttotal: 23.1s\tremaining: 54.5s\n",
      "298:\tlearn: 0.0208662\ttotal: 23.2s\tremaining: 54.4s\n",
      "299:\tlearn: 0.0207256\ttotal: 23.3s\tremaining: 54.3s\n",
      "300:\tlearn: 0.0205896\ttotal: 23.4s\tremaining: 54.3s\n",
      "301:\tlearn: 0.0205433\ttotal: 23.4s\tremaining: 54.2s\n",
      "302:\tlearn: 0.0205343\ttotal: 23.5s\tremaining: 54.1s\n",
      "303:\tlearn: 0.0205326\ttotal: 23.6s\tremaining: 54s\n",
      "304:\tlearn: 0.0205251\ttotal: 23.7s\tremaining: 53.9s\n",
      "305:\tlearn: 0.0204612\ttotal: 23.7s\tremaining: 53.8s\n",
      "306:\tlearn: 0.0203172\ttotal: 23.8s\tremaining: 53.7s\n",
      "307:\tlearn: 0.0203033\ttotal: 23.9s\tremaining: 53.6s\n",
      "308:\tlearn: 0.0202689\ttotal: 23.9s\tremaining: 53.5s\n",
      "309:\tlearn: 0.0201865\ttotal: 24s\tremaining: 53.4s\n",
      "310:\tlearn: 0.0201733\ttotal: 24.1s\tremaining: 53.3s\n",
      "311:\tlearn: 0.0201665\ttotal: 24.1s\tremaining: 53.2s\n",
      "312:\tlearn: 0.0200568\ttotal: 24.2s\tremaining: 53.1s\n",
      "313:\tlearn: 0.0199775\ttotal: 24.3s\tremaining: 53s\n",
      "314:\tlearn: 0.0198944\ttotal: 24.4s\tremaining: 53s\n",
      "315:\tlearn: 0.0198182\ttotal: 24.5s\tremaining: 52.9s\n",
      "316:\tlearn: 0.0197943\ttotal: 24.5s\tremaining: 52.9s\n",
      "317:\tlearn: 0.0197916\ttotal: 24.6s\tremaining: 52.8s\n",
      "318:\tlearn: 0.0197096\ttotal: 24.7s\tremaining: 52.8s\n",
      "319:\tlearn: 0.0197011\ttotal: 24.8s\tremaining: 52.7s\n",
      "320:\tlearn: 0.0196585\ttotal: 24.9s\tremaining: 52.6s\n",
      "321:\tlearn: 0.0196134\ttotal: 24.9s\tremaining: 52.5s\n",
      "322:\tlearn: 0.0194933\ttotal: 25s\tremaining: 52.4s\n",
      "323:\tlearn: 0.0194630\ttotal: 25s\tremaining: 52.2s\n",
      "324:\tlearn: 0.0194603\ttotal: 25.1s\tremaining: 52.1s\n",
      "325:\tlearn: 0.0194327\ttotal: 25.2s\tremaining: 52s\n",
      "326:\tlearn: 0.0194318\ttotal: 25.2s\tremaining: 51.9s\n",
      "327:\tlearn: 0.0194310\ttotal: 25.3s\tremaining: 51.8s\n",
      "328:\tlearn: 0.0192905\ttotal: 25.4s\tremaining: 51.7s\n",
      "329:\tlearn: 0.0192594\ttotal: 25.4s\tremaining: 51.6s\n",
      "330:\tlearn: 0.0191610\ttotal: 25.5s\tremaining: 51.5s\n",
      "331:\tlearn: 0.0191510\ttotal: 25.6s\tremaining: 51.4s\n",
      "332:\tlearn: 0.0190586\ttotal: 25.6s\tremaining: 51.3s\n",
      "333:\tlearn: 0.0190508\ttotal: 25.7s\tremaining: 51.2s\n",
      "334:\tlearn: 0.0190301\ttotal: 25.8s\tremaining: 51.1s\n",
      "335:\tlearn: 0.0190132\ttotal: 25.8s\tremaining: 51.1s\n",
      "336:\tlearn: 0.0189299\ttotal: 25.9s\tremaining: 51s\n",
      "337:\tlearn: 0.0189043\ttotal: 26s\tremaining: 51s\n",
      "338:\tlearn: 0.0188047\ttotal: 26.1s\tremaining: 50.9s\n",
      "339:\tlearn: 0.0187391\ttotal: 26.2s\tremaining: 50.8s\n",
      "340:\tlearn: 0.0186366\ttotal: 26.3s\tremaining: 50.8s\n",
      "341:\tlearn: 0.0185715\ttotal: 26.3s\tremaining: 50.7s\n",
      "342:\tlearn: 0.0185698\ttotal: 26.4s\tremaining: 50.6s\n",
      "343:\tlearn: 0.0185171\ttotal: 26.5s\tremaining: 50.5s\n",
      "344:\tlearn: 0.0184155\ttotal: 26.6s\tremaining: 50.4s\n",
      "345:\tlearn: 0.0184140\ttotal: 26.6s\tremaining: 50.3s\n",
      "346:\tlearn: 0.0183235\ttotal: 26.7s\tremaining: 50.2s\n",
      "347:\tlearn: 0.0182628\ttotal: 26.8s\tremaining: 50.2s\n",
      "348:\tlearn: 0.0182602\ttotal: 26.8s\tremaining: 50.1s\n",
      "349:\tlearn: 0.0182595\ttotal: 26.9s\tremaining: 50s\n",
      "350:\tlearn: 0.0181663\ttotal: 27s\tremaining: 49.9s\n",
      "351:\tlearn: 0.0181420\ttotal: 27s\tremaining: 49.8s\n",
      "352:\tlearn: 0.0181014\ttotal: 27.1s\tremaining: 49.7s\n",
      "353:\tlearn: 0.0180744\ttotal: 27.2s\tremaining: 49.6s\n",
      "354:\tlearn: 0.0180205\ttotal: 27.3s\tremaining: 49.6s\n",
      "355:\tlearn: 0.0179298\ttotal: 27.4s\tremaining: 49.5s\n",
      "356:\tlearn: 0.0179282\ttotal: 27.4s\tremaining: 49.4s\n",
      "357:\tlearn: 0.0178952\ttotal: 27.5s\tremaining: 49.3s\n",
      "358:\tlearn: 0.0178816\ttotal: 27.6s\tremaining: 49.2s\n",
      "359:\tlearn: 0.0178346\ttotal: 27.6s\tremaining: 49.2s\n",
      "360:\tlearn: 0.0177452\ttotal: 27.7s\tremaining: 49.1s\n",
      "361:\tlearn: 0.0176862\ttotal: 27.8s\tremaining: 49s\n",
      "362:\tlearn: 0.0176488\ttotal: 27.9s\tremaining: 48.9s\n",
      "363:\tlearn: 0.0176435\ttotal: 27.9s\tremaining: 48.8s\n",
      "364:\tlearn: 0.0176429\ttotal: 28s\tremaining: 48.7s\n",
      "365:\tlearn: 0.0176335\ttotal: 28.1s\tremaining: 48.6s\n",
      "366:\tlearn: 0.0175968\ttotal: 28.2s\tremaining: 48.6s\n",
      "367:\tlearn: 0.0175291\ttotal: 28.2s\tremaining: 48.5s\n",
      "368:\tlearn: 0.0173659\ttotal: 28.3s\tremaining: 48.5s\n",
      "369:\tlearn: 0.0172783\ttotal: 28.4s\tremaining: 48.4s\n",
      "370:\tlearn: 0.0172535\ttotal: 28.5s\tremaining: 48.3s\n",
      "371:\tlearn: 0.0172529\ttotal: 28.5s\tremaining: 48.1s\n",
      "372:\tlearn: 0.0171909\ttotal: 28.6s\tremaining: 48s\n",
      "373:\tlearn: 0.0171306\ttotal: 28.7s\tremaining: 48s\n",
      "374:\tlearn: 0.0170829\ttotal: 28.8s\tremaining: 47.9s\n",
      "375:\tlearn: 0.0170241\ttotal: 28.8s\tremaining: 47.9s\n",
      "376:\tlearn: 0.0170236\ttotal: 28.9s\tremaining: 47.8s\n",
      "377:\tlearn: 0.0169954\ttotal: 29s\tremaining: 47.7s\n",
      "378:\tlearn: 0.0169948\ttotal: 29.1s\tremaining: 47.7s\n",
      "379:\tlearn: 0.0169912\ttotal: 29.2s\tremaining: 47.6s\n",
      "380:\tlearn: 0.0169884\ttotal: 29.3s\tremaining: 47.5s\n",
      "381:\tlearn: 0.0169877\ttotal: 29.3s\tremaining: 47.5s\n",
      "382:\tlearn: 0.0168648\ttotal: 29.4s\tremaining: 47.4s\n",
      "383:\tlearn: 0.0168119\ttotal: 29.5s\tremaining: 47.4s\n",
      "384:\tlearn: 0.0167169\ttotal: 29.6s\tremaining: 47.3s\n",
      "385:\tlearn: 0.0166207\ttotal: 29.7s\tremaining: 47.3s\n",
      "386:\tlearn: 0.0166202\ttotal: 29.8s\tremaining: 47.2s\n",
      "387:\tlearn: 0.0165790\ttotal: 29.9s\tremaining: 47.2s\n",
      "388:\tlearn: 0.0165767\ttotal: 30s\tremaining: 47.1s\n",
      "389:\tlearn: 0.0165341\ttotal: 30.1s\tremaining: 47s\n",
      "390:\tlearn: 0.0164992\ttotal: 30.2s\tremaining: 47s\n",
      "391:\tlearn: 0.0164515\ttotal: 30.3s\tremaining: 46.9s\n",
      "392:\tlearn: 0.0163924\ttotal: 30.4s\tremaining: 46.9s\n",
      "393:\tlearn: 0.0163908\ttotal: 30.4s\tremaining: 46.8s\n",
      "394:\tlearn: 0.0162905\ttotal: 30.5s\tremaining: 46.8s\n",
      "395:\tlearn: 0.0162889\ttotal: 30.6s\tremaining: 46.7s\n",
      "396:\tlearn: 0.0162120\ttotal: 30.7s\tremaining: 46.7s\n",
      "397:\tlearn: 0.0162106\ttotal: 30.8s\tremaining: 46.6s\n",
      "398:\tlearn: 0.0160873\ttotal: 30.9s\tremaining: 46.6s\n",
      "399:\tlearn: 0.0160867\ttotal: 31s\tremaining: 46.5s\n",
      "400:\tlearn: 0.0160862\ttotal: 31.1s\tremaining: 46.4s\n",
      "401:\tlearn: 0.0160268\ttotal: 31.2s\tremaining: 46.4s\n",
      "402:\tlearn: 0.0159788\ttotal: 31.3s\tremaining: 46.3s\n",
      "403:\tlearn: 0.0158943\ttotal: 31.4s\tremaining: 46.2s\n",
      "404:\tlearn: 0.0158939\ttotal: 31.4s\tremaining: 46.2s\n",
      "405:\tlearn: 0.0158374\ttotal: 31.5s\tremaining: 46.1s\n",
      "406:\tlearn: 0.0158199\ttotal: 31.6s\tremaining: 46.1s\n",
      "407:\tlearn: 0.0158195\ttotal: 31.7s\tremaining: 46s\n",
      "408:\tlearn: 0.0158124\ttotal: 31.8s\tremaining: 45.9s\n",
      "409:\tlearn: 0.0157744\ttotal: 31.9s\tremaining: 45.9s\n",
      "410:\tlearn: 0.0157373\ttotal: 32s\tremaining: 45.8s\n",
      "411:\tlearn: 0.0157138\ttotal: 32.1s\tremaining: 45.8s\n",
      "412:\tlearn: 0.0157132\ttotal: 32.1s\tremaining: 45.7s\n",
      "413:\tlearn: 0.0156629\ttotal: 32.2s\tremaining: 45.6s\n",
      "414:\tlearn: 0.0156619\ttotal: 32.3s\tremaining: 45.5s\n",
      "415:\tlearn: 0.0156613\ttotal: 32.3s\tremaining: 45.4s\n",
      "416:\tlearn: 0.0156605\ttotal: 32.4s\tremaining: 45.3s\n",
      "417:\tlearn: 0.0156258\ttotal: 32.4s\tremaining: 45.2s\n",
      "418:\tlearn: 0.0156209\ttotal: 32.5s\tremaining: 45s\n",
      "419:\tlearn: 0.0155414\ttotal: 32.5s\tremaining: 44.9s\n",
      "420:\tlearn: 0.0154860\ttotal: 32.6s\tremaining: 44.9s\n",
      "421:\tlearn: 0.0154046\ttotal: 32.7s\tremaining: 44.8s\n",
      "422:\tlearn: 0.0153383\ttotal: 32.7s\tremaining: 44.7s\n",
      "423:\tlearn: 0.0153380\ttotal: 32.8s\tremaining: 44.6s\n",
      "424:\tlearn: 0.0153304\ttotal: 32.9s\tremaining: 44.5s\n",
      "425:\tlearn: 0.0153267\ttotal: 32.9s\tremaining: 44.4s\n",
      "426:\tlearn: 0.0152624\ttotal: 33s\tremaining: 44.3s\n",
      "427:\tlearn: 0.0152324\ttotal: 33.1s\tremaining: 44.2s\n",
      "428:\tlearn: 0.0152012\ttotal: 33.1s\tremaining: 44.1s\n",
      "429:\tlearn: 0.0151770\ttotal: 33.2s\tremaining: 44s\n",
      "430:\tlearn: 0.0151766\ttotal: 33.3s\tremaining: 43.9s\n",
      "431:\tlearn: 0.0151313\ttotal: 33.4s\tremaining: 43.9s\n",
      "432:\tlearn: 0.0151304\ttotal: 33.5s\tremaining: 43.8s\n",
      "433:\tlearn: 0.0151135\ttotal: 33.6s\tremaining: 43.8s\n",
      "434:\tlearn: 0.0150888\ttotal: 33.7s\tremaining: 43.7s\n",
      "435:\tlearn: 0.0150645\ttotal: 33.8s\tremaining: 43.7s\n",
      "436:\tlearn: 0.0150477\ttotal: 33.8s\tremaining: 43.6s\n",
      "437:\tlearn: 0.0150112\ttotal: 33.9s\tremaining: 43.5s\n",
      "438:\tlearn: 0.0149461\ttotal: 34s\tremaining: 43.5s\n",
      "439:\tlearn: 0.0149452\ttotal: 34.1s\tremaining: 43.4s\n",
      "440:\tlearn: 0.0149089\ttotal: 34.2s\tremaining: 43.3s\n",
      "441:\tlearn: 0.0148745\ttotal: 34.3s\tremaining: 43.3s\n",
      "442:\tlearn: 0.0148377\ttotal: 34.4s\tremaining: 43.2s\n",
      "443:\tlearn: 0.0148181\ttotal: 34.5s\tremaining: 43.2s\n",
      "444:\tlearn: 0.0147780\ttotal: 34.6s\tremaining: 43.1s\n",
      "445:\tlearn: 0.0146722\ttotal: 34.7s\tremaining: 43.1s\n"
     ]
    },
    {
     "name": "stdout",
     "output_type": "stream",
     "text": [
      "446:\tlearn: 0.0146370\ttotal: 34.8s\tremaining: 43s\n",
      "447:\tlearn: 0.0146344\ttotal: 34.8s\tremaining: 42.9s\n",
      "448:\tlearn: 0.0145959\ttotal: 34.9s\tremaining: 42.9s\n",
      "449:\tlearn: 0.0145852\ttotal: 35s\tremaining: 42.8s\n",
      "450:\tlearn: 0.0145389\ttotal: 35.1s\tremaining: 42.8s\n",
      "451:\tlearn: 0.0144882\ttotal: 35.2s\tremaining: 42.7s\n",
      "452:\tlearn: 0.0144342\ttotal: 35.3s\tremaining: 42.6s\n",
      "453:\tlearn: 0.0143676\ttotal: 35.4s\tremaining: 42.6s\n",
      "454:\tlearn: 0.0143424\ttotal: 35.5s\tremaining: 42.5s\n",
      "455:\tlearn: 0.0142755\ttotal: 35.6s\tremaining: 42.5s\n",
      "456:\tlearn: 0.0142751\ttotal: 35.7s\tremaining: 42.4s\n",
      "457:\tlearn: 0.0142451\ttotal: 35.8s\tremaining: 42.3s\n",
      "458:\tlearn: 0.0142199\ttotal: 35.9s\tremaining: 42.3s\n",
      "459:\tlearn: 0.0142101\ttotal: 36s\tremaining: 42.2s\n",
      "460:\tlearn: 0.0141629\ttotal: 36.1s\tremaining: 42.2s\n",
      "461:\tlearn: 0.0140980\ttotal: 36.2s\tremaining: 42.1s\n",
      "462:\tlearn: 0.0140971\ttotal: 36.3s\tremaining: 42.1s\n",
      "463:\tlearn: 0.0140959\ttotal: 36.4s\tremaining: 42s\n",
      "464:\tlearn: 0.0140496\ttotal: 36.5s\tremaining: 41.9s\n",
      "465:\tlearn: 0.0140249\ttotal: 36.6s\tremaining: 41.9s\n",
      "466:\tlearn: 0.0139642\ttotal: 36.7s\tremaining: 41.8s\n",
      "467:\tlearn: 0.0139401\ttotal: 36.8s\tremaining: 41.8s\n",
      "468:\tlearn: 0.0139209\ttotal: 36.8s\tremaining: 41.7s\n",
      "469:\tlearn: 0.0138472\ttotal: 36.9s\tremaining: 41.7s\n",
      "470:\tlearn: 0.0138469\ttotal: 37.1s\tremaining: 41.6s\n",
      "471:\tlearn: 0.0137937\ttotal: 37.2s\tremaining: 41.6s\n",
      "472:\tlearn: 0.0137932\ttotal: 37.3s\tremaining: 41.5s\n",
      "473:\tlearn: 0.0137531\ttotal: 37.4s\tremaining: 41.4s\n",
      "474:\tlearn: 0.0137448\ttotal: 37.4s\tremaining: 41.4s\n",
      "475:\tlearn: 0.0136813\ttotal: 37.5s\tremaining: 41.3s\n",
      "476:\tlearn: 0.0136601\ttotal: 37.6s\tremaining: 41.3s\n",
      "477:\tlearn: 0.0136574\ttotal: 37.7s\tremaining: 41.2s\n",
      "478:\tlearn: 0.0136571\ttotal: 37.8s\tremaining: 41.1s\n",
      "479:\tlearn: 0.0136050\ttotal: 37.9s\tremaining: 41.1s\n",
      "480:\tlearn: 0.0136043\ttotal: 38s\tremaining: 41s\n",
      "481:\tlearn: 0.0135726\ttotal: 38.1s\tremaining: 40.9s\n",
      "482:\tlearn: 0.0135699\ttotal: 38.2s\tremaining: 40.9s\n",
      "483:\tlearn: 0.0135698\ttotal: 38.2s\tremaining: 40.8s\n",
      "484:\tlearn: 0.0135696\ttotal: 38.3s\tremaining: 40.7s\n",
      "485:\tlearn: 0.0135356\ttotal: 38.4s\tremaining: 40.6s\n",
      "486:\tlearn: 0.0135287\ttotal: 38.5s\tremaining: 40.5s\n",
      "487:\tlearn: 0.0134303\ttotal: 38.6s\tremaining: 40.5s\n",
      "488:\tlearn: 0.0134283\ttotal: 38.7s\tremaining: 40.4s\n",
      "489:\tlearn: 0.0133412\ttotal: 38.8s\tremaining: 40.4s\n",
      "490:\tlearn: 0.0133388\ttotal: 38.9s\tremaining: 40.3s\n",
      "491:\tlearn: 0.0133386\ttotal: 38.9s\tremaining: 40.2s\n",
      "492:\tlearn: 0.0133382\ttotal: 39s\tremaining: 40.1s\n",
      "493:\tlearn: 0.0133147\ttotal: 39.1s\tremaining: 40.1s\n",
      "494:\tlearn: 0.0133014\ttotal: 39.2s\tremaining: 40s\n",
      "495:\tlearn: 0.0133003\ttotal: 39.3s\tremaining: 39.9s\n",
      "496:\tlearn: 0.0133002\ttotal: 39.4s\tremaining: 39.8s\n",
      "497:\tlearn: 0.0132992\ttotal: 39.5s\tremaining: 39.8s\n",
      "498:\tlearn: 0.0132989\ttotal: 39.5s\tremaining: 39.7s\n",
      "499:\tlearn: 0.0132441\ttotal: 39.6s\tremaining: 39.6s\n",
      "500:\tlearn: 0.0131972\ttotal: 39.7s\tremaining: 39.6s\n",
      "501:\tlearn: 0.0131715\ttotal: 39.8s\tremaining: 39.5s\n",
      "502:\tlearn: 0.0131417\ttotal: 39.9s\tremaining: 39.5s\n",
      "503:\tlearn: 0.0131097\ttotal: 40s\tremaining: 39.4s\n",
      "504:\tlearn: 0.0131052\ttotal: 40.1s\tremaining: 39.3s\n",
      "505:\tlearn: 0.0130432\ttotal: 40.2s\tremaining: 39.3s\n",
      "506:\tlearn: 0.0130257\ttotal: 40.3s\tremaining: 39.2s\n",
      "507:\tlearn: 0.0129814\ttotal: 40.4s\tremaining: 39.1s\n",
      "508:\tlearn: 0.0129526\ttotal: 40.5s\tremaining: 39s\n",
      "509:\tlearn: 0.0129525\ttotal: 40.6s\tremaining: 39s\n",
      "510:\tlearn: 0.0129288\ttotal: 40.7s\tremaining: 38.9s\n",
      "511:\tlearn: 0.0128953\ttotal: 40.7s\tremaining: 38.8s\n",
      "512:\tlearn: 0.0128279\ttotal: 40.8s\tremaining: 38.8s\n",
      "513:\tlearn: 0.0128165\ttotal: 40.9s\tremaining: 38.7s\n",
      "514:\tlearn: 0.0128058\ttotal: 41s\tremaining: 38.6s\n",
      "515:\tlearn: 0.0127839\ttotal: 41.1s\tremaining: 38.6s\n",
      "516:\tlearn: 0.0127827\ttotal: 41.2s\tremaining: 38.5s\n",
      "517:\tlearn: 0.0126634\ttotal: 41.3s\tremaining: 38.4s\n",
      "518:\tlearn: 0.0126600\ttotal: 41.4s\tremaining: 38.3s\n",
      "519:\tlearn: 0.0126185\ttotal: 41.5s\tremaining: 38.3s\n",
      "520:\tlearn: 0.0126183\ttotal: 41.5s\tremaining: 38.2s\n",
      "521:\tlearn: 0.0126154\ttotal: 41.6s\tremaining: 38.1s\n",
      "522:\tlearn: 0.0126096\ttotal: 41.7s\tremaining: 38s\n",
      "523:\tlearn: 0.0125951\ttotal: 41.8s\tremaining: 38s\n",
      "524:\tlearn: 0.0125725\ttotal: 41.9s\tremaining: 37.9s\n",
      "525:\tlearn: 0.0125719\ttotal: 42s\tremaining: 37.8s\n",
      "526:\tlearn: 0.0125673\ttotal: 42.1s\tremaining: 37.7s\n",
      "527:\tlearn: 0.0125247\ttotal: 42.1s\tremaining: 37.7s\n",
      "528:\tlearn: 0.0124734\ttotal: 42.2s\tremaining: 37.6s\n",
      "529:\tlearn: 0.0124552\ttotal: 42.3s\tremaining: 37.5s\n",
      "530:\tlearn: 0.0123682\ttotal: 42.4s\tremaining: 37.5s\n",
      "531:\tlearn: 0.0123646\ttotal: 42.5s\tremaining: 37.4s\n",
      "532:\tlearn: 0.0123363\ttotal: 42.6s\tremaining: 37.3s\n",
      "533:\tlearn: 0.0122908\ttotal: 42.7s\tremaining: 37.2s\n",
      "534:\tlearn: 0.0122507\ttotal: 42.8s\tremaining: 37.2s\n",
      "535:\tlearn: 0.0122452\ttotal: 42.9s\tremaining: 37.1s\n",
      "536:\tlearn: 0.0121998\ttotal: 43s\tremaining: 37s\n",
      "537:\tlearn: 0.0121167\ttotal: 43.1s\tremaining: 37s\n",
      "538:\tlearn: 0.0120804\ttotal: 43.2s\tremaining: 36.9s\n",
      "539:\tlearn: 0.0120370\ttotal: 43.3s\tremaining: 36.9s\n",
      "540:\tlearn: 0.0120131\ttotal: 43.3s\tremaining: 36.8s\n",
      "541:\tlearn: 0.0119862\ttotal: 43.4s\tremaining: 36.7s\n",
      "542:\tlearn: 0.0119681\ttotal: 43.5s\tremaining: 36.6s\n",
      "543:\tlearn: 0.0119561\ttotal: 43.6s\tremaining: 36.6s\n",
      "544:\tlearn: 0.0119360\ttotal: 43.7s\tremaining: 36.5s\n",
      "545:\tlearn: 0.0119338\ttotal: 43.8s\tremaining: 36.4s\n",
      "546:\tlearn: 0.0119314\ttotal: 43.9s\tremaining: 36.3s\n",
      "547:\tlearn: 0.0119218\ttotal: 44s\tremaining: 36.3s\n",
      "548:\tlearn: 0.0118713\ttotal: 44.1s\tremaining: 36.2s\n",
      "549:\tlearn: 0.0118392\ttotal: 44.2s\tremaining: 36.1s\n",
      "550:\tlearn: 0.0118212\ttotal: 44.3s\tremaining: 36.1s\n",
      "551:\tlearn: 0.0117808\ttotal: 44.4s\tremaining: 36s\n",
      "552:\tlearn: 0.0117448\ttotal: 44.4s\tremaining: 35.9s\n",
      "553:\tlearn: 0.0117427\ttotal: 44.5s\tremaining: 35.9s\n",
      "554:\tlearn: 0.0116903\ttotal: 44.6s\tremaining: 35.8s\n",
      "555:\tlearn: 0.0116689\ttotal: 44.7s\tremaining: 35.7s\n",
      "556:\tlearn: 0.0116679\ttotal: 44.8s\tremaining: 35.6s\n",
      "557:\tlearn: 0.0116331\ttotal: 44.9s\tremaining: 35.6s\n",
      "558:\tlearn: 0.0116331\ttotal: 45s\tremaining: 35.5s\n",
      "559:\tlearn: 0.0116320\ttotal: 45.1s\tremaining: 35.4s\n",
      "560:\tlearn: 0.0116206\ttotal: 45.2s\tremaining: 35.3s\n",
      "561:\tlearn: 0.0116199\ttotal: 45.3s\tremaining: 35.3s\n",
      "562:\tlearn: 0.0115754\ttotal: 45.4s\tremaining: 35.2s\n",
      "563:\tlearn: 0.0115267\ttotal: 45.5s\tremaining: 35.1s\n",
      "564:\tlearn: 0.0115196\ttotal: 45.5s\tremaining: 35.1s\n",
      "565:\tlearn: 0.0114925\ttotal: 45.6s\tremaining: 35s\n",
      "566:\tlearn: 0.0114401\ttotal: 45.7s\tremaining: 34.9s\n",
      "567:\tlearn: 0.0114384\ttotal: 45.8s\tremaining: 34.8s\n",
      "568:\tlearn: 0.0114147\ttotal: 45.9s\tremaining: 34.8s\n",
      "569:\tlearn: 0.0114145\ttotal: 46s\tremaining: 34.7s\n",
      "570:\tlearn: 0.0114145\ttotal: 46.1s\tremaining: 34.6s\n",
      "571:\tlearn: 0.0113964\ttotal: 46.1s\tremaining: 34.5s\n",
      "572:\tlearn: 0.0113277\ttotal: 46.2s\tremaining: 34.4s\n",
      "573:\tlearn: 0.0113005\ttotal: 46.2s\tremaining: 34.3s\n",
      "574:\tlearn: 0.0112780\ttotal: 46.3s\tremaining: 34.2s\n",
      "575:\tlearn: 0.0112522\ttotal: 46.4s\tremaining: 34.1s\n",
      "576:\tlearn: 0.0112280\ttotal: 46.4s\tremaining: 34s\n",
      "577:\tlearn: 0.0111847\ttotal: 46.5s\tremaining: 33.9s\n",
      "578:\tlearn: 0.0111841\ttotal: 46.5s\tremaining: 33.8s\n",
      "579:\tlearn: 0.0111247\ttotal: 46.6s\tremaining: 33.7s\n",
      "580:\tlearn: 0.0111247\ttotal: 46.6s\tremaining: 33.6s\n",
      "581:\tlearn: 0.0110958\ttotal: 46.7s\tremaining: 33.5s\n",
      "582:\tlearn: 0.0110633\ttotal: 46.8s\tremaining: 33.4s\n",
      "583:\tlearn: 0.0110529\ttotal: 46.8s\tremaining: 33.4s\n",
      "584:\tlearn: 0.0110060\ttotal: 46.9s\tremaining: 33.3s\n",
      "585:\tlearn: 0.0110004\ttotal: 47s\tremaining: 33.2s\n",
      "586:\tlearn: 0.0109999\ttotal: 47.1s\tremaining: 33.1s\n",
      "587:\tlearn: 0.0109997\ttotal: 47.2s\tremaining: 33s\n",
      "588:\tlearn: 0.0109992\ttotal: 47.2s\tremaining: 33s\n",
      "589:\tlearn: 0.0109971\ttotal: 47.3s\tremaining: 32.9s\n",
      "590:\tlearn: 0.0109970\ttotal: 47.4s\tremaining: 32.8s\n",
      "591:\tlearn: 0.0109968\ttotal: 47.5s\tremaining: 32.7s\n",
      "592:\tlearn: 0.0109811\ttotal: 47.6s\tremaining: 32.6s\n",
      "593:\tlearn: 0.0109147\ttotal: 47.7s\tremaining: 32.6s\n",
      "594:\tlearn: 0.0108855\ttotal: 47.7s\tremaining: 32.5s\n",
      "595:\tlearn: 0.0108853\ttotal: 47.8s\tremaining: 32.4s\n",
      "596:\tlearn: 0.0108604\ttotal: 47.9s\tremaining: 32.3s\n",
      "597:\tlearn: 0.0108385\ttotal: 48s\tremaining: 32.3s\n",
      "598:\tlearn: 0.0107964\ttotal: 48.1s\tremaining: 32.2s\n",
      "599:\tlearn: 0.0107964\ttotal: 48.2s\tremaining: 32.1s\n",
      "600:\tlearn: 0.0107957\ttotal: 48.3s\tremaining: 32s\n",
      "601:\tlearn: 0.0107199\ttotal: 48.4s\tremaining: 32s\n",
      "602:\tlearn: 0.0107196\ttotal: 48.4s\tremaining: 31.9s\n",
      "603:\tlearn: 0.0106722\ttotal: 48.5s\tremaining: 31.8s\n",
      "604:\tlearn: 0.0106721\ttotal: 48.6s\tremaining: 31.7s\n"
     ]
    },
    {
     "name": "stdout",
     "output_type": "stream",
     "text": [
      "605:\tlearn: 0.0106721\ttotal: 48.7s\tremaining: 31.7s\n",
      "606:\tlearn: 0.0106681\ttotal: 48.8s\tremaining: 31.6s\n",
      "607:\tlearn: 0.0106593\ttotal: 48.9s\tremaining: 31.5s\n",
      "608:\tlearn: 0.0106593\ttotal: 48.9s\tremaining: 31.4s\n",
      "609:\tlearn: 0.0106525\ttotal: 49s\tremaining: 31.4s\n",
      "610:\tlearn: 0.0106366\ttotal: 49.1s\tremaining: 31.3s\n",
      "611:\tlearn: 0.0106313\ttotal: 49.2s\tremaining: 31.2s\n",
      "612:\tlearn: 0.0106121\ttotal: 49.3s\tremaining: 31.1s\n",
      "613:\tlearn: 0.0106120\ttotal: 49.4s\tremaining: 31s\n",
      "614:\tlearn: 0.0106068\ttotal: 49.5s\tremaining: 31s\n",
      "615:\tlearn: 0.0105709\ttotal: 49.6s\tremaining: 30.9s\n",
      "616:\tlearn: 0.0105701\ttotal: 49.7s\tremaining: 30.8s\n",
      "617:\tlearn: 0.0105606\ttotal: 49.8s\tremaining: 30.8s\n",
      "618:\tlearn: 0.0105602\ttotal: 49.8s\tremaining: 30.7s\n",
      "619:\tlearn: 0.0105324\ttotal: 49.9s\tremaining: 30.6s\n",
      "620:\tlearn: 0.0105323\ttotal: 50s\tremaining: 30.5s\n",
      "621:\tlearn: 0.0105321\ttotal: 50.1s\tremaining: 30.4s\n",
      "622:\tlearn: 0.0104908\ttotal: 50.2s\tremaining: 30.4s\n",
      "623:\tlearn: 0.0104895\ttotal: 50.3s\tremaining: 30.3s\n",
      "624:\tlearn: 0.0104613\ttotal: 50.4s\tremaining: 30.2s\n",
      "625:\tlearn: 0.0104612\ttotal: 50.4s\tremaining: 30.1s\n",
      "626:\tlearn: 0.0104066\ttotal: 50.5s\tremaining: 30.1s\n",
      "627:\tlearn: 0.0104050\ttotal: 50.6s\tremaining: 30s\n",
      "628:\tlearn: 0.0104050\ttotal: 50.7s\tremaining: 29.9s\n",
      "629:\tlearn: 0.0103884\ttotal: 50.8s\tremaining: 29.8s\n",
      "630:\tlearn: 0.0103881\ttotal: 50.9s\tremaining: 29.8s\n",
      "631:\tlearn: 0.0103645\ttotal: 51s\tremaining: 29.7s\n",
      "632:\tlearn: 0.0103351\ttotal: 51.1s\tremaining: 29.6s\n",
      "633:\tlearn: 0.0102947\ttotal: 51.2s\tremaining: 29.5s\n",
      "634:\tlearn: 0.0102945\ttotal: 51.2s\tremaining: 29.5s\n",
      "635:\tlearn: 0.0102882\ttotal: 51.3s\tremaining: 29.4s\n",
      "636:\tlearn: 0.0102846\ttotal: 51.4s\tremaining: 29.3s\n",
      "637:\tlearn: 0.0102626\ttotal: 51.5s\tremaining: 29.2s\n",
      "638:\tlearn: 0.0102420\ttotal: 51.6s\tremaining: 29.1s\n",
      "639:\tlearn: 0.0101875\ttotal: 51.7s\tremaining: 29.1s\n",
      "640:\tlearn: 0.0101875\ttotal: 51.8s\tremaining: 29s\n",
      "641:\tlearn: 0.0101762\ttotal: 51.8s\tremaining: 28.9s\n",
      "642:\tlearn: 0.0101761\ttotal: 51.9s\tremaining: 28.8s\n",
      "643:\tlearn: 0.0101761\ttotal: 52s\tremaining: 28.7s\n",
      "644:\tlearn: 0.0101388\ttotal: 52.1s\tremaining: 28.7s\n",
      "645:\tlearn: 0.0101387\ttotal: 52.2s\tremaining: 28.6s\n",
      "646:\tlearn: 0.0101055\ttotal: 52.3s\tremaining: 28.5s\n",
      "647:\tlearn: 0.0100803\ttotal: 52.4s\tremaining: 28.5s\n",
      "648:\tlearn: 0.0100546\ttotal: 52.5s\tremaining: 28.4s\n",
      "649:\tlearn: 0.0100104\ttotal: 52.6s\tremaining: 28.3s\n",
      "650:\tlearn: 0.0099668\ttotal: 52.7s\tremaining: 28.2s\n",
      "651:\tlearn: 0.0099382\ttotal: 52.8s\tremaining: 28.2s\n",
      "652:\tlearn: 0.0099382\ttotal: 52.8s\tremaining: 28.1s\n",
      "653:\tlearn: 0.0099020\ttotal: 52.9s\tremaining: 28s\n",
      "654:\tlearn: 0.0099014\ttotal: 53s\tremaining: 27.9s\n",
      "655:\tlearn: 0.0098778\ttotal: 53.1s\tremaining: 27.8s\n",
      "656:\tlearn: 0.0098196\ttotal: 53.2s\tremaining: 27.8s\n",
      "657:\tlearn: 0.0097769\ttotal: 53.3s\tremaining: 27.7s\n",
      "658:\tlearn: 0.0097426\ttotal: 53.4s\tremaining: 27.6s\n",
      "659:\tlearn: 0.0097414\ttotal: 53.5s\tremaining: 27.5s\n",
      "660:\tlearn: 0.0096916\ttotal: 53.6s\tremaining: 27.5s\n",
      "661:\tlearn: 0.0096911\ttotal: 53.7s\tremaining: 27.4s\n",
      "662:\tlearn: 0.0096325\ttotal: 53.8s\tremaining: 27.3s\n",
      "663:\tlearn: 0.0096299\ttotal: 53.9s\tremaining: 27.3s\n",
      "664:\tlearn: 0.0096293\ttotal: 53.9s\tremaining: 27.2s\n",
      "665:\tlearn: 0.0096293\ttotal: 54s\tremaining: 27.1s\n",
      "666:\tlearn: 0.0096124\ttotal: 54.1s\tremaining: 27s\n",
      "667:\tlearn: 0.0095909\ttotal: 54.2s\tremaining: 27s\n",
      "668:\tlearn: 0.0095867\ttotal: 54.3s\tremaining: 26.9s\n",
      "669:\tlearn: 0.0095672\ttotal: 54.4s\tremaining: 26.8s\n",
      "670:\tlearn: 0.0095455\ttotal: 54.5s\tremaining: 26.7s\n",
      "671:\tlearn: 0.0095454\ttotal: 54.6s\tremaining: 26.6s\n",
      "672:\tlearn: 0.0095453\ttotal: 54.7s\tremaining: 26.6s\n",
      "673:\tlearn: 0.0095453\ttotal: 54.8s\tremaining: 26.5s\n",
      "674:\tlearn: 0.0095453\ttotal: 54.8s\tremaining: 26.4s\n",
      "675:\tlearn: 0.0095032\ttotal: 54.9s\tremaining: 26.3s\n",
      "676:\tlearn: 0.0094711\ttotal: 55s\tremaining: 26.3s\n",
      "677:\tlearn: 0.0094706\ttotal: 55.1s\tremaining: 26.2s\n",
      "678:\tlearn: 0.0094297\ttotal: 55.2s\tremaining: 26.1s\n",
      "679:\tlearn: 0.0094115\ttotal: 55.4s\tremaining: 26.1s\n",
      "680:\tlearn: 0.0093898\ttotal: 55.5s\tremaining: 26s\n",
      "681:\tlearn: 0.0093898\ttotal: 55.5s\tremaining: 25.9s\n",
      "682:\tlearn: 0.0093658\ttotal: 55.6s\tremaining: 25.8s\n",
      "683:\tlearn: 0.0093299\ttotal: 55.7s\tremaining: 25.8s\n",
      "684:\tlearn: 0.0093167\ttotal: 55.8s\tremaining: 25.7s\n",
      "685:\tlearn: 0.0093049\ttotal: 55.9s\tremaining: 25.6s\n",
      "686:\tlearn: 0.0092782\ttotal: 56s\tremaining: 25.5s\n",
      "687:\tlearn: 0.0092777\ttotal: 56.1s\tremaining: 25.5s\n",
      "688:\tlearn: 0.0092478\ttotal: 56.2s\tremaining: 25.4s\n",
      "689:\tlearn: 0.0092446\ttotal: 56.3s\tremaining: 25.3s\n",
      "690:\tlearn: 0.0092341\ttotal: 56.3s\tremaining: 25.2s\n",
      "691:\tlearn: 0.0092315\ttotal: 56.4s\tremaining: 25.1s\n",
      "692:\tlearn: 0.0092314\ttotal: 56.4s\tremaining: 25s\n",
      "693:\tlearn: 0.0092302\ttotal: 56.5s\tremaining: 24.9s\n",
      "694:\tlearn: 0.0092297\ttotal: 56.6s\tremaining: 24.8s\n",
      "695:\tlearn: 0.0092271\ttotal: 56.7s\tremaining: 24.7s\n",
      "696:\tlearn: 0.0092144\ttotal: 56.7s\tremaining: 24.7s\n",
      "697:\tlearn: 0.0092144\ttotal: 56.8s\tremaining: 24.6s\n",
      "698:\tlearn: 0.0092137\ttotal: 56.8s\tremaining: 24.5s\n",
      "699:\tlearn: 0.0092136\ttotal: 56.9s\tremaining: 24.4s\n",
      "700:\tlearn: 0.0091822\ttotal: 57s\tremaining: 24.3s\n",
      "701:\tlearn: 0.0091806\ttotal: 57s\tremaining: 24.2s\n",
      "702:\tlearn: 0.0091637\ttotal: 57.1s\tremaining: 24.1s\n",
      "703:\tlearn: 0.0091601\ttotal: 57.2s\tremaining: 24.1s\n",
      "704:\tlearn: 0.0091598\ttotal: 57.3s\tremaining: 24s\n",
      "705:\tlearn: 0.0091598\ttotal: 57.4s\tremaining: 23.9s\n",
      "706:\tlearn: 0.0091499\ttotal: 57.5s\tremaining: 23.8s\n",
      "707:\tlearn: 0.0091144\ttotal: 57.6s\tremaining: 23.8s\n",
      "708:\tlearn: 0.0090849\ttotal: 57.7s\tremaining: 23.7s\n",
      "709:\tlearn: 0.0090594\ttotal: 57.8s\tremaining: 23.6s\n",
      "710:\tlearn: 0.0090511\ttotal: 57.9s\tremaining: 23.5s\n",
      "711:\tlearn: 0.0090511\ttotal: 58s\tremaining: 23.5s\n",
      "712:\tlearn: 0.0090511\ttotal: 58.1s\tremaining: 23.4s\n",
      "713:\tlearn: 0.0090437\ttotal: 58.2s\tremaining: 23.3s\n",
      "714:\tlearn: 0.0090437\ttotal: 58.3s\tremaining: 23.2s\n",
      "715:\tlearn: 0.0090436\ttotal: 58.3s\tremaining: 23.1s\n",
      "716:\tlearn: 0.0090433\ttotal: 58.4s\tremaining: 23.1s\n",
      "717:\tlearn: 0.0090433\ttotal: 58.5s\tremaining: 23s\n",
      "718:\tlearn: 0.0090133\ttotal: 58.6s\tremaining: 22.9s\n",
      "719:\tlearn: 0.0090079\ttotal: 58.7s\tremaining: 22.8s\n",
      "720:\tlearn: 0.0089829\ttotal: 58.8s\tremaining: 22.8s\n",
      "721:\tlearn: 0.0089783\ttotal: 58.9s\tremaining: 22.7s\n",
      "722:\tlearn: 0.0089781\ttotal: 59s\tremaining: 22.6s\n",
      "723:\tlearn: 0.0089780\ttotal: 59.1s\tremaining: 22.5s\n",
      "724:\tlearn: 0.0089382\ttotal: 59.2s\tremaining: 22.5s\n",
      "725:\tlearn: 0.0089382\ttotal: 59.3s\tremaining: 22.4s\n",
      "726:\tlearn: 0.0089329\ttotal: 59.4s\tremaining: 22.3s\n",
      "727:\tlearn: 0.0089112\ttotal: 59.5s\tremaining: 22.2s\n",
      "728:\tlearn: 0.0088713\ttotal: 59.6s\tremaining: 22.1s\n",
      "729:\tlearn: 0.0088713\ttotal: 59.6s\tremaining: 22.1s\n",
      "730:\tlearn: 0.0088686\ttotal: 59.7s\tremaining: 22s\n",
      "731:\tlearn: 0.0088685\ttotal: 59.8s\tremaining: 21.9s\n",
      "732:\tlearn: 0.0088684\ttotal: 59.9s\tremaining: 21.8s\n",
      "733:\tlearn: 0.0088528\ttotal: 60s\tremaining: 21.7s\n",
      "734:\tlearn: 0.0088527\ttotal: 1m\tremaining: 21.7s\n",
      "735:\tlearn: 0.0088501\ttotal: 1m\tremaining: 21.6s\n",
      "736:\tlearn: 0.0088369\ttotal: 1m\tremaining: 21.5s\n",
      "737:\tlearn: 0.0087990\ttotal: 1m\tremaining: 21.4s\n",
      "738:\tlearn: 0.0087695\ttotal: 1m\tremaining: 21.4s\n",
      "739:\tlearn: 0.0087472\ttotal: 1m\tremaining: 21.3s\n",
      "740:\tlearn: 0.0087386\ttotal: 1m\tremaining: 21.2s\n",
      "741:\tlearn: 0.0087385\ttotal: 1m\tremaining: 21.1s\n",
      "742:\tlearn: 0.0087207\ttotal: 1m\tremaining: 21s\n",
      "743:\tlearn: 0.0087053\ttotal: 1m\tremaining: 21s\n",
      "744:\tlearn: 0.0086988\ttotal: 1m 1s\tremaining: 20.9s\n",
      "745:\tlearn: 0.0086580\ttotal: 1m 1s\tremaining: 20.8s\n",
      "746:\tlearn: 0.0086580\ttotal: 1m 1s\tremaining: 20.7s\n",
      "747:\tlearn: 0.0086017\ttotal: 1m 1s\tremaining: 20.7s\n",
      "748:\tlearn: 0.0086006\ttotal: 1m 1s\tremaining: 20.6s\n",
      "749:\tlearn: 0.0086006\ttotal: 1m 1s\tremaining: 20.5s\n",
      "750:\tlearn: 0.0085760\ttotal: 1m 1s\tremaining: 20.4s\n",
      "751:\tlearn: 0.0085452\ttotal: 1m 1s\tremaining: 20.4s\n",
      "752:\tlearn: 0.0085259\ttotal: 1m 1s\tremaining: 20.3s\n",
      "753:\tlearn: 0.0085258\ttotal: 1m 1s\tremaining: 20.2s\n",
      "754:\tlearn: 0.0085195\ttotal: 1m 2s\tremaining: 20.1s\n",
      "755:\tlearn: 0.0085195\ttotal: 1m 2s\tremaining: 20s\n",
      "756:\tlearn: 0.0085171\ttotal: 1m 2s\tremaining: 20s\n",
      "757:\tlearn: 0.0085170\ttotal: 1m 2s\tremaining: 19.9s\n",
      "758:\tlearn: 0.0085170\ttotal: 1m 2s\tremaining: 19.8s\n",
      "759:\tlearn: 0.0085166\ttotal: 1m 2s\tremaining: 19.7s\n",
      "760:\tlearn: 0.0085165\ttotal: 1m 2s\tremaining: 19.6s\n",
      "761:\tlearn: 0.0085164\ttotal: 1m 2s\tremaining: 19.5s\n",
      "762:\tlearn: 0.0085164\ttotal: 1m 2s\tremaining: 19.5s\n",
      "763:\tlearn: 0.0084781\ttotal: 1m 2s\tremaining: 19.4s\n",
      "764:\tlearn: 0.0084769\ttotal: 1m 2s\tremaining: 19.3s\n"
     ]
    },
    {
     "name": "stdout",
     "output_type": "stream",
     "text": [
      "765:\tlearn: 0.0084668\ttotal: 1m 2s\tremaining: 19.2s\n",
      "766:\tlearn: 0.0084344\ttotal: 1m 2s\tremaining: 19.1s\n",
      "767:\tlearn: 0.0084165\ttotal: 1m 2s\tremaining: 19s\n",
      "768:\tlearn: 0.0084025\ttotal: 1m 2s\tremaining: 18.9s\n",
      "769:\tlearn: 0.0084024\ttotal: 1m 3s\tremaining: 18.8s\n",
      "770:\tlearn: 0.0083954\ttotal: 1m 3s\tremaining: 18.7s\n",
      "771:\tlearn: 0.0083868\ttotal: 1m 3s\tremaining: 18.7s\n",
      "772:\tlearn: 0.0083865\ttotal: 1m 3s\tremaining: 18.6s\n",
      "773:\tlearn: 0.0083864\ttotal: 1m 3s\tremaining: 18.5s\n",
      "774:\tlearn: 0.0083518\ttotal: 1m 3s\tremaining: 18.4s\n",
      "775:\tlearn: 0.0083239\ttotal: 1m 3s\tremaining: 18.3s\n",
      "776:\tlearn: 0.0083239\ttotal: 1m 3s\tremaining: 18.2s\n",
      "777:\tlearn: 0.0083141\ttotal: 1m 3s\tremaining: 18.1s\n",
      "778:\tlearn: 0.0083069\ttotal: 1m 3s\tremaining: 18.1s\n",
      "779:\tlearn: 0.0083000\ttotal: 1m 3s\tremaining: 18s\n",
      "780:\tlearn: 0.0082987\ttotal: 1m 3s\tremaining: 17.9s\n",
      "781:\tlearn: 0.0082842\ttotal: 1m 3s\tremaining: 17.8s\n",
      "782:\tlearn: 0.0082695\ttotal: 1m 4s\tremaining: 17.7s\n",
      "783:\tlearn: 0.0082444\ttotal: 1m 4s\tremaining: 17.7s\n",
      "784:\tlearn: 0.0082442\ttotal: 1m 4s\tremaining: 17.6s\n",
      "785:\tlearn: 0.0082442\ttotal: 1m 4s\tremaining: 17.5s\n",
      "786:\tlearn: 0.0082264\ttotal: 1m 4s\tremaining: 17.4s\n",
      "787:\tlearn: 0.0082012\ttotal: 1m 4s\tremaining: 17.4s\n",
      "788:\tlearn: 0.0082011\ttotal: 1m 4s\tremaining: 17.3s\n",
      "789:\tlearn: 0.0082009\ttotal: 1m 4s\tremaining: 17.2s\n",
      "790:\tlearn: 0.0082009\ttotal: 1m 4s\tremaining: 17.1s\n",
      "791:\tlearn: 0.0081970\ttotal: 1m 4s\tremaining: 17s\n",
      "792:\tlearn: 0.0081960\ttotal: 1m 4s\tremaining: 17s\n",
      "793:\tlearn: 0.0081702\ttotal: 1m 5s\tremaining: 16.9s\n",
      "794:\tlearn: 0.0081623\ttotal: 1m 5s\tremaining: 16.8s\n",
      "795:\tlearn: 0.0081614\ttotal: 1m 5s\tremaining: 16.7s\n",
      "796:\tlearn: 0.0081241\ttotal: 1m 5s\tremaining: 16.6s\n",
      "797:\tlearn: 0.0080984\ttotal: 1m 5s\tremaining: 16.6s\n",
      "798:\tlearn: 0.0080671\ttotal: 1m 5s\tremaining: 16.5s\n",
      "799:\tlearn: 0.0080569\ttotal: 1m 5s\tremaining: 16.4s\n",
      "800:\tlearn: 0.0080569\ttotal: 1m 5s\tremaining: 16.3s\n",
      "801:\tlearn: 0.0080569\ttotal: 1m 5s\tremaining: 16.2s\n",
      "802:\tlearn: 0.0080568\ttotal: 1m 5s\tremaining: 16.2s\n",
      "803:\tlearn: 0.0080422\ttotal: 1m 6s\tremaining: 16.1s\n",
      "804:\tlearn: 0.0080052\ttotal: 1m 6s\tremaining: 16s\n",
      "805:\tlearn: 0.0080051\ttotal: 1m 6s\tremaining: 15.9s\n",
      "806:\tlearn: 0.0079710\ttotal: 1m 6s\tremaining: 15.9s\n",
      "807:\tlearn: 0.0079617\ttotal: 1m 6s\tremaining: 15.8s\n",
      "808:\tlearn: 0.0079290\ttotal: 1m 6s\tremaining: 15.7s\n",
      "809:\tlearn: 0.0079105\ttotal: 1m 6s\tremaining: 15.6s\n",
      "810:\tlearn: 0.0079036\ttotal: 1m 6s\tremaining: 15.5s\n",
      "811:\tlearn: 0.0079036\ttotal: 1m 6s\tremaining: 15.5s\n",
      "812:\tlearn: 0.0079025\ttotal: 1m 6s\tremaining: 15.4s\n",
      "813:\tlearn: 0.0078959\ttotal: 1m 6s\tremaining: 15.3s\n",
      "814:\tlearn: 0.0078811\ttotal: 1m 7s\tremaining: 15.2s\n",
      "815:\tlearn: 0.0078805\ttotal: 1m 7s\tremaining: 15.1s\n",
      "816:\tlearn: 0.0078805\ttotal: 1m 7s\tremaining: 15.1s\n",
      "817:\tlearn: 0.0078802\ttotal: 1m 7s\tremaining: 15s\n",
      "818:\tlearn: 0.0078582\ttotal: 1m 7s\tremaining: 14.9s\n",
      "819:\tlearn: 0.0078459\ttotal: 1m 7s\tremaining: 14.8s\n",
      "820:\tlearn: 0.0078457\ttotal: 1m 7s\tremaining: 14.7s\n",
      "821:\tlearn: 0.0078457\ttotal: 1m 7s\tremaining: 14.7s\n",
      "822:\tlearn: 0.0078454\ttotal: 1m 7s\tremaining: 14.6s\n",
      "823:\tlearn: 0.0078429\ttotal: 1m 7s\tremaining: 14.5s\n",
      "824:\tlearn: 0.0078403\ttotal: 1m 8s\tremaining: 14.4s\n",
      "825:\tlearn: 0.0078403\ttotal: 1m 8s\tremaining: 14.3s\n",
      "826:\tlearn: 0.0078355\ttotal: 1m 8s\tremaining: 14.3s\n",
      "827:\tlearn: 0.0078335\ttotal: 1m 8s\tremaining: 14.2s\n",
      "828:\tlearn: 0.0078255\ttotal: 1m 8s\tremaining: 14.1s\n",
      "829:\tlearn: 0.0078255\ttotal: 1m 8s\tremaining: 14s\n",
      "830:\tlearn: 0.0078153\ttotal: 1m 8s\tremaining: 13.9s\n",
      "831:\tlearn: 0.0077751\ttotal: 1m 8s\tremaining: 13.8s\n",
      "832:\tlearn: 0.0077750\ttotal: 1m 8s\tremaining: 13.8s\n",
      "833:\tlearn: 0.0077750\ttotal: 1m 8s\tremaining: 13.7s\n",
      "834:\tlearn: 0.0077750\ttotal: 1m 8s\tremaining: 13.6s\n",
      "835:\tlearn: 0.0077749\ttotal: 1m 8s\tremaining: 13.5s\n",
      "836:\tlearn: 0.0077675\ttotal: 1m 8s\tremaining: 13.4s\n",
      "837:\tlearn: 0.0077674\ttotal: 1m 8s\tremaining: 13.3s\n",
      "838:\tlearn: 0.0077674\ttotal: 1m 8s\tremaining: 13.2s\n",
      "839:\tlearn: 0.0077673\ttotal: 1m 9s\tremaining: 13.2s\n",
      "840:\tlearn: 0.0077218\ttotal: 1m 9s\tremaining: 13.1s\n",
      "841:\tlearn: 0.0077119\ttotal: 1m 9s\tremaining: 13s\n",
      "842:\tlearn: 0.0077118\ttotal: 1m 9s\tremaining: 12.9s\n",
      "843:\tlearn: 0.0077042\ttotal: 1m 9s\tremaining: 12.8s\n",
      "844:\tlearn: 0.0077029\ttotal: 1m 9s\tremaining: 12.7s\n",
      "845:\tlearn: 0.0077022\ttotal: 1m 9s\tremaining: 12.6s\n",
      "846:\tlearn: 0.0076624\ttotal: 1m 9s\tremaining: 12.6s\n",
      "847:\tlearn: 0.0076623\ttotal: 1m 9s\tremaining: 12.5s\n",
      "848:\tlearn: 0.0076456\ttotal: 1m 9s\tremaining: 12.4s\n",
      "849:\tlearn: 0.0076455\ttotal: 1m 9s\tremaining: 12.3s\n",
      "850:\tlearn: 0.0076190\ttotal: 1m 10s\tremaining: 12.3s\n",
      "851:\tlearn: 0.0076035\ttotal: 1m 10s\tremaining: 12.2s\n",
      "852:\tlearn: 0.0076035\ttotal: 1m 10s\tremaining: 12.1s\n",
      "853:\tlearn: 0.0076033\ttotal: 1m 10s\tremaining: 12s\n",
      "854:\tlearn: 0.0076032\ttotal: 1m 10s\tremaining: 11.9s\n",
      "855:\tlearn: 0.0075868\ttotal: 1m 10s\tremaining: 11.9s\n",
      "856:\tlearn: 0.0075868\ttotal: 1m 10s\tremaining: 11.8s\n",
      "857:\tlearn: 0.0075421\ttotal: 1m 10s\tremaining: 11.7s\n",
      "858:\tlearn: 0.0075421\ttotal: 1m 10s\tremaining: 11.6s\n",
      "859:\tlearn: 0.0075394\ttotal: 1m 10s\tremaining: 11.5s\n",
      "860:\tlearn: 0.0075266\ttotal: 1m 10s\tremaining: 11.5s\n",
      "861:\tlearn: 0.0075048\ttotal: 1m 11s\tremaining: 11.4s\n",
      "862:\tlearn: 0.0074775\ttotal: 1m 11s\tremaining: 11.3s\n",
      "863:\tlearn: 0.0074775\ttotal: 1m 11s\tremaining: 11.2s\n",
      "864:\tlearn: 0.0074739\ttotal: 1m 11s\tremaining: 11.1s\n",
      "865:\tlearn: 0.0074722\ttotal: 1m 11s\tremaining: 11s\n",
      "866:\tlearn: 0.0074722\ttotal: 1m 11s\tremaining: 11s\n",
      "867:\tlearn: 0.0074721\ttotal: 1m 11s\tremaining: 10.9s\n",
      "868:\tlearn: 0.0074712\ttotal: 1m 11s\tremaining: 10.8s\n",
      "869:\tlearn: 0.0074675\ttotal: 1m 11s\tremaining: 10.7s\n",
      "870:\tlearn: 0.0074603\ttotal: 1m 11s\tremaining: 10.6s\n",
      "871:\tlearn: 0.0074558\ttotal: 1m 11s\tremaining: 10.6s\n",
      "872:\tlearn: 0.0074558\ttotal: 1m 12s\tremaining: 10.5s\n",
      "873:\tlearn: 0.0074558\ttotal: 1m 12s\tremaining: 10.4s\n",
      "874:\tlearn: 0.0074535\ttotal: 1m 12s\tremaining: 10.3s\n",
      "875:\tlearn: 0.0074474\ttotal: 1m 12s\tremaining: 10.2s\n",
      "876:\tlearn: 0.0074333\ttotal: 1m 12s\tremaining: 10.2s\n",
      "877:\tlearn: 0.0074333\ttotal: 1m 12s\tremaining: 10.1s\n",
      "878:\tlearn: 0.0074285\ttotal: 1m 12s\tremaining: 9.99s\n",
      "879:\tlearn: 0.0074243\ttotal: 1m 12s\tremaining: 9.91s\n",
      "880:\tlearn: 0.0074158\ttotal: 1m 12s\tremaining: 9.83s\n",
      "881:\tlearn: 0.0074095\ttotal: 1m 12s\tremaining: 9.74s\n",
      "882:\tlearn: 0.0074070\ttotal: 1m 12s\tremaining: 9.66s\n",
      "883:\tlearn: 0.0073953\ttotal: 1m 13s\tremaining: 9.58s\n",
      "884:\tlearn: 0.0073764\ttotal: 1m 13s\tremaining: 9.5s\n",
      "885:\tlearn: 0.0073707\ttotal: 1m 13s\tremaining: 9.42s\n",
      "886:\tlearn: 0.0073551\ttotal: 1m 13s\tremaining: 9.34s\n",
      "887:\tlearn: 0.0073551\ttotal: 1m 13s\tremaining: 9.26s\n",
      "888:\tlearn: 0.0073263\ttotal: 1m 13s\tremaining: 9.18s\n",
      "889:\tlearn: 0.0073262\ttotal: 1m 13s\tremaining: 9.1s\n",
      "890:\tlearn: 0.0073149\ttotal: 1m 13s\tremaining: 9.02s\n",
      "891:\tlearn: 0.0072869\ttotal: 1m 13s\tremaining: 8.94s\n",
      "892:\tlearn: 0.0072868\ttotal: 1m 13s\tremaining: 8.85s\n",
      "893:\tlearn: 0.0072867\ttotal: 1m 13s\tremaining: 8.77s\n",
      "894:\tlearn: 0.0072867\ttotal: 1m 14s\tremaining: 8.69s\n",
      "895:\tlearn: 0.0072867\ttotal: 1m 14s\tremaining: 8.61s\n",
      "896:\tlearn: 0.0072867\ttotal: 1m 14s\tremaining: 8.53s\n",
      "897:\tlearn: 0.0072866\ttotal: 1m 14s\tremaining: 8.44s\n",
      "898:\tlearn: 0.0072859\ttotal: 1m 14s\tremaining: 8.36s\n",
      "899:\tlearn: 0.0072777\ttotal: 1m 14s\tremaining: 8.28s\n",
      "900:\tlearn: 0.0072776\ttotal: 1m 14s\tremaining: 8.2s\n",
      "901:\tlearn: 0.0072622\ttotal: 1m 14s\tremaining: 8.12s\n",
      "902:\tlearn: 0.0072403\ttotal: 1m 14s\tremaining: 8.04s\n",
      "903:\tlearn: 0.0072380\ttotal: 1m 14s\tremaining: 7.95s\n",
      "904:\tlearn: 0.0072231\ttotal: 1m 14s\tremaining: 7.87s\n",
      "905:\tlearn: 0.0072230\ttotal: 1m 15s\tremaining: 7.78s\n",
      "906:\tlearn: 0.0072120\ttotal: 1m 15s\tremaining: 7.7s\n",
      "907:\tlearn: 0.0071733\ttotal: 1m 15s\tremaining: 7.61s\n",
      "908:\tlearn: 0.0071573\ttotal: 1m 15s\tremaining: 7.53s\n",
      "909:\tlearn: 0.0071458\ttotal: 1m 15s\tremaining: 7.44s\n",
      "910:\tlearn: 0.0071444\ttotal: 1m 15s\tremaining: 7.36s\n",
      "911:\tlearn: 0.0071335\ttotal: 1m 15s\tremaining: 7.27s\n",
      "912:\tlearn: 0.0071277\ttotal: 1m 15s\tremaining: 7.19s\n",
      "913:\tlearn: 0.0070959\ttotal: 1m 15s\tremaining: 7.1s\n",
      "914:\tlearn: 0.0070935\ttotal: 1m 15s\tremaining: 7.02s\n",
      "915:\tlearn: 0.0070935\ttotal: 1m 15s\tremaining: 6.93s\n",
      "916:\tlearn: 0.0070693\ttotal: 1m 15s\tremaining: 6.85s\n",
      "917:\tlearn: 0.0070693\ttotal: 1m 15s\tremaining: 6.76s\n",
      "918:\tlearn: 0.0070419\ttotal: 1m 15s\tremaining: 6.68s\n",
      "919:\tlearn: 0.0070419\ttotal: 1m 15s\tremaining: 6.6s\n",
      "920:\tlearn: 0.0070400\ttotal: 1m 16s\tremaining: 6.52s\n",
      "921:\tlearn: 0.0070400\ttotal: 1m 16s\tremaining: 6.44s\n",
      "922:\tlearn: 0.0070397\ttotal: 1m 16s\tremaining: 6.35s\n",
      "923:\tlearn: 0.0070149\ttotal: 1m 16s\tremaining: 6.27s\n"
     ]
    },
    {
     "name": "stdout",
     "output_type": "stream",
     "text": [
      "924:\tlearn: 0.0069923\ttotal: 1m 16s\tremaining: 6.19s\n",
      "925:\tlearn: 0.0069792\ttotal: 1m 16s\tremaining: 6.11s\n",
      "926:\tlearn: 0.0069792\ttotal: 1m 16s\tremaining: 6.03s\n",
      "927:\tlearn: 0.0069575\ttotal: 1m 16s\tremaining: 5.95s\n",
      "928:\tlearn: 0.0069545\ttotal: 1m 16s\tremaining: 5.86s\n",
      "929:\tlearn: 0.0069544\ttotal: 1m 16s\tremaining: 5.78s\n",
      "930:\tlearn: 0.0069543\ttotal: 1m 16s\tremaining: 5.7s\n",
      "931:\tlearn: 0.0069543\ttotal: 1m 16s\tremaining: 5.62s\n",
      "932:\tlearn: 0.0069533\ttotal: 1m 17s\tremaining: 5.53s\n",
      "933:\tlearn: 0.0069533\ttotal: 1m 17s\tremaining: 5.45s\n",
      "934:\tlearn: 0.0069531\ttotal: 1m 17s\tremaining: 5.37s\n",
      "935:\tlearn: 0.0069531\ttotal: 1m 17s\tremaining: 5.29s\n",
      "936:\tlearn: 0.0069326\ttotal: 1m 17s\tremaining: 5.21s\n",
      "937:\tlearn: 0.0069326\ttotal: 1m 17s\tremaining: 5.12s\n",
      "938:\tlearn: 0.0069278\ttotal: 1m 17s\tremaining: 5.04s\n",
      "939:\tlearn: 0.0069113\ttotal: 1m 17s\tremaining: 4.96s\n",
      "940:\tlearn: 0.0069105\ttotal: 1m 17s\tremaining: 4.88s\n",
      "941:\tlearn: 0.0068935\ttotal: 1m 17s\tremaining: 4.79s\n",
      "942:\tlearn: 0.0068793\ttotal: 1m 18s\tremaining: 4.71s\n",
      "943:\tlearn: 0.0068681\ttotal: 1m 18s\tremaining: 4.63s\n",
      "944:\tlearn: 0.0068227\ttotal: 1m 18s\tremaining: 4.55s\n",
      "945:\tlearn: 0.0068226\ttotal: 1m 18s\tremaining: 4.47s\n",
      "946:\tlearn: 0.0068170\ttotal: 1m 18s\tremaining: 4.39s\n",
      "947:\tlearn: 0.0068169\ttotal: 1m 18s\tremaining: 4.3s\n",
      "948:\tlearn: 0.0068169\ttotal: 1m 18s\tremaining: 4.22s\n",
      "949:\tlearn: 0.0068167\ttotal: 1m 18s\tremaining: 4.14s\n",
      "950:\tlearn: 0.0068050\ttotal: 1m 18s\tremaining: 4.06s\n",
      "951:\tlearn: 0.0068027\ttotal: 1m 18s\tremaining: 3.98s\n",
      "952:\tlearn: 0.0067832\ttotal: 1m 18s\tremaining: 3.89s\n",
      "953:\tlearn: 0.0067675\ttotal: 1m 19s\tremaining: 3.81s\n",
      "954:\tlearn: 0.0067602\ttotal: 1m 19s\tremaining: 3.73s\n",
      "955:\tlearn: 0.0067594\ttotal: 1m 19s\tremaining: 3.65s\n",
      "956:\tlearn: 0.0067485\ttotal: 1m 19s\tremaining: 3.56s\n",
      "957:\tlearn: 0.0067347\ttotal: 1m 19s\tremaining: 3.48s\n",
      "958:\tlearn: 0.0067346\ttotal: 1m 19s\tremaining: 3.4s\n",
      "959:\tlearn: 0.0067238\ttotal: 1m 19s\tremaining: 3.32s\n",
      "960:\tlearn: 0.0067236\ttotal: 1m 19s\tremaining: 3.23s\n",
      "961:\tlearn: 0.0067163\ttotal: 1m 19s\tremaining: 3.15s\n",
      "962:\tlearn: 0.0067141\ttotal: 1m 19s\tremaining: 3.07s\n",
      "963:\tlearn: 0.0067069\ttotal: 1m 19s\tremaining: 2.99s\n",
      "964:\tlearn: 0.0066974\ttotal: 1m 20s\tremaining: 2.9s\n",
      "965:\tlearn: 0.0066974\ttotal: 1m 20s\tremaining: 2.82s\n",
      "966:\tlearn: 0.0066892\ttotal: 1m 20s\tremaining: 2.74s\n",
      "967:\tlearn: 0.0066771\ttotal: 1m 20s\tremaining: 2.66s\n",
      "968:\tlearn: 0.0066771\ttotal: 1m 20s\tremaining: 2.57s\n",
      "969:\tlearn: 0.0066749\ttotal: 1m 20s\tremaining: 2.49s\n",
      "970:\tlearn: 0.0066696\ttotal: 1m 20s\tremaining: 2.41s\n",
      "971:\tlearn: 0.0066691\ttotal: 1m 20s\tremaining: 2.33s\n",
      "972:\tlearn: 0.0066668\ttotal: 1m 20s\tremaining: 2.24s\n",
      "973:\tlearn: 0.0066575\ttotal: 1m 20s\tremaining: 2.16s\n",
      "974:\tlearn: 0.0066538\ttotal: 1m 20s\tremaining: 2.07s\n",
      "975:\tlearn: 0.0066538\ttotal: 1m 20s\tremaining: 1.99s\n",
      "976:\tlearn: 0.0066538\ttotal: 1m 21s\tremaining: 1.91s\n",
      "977:\tlearn: 0.0066537\ttotal: 1m 21s\tremaining: 1.82s\n",
      "978:\tlearn: 0.0066298\ttotal: 1m 21s\tremaining: 1.74s\n",
      "979:\tlearn: 0.0066292\ttotal: 1m 21s\tremaining: 1.66s\n",
      "980:\tlearn: 0.0066163\ttotal: 1m 21s\tremaining: 1.57s\n",
      "981:\tlearn: 0.0066097\ttotal: 1m 21s\tremaining: 1.49s\n",
      "982:\tlearn: 0.0066097\ttotal: 1m 21s\tremaining: 1.41s\n",
      "983:\tlearn: 0.0065965\ttotal: 1m 21s\tremaining: 1.32s\n",
      "984:\tlearn: 0.0065873\ttotal: 1m 21s\tremaining: 1.24s\n",
      "985:\tlearn: 0.0065822\ttotal: 1m 21s\tremaining: 1.16s\n",
      "986:\tlearn: 0.0065736\ttotal: 1m 21s\tremaining: 1.07s\n",
      "987:\tlearn: 0.0065710\ttotal: 1m 21s\tremaining: 992ms\n",
      "988:\tlearn: 0.0065438\ttotal: 1m 21s\tremaining: 909ms\n",
      "989:\tlearn: 0.0065377\ttotal: 1m 21s\tremaining: 827ms\n",
      "990:\tlearn: 0.0065221\ttotal: 1m 21s\tremaining: 744ms\n",
      "991:\tlearn: 0.0064941\ttotal: 1m 22s\tremaining: 662ms\n",
      "992:\tlearn: 0.0064914\ttotal: 1m 22s\tremaining: 579ms\n",
      "993:\tlearn: 0.0064914\ttotal: 1m 22s\tremaining: 496ms\n",
      "994:\tlearn: 0.0064553\ttotal: 1m 22s\tremaining: 414ms\n",
      "995:\tlearn: 0.0064524\ttotal: 1m 22s\tremaining: 331ms\n",
      "996:\tlearn: 0.0064449\ttotal: 1m 22s\tremaining: 248ms\n",
      "997:\tlearn: 0.0064324\ttotal: 1m 22s\tremaining: 166ms\n",
      "998:\tlearn: 0.0064291\ttotal: 1m 22s\tremaining: 82.8ms\n",
      "999:\tlearn: 0.0064239\ttotal: 1m 22s\tremaining: 0us\n",
      "Learning rate set to 0.049775\n",
      "0:\tlearn: 0.6120433\ttotal: 62.7ms\tremaining: 1m 2s\n",
      "1:\tlearn: 0.5466160\ttotal: 120ms\tremaining: 59.9s\n",
      "2:\tlearn: 0.4838887\ttotal: 178ms\tremaining: 59.1s\n",
      "3:\tlearn: 0.4332306\ttotal: 241ms\tremaining: 1m\n",
      "4:\tlearn: 0.3938581\ttotal: 313ms\tremaining: 1m 2s\n",
      "5:\tlearn: 0.3560369\ttotal: 380ms\tremaining: 1m 3s\n",
      "6:\tlearn: 0.3252431\ttotal: 448ms\tremaining: 1m 3s\n",
      "7:\tlearn: 0.2979792\ttotal: 509ms\tremaining: 1m 3s\n",
      "8:\tlearn: 0.2715554\ttotal: 566ms\tremaining: 1m 2s\n",
      "9:\tlearn: 0.2522690\ttotal: 627ms\tremaining: 1m 2s\n",
      "10:\tlearn: 0.2328855\ttotal: 692ms\tremaining: 1m 2s\n",
      "11:\tlearn: 0.2168535\ttotal: 776ms\tremaining: 1m 3s\n",
      "12:\tlearn: 0.2028826\ttotal: 873ms\tremaining: 1m 6s\n",
      "13:\tlearn: 0.1907703\ttotal: 980ms\tremaining: 1m 9s\n",
      "14:\tlearn: 0.1789775\ttotal: 1.08s\tremaining: 1m 11s\n",
      "15:\tlearn: 0.1701722\ttotal: 1.19s\tremaining: 1m 13s\n",
      "16:\tlearn: 0.1616057\ttotal: 1.29s\tremaining: 1m 14s\n",
      "17:\tlearn: 0.1558378\ttotal: 1.39s\tremaining: 1m 15s\n",
      "18:\tlearn: 0.1485435\ttotal: 1.5s\tremaining: 1m 17s\n",
      "19:\tlearn: 0.1425906\ttotal: 1.6s\tremaining: 1m 18s\n",
      "20:\tlearn: 0.1373636\ttotal: 1.7s\tremaining: 1m 19s\n",
      "21:\tlearn: 0.1326645\ttotal: 1.79s\tremaining: 1m 19s\n",
      "22:\tlearn: 0.1269169\ttotal: 1.9s\tremaining: 1m 20s\n",
      "23:\tlearn: 0.1222325\ttotal: 2.01s\tremaining: 1m 21s\n",
      "24:\tlearn: 0.1185142\ttotal: 2.13s\tremaining: 1m 23s\n",
      "25:\tlearn: 0.1149234\ttotal: 2.23s\tremaining: 1m 23s\n",
      "26:\tlearn: 0.1119338\ttotal: 2.32s\tremaining: 1m 23s\n",
      "27:\tlearn: 0.1076746\ttotal: 2.42s\tremaining: 1m 24s\n",
      "28:\tlearn: 0.1050759\ttotal: 2.52s\tremaining: 1m 24s\n",
      "29:\tlearn: 0.1020362\ttotal: 2.62s\tremaining: 1m 24s\n",
      "30:\tlearn: 0.0997789\ttotal: 2.71s\tremaining: 1m 24s\n",
      "31:\tlearn: 0.0967219\ttotal: 2.81s\tremaining: 1m 24s\n",
      "32:\tlearn: 0.0941678\ttotal: 2.9s\tremaining: 1m 24s\n",
      "33:\tlearn: 0.0920887\ttotal: 3.01s\tremaining: 1m 25s\n",
      "34:\tlearn: 0.0902574\ttotal: 3.12s\tremaining: 1m 25s\n",
      "35:\tlearn: 0.0888883\ttotal: 3.21s\tremaining: 1m 26s\n",
      "36:\tlearn: 0.0866429\ttotal: 3.31s\tremaining: 1m 26s\n",
      "37:\tlearn: 0.0845424\ttotal: 3.43s\tremaining: 1m 26s\n",
      "38:\tlearn: 0.0830258\ttotal: 3.54s\tremaining: 1m 27s\n",
      "39:\tlearn: 0.0809428\ttotal: 3.64s\tremaining: 1m 27s\n",
      "40:\tlearn: 0.0789832\ttotal: 3.73s\tremaining: 1m 27s\n",
      "41:\tlearn: 0.0778917\ttotal: 3.83s\tremaining: 1m 27s\n",
      "42:\tlearn: 0.0763660\ttotal: 3.92s\tremaining: 1m 27s\n",
      "43:\tlearn: 0.0748711\ttotal: 4.03s\tremaining: 1m 27s\n",
      "44:\tlearn: 0.0736109\ttotal: 4.14s\tremaining: 1m 27s\n",
      "45:\tlearn: 0.0723208\ttotal: 4.24s\tremaining: 1m 28s\n",
      "46:\tlearn: 0.0711593\ttotal: 4.34s\tremaining: 1m 28s\n",
      "47:\tlearn: 0.0697792\ttotal: 4.44s\tremaining: 1m 28s\n",
      "48:\tlearn: 0.0687428\ttotal: 4.54s\tremaining: 1m 28s\n",
      "49:\tlearn: 0.0678723\ttotal: 4.66s\tremaining: 1m 28s\n",
      "50:\tlearn: 0.0666151\ttotal: 4.74s\tremaining: 1m 28s\n",
      "51:\tlearn: 0.0653062\ttotal: 4.85s\tremaining: 1m 28s\n",
      "52:\tlearn: 0.0646929\ttotal: 4.93s\tremaining: 1m 28s\n",
      "53:\tlearn: 0.0637747\ttotal: 5.04s\tremaining: 1m 28s\n",
      "54:\tlearn: 0.0626939\ttotal: 5.17s\tremaining: 1m 28s\n",
      "55:\tlearn: 0.0618459\ttotal: 5.3s\tremaining: 1m 29s\n",
      "56:\tlearn: 0.0609593\ttotal: 5.41s\tremaining: 1m 29s\n",
      "57:\tlearn: 0.0600005\ttotal: 5.51s\tremaining: 1m 29s\n",
      "58:\tlearn: 0.0592458\ttotal: 5.62s\tremaining: 1m 29s\n",
      "59:\tlearn: 0.0586031\ttotal: 5.73s\tremaining: 1m 29s\n",
      "60:\tlearn: 0.0580566\ttotal: 5.83s\tremaining: 1m 29s\n",
      "61:\tlearn: 0.0572933\ttotal: 5.93s\tremaining: 1m 29s\n",
      "62:\tlearn: 0.0566696\ttotal: 6.03s\tremaining: 1m 29s\n",
      "63:\tlearn: 0.0560055\ttotal: 6.15s\tremaining: 1m 29s\n",
      "64:\tlearn: 0.0550072\ttotal: 6.25s\tremaining: 1m 29s\n",
      "65:\tlearn: 0.0541942\ttotal: 6.36s\tremaining: 1m 29s\n",
      "66:\tlearn: 0.0537244\ttotal: 6.46s\tremaining: 1m 29s\n",
      "67:\tlearn: 0.0531972\ttotal: 6.57s\tremaining: 1m 30s\n",
      "68:\tlearn: 0.0525513\ttotal: 6.69s\tremaining: 1m 30s\n",
      "69:\tlearn: 0.0520069\ttotal: 6.8s\tremaining: 1m 30s\n",
      "70:\tlearn: 0.0511383\ttotal: 6.92s\tremaining: 1m 30s\n",
      "71:\tlearn: 0.0505757\ttotal: 7.03s\tremaining: 1m 30s\n",
      "72:\tlearn: 0.0497966\ttotal: 7.13s\tremaining: 1m 30s\n",
      "73:\tlearn: 0.0489647\ttotal: 7.24s\tremaining: 1m 30s\n",
      "74:\tlearn: 0.0484323\ttotal: 7.36s\tremaining: 1m 30s\n",
      "75:\tlearn: 0.0478002\ttotal: 7.5s\tremaining: 1m 31s\n",
      "76:\tlearn: 0.0472182\ttotal: 7.62s\tremaining: 1m 31s\n",
      "77:\tlearn: 0.0468416\ttotal: 7.73s\tremaining: 1m 31s\n",
      "78:\tlearn: 0.0464371\ttotal: 7.84s\tremaining: 1m 31s\n",
      "79:\tlearn: 0.0461253\ttotal: 7.95s\tremaining: 1m 31s\n",
      "80:\tlearn: 0.0456128\ttotal: 8.04s\tremaining: 1m 31s\n",
      "81:\tlearn: 0.0449801\ttotal: 8.15s\tremaining: 1m 31s\n"
     ]
    },
    {
     "name": "stdout",
     "output_type": "stream",
     "text": [
      "82:\tlearn: 0.0447833\ttotal: 8.27s\tremaining: 1m 31s\n",
      "83:\tlearn: 0.0443630\ttotal: 8.39s\tremaining: 1m 31s\n",
      "84:\tlearn: 0.0439678\ttotal: 8.46s\tremaining: 1m 31s\n",
      "85:\tlearn: 0.0435932\ttotal: 8.52s\tremaining: 1m 30s\n",
      "86:\tlearn: 0.0431201\ttotal: 8.59s\tremaining: 1m 30s\n",
      "87:\tlearn: 0.0429284\ttotal: 8.65s\tremaining: 1m 29s\n",
      "88:\tlearn: 0.0423997\ttotal: 8.72s\tremaining: 1m 29s\n",
      "89:\tlearn: 0.0417723\ttotal: 8.78s\tremaining: 1m 28s\n",
      "90:\tlearn: 0.0414815\ttotal: 8.84s\tremaining: 1m 28s\n",
      "91:\tlearn: 0.0409789\ttotal: 8.91s\tremaining: 1m 27s\n",
      "92:\tlearn: 0.0407347\ttotal: 8.97s\tremaining: 1m 27s\n",
      "93:\tlearn: 0.0404156\ttotal: 9.04s\tremaining: 1m 27s\n",
      "94:\tlearn: 0.0401827\ttotal: 9.1s\tremaining: 1m 26s\n",
      "95:\tlearn: 0.0397712\ttotal: 9.16s\tremaining: 1m 26s\n",
      "96:\tlearn: 0.0394452\ttotal: 9.22s\tremaining: 1m 25s\n",
      "97:\tlearn: 0.0393583\ttotal: 9.3s\tremaining: 1m 25s\n",
      "98:\tlearn: 0.0391186\ttotal: 9.39s\tremaining: 1m 25s\n",
      "99:\tlearn: 0.0387784\ttotal: 9.49s\tremaining: 1m 25s\n",
      "100:\tlearn: 0.0384622\ttotal: 9.58s\tremaining: 1m 25s\n",
      "101:\tlearn: 0.0382985\ttotal: 9.68s\tremaining: 1m 25s\n",
      "102:\tlearn: 0.0379070\ttotal: 9.78s\tremaining: 1m 25s\n",
      "103:\tlearn: 0.0376964\ttotal: 9.87s\tremaining: 1m 25s\n",
      "104:\tlearn: 0.0374857\ttotal: 9.97s\tremaining: 1m 24s\n",
      "105:\tlearn: 0.0371979\ttotal: 10.1s\tremaining: 1m 24s\n",
      "106:\tlearn: 0.0368603\ttotal: 10.2s\tremaining: 1m 24s\n",
      "107:\tlearn: 0.0368338\ttotal: 10.2s\tremaining: 1m 24s\n",
      "108:\tlearn: 0.0366426\ttotal: 10.3s\tremaining: 1m 24s\n",
      "109:\tlearn: 0.0366042\ttotal: 10.4s\tremaining: 1m 24s\n",
      "110:\tlearn: 0.0364083\ttotal: 10.5s\tremaining: 1m 24s\n",
      "111:\tlearn: 0.0363898\ttotal: 10.6s\tremaining: 1m 24s\n",
      "112:\tlearn: 0.0363780\ttotal: 10.7s\tremaining: 1m 23s\n",
      "113:\tlearn: 0.0362041\ttotal: 10.8s\tremaining: 1m 23s\n",
      "114:\tlearn: 0.0360290\ttotal: 10.9s\tremaining: 1m 23s\n",
      "115:\tlearn: 0.0357961\ttotal: 11s\tremaining: 1m 23s\n",
      "116:\tlearn: 0.0357083\ttotal: 11s\tremaining: 1m 23s\n",
      "117:\tlearn: 0.0354975\ttotal: 11.1s\tremaining: 1m 23s\n",
      "118:\tlearn: 0.0351070\ttotal: 11.2s\tremaining: 1m 23s\n",
      "119:\tlearn: 0.0349305\ttotal: 11.3s\tremaining: 1m 23s\n",
      "120:\tlearn: 0.0348707\ttotal: 11.4s\tremaining: 1m 22s\n",
      "121:\tlearn: 0.0344046\ttotal: 11.5s\tremaining: 1m 22s\n",
      "122:\tlearn: 0.0340704\ttotal: 11.6s\tremaining: 1m 22s\n",
      "123:\tlearn: 0.0338811\ttotal: 11.7s\tremaining: 1m 22s\n",
      "124:\tlearn: 0.0337762\ttotal: 11.8s\tremaining: 1m 22s\n",
      "125:\tlearn: 0.0335991\ttotal: 11.9s\tremaining: 1m 22s\n",
      "126:\tlearn: 0.0333989\ttotal: 12s\tremaining: 1m 22s\n",
      "127:\tlearn: 0.0332512\ttotal: 12s\tremaining: 1m 22s\n",
      "128:\tlearn: 0.0332255\ttotal: 12.1s\tremaining: 1m 21s\n",
      "129:\tlearn: 0.0328524\ttotal: 12.2s\tremaining: 1m 21s\n",
      "130:\tlearn: 0.0325742\ttotal: 12.3s\tremaining: 1m 21s\n",
      "131:\tlearn: 0.0324093\ttotal: 12.4s\tremaining: 1m 21s\n",
      "132:\tlearn: 0.0322493\ttotal: 12.5s\tremaining: 1m 21s\n",
      "133:\tlearn: 0.0320297\ttotal: 12.6s\tremaining: 1m 21s\n",
      "134:\tlearn: 0.0319905\ttotal: 12.7s\tremaining: 1m 21s\n",
      "135:\tlearn: 0.0318620\ttotal: 12.8s\tremaining: 1m 21s\n",
      "136:\tlearn: 0.0316385\ttotal: 12.9s\tremaining: 1m 21s\n",
      "137:\tlearn: 0.0315874\ttotal: 13s\tremaining: 1m 21s\n",
      "138:\tlearn: 0.0314287\ttotal: 13.1s\tremaining: 1m 21s\n",
      "139:\tlearn: 0.0312931\ttotal: 13.1s\tremaining: 1m 20s\n",
      "140:\tlearn: 0.0311993\ttotal: 13.2s\tremaining: 1m 20s\n",
      "141:\tlearn: 0.0310378\ttotal: 13.3s\tremaining: 1m 20s\n",
      "142:\tlearn: 0.0308705\ttotal: 13.3s\tremaining: 1m 19s\n",
      "143:\tlearn: 0.0305843\ttotal: 13.4s\tremaining: 1m 19s\n",
      "144:\tlearn: 0.0303387\ttotal: 13.4s\tremaining: 1m 19s\n",
      "145:\tlearn: 0.0303302\ttotal: 13.5s\tremaining: 1m 19s\n",
      "146:\tlearn: 0.0301683\ttotal: 13.6s\tremaining: 1m 18s\n",
      "147:\tlearn: 0.0300013\ttotal: 13.6s\tremaining: 1m 18s\n",
      "148:\tlearn: 0.0299159\ttotal: 13.7s\tremaining: 1m 18s\n",
      "149:\tlearn: 0.0297923\ttotal: 13.7s\tremaining: 1m 17s\n",
      "150:\tlearn: 0.0297873\ttotal: 13.8s\tremaining: 1m 17s\n",
      "151:\tlearn: 0.0297122\ttotal: 13.9s\tremaining: 1m 17s\n",
      "152:\tlearn: 0.0297069\ttotal: 13.9s\tremaining: 1m 17s\n",
      "153:\tlearn: 0.0295520\ttotal: 14s\tremaining: 1m 17s\n",
      "154:\tlearn: 0.0293868\ttotal: 14.1s\tremaining: 1m 17s\n",
      "155:\tlearn: 0.0291921\ttotal: 14.2s\tremaining: 1m 16s\n",
      "156:\tlearn: 0.0291542\ttotal: 14.3s\tremaining: 1m 17s\n",
      "157:\tlearn: 0.0290890\ttotal: 14.4s\tremaining: 1m 17s\n",
      "158:\tlearn: 0.0289800\ttotal: 14.6s\tremaining: 1m 17s\n",
      "159:\tlearn: 0.0288278\ttotal: 14.7s\tremaining: 1m 17s\n",
      "160:\tlearn: 0.0287713\ttotal: 14.7s\tremaining: 1m 16s\n",
      "161:\tlearn: 0.0286668\ttotal: 14.8s\tremaining: 1m 16s\n",
      "162:\tlearn: 0.0286114\ttotal: 14.9s\tremaining: 1m 16s\n",
      "163:\tlearn: 0.0284817\ttotal: 15s\tremaining: 1m 16s\n",
      "164:\tlearn: 0.0283107\ttotal: 15.2s\tremaining: 1m 16s\n",
      "165:\tlearn: 0.0282092\ttotal: 15.3s\tremaining: 1m 16s\n",
      "166:\tlearn: 0.0281927\ttotal: 15.3s\tremaining: 1m 16s\n",
      "167:\tlearn: 0.0280151\ttotal: 15.4s\tremaining: 1m 16s\n",
      "168:\tlearn: 0.0278823\ttotal: 15.6s\tremaining: 1m 16s\n",
      "169:\tlearn: 0.0278744\ttotal: 15.7s\tremaining: 1m 16s\n",
      "170:\tlearn: 0.0277625\ttotal: 15.7s\tremaining: 1m 16s\n",
      "171:\tlearn: 0.0277017\ttotal: 15.8s\tremaining: 1m 16s\n",
      "172:\tlearn: 0.0275555\ttotal: 15.9s\tremaining: 1m 16s\n",
      "173:\tlearn: 0.0274138\ttotal: 16.1s\tremaining: 1m 16s\n",
      "174:\tlearn: 0.0271905\ttotal: 16.2s\tremaining: 1m 16s\n",
      "175:\tlearn: 0.0271350\ttotal: 16.3s\tremaining: 1m 16s\n",
      "176:\tlearn: 0.0269826\ttotal: 16.3s\tremaining: 1m 16s\n",
      "177:\tlearn: 0.0268225\ttotal: 16.5s\tremaining: 1m 16s\n",
      "178:\tlearn: 0.0267500\ttotal: 16.6s\tremaining: 1m 16s\n",
      "179:\tlearn: 0.0267476\ttotal: 16.7s\tremaining: 1m 15s\n",
      "180:\tlearn: 0.0267455\ttotal: 16.8s\tremaining: 1m 15s\n",
      "181:\tlearn: 0.0265804\ttotal: 16.9s\tremaining: 1m 15s\n",
      "182:\tlearn: 0.0264738\ttotal: 16.9s\tremaining: 1m 15s\n",
      "183:\tlearn: 0.0262766\ttotal: 17s\tremaining: 1m 15s\n",
      "184:\tlearn: 0.0261529\ttotal: 17.1s\tremaining: 1m 15s\n",
      "185:\tlearn: 0.0261464\ttotal: 17.2s\tremaining: 1m 15s\n",
      "186:\tlearn: 0.0258751\ttotal: 17.3s\tremaining: 1m 15s\n",
      "187:\tlearn: 0.0257505\ttotal: 17.4s\tremaining: 1m 15s\n",
      "188:\tlearn: 0.0255985\ttotal: 17.5s\tremaining: 1m 15s\n",
      "189:\tlearn: 0.0253701\ttotal: 17.5s\tremaining: 1m 14s\n",
      "190:\tlearn: 0.0252776\ttotal: 17.6s\tremaining: 1m 14s\n",
      "191:\tlearn: 0.0252356\ttotal: 17.7s\tremaining: 1m 14s\n",
      "192:\tlearn: 0.0250665\ttotal: 17.7s\tremaining: 1m 14s\n",
      "193:\tlearn: 0.0249226\ttotal: 17.8s\tremaining: 1m 13s\n",
      "194:\tlearn: 0.0248310\ttotal: 17.9s\tremaining: 1m 13s\n",
      "195:\tlearn: 0.0247303\ttotal: 17.9s\tremaining: 1m 13s\n",
      "196:\tlearn: 0.0246569\ttotal: 18s\tremaining: 1m 13s\n",
      "197:\tlearn: 0.0244150\ttotal: 18s\tremaining: 1m 13s\n",
      "198:\tlearn: 0.0243258\ttotal: 18.1s\tremaining: 1m 12s\n",
      "199:\tlearn: 0.0242707\ttotal: 18.2s\tremaining: 1m 12s\n",
      "200:\tlearn: 0.0241775\ttotal: 18.2s\tremaining: 1m 12s\n",
      "201:\tlearn: 0.0241751\ttotal: 18.3s\tremaining: 1m 12s\n",
      "202:\tlearn: 0.0240545\ttotal: 18.4s\tremaining: 1m 12s\n",
      "203:\tlearn: 0.0239451\ttotal: 18.4s\tremaining: 1m 11s\n",
      "204:\tlearn: 0.0238538\ttotal: 18.5s\tremaining: 1m 11s\n",
      "205:\tlearn: 0.0238328\ttotal: 18.5s\tremaining: 1m 11s\n",
      "206:\tlearn: 0.0236721\ttotal: 18.7s\tremaining: 1m 11s\n",
      "207:\tlearn: 0.0235831\ttotal: 18.8s\tremaining: 1m 11s\n",
      "208:\tlearn: 0.0234255\ttotal: 18.9s\tremaining: 1m 11s\n",
      "209:\tlearn: 0.0233651\ttotal: 19s\tremaining: 1m 11s\n",
      "210:\tlearn: 0.0233221\ttotal: 19.1s\tremaining: 1m 11s\n",
      "211:\tlearn: 0.0232980\ttotal: 19.2s\tremaining: 1m 11s\n",
      "212:\tlearn: 0.0232838\ttotal: 19.3s\tremaining: 1m 11s\n",
      "213:\tlearn: 0.0231043\ttotal: 19.4s\tremaining: 1m 11s\n",
      "214:\tlearn: 0.0230055\ttotal: 19.5s\tremaining: 1m 11s\n",
      "215:\tlearn: 0.0229767\ttotal: 19.6s\tremaining: 1m 11s\n",
      "216:\tlearn: 0.0229423\ttotal: 19.7s\tremaining: 1m 10s\n",
      "217:\tlearn: 0.0229371\ttotal: 19.7s\tremaining: 1m 10s\n",
      "218:\tlearn: 0.0229179\ttotal: 19.8s\tremaining: 1m 10s\n",
      "219:\tlearn: 0.0228084\ttotal: 19.9s\tremaining: 1m 10s\n",
      "220:\tlearn: 0.0228020\ttotal: 20s\tremaining: 1m 10s\n",
      "221:\tlearn: 0.0227766\ttotal: 20.1s\tremaining: 1m 10s\n",
      "222:\tlearn: 0.0225998\ttotal: 20.2s\tremaining: 1m 10s\n",
      "223:\tlearn: 0.0225550\ttotal: 20.3s\tremaining: 1m 10s\n",
      "224:\tlearn: 0.0224775\ttotal: 20.4s\tremaining: 1m 10s\n",
      "225:\tlearn: 0.0224706\ttotal: 20.5s\tremaining: 1m 10s\n",
      "226:\tlearn: 0.0223981\ttotal: 20.6s\tremaining: 1m 10s\n",
      "227:\tlearn: 0.0223458\ttotal: 20.7s\tremaining: 1m 10s\n",
      "228:\tlearn: 0.0223017\ttotal: 20.8s\tremaining: 1m 9s\n",
      "229:\tlearn: 0.0222158\ttotal: 20.9s\tremaining: 1m 9s\n",
      "230:\tlearn: 0.0221939\ttotal: 21s\tremaining: 1m 9s\n",
      "231:\tlearn: 0.0220820\ttotal: 21.1s\tremaining: 1m 9s\n",
      "232:\tlearn: 0.0220336\ttotal: 21.1s\tremaining: 1m 9s\n",
      "233:\tlearn: 0.0220092\ttotal: 21.2s\tremaining: 1m 9s\n",
      "234:\tlearn: 0.0219874\ttotal: 21.3s\tremaining: 1m 9s\n",
      "235:\tlearn: 0.0219768\ttotal: 21.4s\tremaining: 1m 9s\n",
      "236:\tlearn: 0.0218954\ttotal: 21.5s\tremaining: 1m 9s\n",
      "237:\tlearn: 0.0218937\ttotal: 21.6s\tremaining: 1m 9s\n",
      "238:\tlearn: 0.0217971\ttotal: 21.7s\tremaining: 1m 8s\n",
      "239:\tlearn: 0.0217116\ttotal: 21.7s\tremaining: 1m 8s\n"
     ]
    },
    {
     "name": "stdout",
     "output_type": "stream",
     "text": [
      "240:\tlearn: 0.0215201\ttotal: 21.8s\tremaining: 1m 8s\n",
      "241:\tlearn: 0.0214193\ttotal: 21.9s\tremaining: 1m 8s\n",
      "242:\tlearn: 0.0213791\ttotal: 22s\tremaining: 1m 8s\n",
      "243:\tlearn: 0.0212409\ttotal: 22.1s\tremaining: 1m 8s\n",
      "244:\tlearn: 0.0211713\ttotal: 22.2s\tremaining: 1m 8s\n",
      "245:\tlearn: 0.0209566\ttotal: 22.3s\tremaining: 1m 8s\n",
      "246:\tlearn: 0.0208690\ttotal: 22.4s\tremaining: 1m 8s\n",
      "247:\tlearn: 0.0207022\ttotal: 22.5s\tremaining: 1m 8s\n",
      "248:\tlearn: 0.0206262\ttotal: 22.6s\tremaining: 1m 8s\n",
      "249:\tlearn: 0.0205977\ttotal: 22.7s\tremaining: 1m 8s\n",
      "250:\tlearn: 0.0204844\ttotal: 22.8s\tremaining: 1m 7s\n",
      "251:\tlearn: 0.0203784\ttotal: 22.9s\tremaining: 1m 7s\n",
      "252:\tlearn: 0.0202967\ttotal: 22.9s\tremaining: 1m 7s\n",
      "253:\tlearn: 0.0202949\ttotal: 23s\tremaining: 1m 7s\n",
      "254:\tlearn: 0.0202734\ttotal: 23.1s\tremaining: 1m 7s\n",
      "255:\tlearn: 0.0202724\ttotal: 23.1s\tremaining: 1m 7s\n",
      "256:\tlearn: 0.0202692\ttotal: 23.1s\tremaining: 1m 6s\n",
      "257:\tlearn: 0.0202571\ttotal: 23.2s\tremaining: 1m 6s\n",
      "258:\tlearn: 0.0200725\ttotal: 23.3s\tremaining: 1m 6s\n",
      "259:\tlearn: 0.0200379\ttotal: 23.3s\tremaining: 1m 6s\n",
      "260:\tlearn: 0.0199015\ttotal: 23.4s\tremaining: 1m 6s\n",
      "261:\tlearn: 0.0198717\ttotal: 23.4s\tremaining: 1m 6s\n",
      "262:\tlearn: 0.0198306\ttotal: 23.5s\tremaining: 1m 5s\n",
      "263:\tlearn: 0.0198297\ttotal: 23.6s\tremaining: 1m 5s\n",
      "264:\tlearn: 0.0197813\ttotal: 23.6s\tremaining: 1m 5s\n",
      "265:\tlearn: 0.0197405\ttotal: 23.7s\tremaining: 1m 5s\n",
      "266:\tlearn: 0.0197139\ttotal: 23.7s\tremaining: 1m 5s\n",
      "267:\tlearn: 0.0196445\ttotal: 23.8s\tremaining: 1m 4s\n",
      "268:\tlearn: 0.0196071\ttotal: 23.8s\tremaining: 1m 4s\n",
      "269:\tlearn: 0.0194999\ttotal: 23.9s\tremaining: 1m 4s\n",
      "270:\tlearn: 0.0194588\ttotal: 24s\tremaining: 1m 4s\n",
      "271:\tlearn: 0.0194580\ttotal: 24.1s\tremaining: 1m 4s\n",
      "272:\tlearn: 0.0194110\ttotal: 24.2s\tremaining: 1m 4s\n",
      "273:\tlearn: 0.0193765\ttotal: 24.3s\tremaining: 1m 4s\n",
      "274:\tlearn: 0.0193752\ttotal: 24.3s\tremaining: 1m 4s\n",
      "275:\tlearn: 0.0193734\ttotal: 24.4s\tremaining: 1m 4s\n",
      "276:\tlearn: 0.0191998\ttotal: 24.5s\tremaining: 1m 3s\n",
      "277:\tlearn: 0.0191970\ttotal: 24.6s\tremaining: 1m 3s\n",
      "278:\tlearn: 0.0191823\ttotal: 24.7s\tremaining: 1m 3s\n",
      "279:\tlearn: 0.0191224\ttotal: 24.8s\tremaining: 1m 3s\n",
      "280:\tlearn: 0.0191216\ttotal: 24.8s\tremaining: 1m 3s\n",
      "281:\tlearn: 0.0190126\ttotal: 24.9s\tremaining: 1m 3s\n",
      "282:\tlearn: 0.0189876\ttotal: 25s\tremaining: 1m 3s\n",
      "283:\tlearn: 0.0188861\ttotal: 25.1s\tremaining: 1m 3s\n",
      "284:\tlearn: 0.0187849\ttotal: 25.2s\tremaining: 1m 3s\n",
      "285:\tlearn: 0.0187710\ttotal: 25.3s\tremaining: 1m 3s\n",
      "286:\tlearn: 0.0187422\ttotal: 25.4s\tremaining: 1m 3s\n",
      "287:\tlearn: 0.0187416\ttotal: 25.5s\tremaining: 1m 2s\n",
      "288:\tlearn: 0.0186620\ttotal: 25.6s\tremaining: 1m 2s\n",
      "289:\tlearn: 0.0184725\ttotal: 25.7s\tremaining: 1m 2s\n",
      "290:\tlearn: 0.0184278\ttotal: 25.8s\tremaining: 1m 2s\n",
      "291:\tlearn: 0.0184268\ttotal: 25.9s\tremaining: 1m 2s\n",
      "292:\tlearn: 0.0183084\ttotal: 25.9s\tremaining: 1m 2s\n",
      "293:\tlearn: 0.0183077\ttotal: 26s\tremaining: 1m 2s\n",
      "294:\tlearn: 0.0183050\ttotal: 26.1s\tremaining: 1m 2s\n",
      "295:\tlearn: 0.0182672\ttotal: 26.2s\tremaining: 1m 2s\n",
      "296:\tlearn: 0.0182252\ttotal: 26.3s\tremaining: 1m 2s\n",
      "297:\tlearn: 0.0181548\ttotal: 26.4s\tremaining: 1m 2s\n",
      "298:\tlearn: 0.0181427\ttotal: 26.4s\tremaining: 1m 1s\n",
      "299:\tlearn: 0.0181420\ttotal: 26.5s\tremaining: 1m 1s\n",
      "300:\tlearn: 0.0180783\ttotal: 26.6s\tremaining: 1m 1s\n",
      "301:\tlearn: 0.0179794\ttotal: 26.7s\tremaining: 1m 1s\n",
      "302:\tlearn: 0.0178525\ttotal: 26.8s\tremaining: 1m 1s\n",
      "303:\tlearn: 0.0177306\ttotal: 26.9s\tremaining: 1m 1s\n",
      "304:\tlearn: 0.0177054\ttotal: 27s\tremaining: 1m 1s\n",
      "305:\tlearn: 0.0176439\ttotal: 27.1s\tremaining: 1m 1s\n",
      "306:\tlearn: 0.0175532\ttotal: 27.2s\tremaining: 1m 1s\n",
      "307:\tlearn: 0.0175208\ttotal: 27.3s\tremaining: 1m 1s\n",
      "308:\tlearn: 0.0174187\ttotal: 27.4s\tremaining: 1m 1s\n",
      "309:\tlearn: 0.0174172\ttotal: 27.4s\tremaining: 1m 1s\n",
      "310:\tlearn: 0.0173747\ttotal: 27.5s\tremaining: 1m 1s\n",
      "311:\tlearn: 0.0173307\ttotal: 27.6s\tremaining: 1m\n",
      "312:\tlearn: 0.0173301\ttotal: 27.6s\tremaining: 1m\n",
      "313:\tlearn: 0.0172985\ttotal: 27.7s\tremaining: 1m\n",
      "314:\tlearn: 0.0172414\ttotal: 27.8s\tremaining: 1m\n",
      "315:\tlearn: 0.0172334\ttotal: 27.8s\tremaining: 1m\n",
      "316:\tlearn: 0.0172328\ttotal: 27.9s\tremaining: 1m\n",
      "317:\tlearn: 0.0171980\ttotal: 27.9s\tremaining: 59.9s\n",
      "318:\tlearn: 0.0171966\ttotal: 28s\tremaining: 59.7s\n",
      "319:\tlearn: 0.0170952\ttotal: 28s\tremaining: 59.6s\n",
      "320:\tlearn: 0.0170519\ttotal: 28.1s\tremaining: 59.4s\n",
      "321:\tlearn: 0.0170124\ttotal: 28.1s\tremaining: 59.3s\n",
      "322:\tlearn: 0.0170040\ttotal: 28.2s\tremaining: 59.1s\n",
      "323:\tlearn: 0.0169651\ttotal: 28.3s\tremaining: 59s\n",
      "324:\tlearn: 0.0168805\ttotal: 28.3s\tremaining: 58.9s\n",
      "325:\tlearn: 0.0168151\ttotal: 28.4s\tremaining: 58.7s\n",
      "326:\tlearn: 0.0166786\ttotal: 28.5s\tremaining: 58.6s\n",
      "327:\tlearn: 0.0166780\ttotal: 28.5s\tremaining: 58.5s\n",
      "328:\tlearn: 0.0166172\ttotal: 28.6s\tremaining: 58.4s\n",
      "329:\tlearn: 0.0165612\ttotal: 28.7s\tremaining: 58.3s\n",
      "330:\tlearn: 0.0165380\ttotal: 28.8s\tremaining: 58.2s\n",
      "331:\tlearn: 0.0164741\ttotal: 28.9s\tremaining: 58.2s\n",
      "332:\tlearn: 0.0164615\ttotal: 29s\tremaining: 58.1s\n",
      "333:\tlearn: 0.0164605\ttotal: 29.1s\tremaining: 58s\n",
      "334:\tlearn: 0.0164377\ttotal: 29.2s\tremaining: 57.9s\n",
      "335:\tlearn: 0.0163869\ttotal: 29.3s\tremaining: 57.8s\n",
      "336:\tlearn: 0.0163591\ttotal: 29.4s\tremaining: 57.8s\n",
      "337:\tlearn: 0.0162351\ttotal: 29.4s\tremaining: 57.7s\n",
      "338:\tlearn: 0.0161882\ttotal: 29.5s\tremaining: 57.6s\n",
      "339:\tlearn: 0.0161872\ttotal: 29.6s\tremaining: 57.5s\n",
      "340:\tlearn: 0.0161340\ttotal: 29.7s\tremaining: 57.4s\n",
      "341:\tlearn: 0.0160621\ttotal: 29.8s\tremaining: 57.3s\n",
      "342:\tlearn: 0.0159731\ttotal: 29.9s\tremaining: 57.2s\n",
      "343:\tlearn: 0.0159724\ttotal: 30s\tremaining: 57.2s\n",
      "344:\tlearn: 0.0159707\ttotal: 30.1s\tremaining: 57.1s\n",
      "345:\tlearn: 0.0159558\ttotal: 30.1s\tremaining: 57s\n",
      "346:\tlearn: 0.0159523\ttotal: 30.2s\tremaining: 56.9s\n",
      "347:\tlearn: 0.0159516\ttotal: 30.3s\tremaining: 56.8s\n",
      "348:\tlearn: 0.0158999\ttotal: 30.4s\tremaining: 56.7s\n",
      "349:\tlearn: 0.0158513\ttotal: 30.5s\tremaining: 56.6s\n",
      "350:\tlearn: 0.0158506\ttotal: 30.6s\tremaining: 56.5s\n",
      "351:\tlearn: 0.0158499\ttotal: 30.6s\tremaining: 56.4s\n",
      "352:\tlearn: 0.0157846\ttotal: 30.7s\tremaining: 56.3s\n",
      "353:\tlearn: 0.0156724\ttotal: 30.8s\tremaining: 56.3s\n",
      "354:\tlearn: 0.0155987\ttotal: 30.9s\tremaining: 56.2s\n",
      "355:\tlearn: 0.0155490\ttotal: 31s\tremaining: 56.1s\n",
      "356:\tlearn: 0.0155360\ttotal: 31.1s\tremaining: 56s\n",
      "357:\tlearn: 0.0155112\ttotal: 31.2s\tremaining: 56s\n",
      "358:\tlearn: 0.0153893\ttotal: 31.3s\tremaining: 55.9s\n",
      "359:\tlearn: 0.0153872\ttotal: 31.4s\tremaining: 55.8s\n",
      "360:\tlearn: 0.0153426\ttotal: 31.5s\tremaining: 55.7s\n",
      "361:\tlearn: 0.0152461\ttotal: 31.6s\tremaining: 55.7s\n",
      "362:\tlearn: 0.0152106\ttotal: 31.7s\tremaining: 55.6s\n",
      "363:\tlearn: 0.0151623\ttotal: 31.8s\tremaining: 55.5s\n",
      "364:\tlearn: 0.0151619\ttotal: 31.8s\tremaining: 55.4s\n",
      "365:\tlearn: 0.0151493\ttotal: 31.9s\tremaining: 55.3s\n",
      "366:\tlearn: 0.0151446\ttotal: 32s\tremaining: 55.2s\n",
      "367:\tlearn: 0.0150605\ttotal: 32s\tremaining: 55s\n",
      "368:\tlearn: 0.0150538\ttotal: 32.1s\tremaining: 54.9s\n",
      "369:\tlearn: 0.0149895\ttotal: 32.1s\tremaining: 54.7s\n",
      "370:\tlearn: 0.0149777\ttotal: 32.2s\tremaining: 54.6s\n",
      "371:\tlearn: 0.0149764\ttotal: 32.3s\tremaining: 54.4s\n",
      "372:\tlearn: 0.0148849\ttotal: 32.3s\tremaining: 54.3s\n",
      "373:\tlearn: 0.0148557\ttotal: 32.4s\tremaining: 54.2s\n",
      "374:\tlearn: 0.0148297\ttotal: 32.4s\tremaining: 54.1s\n",
      "375:\tlearn: 0.0148267\ttotal: 32.5s\tremaining: 53.9s\n",
      "376:\tlearn: 0.0148145\ttotal: 32.5s\tremaining: 53.8s\n",
      "377:\tlearn: 0.0148139\ttotal: 32.6s\tremaining: 53.6s\n",
      "378:\tlearn: 0.0147696\ttotal: 32.7s\tremaining: 53.5s\n",
      "379:\tlearn: 0.0147591\ttotal: 32.7s\tremaining: 53.4s\n",
      "380:\tlearn: 0.0147150\ttotal: 32.8s\tremaining: 53.2s\n",
      "381:\tlearn: 0.0147005\ttotal: 32.8s\tremaining: 53.1s\n",
      "382:\tlearn: 0.0146866\ttotal: 32.9s\tremaining: 53s\n",
      "383:\tlearn: 0.0146679\ttotal: 32.9s\tremaining: 52.8s\n",
      "384:\tlearn: 0.0146464\ttotal: 33s\tremaining: 52.8s\n",
      "385:\tlearn: 0.0146441\ttotal: 33.1s\tremaining: 52.7s\n",
      "386:\tlearn: 0.0146247\ttotal: 33.2s\tremaining: 52.6s\n",
      "387:\tlearn: 0.0145368\ttotal: 33.3s\tremaining: 52.5s\n",
      "388:\tlearn: 0.0145185\ttotal: 33.4s\tremaining: 52.4s\n",
      "389:\tlearn: 0.0144841\ttotal: 33.5s\tremaining: 52.3s\n",
      "390:\tlearn: 0.0144830\ttotal: 33.5s\tremaining: 52.2s\n",
      "391:\tlearn: 0.0144603\ttotal: 33.6s\tremaining: 52.2s\n",
      "392:\tlearn: 0.0144303\ttotal: 33.7s\tremaining: 52.1s\n",
      "393:\tlearn: 0.0144211\ttotal: 33.8s\tremaining: 52s\n",
      "394:\tlearn: 0.0144207\ttotal: 33.9s\tremaining: 51.9s\n",
      "395:\tlearn: 0.0143678\ttotal: 34s\tremaining: 51.8s\n",
      "396:\tlearn: 0.0143559\ttotal: 34.1s\tremaining: 51.7s\n",
      "397:\tlearn: 0.0143464\ttotal: 34.2s\tremaining: 51.7s\n",
      "398:\tlearn: 0.0142489\ttotal: 34.2s\tremaining: 51.6s\n"
     ]
    },
    {
     "name": "stdout",
     "output_type": "stream",
     "text": [
      "399:\tlearn: 0.0142485\ttotal: 34.3s\tremaining: 51.5s\n",
      "400:\tlearn: 0.0141837\ttotal: 34.4s\tremaining: 51.4s\n",
      "401:\tlearn: 0.0141799\ttotal: 34.5s\tremaining: 51.3s\n",
      "402:\tlearn: 0.0141528\ttotal: 34.6s\tremaining: 51.3s\n",
      "403:\tlearn: 0.0141357\ttotal: 34.7s\tremaining: 51.2s\n",
      "404:\tlearn: 0.0141354\ttotal: 34.8s\tremaining: 51.1s\n",
      "405:\tlearn: 0.0141175\ttotal: 34.8s\tremaining: 51s\n",
      "406:\tlearn: 0.0141125\ttotal: 34.9s\tremaining: 50.9s\n",
      "407:\tlearn: 0.0140753\ttotal: 35s\tremaining: 50.8s\n",
      "408:\tlearn: 0.0140677\ttotal: 35.1s\tremaining: 50.7s\n",
      "409:\tlearn: 0.0140601\ttotal: 35.2s\tremaining: 50.6s\n",
      "410:\tlearn: 0.0140195\ttotal: 35.3s\tremaining: 50.5s\n",
      "411:\tlearn: 0.0140191\ttotal: 35.4s\tremaining: 50.5s\n",
      "412:\tlearn: 0.0139897\ttotal: 35.4s\tremaining: 50.4s\n",
      "413:\tlearn: 0.0139790\ttotal: 35.5s\tremaining: 50.3s\n",
      "414:\tlearn: 0.0139579\ttotal: 35.6s\tremaining: 50.2s\n",
      "415:\tlearn: 0.0139305\ttotal: 35.7s\tremaining: 50.1s\n",
      "416:\tlearn: 0.0138533\ttotal: 35.8s\tremaining: 50.1s\n",
      "417:\tlearn: 0.0137589\ttotal: 35.9s\tremaining: 50s\n",
      "418:\tlearn: 0.0137003\ttotal: 36s\tremaining: 49.9s\n",
      "419:\tlearn: 0.0136999\ttotal: 36.1s\tremaining: 49.8s\n",
      "420:\tlearn: 0.0136856\ttotal: 36.2s\tremaining: 49.7s\n",
      "421:\tlearn: 0.0136851\ttotal: 36.2s\tremaining: 49.6s\n",
      "422:\tlearn: 0.0136074\ttotal: 36.3s\tremaining: 49.5s\n",
      "423:\tlearn: 0.0135641\ttotal: 36.4s\tremaining: 49.5s\n",
      "424:\tlearn: 0.0135254\ttotal: 36.5s\tremaining: 49.4s\n",
      "425:\tlearn: 0.0135214\ttotal: 36.6s\tremaining: 49.3s\n",
      "426:\tlearn: 0.0135211\ttotal: 36.6s\tremaining: 49.2s\n",
      "427:\tlearn: 0.0134604\ttotal: 36.7s\tremaining: 49.1s\n",
      "428:\tlearn: 0.0134390\ttotal: 36.8s\tremaining: 49s\n",
      "429:\tlearn: 0.0134386\ttotal: 36.9s\tremaining: 48.9s\n",
      "430:\tlearn: 0.0134372\ttotal: 37s\tremaining: 48.8s\n",
      "431:\tlearn: 0.0134202\ttotal: 37.1s\tremaining: 48.7s\n",
      "432:\tlearn: 0.0134199\ttotal: 37.1s\tremaining: 48.6s\n",
      "433:\tlearn: 0.0134196\ttotal: 37.2s\tremaining: 48.6s\n",
      "434:\tlearn: 0.0133255\ttotal: 37.3s\tremaining: 48.5s\n",
      "435:\tlearn: 0.0133187\ttotal: 37.4s\tremaining: 48.4s\n",
      "436:\tlearn: 0.0132930\ttotal: 37.5s\tremaining: 48.3s\n",
      "437:\tlearn: 0.0132915\ttotal: 37.6s\tremaining: 48.2s\n",
      "438:\tlearn: 0.0132908\ttotal: 37.7s\tremaining: 48.1s\n",
      "439:\tlearn: 0.0132705\ttotal: 37.8s\tremaining: 48.1s\n",
      "440:\tlearn: 0.0132652\ttotal: 37.8s\tremaining: 48s\n",
      "441:\tlearn: 0.0132244\ttotal: 37.9s\tremaining: 47.8s\n",
      "442:\tlearn: 0.0131821\ttotal: 37.9s\tremaining: 47.7s\n",
      "443:\tlearn: 0.0131551\ttotal: 38s\tremaining: 47.6s\n",
      "444:\tlearn: 0.0131548\ttotal: 38s\tremaining: 47.4s\n",
      "445:\tlearn: 0.0131514\ttotal: 38.1s\tremaining: 47.3s\n",
      "446:\tlearn: 0.0131178\ttotal: 38.1s\tremaining: 47.2s\n",
      "447:\tlearn: 0.0131133\ttotal: 38.2s\tremaining: 47.1s\n",
      "448:\tlearn: 0.0130723\ttotal: 38.3s\tremaining: 46.9s\n",
      "449:\tlearn: 0.0130720\ttotal: 38.3s\tremaining: 46.8s\n",
      "450:\tlearn: 0.0130359\ttotal: 38.4s\tremaining: 46.7s\n",
      "451:\tlearn: 0.0130355\ttotal: 38.4s\tremaining: 46.6s\n",
      "452:\tlearn: 0.0129785\ttotal: 38.5s\tremaining: 46.5s\n",
      "453:\tlearn: 0.0129079\ttotal: 38.5s\tremaining: 46.3s\n",
      "454:\tlearn: 0.0128990\ttotal: 38.6s\tremaining: 46.2s\n",
      "455:\tlearn: 0.0128971\ttotal: 38.6s\tremaining: 46.1s\n",
      "456:\tlearn: 0.0128924\ttotal: 38.7s\tremaining: 46s\n",
      "457:\tlearn: 0.0128921\ttotal: 38.7s\tremaining: 45.9s\n",
      "458:\tlearn: 0.0127939\ttotal: 38.8s\tremaining: 45.8s\n",
      "459:\tlearn: 0.0127786\ttotal: 38.9s\tremaining: 45.7s\n",
      "460:\tlearn: 0.0127387\ttotal: 39s\tremaining: 45.6s\n",
      "461:\tlearn: 0.0127191\ttotal: 39.1s\tremaining: 45.5s\n",
      "462:\tlearn: 0.0127007\ttotal: 39.2s\tremaining: 45.4s\n",
      "463:\tlearn: 0.0127003\ttotal: 39.2s\tremaining: 45.3s\n",
      "464:\tlearn: 0.0126109\ttotal: 39.4s\tremaining: 45.3s\n",
      "465:\tlearn: 0.0125837\ttotal: 39.4s\tremaining: 45.2s\n",
      "466:\tlearn: 0.0125822\ttotal: 39.5s\tremaining: 45.1s\n",
      "467:\tlearn: 0.0125229\ttotal: 39.6s\tremaining: 45s\n",
      "468:\tlearn: 0.0125226\ttotal: 39.7s\tremaining: 44.9s\n",
      "469:\tlearn: 0.0125220\ttotal: 39.8s\tremaining: 44.8s\n",
      "470:\tlearn: 0.0125138\ttotal: 39.9s\tremaining: 44.8s\n",
      "471:\tlearn: 0.0124207\ttotal: 40s\tremaining: 44.7s\n",
      "472:\tlearn: 0.0124199\ttotal: 40s\tremaining: 44.6s\n",
      "473:\tlearn: 0.0124153\ttotal: 40.1s\tremaining: 44.5s\n",
      "474:\tlearn: 0.0124003\ttotal: 40.2s\tremaining: 44.4s\n",
      "475:\tlearn: 0.0124001\ttotal: 40.3s\tremaining: 44.3s\n",
      "476:\tlearn: 0.0123217\ttotal: 40.4s\tremaining: 44.3s\n",
      "477:\tlearn: 0.0123090\ttotal: 40.5s\tremaining: 44.2s\n",
      "478:\tlearn: 0.0123087\ttotal: 40.5s\tremaining: 44.1s\n",
      "479:\tlearn: 0.0122910\ttotal: 40.6s\tremaining: 44s\n",
      "480:\tlearn: 0.0122407\ttotal: 40.7s\tremaining: 43.9s\n",
      "481:\tlearn: 0.0122347\ttotal: 40.8s\tremaining: 43.8s\n",
      "482:\tlearn: 0.0122259\ttotal: 40.9s\tremaining: 43.8s\n",
      "483:\tlearn: 0.0121765\ttotal: 41s\tremaining: 43.7s\n",
      "484:\tlearn: 0.0121577\ttotal: 41.1s\tremaining: 43.6s\n",
      "485:\tlearn: 0.0121311\ttotal: 41.2s\tremaining: 43.5s\n",
      "486:\tlearn: 0.0121050\ttotal: 41.2s\tremaining: 43.4s\n",
      "487:\tlearn: 0.0120620\ttotal: 41.3s\tremaining: 43.4s\n",
      "488:\tlearn: 0.0120331\ttotal: 41.4s\tremaining: 43.3s\n",
      "489:\tlearn: 0.0120143\ttotal: 41.5s\tremaining: 43.2s\n",
      "490:\tlearn: 0.0120101\ttotal: 41.6s\tremaining: 43.1s\n",
      "491:\tlearn: 0.0119924\ttotal: 41.7s\tremaining: 43.1s\n",
      "492:\tlearn: 0.0119884\ttotal: 41.8s\tremaining: 43s\n",
      "493:\tlearn: 0.0119880\ttotal: 41.9s\tremaining: 42.9s\n",
      "494:\tlearn: 0.0119738\ttotal: 42s\tremaining: 42.8s\n",
      "495:\tlearn: 0.0119736\ttotal: 42s\tremaining: 42.7s\n",
      "496:\tlearn: 0.0119341\ttotal: 42.1s\tremaining: 42.6s\n",
      "497:\tlearn: 0.0119291\ttotal: 42.2s\tremaining: 42.6s\n",
      "498:\tlearn: 0.0119232\ttotal: 42.3s\tremaining: 42.5s\n",
      "499:\tlearn: 0.0118622\ttotal: 42.4s\tremaining: 42.4s\n",
      "500:\tlearn: 0.0118248\ttotal: 42.5s\tremaining: 42.3s\n",
      "501:\tlearn: 0.0118206\ttotal: 42.6s\tremaining: 42.2s\n",
      "502:\tlearn: 0.0118205\ttotal: 42.7s\tremaining: 42.1s\n",
      "503:\tlearn: 0.0118173\ttotal: 42.7s\tremaining: 42.1s\n",
      "504:\tlearn: 0.0118171\ttotal: 42.8s\tremaining: 42s\n",
      "505:\tlearn: 0.0118163\ttotal: 42.9s\tremaining: 41.9s\n",
      "506:\tlearn: 0.0117967\ttotal: 43s\tremaining: 41.8s\n",
      "507:\tlearn: 0.0117907\ttotal: 43s\tremaining: 41.7s\n",
      "508:\tlearn: 0.0117624\ttotal: 43.1s\tremaining: 41.6s\n",
      "509:\tlearn: 0.0117587\ttotal: 43.2s\tremaining: 41.5s\n",
      "510:\tlearn: 0.0116788\ttotal: 43.3s\tremaining: 41.4s\n",
      "511:\tlearn: 0.0116612\ttotal: 43.3s\tremaining: 41.3s\n",
      "512:\tlearn: 0.0116559\ttotal: 43.4s\tremaining: 41.2s\n",
      "513:\tlearn: 0.0116559\ttotal: 43.4s\tremaining: 41s\n",
      "514:\tlearn: 0.0116307\ttotal: 43.5s\tremaining: 40.9s\n",
      "515:\tlearn: 0.0116304\ttotal: 43.5s\tremaining: 40.8s\n",
      "516:\tlearn: 0.0115691\ttotal: 43.6s\tremaining: 40.7s\n",
      "517:\tlearn: 0.0115638\ttotal: 43.6s\tremaining: 40.6s\n",
      "518:\tlearn: 0.0115405\ttotal: 43.7s\tremaining: 40.5s\n",
      "519:\tlearn: 0.0114913\ttotal: 43.8s\tremaining: 40.4s\n",
      "520:\tlearn: 0.0114912\ttotal: 43.8s\tremaining: 40.3s\n",
      "521:\tlearn: 0.0114734\ttotal: 43.9s\tremaining: 40.2s\n",
      "522:\tlearn: 0.0114491\ttotal: 43.9s\tremaining: 40.1s\n",
      "523:\tlearn: 0.0114438\ttotal: 44s\tremaining: 40s\n",
      "524:\tlearn: 0.0114366\ttotal: 44s\tremaining: 39.9s\n",
      "525:\tlearn: 0.0114329\ttotal: 44.1s\tremaining: 39.7s\n",
      "526:\tlearn: 0.0113967\ttotal: 44.2s\tremaining: 39.7s\n",
      "527:\tlearn: 0.0113965\ttotal: 44.3s\tremaining: 39.6s\n",
      "528:\tlearn: 0.0113946\ttotal: 44.3s\tremaining: 39.5s\n",
      "529:\tlearn: 0.0113890\ttotal: 44.4s\tremaining: 39.4s\n",
      "530:\tlearn: 0.0113664\ttotal: 44.5s\tremaining: 39.3s\n",
      "531:\tlearn: 0.0113265\ttotal: 44.6s\tremaining: 39.2s\n",
      "532:\tlearn: 0.0113149\ttotal: 44.7s\tremaining: 39.2s\n",
      "533:\tlearn: 0.0112485\ttotal: 44.8s\tremaining: 39.1s\n",
      "534:\tlearn: 0.0112289\ttotal: 44.9s\tremaining: 39s\n",
      "535:\tlearn: 0.0111869\ttotal: 45s\tremaining: 38.9s\n",
      "536:\tlearn: 0.0111455\ttotal: 45.1s\tremaining: 38.9s\n",
      "537:\tlearn: 0.0111156\ttotal: 45.2s\tremaining: 38.8s\n",
      "538:\tlearn: 0.0110816\ttotal: 45.3s\tremaining: 38.7s\n",
      "539:\tlearn: 0.0110600\ttotal: 45.3s\tremaining: 38.6s\n",
      "540:\tlearn: 0.0110408\ttotal: 45.4s\tremaining: 38.5s\n",
      "541:\tlearn: 0.0109960\ttotal: 45.5s\tremaining: 38.5s\n",
      "542:\tlearn: 0.0109364\ttotal: 45.6s\tremaining: 38.4s\n",
      "543:\tlearn: 0.0109306\ttotal: 45.7s\tremaining: 38.3s\n",
      "544:\tlearn: 0.0108701\ttotal: 45.8s\tremaining: 38.2s\n",
      "545:\tlearn: 0.0108357\ttotal: 45.9s\tremaining: 38.2s\n",
      "546:\tlearn: 0.0107955\ttotal: 46s\tremaining: 38.1s\n",
      "547:\tlearn: 0.0107570\ttotal: 46.1s\tremaining: 38s\n",
      "548:\tlearn: 0.0107423\ttotal: 46.2s\tremaining: 37.9s\n",
      "549:\tlearn: 0.0106611\ttotal: 46.3s\tremaining: 37.8s\n",
      "550:\tlearn: 0.0106210\ttotal: 46.3s\tremaining: 37.8s\n",
      "551:\tlearn: 0.0105894\ttotal: 46.4s\tremaining: 37.7s\n",
      "552:\tlearn: 0.0105727\ttotal: 46.5s\tremaining: 37.6s\n",
      "553:\tlearn: 0.0105335\ttotal: 46.6s\tremaining: 37.5s\n",
      "554:\tlearn: 0.0105222\ttotal: 46.7s\tremaining: 37.4s\n",
      "555:\tlearn: 0.0105111\ttotal: 46.8s\tremaining: 37.4s\n",
      "556:\tlearn: 0.0104534\ttotal: 46.9s\tremaining: 37.3s\n",
      "557:\tlearn: 0.0104145\ttotal: 47s\tremaining: 37.2s\n"
     ]
    },
    {
     "name": "stdout",
     "output_type": "stream",
     "text": [
      "558:\tlearn: 0.0104097\ttotal: 47.1s\tremaining: 37.1s\n",
      "559:\tlearn: 0.0104057\ttotal: 47.2s\tremaining: 37s\n",
      "560:\tlearn: 0.0103878\ttotal: 47.3s\tremaining: 37s\n",
      "561:\tlearn: 0.0103550\ttotal: 47.3s\tremaining: 36.9s\n",
      "562:\tlearn: 0.0103504\ttotal: 47.4s\tremaining: 36.8s\n",
      "563:\tlearn: 0.0103110\ttotal: 47.5s\tremaining: 36.7s\n",
      "564:\tlearn: 0.0102973\ttotal: 47.6s\tremaining: 36.7s\n",
      "565:\tlearn: 0.0102885\ttotal: 47.7s\tremaining: 36.6s\n",
      "566:\tlearn: 0.0102778\ttotal: 47.8s\tremaining: 36.5s\n",
      "567:\tlearn: 0.0102778\ttotal: 47.9s\tremaining: 36.4s\n",
      "568:\tlearn: 0.0102626\ttotal: 47.9s\tremaining: 36.3s\n",
      "569:\tlearn: 0.0102304\ttotal: 48s\tremaining: 36.2s\n",
      "570:\tlearn: 0.0102304\ttotal: 48.1s\tremaining: 36.1s\n",
      "571:\tlearn: 0.0102301\ttotal: 48.2s\tremaining: 36.1s\n",
      "572:\tlearn: 0.0102301\ttotal: 48.3s\tremaining: 36s\n",
      "573:\tlearn: 0.0101969\ttotal: 48.3s\tremaining: 35.9s\n",
      "574:\tlearn: 0.0101856\ttotal: 48.4s\tremaining: 35.8s\n",
      "575:\tlearn: 0.0101856\ttotal: 48.5s\tremaining: 35.7s\n",
      "576:\tlearn: 0.0101626\ttotal: 48.6s\tremaining: 35.6s\n",
      "577:\tlearn: 0.0101607\ttotal: 48.7s\tremaining: 35.5s\n",
      "578:\tlearn: 0.0101587\ttotal: 48.7s\tremaining: 35.4s\n",
      "579:\tlearn: 0.0101587\ttotal: 48.8s\tremaining: 35.3s\n",
      "580:\tlearn: 0.0101567\ttotal: 48.8s\tremaining: 35.2s\n",
      "581:\tlearn: 0.0101488\ttotal: 48.9s\tremaining: 35.1s\n",
      "582:\tlearn: 0.0101375\ttotal: 48.9s\tremaining: 35s\n",
      "583:\tlearn: 0.0101294\ttotal: 49s\tremaining: 34.9s\n",
      "584:\tlearn: 0.0101092\ttotal: 49s\tremaining: 34.8s\n",
      "585:\tlearn: 0.0101091\ttotal: 49.1s\tremaining: 34.7s\n",
      "586:\tlearn: 0.0101088\ttotal: 49.1s\tremaining: 34.6s\n",
      "587:\tlearn: 0.0100953\ttotal: 49.2s\tremaining: 34.5s\n",
      "588:\tlearn: 0.0100595\ttotal: 49.3s\tremaining: 34.4s\n",
      "589:\tlearn: 0.0100279\ttotal: 49.3s\tremaining: 34.3s\n",
      "590:\tlearn: 0.0100154\ttotal: 49.4s\tremaining: 34.2s\n",
      "591:\tlearn: 0.0099925\ttotal: 49.4s\tremaining: 34.1s\n",
      "592:\tlearn: 0.0099923\ttotal: 49.5s\tremaining: 34s\n",
      "593:\tlearn: 0.0099909\ttotal: 49.5s\tremaining: 33.9s\n",
      "594:\tlearn: 0.0099903\ttotal: 49.6s\tremaining: 33.8s\n",
      "595:\tlearn: 0.0099573\ttotal: 49.7s\tremaining: 33.7s\n",
      "596:\tlearn: 0.0099571\ttotal: 49.7s\tremaining: 33.6s\n",
      "597:\tlearn: 0.0099423\ttotal: 49.8s\tremaining: 33.5s\n",
      "598:\tlearn: 0.0099207\ttotal: 49.9s\tremaining: 33.4s\n",
      "599:\tlearn: 0.0098873\ttotal: 50s\tremaining: 33.3s\n",
      "600:\tlearn: 0.0098872\ttotal: 50.1s\tremaining: 33.3s\n",
      "601:\tlearn: 0.0098763\ttotal: 50.2s\tremaining: 33.2s\n",
      "602:\tlearn: 0.0098266\ttotal: 50.3s\tremaining: 33.1s\n",
      "603:\tlearn: 0.0098264\ttotal: 50.3s\tremaining: 33s\n",
      "604:\tlearn: 0.0098079\ttotal: 50.4s\tremaining: 32.9s\n",
      "605:\tlearn: 0.0097604\ttotal: 50.5s\tremaining: 32.8s\n",
      "606:\tlearn: 0.0097602\ttotal: 50.6s\tremaining: 32.8s\n",
      "607:\tlearn: 0.0097532\ttotal: 50.7s\tremaining: 32.7s\n",
      "608:\tlearn: 0.0097435\ttotal: 50.8s\tremaining: 32.6s\n",
      "609:\tlearn: 0.0097406\ttotal: 50.9s\tremaining: 32.5s\n",
      "610:\tlearn: 0.0097405\ttotal: 50.9s\tremaining: 32.4s\n",
      "611:\tlearn: 0.0097124\ttotal: 51s\tremaining: 32.4s\n",
      "612:\tlearn: 0.0096914\ttotal: 51.1s\tremaining: 32.3s\n",
      "613:\tlearn: 0.0096648\ttotal: 51.2s\tremaining: 32.2s\n",
      "614:\tlearn: 0.0096254\ttotal: 51.3s\tremaining: 32.1s\n",
      "615:\tlearn: 0.0096253\ttotal: 51.4s\tremaining: 32s\n",
      "616:\tlearn: 0.0096138\ttotal: 51.4s\tremaining: 31.9s\n",
      "617:\tlearn: 0.0095400\ttotal: 51.5s\tremaining: 31.9s\n",
      "618:\tlearn: 0.0095070\ttotal: 51.6s\tremaining: 31.8s\n",
      "619:\tlearn: 0.0094724\ttotal: 51.7s\tremaining: 31.7s\n",
      "620:\tlearn: 0.0094675\ttotal: 51.8s\tremaining: 31.6s\n",
      "621:\tlearn: 0.0094510\ttotal: 51.9s\tremaining: 31.5s\n",
      "622:\tlearn: 0.0094050\ttotal: 52s\tremaining: 31.5s\n",
      "623:\tlearn: 0.0093709\ttotal: 52.1s\tremaining: 31.4s\n",
      "624:\tlearn: 0.0093709\ttotal: 52.1s\tremaining: 31.3s\n",
      "625:\tlearn: 0.0093595\ttotal: 52.2s\tremaining: 31.2s\n",
      "626:\tlearn: 0.0093595\ttotal: 52.3s\tremaining: 31.1s\n",
      "627:\tlearn: 0.0093579\ttotal: 52.4s\tremaining: 31s\n",
      "628:\tlearn: 0.0093567\ttotal: 52.5s\tremaining: 30.9s\n",
      "629:\tlearn: 0.0093160\ttotal: 52.6s\tremaining: 30.9s\n",
      "630:\tlearn: 0.0093160\ttotal: 52.6s\tremaining: 30.8s\n",
      "631:\tlearn: 0.0093054\ttotal: 52.7s\tremaining: 30.7s\n",
      "632:\tlearn: 0.0092658\ttotal: 52.8s\tremaining: 30.6s\n",
      "633:\tlearn: 0.0092658\ttotal: 52.9s\tremaining: 30.5s\n",
      "634:\tlearn: 0.0092462\ttotal: 53s\tremaining: 30.4s\n",
      "635:\tlearn: 0.0092462\ttotal: 53.1s\tremaining: 30.4s\n",
      "636:\tlearn: 0.0092462\ttotal: 53.1s\tremaining: 30.3s\n",
      "637:\tlearn: 0.0092446\ttotal: 53.2s\tremaining: 30.2s\n",
      "638:\tlearn: 0.0092446\ttotal: 53.3s\tremaining: 30.1s\n",
      "639:\tlearn: 0.0092163\ttotal: 53.4s\tremaining: 30s\n",
      "640:\tlearn: 0.0092163\ttotal: 53.5s\tremaining: 29.9s\n",
      "641:\tlearn: 0.0091999\ttotal: 53.6s\tremaining: 29.9s\n",
      "642:\tlearn: 0.0091998\ttotal: 53.6s\tremaining: 29.8s\n",
      "643:\tlearn: 0.0091998\ttotal: 53.7s\tremaining: 29.7s\n",
      "644:\tlearn: 0.0091997\ttotal: 53.8s\tremaining: 29.6s\n",
      "645:\tlearn: 0.0091996\ttotal: 53.9s\tremaining: 29.5s\n",
      "646:\tlearn: 0.0091996\ttotal: 53.9s\tremaining: 29.4s\n",
      "647:\tlearn: 0.0091996\ttotal: 54s\tremaining: 29.3s\n",
      "648:\tlearn: 0.0091996\ttotal: 54.1s\tremaining: 29.3s\n",
      "649:\tlearn: 0.0091996\ttotal: 54.2s\tremaining: 29.2s\n",
      "650:\tlearn: 0.0091995\ttotal: 54.2s\tremaining: 29.1s\n",
      "651:\tlearn: 0.0091995\ttotal: 54.2s\tremaining: 29s\n",
      "652:\tlearn: 0.0091994\ttotal: 54.3s\tremaining: 28.9s\n",
      "653:\tlearn: 0.0091994\ttotal: 54.3s\tremaining: 28.7s\n",
      "654:\tlearn: 0.0091994\ttotal: 54.4s\tremaining: 28.6s\n",
      "655:\tlearn: 0.0091994\ttotal: 54.4s\tremaining: 28.5s\n",
      "656:\tlearn: 0.0091994\ttotal: 54.5s\tremaining: 28.4s\n",
      "657:\tlearn: 0.0091793\ttotal: 54.5s\tremaining: 28.3s\n",
      "658:\tlearn: 0.0091793\ttotal: 54.6s\tremaining: 28.2s\n",
      "659:\tlearn: 0.0091789\ttotal: 54.6s\tremaining: 28.1s\n",
      "660:\tlearn: 0.0091789\ttotal: 54.7s\tremaining: 28s\n",
      "661:\tlearn: 0.0091786\ttotal: 54.7s\tremaining: 27.9s\n",
      "662:\tlearn: 0.0091786\ttotal: 54.8s\tremaining: 27.9s\n",
      "663:\tlearn: 0.0091786\ttotal: 54.8s\tremaining: 27.7s\n",
      "664:\tlearn: 0.0091785\ttotal: 54.9s\tremaining: 27.6s\n",
      "665:\tlearn: 0.0091785\ttotal: 54.9s\tremaining: 27.5s\n",
      "666:\tlearn: 0.0091688\ttotal: 55s\tremaining: 27.5s\n",
      "667:\tlearn: 0.0091687\ttotal: 55.1s\tremaining: 27.4s\n",
      "668:\tlearn: 0.0091687\ttotal: 55.2s\tremaining: 27.3s\n",
      "669:\tlearn: 0.0091516\ttotal: 55.2s\tremaining: 27.2s\n",
      "670:\tlearn: 0.0091515\ttotal: 55.3s\tremaining: 27.1s\n",
      "671:\tlearn: 0.0091515\ttotal: 55.4s\tremaining: 27s\n",
      "672:\tlearn: 0.0091457\ttotal: 55.5s\tremaining: 27s\n",
      "673:\tlearn: 0.0091457\ttotal: 55.5s\tremaining: 26.9s\n",
      "674:\tlearn: 0.0091252\ttotal: 55.7s\tremaining: 26.8s\n",
      "675:\tlearn: 0.0091252\ttotal: 55.7s\tremaining: 26.7s\n",
      "676:\tlearn: 0.0091251\ttotal: 55.8s\tremaining: 26.6s\n",
      "677:\tlearn: 0.0091250\ttotal: 55.9s\tremaining: 26.5s\n",
      "678:\tlearn: 0.0091250\ttotal: 56s\tremaining: 26.4s\n",
      "679:\tlearn: 0.0091250\ttotal: 56s\tremaining: 26.4s\n",
      "680:\tlearn: 0.0091250\ttotal: 56.1s\tremaining: 26.3s\n",
      "681:\tlearn: 0.0091248\ttotal: 56.2s\tremaining: 26.2s\n",
      "682:\tlearn: 0.0091247\ttotal: 56.3s\tremaining: 26.1s\n",
      "683:\tlearn: 0.0091246\ttotal: 56.3s\tremaining: 26s\n",
      "684:\tlearn: 0.0091245\ttotal: 56.4s\tremaining: 26s\n",
      "685:\tlearn: 0.0091083\ttotal: 56.5s\tremaining: 25.9s\n",
      "686:\tlearn: 0.0091033\ttotal: 56.6s\tremaining: 25.8s\n",
      "687:\tlearn: 0.0090434\ttotal: 56.7s\tremaining: 25.7s\n",
      "688:\tlearn: 0.0090365\ttotal: 56.8s\tremaining: 25.6s\n",
      "689:\tlearn: 0.0090248\ttotal: 56.9s\tremaining: 25.6s\n",
      "690:\tlearn: 0.0090248\ttotal: 57s\tremaining: 25.5s\n",
      "691:\tlearn: 0.0090046\ttotal: 57s\tremaining: 25.4s\n",
      "692:\tlearn: 0.0089918\ttotal: 57.1s\tremaining: 25.3s\n",
      "693:\tlearn: 0.0089464\ttotal: 57.2s\tremaining: 25.2s\n",
      "694:\tlearn: 0.0089255\ttotal: 57.3s\tremaining: 25.2s\n",
      "695:\tlearn: 0.0089255\ttotal: 57.4s\tremaining: 25.1s\n",
      "696:\tlearn: 0.0089253\ttotal: 57.5s\tremaining: 25s\n",
      "697:\tlearn: 0.0089251\ttotal: 57.6s\tremaining: 24.9s\n",
      "698:\tlearn: 0.0089085\ttotal: 57.6s\tremaining: 24.8s\n",
      "699:\tlearn: 0.0089017\ttotal: 57.7s\tremaining: 24.7s\n",
      "700:\tlearn: 0.0088897\ttotal: 57.8s\tremaining: 24.7s\n",
      "701:\tlearn: 0.0088401\ttotal: 57.9s\tremaining: 24.6s\n",
      "702:\tlearn: 0.0088380\ttotal: 58s\tremaining: 24.5s\n",
      "703:\tlearn: 0.0088375\ttotal: 58.1s\tremaining: 24.4s\n",
      "704:\tlearn: 0.0088334\ttotal: 58.2s\tremaining: 24.3s\n",
      "705:\tlearn: 0.0088173\ttotal: 58.2s\tremaining: 24.3s\n",
      "706:\tlearn: 0.0088173\ttotal: 58.3s\tremaining: 24.2s\n",
      "707:\tlearn: 0.0088104\ttotal: 58.4s\tremaining: 24.1s\n",
      "708:\tlearn: 0.0087894\ttotal: 58.5s\tremaining: 24s\n",
      "709:\tlearn: 0.0087458\ttotal: 58.6s\tremaining: 23.9s\n",
      "710:\tlearn: 0.0087457\ttotal: 58.6s\tremaining: 23.8s\n",
      "711:\tlearn: 0.0087456\ttotal: 58.7s\tremaining: 23.8s\n",
      "712:\tlearn: 0.0087391\ttotal: 58.8s\tremaining: 23.7s\n",
      "713:\tlearn: 0.0087325\ttotal: 58.9s\tremaining: 23.6s\n",
      "714:\tlearn: 0.0087225\ttotal: 59s\tremaining: 23.5s\n",
      "715:\tlearn: 0.0086725\ttotal: 59.1s\tremaining: 23.4s\n",
      "716:\tlearn: 0.0086561\ttotal: 59.2s\tremaining: 23.4s\n",
      "717:\tlearn: 0.0086560\ttotal: 59.2s\tremaining: 23.3s\n",
      "718:\tlearn: 0.0086560\ttotal: 59.3s\tremaining: 23.2s\n"
     ]
    },
    {
     "name": "stdout",
     "output_type": "stream",
     "text": [
      "719:\tlearn: 0.0086260\ttotal: 59.4s\tremaining: 23.1s\n",
      "720:\tlearn: 0.0086239\ttotal: 59.5s\tremaining: 23s\n",
      "721:\tlearn: 0.0086237\ttotal: 59.6s\tremaining: 22.9s\n",
      "722:\tlearn: 0.0086205\ttotal: 59.6s\tremaining: 22.8s\n",
      "723:\tlearn: 0.0086204\ttotal: 59.7s\tremaining: 22.7s\n",
      "724:\tlearn: 0.0086173\ttotal: 59.7s\tremaining: 22.6s\n",
      "725:\tlearn: 0.0086173\ttotal: 59.8s\tremaining: 22.6s\n",
      "726:\tlearn: 0.0086172\ttotal: 59.8s\tremaining: 22.5s\n",
      "727:\tlearn: 0.0086170\ttotal: 59.9s\tremaining: 22.4s\n",
      "728:\tlearn: 0.0086138\ttotal: 59.9s\tremaining: 22.3s\n",
      "729:\tlearn: 0.0086093\ttotal: 60s\tremaining: 22.2s\n",
      "730:\tlearn: 0.0085917\ttotal: 1m\tremaining: 22.1s\n",
      "731:\tlearn: 0.0085916\ttotal: 1m\tremaining: 22s\n",
      "732:\tlearn: 0.0085738\ttotal: 1m\tremaining: 21.9s\n",
      "733:\tlearn: 0.0085560\ttotal: 1m\tremaining: 21.8s\n",
      "734:\tlearn: 0.0085252\ttotal: 1m\tremaining: 21.7s\n",
      "735:\tlearn: 0.0085251\ttotal: 1m\tremaining: 21.6s\n",
      "736:\tlearn: 0.0085152\ttotal: 1m\tremaining: 21.5s\n",
      "737:\tlearn: 0.0085055\ttotal: 1m\tremaining: 21.4s\n",
      "738:\tlearn: 0.0085054\ttotal: 1m\tremaining: 21.4s\n",
      "739:\tlearn: 0.0084655\ttotal: 1m\tremaining: 21.3s\n",
      "740:\tlearn: 0.0084469\ttotal: 1m\tremaining: 21.2s\n",
      "741:\tlearn: 0.0083820\ttotal: 1m\tremaining: 21.1s\n",
      "742:\tlearn: 0.0083239\ttotal: 1m\tremaining: 21s\n",
      "743:\tlearn: 0.0083145\ttotal: 1m\tremaining: 21s\n",
      "744:\tlearn: 0.0082725\ttotal: 1m 1s\tremaining: 20.9s\n",
      "745:\tlearn: 0.0082688\ttotal: 1m 1s\tremaining: 20.8s\n",
      "746:\tlearn: 0.0082688\ttotal: 1m 1s\tremaining: 20.7s\n",
      "747:\tlearn: 0.0082688\ttotal: 1m 1s\tremaining: 20.6s\n",
      "748:\tlearn: 0.0082688\ttotal: 1m 1s\tremaining: 20.6s\n",
      "749:\tlearn: 0.0082659\ttotal: 1m 1s\tremaining: 20.5s\n",
      "750:\tlearn: 0.0082659\ttotal: 1m 1s\tremaining: 20.4s\n",
      "751:\tlearn: 0.0082508\ttotal: 1m 1s\tremaining: 20.3s\n",
      "752:\tlearn: 0.0082463\ttotal: 1m 1s\tremaining: 20.2s\n",
      "753:\tlearn: 0.0082250\ttotal: 1m 1s\tremaining: 20.1s\n",
      "754:\tlearn: 0.0082187\ttotal: 1m 1s\tremaining: 20.1s\n",
      "755:\tlearn: 0.0082094\ttotal: 1m 1s\tremaining: 20s\n",
      "756:\tlearn: 0.0081959\ttotal: 1m 2s\tremaining: 19.9s\n",
      "757:\tlearn: 0.0081899\ttotal: 1m 2s\tremaining: 19.8s\n",
      "758:\tlearn: 0.0081750\ttotal: 1m 2s\tremaining: 19.7s\n",
      "759:\tlearn: 0.0081750\ttotal: 1m 2s\tremaining: 19.7s\n",
      "760:\tlearn: 0.0081612\ttotal: 1m 2s\tremaining: 19.6s\n",
      "761:\tlearn: 0.0081185\ttotal: 1m 2s\tremaining: 19.5s\n",
      "762:\tlearn: 0.0081185\ttotal: 1m 2s\tremaining: 19.4s\n",
      "763:\tlearn: 0.0081068\ttotal: 1m 2s\tremaining: 19.3s\n",
      "764:\tlearn: 0.0081068\ttotal: 1m 2s\tremaining: 19.3s\n",
      "765:\tlearn: 0.0081068\ttotal: 1m 2s\tremaining: 19.2s\n",
      "766:\tlearn: 0.0081068\ttotal: 1m 2s\tremaining: 19.1s\n",
      "767:\tlearn: 0.0081068\ttotal: 1m 2s\tremaining: 19s\n",
      "768:\tlearn: 0.0081068\ttotal: 1m 3s\tremaining: 18.9s\n",
      "769:\tlearn: 0.0081066\ttotal: 1m 3s\tremaining: 18.8s\n",
      "770:\tlearn: 0.0081065\ttotal: 1m 3s\tremaining: 18.8s\n",
      "771:\tlearn: 0.0081065\ttotal: 1m 3s\tremaining: 18.7s\n",
      "772:\tlearn: 0.0081065\ttotal: 1m 3s\tremaining: 18.6s\n",
      "773:\tlearn: 0.0081065\ttotal: 1m 3s\tremaining: 18.5s\n",
      "774:\tlearn: 0.0081065\ttotal: 1m 3s\tremaining: 18.4s\n",
      "775:\tlearn: 0.0081065\ttotal: 1m 3s\tremaining: 18.3s\n",
      "776:\tlearn: 0.0081065\ttotal: 1m 3s\tremaining: 18.3s\n",
      "777:\tlearn: 0.0081001\ttotal: 1m 3s\tremaining: 18.2s\n",
      "778:\tlearn: 0.0081001\ttotal: 1m 3s\tremaining: 18.1s\n",
      "779:\tlearn: 0.0081001\ttotal: 1m 3s\tremaining: 18s\n",
      "780:\tlearn: 0.0081000\ttotal: 1m 3s\tremaining: 17.9s\n",
      "781:\tlearn: 0.0081000\ttotal: 1m 3s\tremaining: 17.8s\n",
      "782:\tlearn: 0.0080525\ttotal: 1m 4s\tremaining: 17.8s\n",
      "783:\tlearn: 0.0080321\ttotal: 1m 4s\tremaining: 17.7s\n",
      "784:\tlearn: 0.0080217\ttotal: 1m 4s\tremaining: 17.6s\n",
      "785:\tlearn: 0.0080164\ttotal: 1m 4s\tremaining: 17.5s\n",
      "786:\tlearn: 0.0080163\ttotal: 1m 4s\tremaining: 17.4s\n",
      "787:\tlearn: 0.0079974\ttotal: 1m 4s\tremaining: 17.4s\n",
      "788:\tlearn: 0.0079733\ttotal: 1m 4s\tremaining: 17.3s\n",
      "789:\tlearn: 0.0079568\ttotal: 1m 4s\tremaining: 17.2s\n",
      "790:\tlearn: 0.0079567\ttotal: 1m 4s\tremaining: 17.1s\n",
      "791:\tlearn: 0.0079565\ttotal: 1m 4s\tremaining: 17s\n",
      "792:\tlearn: 0.0079565\ttotal: 1m 4s\tremaining: 16.9s\n",
      "793:\tlearn: 0.0079551\ttotal: 1m 4s\tremaining: 16.8s\n",
      "794:\tlearn: 0.0079550\ttotal: 1m 4s\tremaining: 16.7s\n",
      "795:\tlearn: 0.0079366\ttotal: 1m 4s\tremaining: 16.6s\n",
      "796:\tlearn: 0.0079365\ttotal: 1m 5s\tremaining: 16.6s\n",
      "797:\tlearn: 0.0079187\ttotal: 1m 5s\tremaining: 16.5s\n",
      "798:\tlearn: 0.0079163\ttotal: 1m 5s\tremaining: 16.4s\n",
      "799:\tlearn: 0.0079163\ttotal: 1m 5s\tremaining: 16.3s\n",
      "800:\tlearn: 0.0079025\ttotal: 1m 5s\tremaining: 16.2s\n",
      "801:\tlearn: 0.0079025\ttotal: 1m 5s\tremaining: 16.1s\n",
      "802:\tlearn: 0.0079025\ttotal: 1m 5s\tremaining: 16s\n",
      "803:\tlearn: 0.0079025\ttotal: 1m 5s\tremaining: 15.9s\n",
      "804:\tlearn: 0.0078962\ttotal: 1m 5s\tremaining: 15.8s\n",
      "805:\tlearn: 0.0078844\ttotal: 1m 5s\tremaining: 15.8s\n",
      "806:\tlearn: 0.0078670\ttotal: 1m 5s\tremaining: 15.7s\n",
      "807:\tlearn: 0.0078418\ttotal: 1m 5s\tremaining: 15.6s\n",
      "808:\tlearn: 0.0078301\ttotal: 1m 5s\tremaining: 15.5s\n",
      "809:\tlearn: 0.0078107\ttotal: 1m 5s\tremaining: 15.5s\n",
      "810:\tlearn: 0.0077995\ttotal: 1m 5s\tremaining: 15.4s\n",
      "811:\tlearn: 0.0077965\ttotal: 1m 6s\tremaining: 15.3s\n",
      "812:\tlearn: 0.0077964\ttotal: 1m 6s\tremaining: 15.2s\n",
      "813:\tlearn: 0.0077963\ttotal: 1m 6s\tremaining: 15.1s\n",
      "814:\tlearn: 0.0077941\ttotal: 1m 6s\tremaining: 15.1s\n",
      "815:\tlearn: 0.0077893\ttotal: 1m 6s\tremaining: 15s\n",
      "816:\tlearn: 0.0077784\ttotal: 1m 6s\tremaining: 14.9s\n",
      "817:\tlearn: 0.0077783\ttotal: 1m 6s\tremaining: 14.8s\n",
      "818:\tlearn: 0.0077598\ttotal: 1m 6s\tremaining: 14.7s\n",
      "819:\tlearn: 0.0077569\ttotal: 1m 6s\tremaining: 14.7s\n",
      "820:\tlearn: 0.0077290\ttotal: 1m 6s\tremaining: 14.6s\n",
      "821:\tlearn: 0.0077201\ttotal: 1m 6s\tremaining: 14.5s\n",
      "822:\tlearn: 0.0077101\ttotal: 1m 7s\tremaining: 14.4s\n",
      "823:\tlearn: 0.0077042\ttotal: 1m 7s\tremaining: 14.3s\n",
      "824:\tlearn: 0.0076930\ttotal: 1m 7s\tremaining: 14.3s\n",
      "825:\tlearn: 0.0076743\ttotal: 1m 7s\tremaining: 14.2s\n",
      "826:\tlearn: 0.0076599\ttotal: 1m 7s\tremaining: 14.1s\n",
      "827:\tlearn: 0.0076524\ttotal: 1m 7s\tremaining: 14s\n",
      "828:\tlearn: 0.0076514\ttotal: 1m 7s\tremaining: 13.9s\n",
      "829:\tlearn: 0.0076474\ttotal: 1m 7s\tremaining: 13.9s\n",
      "830:\tlearn: 0.0076267\ttotal: 1m 7s\tremaining: 13.8s\n",
      "831:\tlearn: 0.0075861\ttotal: 1m 7s\tremaining: 13.7s\n",
      "832:\tlearn: 0.0075668\ttotal: 1m 7s\tremaining: 13.6s\n",
      "833:\tlearn: 0.0075633\ttotal: 1m 8s\tremaining: 13.5s\n",
      "834:\tlearn: 0.0075584\ttotal: 1m 8s\tremaining: 13.5s\n",
      "835:\tlearn: 0.0075273\ttotal: 1m 8s\tremaining: 13.4s\n",
      "836:\tlearn: 0.0075073\ttotal: 1m 8s\tremaining: 13.3s\n",
      "837:\tlearn: 0.0074814\ttotal: 1m 8s\tremaining: 13.2s\n",
      "838:\tlearn: 0.0074413\ttotal: 1m 8s\tremaining: 13.1s\n",
      "839:\tlearn: 0.0074329\ttotal: 1m 8s\tremaining: 13.1s\n",
      "840:\tlearn: 0.0073823\ttotal: 1m 8s\tremaining: 13s\n",
      "841:\tlearn: 0.0073725\ttotal: 1m 8s\tremaining: 12.9s\n",
      "842:\tlearn: 0.0073602\ttotal: 1m 8s\tremaining: 12.8s\n",
      "843:\tlearn: 0.0073581\ttotal: 1m 8s\tremaining: 12.7s\n",
      "844:\tlearn: 0.0073552\ttotal: 1m 9s\tremaining: 12.7s\n",
      "845:\tlearn: 0.0073427\ttotal: 1m 9s\tremaining: 12.6s\n",
      "846:\tlearn: 0.0073426\ttotal: 1m 9s\tremaining: 12.5s\n",
      "847:\tlearn: 0.0073382\ttotal: 1m 9s\tremaining: 12.4s\n",
      "848:\tlearn: 0.0073358\ttotal: 1m 9s\tremaining: 12.3s\n",
      "849:\tlearn: 0.0073231\ttotal: 1m 9s\tremaining: 12.2s\n",
      "850:\tlearn: 0.0073229\ttotal: 1m 9s\tremaining: 12.1s\n",
      "851:\tlearn: 0.0073229\ttotal: 1m 9s\tremaining: 12.1s\n",
      "852:\tlearn: 0.0073118\ttotal: 1m 9s\tremaining: 12s\n",
      "853:\tlearn: 0.0073117\ttotal: 1m 9s\tremaining: 11.9s\n",
      "854:\tlearn: 0.0073109\ttotal: 1m 9s\tremaining: 11.8s\n",
      "855:\tlearn: 0.0073108\ttotal: 1m 9s\tremaining: 11.7s\n",
      "856:\tlearn: 0.0073040\ttotal: 1m 9s\tremaining: 11.6s\n",
      "857:\tlearn: 0.0072967\ttotal: 1m 9s\tremaining: 11.5s\n",
      "858:\tlearn: 0.0072801\ttotal: 1m 9s\tremaining: 11.5s\n",
      "859:\tlearn: 0.0072787\ttotal: 1m 9s\tremaining: 11.4s\n",
      "860:\tlearn: 0.0072787\ttotal: 1m 9s\tremaining: 11.3s\n",
      "861:\tlearn: 0.0072621\ttotal: 1m 9s\tremaining: 11.2s\n",
      "862:\tlearn: 0.0072600\ttotal: 1m 10s\tremaining: 11.1s\n",
      "863:\tlearn: 0.0072441\ttotal: 1m 10s\tremaining: 11s\n",
      "864:\tlearn: 0.0072179\ttotal: 1m 10s\tremaining: 10.9s\n",
      "865:\tlearn: 0.0072178\ttotal: 1m 10s\tremaining: 10.9s\n",
      "866:\tlearn: 0.0071966\ttotal: 1m 10s\tremaining: 10.8s\n",
      "867:\tlearn: 0.0071938\ttotal: 1m 10s\tremaining: 10.7s\n",
      "868:\tlearn: 0.0071497\ttotal: 1m 10s\tremaining: 10.6s\n",
      "869:\tlearn: 0.0071332\ttotal: 1m 10s\tremaining: 10.5s\n",
      "870:\tlearn: 0.0071192\ttotal: 1m 10s\tremaining: 10.5s\n",
      "871:\tlearn: 0.0071161\ttotal: 1m 10s\tremaining: 10.4s\n",
      "872:\tlearn: 0.0071161\ttotal: 1m 10s\tremaining: 10.3s\n",
      "873:\tlearn: 0.0071105\ttotal: 1m 10s\tremaining: 10.2s\n",
      "874:\tlearn: 0.0071104\ttotal: 1m 11s\tremaining: 10.1s\n",
      "875:\tlearn: 0.0070921\ttotal: 1m 11s\tremaining: 10.1s\n",
      "876:\tlearn: 0.0070921\ttotal: 1m 11s\tremaining: 9.98s\n",
      "877:\tlearn: 0.0070921\ttotal: 1m 11s\tremaining: 9.9s\n"
     ]
    },
    {
     "name": "stdout",
     "output_type": "stream",
     "text": [
      "878:\tlearn: 0.0070620\ttotal: 1m 11s\tremaining: 9.82s\n",
      "879:\tlearn: 0.0070473\ttotal: 1m 11s\tremaining: 9.74s\n",
      "880:\tlearn: 0.0070473\ttotal: 1m 11s\tremaining: 9.66s\n",
      "881:\tlearn: 0.0070473\ttotal: 1m 11s\tremaining: 9.57s\n",
      "882:\tlearn: 0.0070469\ttotal: 1m 11s\tremaining: 9.49s\n",
      "883:\tlearn: 0.0070285\ttotal: 1m 11s\tremaining: 9.41s\n",
      "884:\tlearn: 0.0070112\ttotal: 1m 11s\tremaining: 9.33s\n",
      "885:\tlearn: 0.0070112\ttotal: 1m 11s\tremaining: 9.25s\n",
      "886:\tlearn: 0.0070002\ttotal: 1m 12s\tremaining: 9.17s\n",
      "887:\tlearn: 0.0070002\ttotal: 1m 12s\tremaining: 9.09s\n",
      "888:\tlearn: 0.0069795\ttotal: 1m 12s\tremaining: 9.01s\n",
      "889:\tlearn: 0.0069795\ttotal: 1m 12s\tremaining: 8.93s\n",
      "890:\tlearn: 0.0069493\ttotal: 1m 12s\tremaining: 8.85s\n",
      "891:\tlearn: 0.0069035\ttotal: 1m 12s\tremaining: 8.77s\n",
      "892:\tlearn: 0.0068862\ttotal: 1m 12s\tremaining: 8.69s\n",
      "893:\tlearn: 0.0068464\ttotal: 1m 12s\tremaining: 8.61s\n",
      "894:\tlearn: 0.0068464\ttotal: 1m 12s\tremaining: 8.53s\n",
      "895:\tlearn: 0.0068424\ttotal: 1m 12s\tremaining: 8.45s\n",
      "896:\tlearn: 0.0068260\ttotal: 1m 12s\tremaining: 8.36s\n",
      "897:\tlearn: 0.0068260\ttotal: 1m 12s\tremaining: 8.28s\n",
      "898:\tlearn: 0.0068219\ttotal: 1m 13s\tremaining: 8.2s\n",
      "899:\tlearn: 0.0068210\ttotal: 1m 13s\tremaining: 8.12s\n",
      "900:\tlearn: 0.0068049\ttotal: 1m 13s\tremaining: 8.04s\n",
      "901:\tlearn: 0.0068049\ttotal: 1m 13s\tremaining: 7.96s\n",
      "902:\tlearn: 0.0067939\ttotal: 1m 13s\tremaining: 7.88s\n",
      "903:\tlearn: 0.0067939\ttotal: 1m 13s\tremaining: 7.79s\n",
      "904:\tlearn: 0.0067852\ttotal: 1m 13s\tremaining: 7.71s\n",
      "905:\tlearn: 0.0067838\ttotal: 1m 13s\tremaining: 7.63s\n",
      "906:\tlearn: 0.0067838\ttotal: 1m 13s\tremaining: 7.55s\n",
      "907:\tlearn: 0.0067814\ttotal: 1m 13s\tremaining: 7.47s\n",
      "908:\tlearn: 0.0067809\ttotal: 1m 13s\tremaining: 7.39s\n",
      "909:\tlearn: 0.0067511\ttotal: 1m 13s\tremaining: 7.31s\n",
      "910:\tlearn: 0.0067511\ttotal: 1m 13s\tremaining: 7.23s\n",
      "911:\tlearn: 0.0067388\ttotal: 1m 14s\tremaining: 7.15s\n",
      "912:\tlearn: 0.0067339\ttotal: 1m 14s\tremaining: 7.07s\n",
      "913:\tlearn: 0.0067337\ttotal: 1m 14s\tremaining: 6.98s\n",
      "914:\tlearn: 0.0067337\ttotal: 1m 14s\tremaining: 6.9s\n",
      "915:\tlearn: 0.0067236\ttotal: 1m 14s\tremaining: 6.82s\n",
      "916:\tlearn: 0.0067236\ttotal: 1m 14s\tremaining: 6.74s\n",
      "917:\tlearn: 0.0067236\ttotal: 1m 14s\tremaining: 6.66s\n",
      "918:\tlearn: 0.0067236\ttotal: 1m 14s\tremaining: 6.58s\n",
      "919:\tlearn: 0.0067100\ttotal: 1m 14s\tremaining: 6.49s\n",
      "920:\tlearn: 0.0067100\ttotal: 1m 14s\tremaining: 6.41s\n",
      "921:\tlearn: 0.0066805\ttotal: 1m 14s\tremaining: 6.33s\n",
      "922:\tlearn: 0.0066805\ttotal: 1m 14s\tremaining: 6.24s\n",
      "923:\tlearn: 0.0066760\ttotal: 1m 14s\tremaining: 6.16s\n",
      "924:\tlearn: 0.0066748\ttotal: 1m 14s\tremaining: 6.08s\n",
      "925:\tlearn: 0.0066575\ttotal: 1m 14s\tremaining: 5.99s\n",
      "926:\tlearn: 0.0066574\ttotal: 1m 15s\tremaining: 5.91s\n",
      "927:\tlearn: 0.0066281\ttotal: 1m 15s\tremaining: 5.83s\n",
      "928:\tlearn: 0.0066265\ttotal: 1m 15s\tremaining: 5.75s\n",
      "929:\tlearn: 0.0066172\ttotal: 1m 15s\tremaining: 5.66s\n",
      "930:\tlearn: 0.0065925\ttotal: 1m 15s\tremaining: 5.58s\n",
      "931:\tlearn: 0.0065925\ttotal: 1m 15s\tremaining: 5.5s\n",
      "932:\tlearn: 0.0065902\ttotal: 1m 15s\tremaining: 5.41s\n",
      "933:\tlearn: 0.0065818\ttotal: 1m 15s\tremaining: 5.33s\n",
      "934:\tlearn: 0.0065814\ttotal: 1m 15s\tremaining: 5.25s\n",
      "935:\tlearn: 0.0065752\ttotal: 1m 15s\tremaining: 5.17s\n",
      "936:\tlearn: 0.0065736\ttotal: 1m 15s\tremaining: 5.08s\n",
      "937:\tlearn: 0.0065612\ttotal: 1m 15s\tremaining: 5s\n",
      "938:\tlearn: 0.0065612\ttotal: 1m 15s\tremaining: 4.92s\n",
      "939:\tlearn: 0.0065492\ttotal: 1m 15s\tremaining: 4.84s\n",
      "940:\tlearn: 0.0065492\ttotal: 1m 15s\tremaining: 4.76s\n",
      "941:\tlearn: 0.0065471\ttotal: 1m 16s\tremaining: 4.68s\n",
      "942:\tlearn: 0.0065378\ttotal: 1m 16s\tremaining: 4.6s\n",
      "943:\tlearn: 0.0065342\ttotal: 1m 16s\tremaining: 4.52s\n",
      "944:\tlearn: 0.0065293\ttotal: 1m 16s\tremaining: 4.44s\n",
      "945:\tlearn: 0.0065268\ttotal: 1m 16s\tremaining: 4.36s\n",
      "946:\tlearn: 0.0065267\ttotal: 1m 16s\tremaining: 4.28s\n",
      "947:\tlearn: 0.0065227\ttotal: 1m 16s\tremaining: 4.2s\n",
      "948:\tlearn: 0.0065188\ttotal: 1m 16s\tremaining: 4.12s\n",
      "949:\tlearn: 0.0065188\ttotal: 1m 16s\tremaining: 4.04s\n",
      "950:\tlearn: 0.0064966\ttotal: 1m 16s\tremaining: 3.96s\n",
      "951:\tlearn: 0.0064845\ttotal: 1m 16s\tremaining: 3.88s\n",
      "952:\tlearn: 0.0064648\ttotal: 1m 16s\tremaining: 3.8s\n",
      "953:\tlearn: 0.0064648\ttotal: 1m 17s\tremaining: 3.71s\n",
      "954:\tlearn: 0.0064455\ttotal: 1m 17s\tremaining: 3.63s\n",
      "955:\tlearn: 0.0064455\ttotal: 1m 17s\tremaining: 3.55s\n",
      "956:\tlearn: 0.0064337\ttotal: 1m 17s\tremaining: 3.47s\n",
      "957:\tlearn: 0.0064323\ttotal: 1m 17s\tremaining: 3.39s\n",
      "958:\tlearn: 0.0064233\ttotal: 1m 17s\tremaining: 3.31s\n",
      "959:\tlearn: 0.0064232\ttotal: 1m 17s\tremaining: 3.23s\n",
      "960:\tlearn: 0.0064089\ttotal: 1m 17s\tremaining: 3.15s\n",
      "961:\tlearn: 0.0063926\ttotal: 1m 17s\tremaining: 3.07s\n",
      "962:\tlearn: 0.0063879\ttotal: 1m 17s\tremaining: 2.99s\n",
      "963:\tlearn: 0.0063877\ttotal: 1m 17s\tremaining: 2.91s\n",
      "964:\tlearn: 0.0063521\ttotal: 1m 17s\tremaining: 2.83s\n",
      "965:\tlearn: 0.0063518\ttotal: 1m 18s\tremaining: 2.75s\n",
      "966:\tlearn: 0.0063391\ttotal: 1m 18s\tremaining: 2.67s\n",
      "967:\tlearn: 0.0063326\ttotal: 1m 18s\tremaining: 2.59s\n",
      "968:\tlearn: 0.0063144\ttotal: 1m 18s\tremaining: 2.51s\n",
      "969:\tlearn: 0.0063143\ttotal: 1m 18s\tremaining: 2.42s\n",
      "970:\tlearn: 0.0063021\ttotal: 1m 18s\tremaining: 2.35s\n",
      "971:\tlearn: 0.0062939\ttotal: 1m 18s\tremaining: 2.26s\n",
      "972:\tlearn: 0.0062938\ttotal: 1m 18s\tremaining: 2.18s\n",
      "973:\tlearn: 0.0062936\ttotal: 1m 18s\tremaining: 2.1s\n",
      "974:\tlearn: 0.0062841\ttotal: 1m 18s\tremaining: 2.02s\n",
      "975:\tlearn: 0.0062841\ttotal: 1m 18s\tremaining: 1.94s\n",
      "976:\tlearn: 0.0062828\ttotal: 1m 19s\tremaining: 1.86s\n",
      "977:\tlearn: 0.0062826\ttotal: 1m 19s\tremaining: 1.78s\n",
      "978:\tlearn: 0.0062557\ttotal: 1m 19s\tremaining: 1.7s\n",
      "979:\tlearn: 0.0062556\ttotal: 1m 19s\tremaining: 1.62s\n",
      "980:\tlearn: 0.0062510\ttotal: 1m 19s\tremaining: 1.54s\n",
      "981:\tlearn: 0.0062410\ttotal: 1m 19s\tremaining: 1.46s\n",
      "982:\tlearn: 0.0062128\ttotal: 1m 19s\tremaining: 1.37s\n",
      "983:\tlearn: 0.0061790\ttotal: 1m 19s\tremaining: 1.29s\n",
      "984:\tlearn: 0.0061790\ttotal: 1m 19s\tremaining: 1.21s\n",
      "985:\tlearn: 0.0061753\ttotal: 1m 19s\tremaining: 1.13s\n",
      "986:\tlearn: 0.0061753\ttotal: 1m 19s\tremaining: 1.05s\n",
      "987:\tlearn: 0.0061752\ttotal: 1m 19s\tremaining: 968ms\n",
      "988:\tlearn: 0.0061752\ttotal: 1m 19s\tremaining: 887ms\n",
      "989:\tlearn: 0.0061670\ttotal: 1m 19s\tremaining: 806ms\n",
      "990:\tlearn: 0.0061641\ttotal: 1m 19s\tremaining: 726ms\n",
      "991:\tlearn: 0.0061448\ttotal: 1m 19s\tremaining: 645ms\n",
      "992:\tlearn: 0.0061413\ttotal: 1m 20s\tremaining: 564ms\n",
      "993:\tlearn: 0.0061391\ttotal: 1m 20s\tremaining: 483ms\n",
      "994:\tlearn: 0.0061338\ttotal: 1m 20s\tremaining: 403ms\n",
      "995:\tlearn: 0.0061334\ttotal: 1m 20s\tremaining: 322ms\n",
      "996:\tlearn: 0.0061255\ttotal: 1m 20s\tremaining: 241ms\n",
      "997:\tlearn: 0.0061255\ttotal: 1m 20s\tremaining: 161ms\n",
      "998:\tlearn: 0.0061185\ttotal: 1m 20s\tremaining: 80.4ms\n",
      "999:\tlearn: 0.0061113\ttotal: 1m 20s\tremaining: 0us\n"
     ]
    }
   ],
   "source": [
    "y_probas_cb = cross_val_predict(cb_model, X_train, y_train_5, cv=3, \n",
    "                                    method=\"predict_proba\")"
   ]
  },
  {
   "cell_type": "code",
   "execution_count": 80,
   "metadata": {},
   "outputs": [],
   "source": [
    "y_scores_cb = y_probas_cb[:, 1] # score = proba of positive class\n",
    "fpr_cb, tpr_cb, thresholds_cb = roc_curve(y_train_5, y_scores_cb)"
   ]
  },
  {
   "cell_type": "code",
   "execution_count": 81,
   "metadata": {
    "scrolled": false
   },
   "outputs": [
    {
     "name": "stdout",
     "output_type": "stream",
     "text": [
      "Saving figure roc_curve_comparison_plot\n"
     ]
    },
    {
     "data": {
      "image/png": "[encoded data removed]",
      "text/plain": [
       "<Figure size 576x432 with 1 Axes>"
      ]
     },
     "metadata": {
      "needs_background": "light"
     },
     "output_type": "display_data"
    }
   ],
   "source": [
    "plt.figure(figsize=(8, 6))\n",
    "plt.plot(fpr, tpr, \"b:\", linewidth=2, label=\"SGD\")\n",
    "plot_roc_curve(fpr_forest, tpr_forest, \"Random Forest\")\n",
    "plot_roc_curve(fpr_cb, tpr_cb, \"catboost\")\n",
    "plt.plot([4.837e-3, 4.837e-3], [0., 0.4368], \"r:\")\n",
    "plt.plot([0.0, 4.837e-3], [0.4368, 0.4368], \"r:\")\n",
    "plt.plot([4.837e-3], [0.4368], \"ro\")\n",
    "plt.plot([4.837e-3, 4.837e-3], [0., 0.9487], \"r:\")\n",
    "plt.plot([4.837e-3], [0.9487], \"ro\")\n",
    "plt.grid(True)\n",
    "plt.legend(loc=\"lower right\", fontsize=16)\n",
    "save_fig(\"roc_curve_comparison_plot\")\n",
    "plt.show()"
   ]
  },
  {
   "cell_type": "code",
   "execution_count": 83,
   "metadata": {},
   "outputs": [
    {
     "data": {
      "text/plain": [
       "0.9988110024012044"
      ]
     },
     "execution_count": 83,
     "metadata": {},
     "output_type": "execute_result"
    }
   ],
   "source": [
    "roc_auc_score(y_train_5, y_scores_cb)\n",
    "\n",
    "# sgd: 0.9604938554008616\n",
    "# random forest: 0.9983436731328145\n",
    "# 위 점수보다 조금 나은 점수이다."
   ]
  },
  {
   "cell_type": "markdown",
   "metadata": {},
   "source": [
    "# Multiclass classification"
   ]
  },
  {
   "cell_type": "code",
   "execution_count": 56,
   "metadata": {},
   "outputs": [
    {
     "data": {
      "text/plain": [
       "array([5], dtype=uint8)"
      ]
     },
     "execution_count": 56,
     "metadata": {},
     "output_type": "execute_result"
    }
   ],
   "source": [
    "from sklearn.svm import SVC\n",
    "\n",
    "svm_clf = SVC(gamma=\"auto\", random_state=42)\n",
    "svm_clf.fit(X_train[:1000], y_train[:1000]) # y_train, not y_train_5\n",
    "svm_clf.predict([some_digit])"
   ]
  },
  {
   "cell_type": "markdown",
   "metadata": {},
   "source": [
    "###### 10개 decision plane과의 거리를 나타내나? 아니네, logit같은 값 같은데, 정확히 어떤 의미인지는 모르겠다.   ???"
   ]
  },
  {
   "cell_type": "code",
   "execution_count": 57,
   "metadata": {},
   "outputs": [
    {
     "data": {
      "text/plain": [
       "array([[ 2.81585438,  7.09167958,  3.82972099,  0.79365551,  5.8885703 ,\n",
       "         9.29718395,  1.79862509,  8.10392157, -0.228207  ,  4.83753243]])"
      ]
     },
     "execution_count": 57,
     "metadata": {},
     "output_type": "execute_result"
    }
   ],
   "source": [
    "some_digit_scores = svm_clf.decision_function([some_digit])\n",
    "some_digit_scores"
   ]
  },
  {
   "cell_type": "code",
   "execution_count": 58,
   "metadata": {},
   "outputs": [
    {
     "data": {
      "text/plain": [
       "5"
      ]
     },
     "execution_count": 58,
     "metadata": {},
     "output_type": "execute_result"
    }
   ],
   "source": [
    "np.argmax(some_digit_scores)"
   ]
  },
  {
   "cell_type": "code",
   "execution_count": 59,
   "metadata": {},
   "outputs": [
    {
     "data": {
      "text/plain": [
       "array([0, 1, 2, 3, 4, 5, 6, 7, 8, 9], dtype=uint8)"
      ]
     },
     "execution_count": 59,
     "metadata": {},
     "output_type": "execute_result"
    }
   ],
   "source": [
    "svm_clf.classes_"
   ]
  },
  {
   "cell_type": "code",
   "execution_count": 60,
   "metadata": {},
   "outputs": [
    {
     "data": {
      "text/plain": [
       "5"
      ]
     },
     "execution_count": 60,
     "metadata": {},
     "output_type": "execute_result"
    }
   ],
   "source": [
    "svm_clf.classes_[5]"
   ]
  },
  {
   "cell_type": "markdown",
   "metadata": {},
   "source": [
    "###### OneVsRestClassifier이건 뭘까? "
   ]
  },
  {
   "cell_type": "code",
   "execution_count": 61,
   "metadata": {},
   "outputs": [
    {
     "data": {
      "text/plain": [
       "array([5], dtype=uint8)"
      ]
     },
     "execution_count": 61,
     "metadata": {},
     "output_type": "execute_result"
    }
   ],
   "source": [
    "from sklearn.multiclass import OneVsRestClassifier\n",
    "ovr_clf = OneVsRestClassifier(SVC(gamma=\"auto\", random_state=42))\n",
    "ovr_clf.fit(X_train[:1000], y_train[:1000])\n",
    "ovr_clf.predict([some_digit])"
   ]
  },
  {
   "cell_type": "code",
   "execution_count": 59,
   "metadata": {},
   "outputs": [
    {
     "data": {
      "text/plain": [
       "10"
      ]
     },
     "execution_count": 59,
     "metadata": {},
     "output_type": "execute_result"
    }
   ],
   "source": [
    "len(ovr_clf.estimators_)"
   ]
  },
  {
   "cell_type": "code",
   "execution_count": 60,
   "metadata": {},
   "outputs": [
    {
     "data": {
      "text/plain": [
       "array([5], dtype=uint8)"
      ]
     },
     "execution_count": 60,
     "metadata": {},
     "output_type": "execute_result"
    }
   ],
   "source": [
    "sgd_clf.fit(X_train, y_train)\n",
    "sgd_clf.predict([some_digit])"
   ]
  },
  {
   "cell_type": "code",
   "execution_count": 61,
   "metadata": {},
   "outputs": [
    {
     "data": {
      "text/plain": [
       "array([[-15955.22627845, -38080.96296175, -13326.66694897,\n",
       "           573.52692379, -17680.6846644 ,   2412.53175101,\n",
       "        -25526.86498156, -12290.15704709,  -7946.05205023,\n",
       "        -10631.35888549]])"
      ]
     },
     "execution_count": 61,
     "metadata": {},
     "output_type": "execute_result"
    }
   ],
   "source": [
    "sgd_clf.decision_function([some_digit])"
   ]
  },
  {
   "cell_type": "code",
   "execution_count": 62,
   "metadata": {},
   "outputs": [
    {
     "data": {
      "text/plain": [
       "array([0.8489802 , 0.87129356, 0.86988048])"
      ]
     },
     "execution_count": 62,
     "metadata": {},
     "output_type": "execute_result"
    }
   ],
   "source": [
    "cross_val_score(sgd_clf, X_train, y_train, cv=3, scoring=\"accuracy\")"
   ]
  },
  {
   "cell_type": "code",
   "execution_count": 63,
   "metadata": {},
   "outputs": [
    {
     "data": {
      "text/plain": [
       "array([0.89707059, 0.8960948 , 0.90693604])"
      ]
     },
     "execution_count": 63,
     "metadata": {},
     "output_type": "execute_result"
    }
   ],
   "source": [
    "from sklearn.preprocessing import StandardScaler\n",
    "scaler = StandardScaler()\n",
    "X_train_scaled = scaler.fit_transform(X_train.astype(np.float64))\n",
    "cross_val_score(sgd_clf, X_train_scaled, y_train, cv=3, scoring=\"accuracy\")"
   ]
  },
  {
   "cell_type": "code",
   "execution_count": 64,
   "metadata": {},
   "outputs": [
    {
     "data": {
      "text/plain": [
       "array([[5578,    0,   22,    7,    8,   45,   35,    5,  222,    1],\n",
       "       [   0, 6410,   35,   26,    4,   44,    4,    8,  198,   13],\n",
       "       [  28,   27, 5232,  100,   74,   27,   68,   37,  354,   11],\n",
       "       [  23,   18,  115, 5254,    2,  209,   26,   38,  373,   73],\n",
       "       [  11,   14,   45,   12, 5219,   11,   33,   26,  299,  172],\n",
       "       [  26,   16,   31,  173,   54, 4484,   76,   14,  482,   65],\n",
       "       [  31,   17,   45,    2,   42,   98, 5556,    3,  123,    1],\n",
       "       [  20,   10,   53,   27,   50,   13,    3, 5696,  173,  220],\n",
       "       [  17,   64,   47,   91,    3,  125,   24,   11, 5421,   48],\n",
       "       [  24,   18,   29,   67,  116,   39,    1,  174,  329, 5152]])"
      ]
     },
     "execution_count": 64,
     "metadata": {},
     "output_type": "execute_result"
    }
   ],
   "source": [
    "y_train_pred = cross_val_predict(sgd_clf, X_train_scaled, y_train, cv=3)\n",
    "conf_mx = confusion_matrix(y_train, y_train_pred)\n",
    "conf_mx"
   ]
  },
  {
   "cell_type": "code",
   "execution_count": 65,
   "metadata": {},
   "outputs": [],
   "source": [
    "# since sklearn 0.22, you can use sklearn.metrics.plot_confusion_matrix()\n",
    "def plot_confusion_matrix(matrix):\n",
    "    \"\"\"If you prefer color and a colorbar\"\"\"\n",
    "    fig = plt.figure(figsize=(8,8))\n",
    "    ax = fig.add_subplot(111)\n",
    "    cax = ax.matshow(matrix)\n",
    "    fig.colorbar(cax)"
   ]
  },
  {
   "cell_type": "code",
   "execution_count": 66,
   "metadata": {},
   "outputs": [
    {
     "name": "stdout",
     "output_type": "stream",
     "text": [
      "Saving figure confusion_matrix_plot\n"
     ]
    },
    {
     "data": {
      "image/png": "[encoded data removed]",
      "text/plain": [
       "<Figure size 288x288 with 1 Axes>"
      ]
     },
     "metadata": {
      "needs_background": "light"
     },
     "output_type": "display_data"
    }
   ],
   "source": [
    "plt.matshow(conf_mx, cmap=plt.cm.gray)\n",
    "save_fig(\"confusion_matrix_plot\", tight_layout=False)\n",
    "plt.show()"
   ]
  },
  {
   "cell_type": "code",
   "execution_count": 67,
   "metadata": {},
   "outputs": [],
   "source": [
    "row_sums = conf_mx.sum(axis=1, keepdims=True)\n",
    "norm_conf_mx = conf_mx / row_sums"
   ]
  },
  {
   "cell_type": "code",
   "execution_count": 68,
   "metadata": {},
   "outputs": [
    {
     "name": "stdout",
     "output_type": "stream",
     "text": [
      "Saving figure confusion_matrix_errors_plot\n"
     ]
    },
    {
     "data": {
      "image/png": "[encoded data removed]",
      "text/plain": [
       "<Figure size 288x288 with 1 Axes>"
      ]
     },
     "metadata": {
      "needs_background": "light"
     },
     "output_type": "display_data"
    }
   ],
   "source": [
    "np.fill_diagonal(norm_conf_mx, 0)\n",
    "plt.matshow(norm_conf_mx, cmap=plt.cm.gray)\n",
    "save_fig(\"confusion_matrix_errors_plot\", tight_layout=False)\n",
    "plt.show()"
   ]
  },
  {
   "cell_type": "code",
   "execution_count": 69,
   "metadata": {},
   "outputs": [
    {
     "name": "stdout",
     "output_type": "stream",
     "text": [
      "Saving figure error_analysis_digits_plot\n"
     ]
    },
    {
     "data": {
      "image/png": "[encoded data removed]",
      "text/plain": [
       "<Figure size 576x576 with 4 Axes>"
      ]
     },
     "metadata": {
      "needs_background": "light"
     },
     "output_type": "display_data"
    }
   ],
   "source": [
    "cl_a, cl_b = 3, 5\n",
    "X_aa = X_train[(y_train == cl_a) & (y_train_pred == cl_a)]\n",
    "X_ab = X_train[(y_train == cl_a) & (y_train_pred == cl_b)]\n",
    "X_ba = X_train[(y_train == cl_b) & (y_train_pred == cl_a)]\n",
    "X_bb = X_train[(y_train == cl_b) & (y_train_pred == cl_b)]\n",
    "\n",
    "plt.figure(figsize=(8,8))\n",
    "plt.subplot(221); plot_digits(X_aa[:25], images_per_row=5)\n",
    "plt.subplot(222); plot_digits(X_ab[:25], images_per_row=5)\n",
    "plt.subplot(223); plot_digits(X_ba[:25], images_per_row=5)\n",
    "plt.subplot(224); plot_digits(X_bb[:25], images_per_row=5)\n",
    "save_fig(\"error_analysis_digits_plot\")\n",
    "plt.show()"
   ]
  },
  {
   "cell_type": "markdown",
   "metadata": {},
   "source": [
    "# Multilabel classification"
   ]
  },
  {
   "cell_type": "code",
   "execution_count": 70,
   "metadata": {},
   "outputs": [
    {
     "data": {
      "text/plain": [
       "KNeighborsClassifier(algorithm='auto', leaf_size=30, metric='minkowski',\n",
       "           metric_params=None, n_jobs=None, n_neighbors=5, p=2,\n",
       "           weights='uniform')"
      ]
     },
     "execution_count": 70,
     "metadata": {},
     "output_type": "execute_result"
    }
   ],
   "source": [
    "from sklearn.neighbors import KNeighborsClassifier\n",
    "\n",
    "y_train_large = (y_train >= 7)\n",
    "y_train_odd = (y_train % 2 == 1)\n",
    "y_multilabel = np.c_[y_train_large, y_train_odd]\n",
    "\n",
    "knn_clf = KNeighborsClassifier()\n",
    "knn_clf.fit(X_train, y_multilabel)"
   ]
  },
  {
   "cell_type": "code",
   "execution_count": 71,
   "metadata": {},
   "outputs": [
    {
     "data": {
      "text/plain": [
       "array([[False,  True]])"
      ]
     },
     "execution_count": 71,
     "metadata": {},
     "output_type": "execute_result"
    }
   ],
   "source": [
    "knn_clf.predict([some_digit])"
   ]
  },
  {
   "cell_type": "markdown",
   "metadata": {},
   "source": [
    "**Warning**: the following cell may take a very long time (possibly hours depending on your hardware)."
   ]
  },
  {
   "cell_type": "code",
   "execution_count": 72,
   "metadata": {},
   "outputs": [
    {
     "data": {
      "text/plain": [
       "0.976410265560605"
      ]
     },
     "execution_count": 72,
     "metadata": {},
     "output_type": "execute_result"
    }
   ],
   "source": [
    "y_train_knn_pred = cross_val_predict(knn_clf, X_train, y_multilabel, cv=3)\n",
    "f1_score(y_multilabel, y_train_knn_pred, average=\"macro\")"
   ]
  },
  {
   "cell_type": "markdown",
   "metadata": {},
   "source": [
    "# Multioutput classification"
   ]
  },
  {
   "cell_type": "code",
   "execution_count": 73,
   "metadata": {},
   "outputs": [],
   "source": [
    "noise = np.random.randint(0, 100, (len(X_train), 784))\n",
    "X_train_mod = X_train + noise\n",
    "noise = np.random.randint(0, 100, (len(X_test), 784))\n",
    "X_test_mod = X_test + noise\n",
    "y_train_mod = X_train\n",
    "y_test_mod = X_test"
   ]
  },
  {
   "cell_type": "code",
   "execution_count": 74,
   "metadata": {},
   "outputs": [
    {
     "name": "stdout",
     "output_type": "stream",
     "text": [
      "Saving figure noisy_digit_example_plot\n"
     ]
    },
    {
     "data": {
      "image/png": "[encoded data removed]",
      "text/plain": [
       "<Figure size 432x288 with 2 Axes>"
      ]
     },
     "metadata": {
      "needs_background": "light"
     },
     "output_type": "display_data"
    }
   ],
   "source": [
    "some_index = 0\n",
    "plt.subplot(121); plot_digit(X_test_mod[some_index])\n",
    "plt.subplot(122); plot_digit(y_test_mod[some_index])\n",
    "save_fig(\"noisy_digit_example_plot\")\n",
    "plt.show()"
   ]
  },
  {
   "cell_type": "code",
   "execution_count": 75,
   "metadata": {},
   "outputs": [
    {
     "name": "stdout",
     "output_type": "stream",
     "text": [
      "Saving figure cleaned_digit_example_plot\n"
     ]
    },
    {
     "data": {
      "image/png": "[encoded data removed]",
      "text/plain": [
       "<Figure size 432x288 with 1 Axes>"
      ]
     },
     "metadata": {
      "needs_background": "light"
     },
     "output_type": "display_data"
    }
   ],
   "source": [
    "knn_clf.fit(X_train_mod, y_train_mod)\n",
    "clean_digit = knn_clf.predict([X_test_mod[some_index]])\n",
    "plot_digit(clean_digit)\n",
    "save_fig(\"cleaned_digit_example_plot\")"
   ]
  },
  {
   "cell_type": "markdown",
   "metadata": {},
   "source": [
    "# Extra material"
   ]
  },
  {
   "cell_type": "markdown",
   "metadata": {},
   "source": [
    "## Dummy (ie. random) classifier"
   ]
  },
  {
   "cell_type": "code",
   "execution_count": 76,
   "metadata": {},
   "outputs": [],
   "source": [
    "from sklearn.dummy import DummyClassifier\n",
    "dmy_clf = DummyClassifier()\n",
    "y_probas_dmy = cross_val_predict(dmy_clf, X_train, y_train_5, cv=3, method=\"predict_proba\")\n",
    "y_scores_dmy = y_probas_dmy[:, 1]"
   ]
  },
  {
   "cell_type": "code",
   "execution_count": 77,
   "metadata": {
    "scrolled": true
   },
   "outputs": [
    {
     "data": {
      "image/png": "[encoded data removed]",
      "text/plain": [
       "<Figure size 432x288 with 1 Axes>"
      ]
     },
     "metadata": {
      "needs_background": "light"
     },
     "output_type": "display_data"
    }
   ],
   "source": [
    "fprr, tprr, thresholdsr = roc_curve(y_train_5, y_scores_dmy)\n",
    "plot_roc_curve(fprr, tprr)"
   ]
  },
  {
   "cell_type": "markdown",
   "metadata": {},
   "source": [
    "## KNN classifier"
   ]
  },
  {
   "cell_type": "code",
   "execution_count": 78,
   "metadata": {},
   "outputs": [
    {
     "data": {
      "text/plain": [
       "KNeighborsClassifier(algorithm='auto', leaf_size=30, metric='minkowski',\n",
       "           metric_params=None, n_jobs=None, n_neighbors=4, p=2,\n",
       "           weights='distance')"
      ]
     },
     "execution_count": 78,
     "metadata": {},
     "output_type": "execute_result"
    }
   ],
   "source": [
    "from sklearn.neighbors import KNeighborsClassifier\n",
    "knn_clf = KNeighborsClassifier(weights='distance', n_neighbors=4)\n",
    "knn_clf.fit(X_train, y_train)"
   ]
  },
  {
   "cell_type": "code",
   "execution_count": 79,
   "metadata": {},
   "outputs": [],
   "source": [
    "y_knn_pred = knn_clf.predict(X_test)"
   ]
  },
  {
   "cell_type": "code",
   "execution_count": 80,
   "metadata": {},
   "outputs": [
    {
     "data": {
      "text/plain": [
       "0.9714"
      ]
     },
     "execution_count": 80,
     "metadata": {},
     "output_type": "execute_result"
    }
   ],
   "source": [
    "from sklearn.metrics import accuracy_score\n",
    "accuracy_score(y_test, y_knn_pred)"
   ]
  },
  {
   "cell_type": "code",
   "execution_count": 81,
   "metadata": {},
   "outputs": [
    {
     "data": {
      "image/png": "[encoded data removed]",
      "text/plain": [
       "<Figure size 432x288 with 1 Axes>"
      ]
     },
     "metadata": {
      "needs_background": "light"
     },
     "output_type": "display_data"
    }
   ],
   "source": [
    "from scipy.ndimage.interpolation import shift\n",
    "def shift_digit(digit_array, dx, dy, new=0):\n",
    "    return shift(digit_array.reshape(28, 28), [dy, dx], cval=new).reshape(784)\n",
    "\n",
    "plot_digit(shift_digit(some_digit, 5, 1, new=100))"
   ]
  },
  {
   "cell_type": "code",
   "execution_count": 82,
   "metadata": {},
   "outputs": [
    {
     "data": {
      "text/plain": [
       "((300000, 784), (300000,))"
      ]
     },
     "execution_count": 82,
     "metadata": {},
     "output_type": "execute_result"
    }
   ],
   "source": [
    "X_train_expanded = [X_train]\n",
    "y_train_expanded = [y_train]\n",
    "for dx, dy in ((1, 0), (-1, 0), (0, 1), (0, -1)):\n",
    "    shifted_images = np.apply_along_axis(shift_digit, axis=1, arr=X_train, dx=dx, dy=dy)\n",
    "    X_train_expanded.append(shifted_images)\n",
    "    y_train_expanded.append(y_train)\n",
    "\n",
    "X_train_expanded = np.concatenate(X_train_expanded)\n",
    "y_train_expanded = np.concatenate(y_train_expanded)\n",
    "X_train_expanded.shape, y_train_expanded.shape"
   ]
  },
  {
   "cell_type": "code",
   "execution_count": 83,
   "metadata": {},
   "outputs": [
    {
     "data": {
      "text/plain": [
       "KNeighborsClassifier(algorithm='auto', leaf_size=30, metric='minkowski',\n",
       "           metric_params=None, n_jobs=None, n_neighbors=4, p=2,\n",
       "           weights='distance')"
      ]
     },
     "execution_count": 83,
     "metadata": {},
     "output_type": "execute_result"
    }
   ],
   "source": [
    "knn_clf.fit(X_train_expanded, y_train_expanded)"
   ]
  },
  {
   "cell_type": "code",
   "execution_count": 84,
   "metadata": {},
   "outputs": [],
   "source": [
    "y_knn_expanded_pred = knn_clf.predict(X_test)"
   ]
  },
  {
   "cell_type": "code",
   "execution_count": 85,
   "metadata": {},
   "outputs": [
    {
     "data": {
      "text/plain": [
       "0.9763"
      ]
     },
     "execution_count": 85,
     "metadata": {},
     "output_type": "execute_result"
    }
   ],
   "source": [
    "accuracy_score(y_test, y_knn_expanded_pred)"
   ]
  },
  {
   "cell_type": "code",
   "execution_count": 86,
   "metadata": {},
   "outputs": [
    {
     "data": {
      "text/plain": [
       "array([[0.24579675, 0.        , 0.        , 0.        , 0.        ,\n",
       "        0.        , 0.        , 0.        , 0.        , 0.75420325]])"
      ]
     },
     "execution_count": 86,
     "metadata": {},
     "output_type": "execute_result"
    }
   ],
   "source": [
    "ambiguous_digit = X_test[2589]\n",
    "knn_clf.predict_proba([ambiguous_digit])"
   ]
  },
  {
   "cell_type": "code",
   "execution_count": 87,
   "metadata": {},
   "outputs": [
    {
     "data": {
      "image/png": "[encoded data removed]",
      "text/plain": [
       "<Figure size 432x288 with 1 Axes>"
      ]
     },
     "metadata": {
      "needs_background": "light"
     },
     "output_type": "display_data"
    }
   ],
   "source": [
    "plot_digit(ambiguous_digit)"
   ]
  },
  {
   "cell_type": "markdown",
   "metadata": {},
   "source": [
    "# Exercise solutions"
   ]
  },
  {
   "cell_type": "markdown",
   "metadata": {},
   "source": [
    "## 1. An MNIST Classifier With Over 97% Accuracy"
   ]
  },
  {
   "cell_type": "markdown",
   "metadata": {},
   "source": [
    "**Warning**: the next cell may take hours to run, depending on your hardware."
   ]
  },
  {
   "cell_type": "code",
   "execution_count": 88,
   "metadata": {},
   "outputs": [
    {
     "name": "stdout",
     "output_type": "stream",
     "text": [
      "Fitting 5 folds for each of 6 candidates, totalling 30 fits\n",
      "[CV] n_neighbors=3, weights=uniform ..................................\n"
     ]
    },
    {
     "name": "stderr",
     "output_type": "stream",
     "text": [
      "[Parallel(n_jobs=1)]: Using backend SequentialBackend with 1 concurrent workers.\n"
     ]
    },
    {
     "name": "stdout",
     "output_type": "stream",
     "text": [
      "[CV]  n_neighbors=3, weights=uniform, score=0.9717617659308622, total=10.9min\n",
      "[CV] n_neighbors=3, weights=uniform ..................................\n"
     ]
    },
    {
     "name": "stderr",
     "output_type": "stream",
     "text": [
      "[Parallel(n_jobs=1)]: Done   1 out of   1 | elapsed: 52.2min remaining:    0.0s\n"
     ]
    },
    {
     "name": "stdout",
     "output_type": "stream",
     "text": [
      "[CV]  n_neighbors=3, weights=uniform, score=0.9706715547408765, total=10.7min\n",
      "[CV] n_neighbors=3, weights=uniform ..................................\n"
     ]
    },
    {
     "name": "stderr",
     "output_type": "stream",
     "text": [
      "[Parallel(n_jobs=1)]: Done   2 out of   2 | elapsed: 103.2min remaining:    0.0s\n"
     ]
    },
    {
     "name": "stdout",
     "output_type": "stream",
     "text": [
      "[CV]  n_neighbors=3, weights=uniform, score=0.9689166666666666, total=10.1min\n",
      "[CV] n_neighbors=3, weights=uniform ..................................\n",
      "[CV]  n_neighbors=3, weights=uniform, score=0.968575477202634, total=11.0min\n",
      "[CV] n_neighbors=3, weights=uniform ..................................\n",
      "[CV]  n_neighbors=3, weights=uniform, score=0.9704068022674225, total=11.0min\n",
      "[CV] n_neighbors=3, weights=distance .................................\n",
      "[CV]  n_neighbors=3, weights=distance, score=0.9723448563098709, total=10.9min\n",
      "[CV] n_neighbors=3, weights=distance .................................\n",
      "[CV]  n_neighbors=3, weights=distance, score=0.9716713881019831, total=11.2min\n",
      "[CV] n_neighbors=3, weights=distance .................................\n",
      "[CV]  n_neighbors=3, weights=distance, score=0.9700833333333333, total= 9.9min\n",
      "[CV] n_neighbors=3, weights=distance .................................\n",
      "[CV]  n_neighbors=3, weights=distance, score=0.9700758522964075, total=10.0min\n",
      "[CV] n_neighbors=3, weights=distance .................................\n",
      "[CV]  n_neighbors=3, weights=distance, score=0.971407135711904, total= 9.9min\n",
      "[CV] n_neighbors=4, weights=uniform ..................................\n",
      "[CV]  n_neighbors=4, weights=uniform, score=0.9690129112869638, total= 9.9min\n",
      "[CV] n_neighbors=4, weights=uniform ..................................\n",
      "[CV]  n_neighbors=4, weights=uniform, score=0.9682552907848692, total= 9.9min\n",
      "[CV] n_neighbors=4, weights=uniform ..................................\n",
      "[CV]  n_neighbors=4, weights=uniform, score=0.9675833333333334, total= 9.9min\n",
      "[CV] n_neighbors=4, weights=uniform ..................................\n",
      "[CV]  n_neighbors=4, weights=uniform, score=0.9673251646244895, total= 9.9min\n",
      "[CV] n_neighbors=4, weights=uniform ..................................\n",
      "[CV]  n_neighbors=4, weights=uniform, score=0.970323441147049, total= 9.9min\n",
      "[CV] n_neighbors=4, weights=distance .................................\n",
      "[CV]  n_neighbors=4, weights=distance, score=0.9730112453144523, total= 9.9min\n",
      "[CV] n_neighbors=4, weights=distance .................................\n",
      "[CV]  n_neighbors=4, weights=distance, score=0.9722546242292951, total= 9.9min\n",
      "[CV] n_neighbors=4, weights=distance .................................\n",
      "[CV]  n_neighbors=4, weights=distance, score=0.9699166666666666, total= 9.9min\n",
      "[CV] n_neighbors=4, weights=distance .................................\n",
      "[CV]  n_neighbors=4, weights=distance, score=0.9709093940151705, total=10.5min\n",
      "[CV] n_neighbors=4, weights=distance .................................\n",
      "[CV]  n_neighbors=4, weights=distance, score=0.9719906635545181, total=10.7min\n",
      "[CV] n_neighbors=5, weights=uniform ..................................\n",
      "[CV]  n_neighbors=5, weights=uniform, score=0.9697625989171179, total=10.9min\n",
      "[CV] n_neighbors=5, weights=uniform ..................................\n",
      "[CV]  n_neighbors=5, weights=uniform, score=0.9701716380603232, total=10.5min\n",
      "[CV] n_neighbors=5, weights=uniform ..................................\n",
      "[CV]  n_neighbors=5, weights=uniform, score=0.9694166666666667, total=10.5min\n",
      "[CV] n_neighbors=5, weights=uniform ..................................\n",
      "[CV]  n_neighbors=5, weights=uniform, score=0.9681587063432525, total=10.7min\n",
      "[CV] n_neighbors=5, weights=uniform ..................................\n",
      "[CV]  n_neighbors=5, weights=uniform, score=0.9689896632210737, total=10.6min\n",
      "[CV] n_neighbors=5, weights=distance .................................\n",
      "[CV]  n_neighbors=5, weights=distance, score=0.9703456892961266, total=10.6min\n",
      "[CV] n_neighbors=5, weights=distance .................................\n",
      "[CV]  n_neighbors=5, weights=distance, score=0.9713381103149475, total=11.1min\n",
      "[CV] n_neighbors=5, weights=distance .................................\n",
      "[CV]  n_neighbors=5, weights=distance, score=0.9704166666666667, total=10.4min\n",
      "[CV] n_neighbors=5, weights=distance .................................\n",
      "[CV]  n_neighbors=5, weights=distance, score=0.969409018921397, total=10.6min\n",
      "[CV] n_neighbors=5, weights=distance .................................\n",
      "[CV]  n_neighbors=5, weights=distance, score=0.9706568856285428, total=12.7min\n"
     ]
    },
    {
     "name": "stderr",
     "output_type": "stream",
     "text": [
      "[Parallel(n_jobs=1)]: Done  30 out of  30 | elapsed: 1523.6min finished\n"
     ]
    },
    {
     "data": {
      "text/plain": [
       "GridSearchCV(cv=5, error_score='raise-deprecating',\n",
       "       estimator=KNeighborsClassifier(algorithm='auto', leaf_size=30, metric='minkowski',\n",
       "           metric_params=None, n_jobs=None, n_neighbors=5, p=2,\n",
       "           weights='uniform'),\n",
       "       fit_params=None, iid='warn', n_jobs=None,\n",
       "       param_grid=[{'weights': ['uniform', 'distance'], 'n_neighbors': [3, 4, 5]}],\n",
       "       pre_dispatch='2*n_jobs', refit=True, return_train_score='warn',\n",
       "       scoring=None, verbose=3)"
      ]
     },
     "execution_count": 88,
     "metadata": {},
     "output_type": "execute_result"
    }
   ],
   "source": [
    "from sklearn.model_selection import GridSearchCV\n",
    "\n",
    "param_grid = [{'weights': [\"uniform\", \"distance\"], 'n_neighbors': [3, 4, 5]}]\n",
    "\n",
    "knn_clf = KNeighborsClassifier()\n",
    "grid_search = GridSearchCV(knn_clf, param_grid, cv=5, verbose=3)\n",
    "grid_search.fit(X_train, y_train)"
   ]
  },
  {
   "cell_type": "code",
   "execution_count": 89,
   "metadata": {},
   "outputs": [
    {
     "data": {
      "text/plain": [
       "{'n_neighbors': 4, 'weights': 'distance'}"
      ]
     },
     "execution_count": 89,
     "metadata": {},
     "output_type": "execute_result"
    }
   ],
   "source": [
    "grid_search.best_params_"
   ]
  },
  {
   "cell_type": "code",
   "execution_count": 90,
   "metadata": {},
   "outputs": [
    {
     "data": {
      "text/plain": [
       "0.9716166666666667"
      ]
     },
     "execution_count": 90,
     "metadata": {},
     "output_type": "execute_result"
    }
   ],
   "source": [
    "grid_search.best_score_"
   ]
  },
  {
   "cell_type": "code",
   "execution_count": 91,
   "metadata": {},
   "outputs": [
    {
     "data": {
      "text/plain": [
       "0.9714"
      ]
     },
     "execution_count": 91,
     "metadata": {},
     "output_type": "execute_result"
    }
   ],
   "source": [
    "from sklearn.metrics import accuracy_score\n",
    "\n",
    "y_pred = grid_search.predict(X_test)\n",
    "accuracy_score(y_test, y_pred)"
   ]
  },
  {
   "cell_type": "markdown",
   "metadata": {},
   "source": [
    "## 2. Data Augmentation"
   ]
  },
  {
   "cell_type": "code",
   "execution_count": 92,
   "metadata": {},
   "outputs": [],
   "source": [
    "from scipy.ndimage.interpolation import shift"
   ]
  },
  {
   "cell_type": "code",
   "execution_count": 93,
   "metadata": {},
   "outputs": [],
   "source": [
    "def shift_image(image, dx, dy):\n",
    "    image = image.reshape((28, 28))\n",
    "    shifted_image = shift(image, [dy, dx], cval=0, mode=\"constant\")\n",
    "    return shifted_image.reshape([-1])"
   ]
  },
  {
   "cell_type": "code",
   "execution_count": 94,
   "metadata": {},
   "outputs": [
    {
     "data": {
      "image/png": "[encoded data removed]",
      "text/plain": [
       "<Figure size 864x216 with 3 Axes>"
      ]
     },
     "metadata": {
      "needs_background": "light"
     },
     "output_type": "display_data"
    }
   ],
   "source": [
    "image = X_train[1000]\n",
    "shifted_image_down = shift_image(image, 0, 5)\n",
    "shifted_image_left = shift_image(image, -5, 0)\n",
    "\n",
    "plt.figure(figsize=(12,3))\n",
    "plt.subplot(131)\n",
    "plt.title(\"Original\", fontsize=14)\n",
    "plt.imshow(image.reshape(28, 28), interpolation=\"nearest\", cmap=\"Greys\")\n",
    "plt.subplot(132)\n",
    "plt.title(\"Shifted down\", fontsize=14)\n",
    "plt.imshow(shifted_image_down.reshape(28, 28), interpolation=\"nearest\", cmap=\"Greys\")\n",
    "plt.subplot(133)\n",
    "plt.title(\"Shifted left\", fontsize=14)\n",
    "plt.imshow(shifted_image_left.reshape(28, 28), interpolation=\"nearest\", cmap=\"Greys\")\n",
    "plt.show()"
   ]
  },
  {
   "cell_type": "code",
   "execution_count": 95,
   "metadata": {},
   "outputs": [],
   "source": [
    "X_train_augmented = [image for image in X_train]\n",
    "y_train_augmented = [label for label in y_train]\n",
    "\n",
    "for dx, dy in ((1, 0), (-1, 0), (0, 1), (0, -1)):\n",
    "    for image, label in zip(X_train, y_train):\n",
    "        X_train_augmented.append(shift_image(image, dx, dy))\n",
    "        y_train_augmented.append(label)\n",
    "\n",
    "X_train_augmented = np.array(X_train_augmented)\n",
    "y_train_augmented = np.array(y_train_augmented)"
   ]
  },
  {
   "cell_type": "code",
   "execution_count": 96,
   "metadata": {},
   "outputs": [],
   "source": [
    "shuffle_idx = np.random.permutation(len(X_train_augmented))\n",
    "X_train_augmented = X_train_augmented[shuffle_idx]\n",
    "y_train_augmented = y_train_augmented[shuffle_idx]"
   ]
  },
  {
   "cell_type": "code",
   "execution_count": 97,
   "metadata": {},
   "outputs": [],
   "source": [
    "knn_clf = KNeighborsClassifier(**grid_search.best_params_)"
   ]
  },
  {
   "cell_type": "code",
   "execution_count": 98,
   "metadata": {},
   "outputs": [
    {
     "data": {
      "text/plain": [
       "KNeighborsClassifier(algorithm='auto', leaf_size=30, metric='minkowski',\n",
       "           metric_params=None, n_jobs=None, n_neighbors=4, p=2,\n",
       "           weights='distance')"
      ]
     },
     "execution_count": 98,
     "metadata": {},
     "output_type": "execute_result"
    }
   ],
   "source": [
    "knn_clf.fit(X_train_augmented, y_train_augmented)"
   ]
  },
  {
   "cell_type": "code",
   "execution_count": 99,
   "metadata": {},
   "outputs": [
    {
     "data": {
      "text/plain": [
       "0.9763"
      ]
     },
     "execution_count": 99,
     "metadata": {},
     "output_type": "execute_result"
    }
   ],
   "source": [
    "y_pred = knn_clf.predict(X_test)\n",
    "accuracy_score(y_test, y_pred)"
   ]
  },
  {
   "cell_type": "markdown",
   "metadata": {},
   "source": [
    "By simply augmenting the data, we got a 0.5% accuracy boost. :)"
   ]
  },
  {
   "cell_type": "markdown",
   "metadata": {},
   "source": [
    "## 3. Tackle the Titanic dataset"
   ]
  },
  {
   "cell_type": "markdown",
   "metadata": {},
   "source": [
    "The goal is to predict whether or not a passenger survived based on attributes such as their age, sex, passenger class, where they embarked and so on."
   ]
  },
  {
   "cell_type": "markdown",
   "metadata": {},
   "source": [
    "First, login to [Kaggle](https://www.kaggle.com/) and go to the [Titanic challenge](https://www.kaggle.com/c/titanic) to download `train.csv` and `test.csv`. Save them to the `datasets/titanic` directory."
   ]
  },
  {
   "cell_type": "markdown",
   "metadata": {},
   "source": [
    "Next, let's load the data:"
   ]
  },
  {
   "cell_type": "code",
   "execution_count": 100,
   "metadata": {},
   "outputs": [],
   "source": [
    "import os\n",
    "\n",
    "TITANIC_PATH = os.path.join(\"datasets\", \"titanic\")"
   ]
  },
  {
   "cell_type": "code",
   "execution_count": 101,
   "metadata": {},
   "outputs": [],
   "source": [
    "import pandas as pd\n",
    "\n",
    "def load_titanic_data(filename, titanic_path=TITANIC_PATH):\n",
    "    csv_path = os.path.join(titanic_path, filename)\n",
    "    return pd.read_csv(csv_path)"
   ]
  },
  {
   "cell_type": "code",
   "execution_count": 102,
   "metadata": {},
   "outputs": [],
   "source": [
    "train_data = load_titanic_data(\"train.csv\")\n",
    "test_data = load_titanic_data(\"test.csv\")"
   ]
  },
  {
   "cell_type": "markdown",
   "metadata": {},
   "source": [
    "The data is already split into a training set and a test set. However, the test data does *not* contain the labels: your goal is to train the best model you can using the training data, then make your predictions on the test data and upload them to Kaggle to see your final score."
   ]
  },
  {
   "cell_type": "markdown",
   "metadata": {},
   "source": [
    "Let's take a peek at the top few rows of the training set:"
   ]
  },
  {
   "cell_type": "code",
   "execution_count": 103,
   "metadata": {},
   "outputs": [
    {
     "data": {
      "text/html": [
       "<div>\n",
       "<style scoped>\n",
       "    .dataframe tbody tr th:only-of-type {\n",
       "        vertical-align: middle;\n",
       "    }\n",
       "\n",
       "    .dataframe tbody tr th {\n",
       "        vertical-align: top;\n",
       "    }\n",
       "\n",
       "    .dataframe thead th {\n",
       "        text-align: right;\n",
       "    }\n",
       "</style>\n",
       "<table border=\"1\" class=\"dataframe\">\n",
       "  <thead>\n",
       "    <tr style=\"text-align: right;\">\n",
       "      <th></th>\n",
       "      <th>PassengerId</th>\n",
       "      <th>Survived</th>\n",
       "      <th>Pclass</th>\n",
       "      <th>Name</th>\n",
       "      <th>Sex</th>\n",
       "      <th>Age</th>\n",
       "      <th>SibSp</th>\n",
       "      <th>Parch</th>\n",
       "      <th>Ticket</th>\n",
       "      <th>Fare</th>\n",
       "      <th>Cabin</th>\n",
       "      <th>Embarked</th>\n",
       "    </tr>\n",
       "  </thead>\n",
       "  <tbody>\n",
       "    <tr>\n",
       "      <th>0</th>\n",
       "      <td>1</td>\n",
       "      <td>0</td>\n",
       "      <td>3</td>\n",
       "      <td>Braund, Mr. Owen Harris</td>\n",
       "      <td>male</td>\n",
       "      <td>22.0</td>\n",
       "      <td>1</td>\n",
       "      <td>0</td>\n",
       "      <td>A/5 21171</td>\n",
       "      <td>7.2500</td>\n",
       "      <td>NaN</td>\n",
       "      <td>S</td>\n",
       "    </tr>\n",
       "    <tr>\n",
       "      <th>1</th>\n",
       "      <td>2</td>\n",
       "      <td>1</td>\n",
       "      <td>1</td>\n",
       "      <td>Cumings, Mrs. John Bradley (Florence Briggs Th...</td>\n",
       "      <td>female</td>\n",
       "      <td>38.0</td>\n",
       "      <td>1</td>\n",
       "      <td>0</td>\n",
       "      <td>PC 17599</td>\n",
       "      <td>71.2833</td>\n",
       "      <td>C85</td>\n",
       "      <td>C</td>\n",
       "    </tr>\n",
       "    <tr>\n",
       "      <th>2</th>\n",
       "      <td>3</td>\n",
       "      <td>1</td>\n",
       "      <td>3</td>\n",
       "      <td>Heikkinen, Miss. Laina</td>\n",
       "      <td>female</td>\n",
       "      <td>26.0</td>\n",
       "      <td>0</td>\n",
       "      <td>0</td>\n",
       "      <td>STON/O2. 3101282</td>\n",
       "      <td>7.9250</td>\n",
       "      <td>NaN</td>\n",
       "      <td>S</td>\n",
       "    </tr>\n",
       "    <tr>\n",
       "      <th>3</th>\n",
       "      <td>4</td>\n",
       "      <td>1</td>\n",
       "      <td>1</td>\n",
       "      <td>Futrelle, Mrs. Jacques Heath (Lily May Peel)</td>\n",
       "      <td>female</td>\n",
       "      <td>35.0</td>\n",
       "      <td>1</td>\n",
       "      <td>0</td>\n",
       "      <td>113803</td>\n",
       "      <td>53.1000</td>\n",
       "      <td>C123</td>\n",
       "      <td>S</td>\n",
       "    </tr>\n",
       "    <tr>\n",
       "      <th>4</th>\n",
       "      <td>5</td>\n",
       "      <td>0</td>\n",
       "      <td>3</td>\n",
       "      <td>Allen, Mr. William Henry</td>\n",
       "      <td>male</td>\n",
       "      <td>35.0</td>\n",
       "      <td>0</td>\n",
       "      <td>0</td>\n",
       "      <td>373450</td>\n",
       "      <td>8.0500</td>\n",
       "      <td>NaN</td>\n",
       "      <td>S</td>\n",
       "    </tr>\n",
       "  </tbody>\n",
       "</table>\n",
       "</div>"
      ],
      "text/plain": [
       "   PassengerId  Survived  Pclass  \\\n",
       "0            1         0       3   \n",
       "1            2         1       1   \n",
       "2            3         1       3   \n",
       "3            4         1       1   \n",
       "4            5         0       3   \n",
       "\n",
       "                                                Name     Sex   Age  SibSp  \\\n",
       "0                            Braund, Mr. Owen Harris    male  22.0      1   \n",
       "1  Cumings, Mrs. John Bradley (Florence Briggs Th...  female  38.0      1   \n",
       "2                             Heikkinen, Miss. Laina  female  26.0      0   \n",
       "3       Futrelle, Mrs. Jacques Heath (Lily May Peel)  female  35.0      1   \n",
       "4                           Allen, Mr. William Henry    male  35.0      0   \n",
       "\n",
       "   Parch            Ticket     Fare Cabin Embarked  \n",
       "0      0         A/5 21171   7.2500   NaN        S  \n",
       "1      0          PC 17599  71.2833   C85        C  \n",
       "2      0  STON/O2. 3101282   7.9250   NaN        S  \n",
       "3      0            113803  53.1000  C123        S  \n",
       "4      0            373450   8.0500   NaN        S  "
      ]
     },
     "execution_count": 103,
     "metadata": {},
     "output_type": "execute_result"
    }
   ],
   "source": [
    "train_data.head()"
   ]
  },
  {
   "cell_type": "markdown",
   "metadata": {},
   "source": [
    "The attributes have the following meaning:\n",
    "* **Survived**: that's the target, 0 means the passenger did not survive, while 1 means he/she survived.\n",
    "* **Pclass**: passenger class.\n",
    "* **Name**, **Sex**, **Age**: self-explanatory\n",
    "* **SibSp**: how many siblings & spouses of the passenger aboard the Titanic.\n",
    "* **Parch**: how many children & parents of the passenger aboard the Titanic.\n",
    "* **Ticket**: ticket id\n",
    "* **Fare**: price paid (in pounds)\n",
    "* **Cabin**: passenger's cabin number\n",
    "* **Embarked**: where the passenger embarked the Titanic"
   ]
  },
  {
   "cell_type": "markdown",
   "metadata": {},
   "source": [
    "Let's get more info to see how much data is missing:"
   ]
  },
  {
   "cell_type": "code",
   "execution_count": 104,
   "metadata": {},
   "outputs": [
    {
     "name": "stdout",
     "output_type": "stream",
     "text": [
      "<class 'pandas.core.frame.DataFrame'>\n",
      "RangeIndex: 891 entries, 0 to 890\n",
      "Data columns (total 12 columns):\n",
      "PassengerId    891 non-null int64\n",
      "Survived       891 non-null int64\n",
      "Pclass         891 non-null int64\n",
      "Name           891 non-null object\n",
      "Sex            891 non-null object\n",
      "Age            714 non-null float64\n",
      "SibSp          891 non-null int64\n",
      "Parch          891 non-null int64\n",
      "Ticket         891 non-null object\n",
      "Fare           891 non-null float64\n",
      "Cabin          204 non-null object\n",
      "Embarked       889 non-null object\n",
      "dtypes: float64(2), int64(5), object(5)\n",
      "memory usage: 83.6+ KB\n"
     ]
    }
   ],
   "source": [
    "train_data.info()"
   ]
  },
  {
   "cell_type": "markdown",
   "metadata": {},
   "source": [
    "Okay, the **Age**, **Cabin** and **Embarked** attributes are sometimes null (less than 891 non-null), especially the **Cabin** (77% are null). We will ignore the **Cabin** for now and focus on the rest. The **Age** attribute has about 19% null values, so we will need to decide what to do with them. Replacing null values with the median age seems reasonable."
   ]
  },
  {
   "cell_type": "markdown",
   "metadata": {},
   "source": [
    "The **Name** and **Ticket** attributes may have some value, but they will be a bit tricky to convert into useful numbers that a model can consume. So for now, we will ignore them."
   ]
  },
  {
   "cell_type": "markdown",
   "metadata": {},
   "source": [
    "Let's take a look at the numerical attributes:"
   ]
  },
  {
   "cell_type": "code",
   "execution_count": 105,
   "metadata": {},
   "outputs": [
    {
     "data": {
      "text/html": [
       "<div>\n",
       "<style scoped>\n",
       "    .dataframe tbody tr th:only-of-type {\n",
       "        vertical-align: middle;\n",
       "    }\n",
       "\n",
       "    .dataframe tbody tr th {\n",
       "        vertical-align: top;\n",
       "    }\n",
       "\n",
       "    .dataframe thead th {\n",
       "        text-align: right;\n",
       "    }\n",
       "</style>\n",
       "<table border=\"1\" class=\"dataframe\">\n",
       "  <thead>\n",
       "    <tr style=\"text-align: right;\">\n",
       "      <th></th>\n",
       "      <th>PassengerId</th>\n",
       "      <th>Survived</th>\n",
       "      <th>Pclass</th>\n",
       "      <th>Age</th>\n",
       "      <th>SibSp</th>\n",
       "      <th>Parch</th>\n",
       "      <th>Fare</th>\n",
       "    </tr>\n",
       "  </thead>\n",
       "  <tbody>\n",
       "    <tr>\n",
       "      <th>count</th>\n",
       "      <td>891.000000</td>\n",
       "      <td>891.000000</td>\n",
       "      <td>891.000000</td>\n",
       "      <td>714.000000</td>\n",
       "      <td>891.000000</td>\n",
       "      <td>891.000000</td>\n",
       "      <td>891.000000</td>\n",
       "    </tr>\n",
       "    <tr>\n",
       "      <th>mean</th>\n",
       "      <td>446.000000</td>\n",
       "      <td>0.383838</td>\n",
       "      <td>2.308642</td>\n",
       "      <td>29.699118</td>\n",
       "      <td>0.523008</td>\n",
       "      <td>0.381594</td>\n",
       "      <td>32.204208</td>\n",
       "    </tr>\n",
       "    <tr>\n",
       "      <th>std</th>\n",
       "      <td>257.353842</td>\n",
       "      <td>0.486592</td>\n",
       "      <td>0.836071</td>\n",
       "      <td>14.526497</td>\n",
       "      <td>1.102743</td>\n",
       "      <td>0.806057</td>\n",
       "      <td>49.693429</td>\n",
       "    </tr>\n",
       "    <tr>\n",
       "      <th>min</th>\n",
       "      <td>1.000000</td>\n",
       "      <td>0.000000</td>\n",
       "      <td>1.000000</td>\n",
       "      <td>0.420000</td>\n",
       "      <td>0.000000</td>\n",
       "      <td>0.000000</td>\n",
       "      <td>0.000000</td>\n",
       "    </tr>\n",
       "    <tr>\n",
       "      <th>25%</th>\n",
       "      <td>223.500000</td>\n",
       "      <td>0.000000</td>\n",
       "      <td>2.000000</td>\n",
       "      <td>20.125000</td>\n",
       "      <td>0.000000</td>\n",
       "      <td>0.000000</td>\n",
       "      <td>7.910400</td>\n",
       "    </tr>\n",
       "    <tr>\n",
       "      <th>50%</th>\n",
       "      <td>446.000000</td>\n",
       "      <td>0.000000</td>\n",
       "      <td>3.000000</td>\n",
       "      <td>28.000000</td>\n",
       "      <td>0.000000</td>\n",
       "      <td>0.000000</td>\n",
       "      <td>14.454200</td>\n",
       "    </tr>\n",
       "    <tr>\n",
       "      <th>75%</th>\n",
       "      <td>668.500000</td>\n",
       "      <td>1.000000</td>\n",
       "      <td>3.000000</td>\n",
       "      <td>38.000000</td>\n",
       "      <td>1.000000</td>\n",
       "      <td>0.000000</td>\n",
       "      <td>31.000000</td>\n",
       "    </tr>\n",
       "    <tr>\n",
       "      <th>max</th>\n",
       "      <td>891.000000</td>\n",
       "      <td>1.000000</td>\n",
       "      <td>3.000000</td>\n",
       "      <td>80.000000</td>\n",
       "      <td>8.000000</td>\n",
       "      <td>6.000000</td>\n",
       "      <td>512.329200</td>\n",
       "    </tr>\n",
       "  </tbody>\n",
       "</table>\n",
       "</div>"
      ],
      "text/plain": [
       "       PassengerId    Survived      Pclass         Age       SibSp  \\\n",
       "count   891.000000  891.000000  891.000000  714.000000  891.000000   \n",
       "mean    446.000000    0.383838    2.308642   29.699118    0.523008   \n",
       "std     257.353842    0.486592    0.836071   14.526497    1.102743   \n",
       "min       1.000000    0.000000    1.000000    0.420000    0.000000   \n",
       "25%     223.500000    0.000000    2.000000   20.125000    0.000000   \n",
       "50%     446.000000    0.000000    3.000000   28.000000    0.000000   \n",
       "75%     668.500000    1.000000    3.000000   38.000000    1.000000   \n",
       "max     891.000000    1.000000    3.000000   80.000000    8.000000   \n",
       "\n",
       "            Parch        Fare  \n",
       "count  891.000000  891.000000  \n",
       "mean     0.381594   32.204208  \n",
       "std      0.806057   49.693429  \n",
       "min      0.000000    0.000000  \n",
       "25%      0.000000    7.910400  \n",
       "50%      0.000000   14.454200  \n",
       "75%      0.000000   31.000000  \n",
       "max      6.000000  512.329200  "
      ]
     },
     "execution_count": 105,
     "metadata": {},
     "output_type": "execute_result"
    }
   ],
   "source": [
    "train_data.describe()"
   ]
  },
  {
   "cell_type": "markdown",
   "metadata": {},
   "source": [
    "* Yikes, only 38% **Survived**. :(  That's close enough to 40%, so accuracy will be a reasonable metric to evaluate our model.\n",
    "* The mean **Fare** was £32.20, which does not seem so expensive (but it was probably a lot of money back then).\n",
    "* The mean **Age** was less than 30 years old."
   ]
  },
  {
   "cell_type": "markdown",
   "metadata": {},
   "source": [
    "Let's check that the target is indeed 0 or 1:"
   ]
  },
  {
   "cell_type": "code",
   "execution_count": 106,
   "metadata": {},
   "outputs": [
    {
     "data": {
      "text/plain": [
       "0    549\n",
       "1    342\n",
       "Name: Survived, dtype: int64"
      ]
     },
     "execution_count": 106,
     "metadata": {},
     "output_type": "execute_result"
    }
   ],
   "source": [
    "train_data[\"Survived\"].value_counts()"
   ]
  },
  {
   "cell_type": "markdown",
   "metadata": {},
   "source": [
    "Now let's take a quick look at all the categorical attributes:"
   ]
  },
  {
   "cell_type": "code",
   "execution_count": 107,
   "metadata": {},
   "outputs": [
    {
     "data": {
      "text/plain": [
       "3    491\n",
       "1    216\n",
       "2    184\n",
       "Name: Pclass, dtype: int64"
      ]
     },
     "execution_count": 107,
     "metadata": {},
     "output_type": "execute_result"
    }
   ],
   "source": [
    "train_data[\"Pclass\"].value_counts()"
   ]
  },
  {
   "cell_type": "code",
   "execution_count": 108,
   "metadata": {},
   "outputs": [
    {
     "data": {
      "text/plain": [
       "male      577\n",
       "female    314\n",
       "Name: Sex, dtype: int64"
      ]
     },
     "execution_count": 108,
     "metadata": {},
     "output_type": "execute_result"
    }
   ],
   "source": [
    "train_data[\"Sex\"].value_counts()"
   ]
  },
  {
   "cell_type": "code",
   "execution_count": 109,
   "metadata": {},
   "outputs": [
    {
     "data": {
      "text/plain": [
       "S    644\n",
       "C    168\n",
       "Q     77\n",
       "Name: Embarked, dtype: int64"
      ]
     },
     "execution_count": 109,
     "metadata": {},
     "output_type": "execute_result"
    }
   ],
   "source": [
    "train_data[\"Embarked\"].value_counts()"
   ]
  },
  {
   "cell_type": "markdown",
   "metadata": {},
   "source": [
    "The Embarked attribute tells us where the passenger embarked: C=Cherbourg, Q=Queenstown, S=Southampton."
   ]
  },
  {
   "cell_type": "markdown",
   "metadata": {},
   "source": [
    "**Note**: the code below uses a mix of `Pipeline`, `FeatureUnion` and a custom `DataFrameSelector` to preprocess some columns differently.  Since Scikit-Learn 0.20, it is preferable to use a `ColumnTransformer`, like in the previous chapter."
   ]
  },
  {
   "cell_type": "markdown",
   "metadata": {},
   "source": [
    "Now let's build our preprocessing pipelines. We will reuse the `DataframeSelector` we built in the previous chapter to select specific attributes from the `DataFrame`:"
   ]
  },
  {
   "cell_type": "code",
   "execution_count": 110,
   "metadata": {},
   "outputs": [],
   "source": [
    "from sklearn.base import BaseEstimator, TransformerMixin\n",
    "\n",
    "class DataFrameSelector(BaseEstimator, TransformerMixin):\n",
    "    def __init__(self, attribute_names):\n",
    "        self.attribute_names = attribute_names\n",
    "    def fit(self, X, y=None):\n",
    "        return self\n",
    "    def transform(self, X):\n",
    "        return X[self.attribute_names]"
   ]
  },
  {
   "cell_type": "markdown",
   "metadata": {},
   "source": [
    "Let's build the pipeline for the numerical attributes:"
   ]
  },
  {
   "cell_type": "code",
   "execution_count": 111,
   "metadata": {},
   "outputs": [],
   "source": [
    "from sklearn.pipeline import Pipeline\n",
    "from sklearn.impute import SimpleImputer\n",
    "\n",
    "num_pipeline = Pipeline([\n",
    "        (\"select_numeric\", DataFrameSelector([\"Age\", \"SibSp\", \"Parch\", \"Fare\"])),\n",
    "        (\"imputer\", SimpleImputer(strategy=\"median\")),\n",
    "    ])"
   ]
  },
  {
   "cell_type": "code",
   "execution_count": 112,
   "metadata": {},
   "outputs": [
    {
     "data": {
      "text/plain": [
       "array([[22.    ,  1.    ,  0.    ,  7.25  ],\n",
       "       [38.    ,  1.    ,  0.    , 71.2833],\n",
       "       [26.    ,  0.    ,  0.    ,  7.925 ],\n",
       "       ...,\n",
       "       [28.    ,  1.    ,  2.    , 23.45  ],\n",
       "       [26.    ,  0.    ,  0.    , 30.    ],\n",
       "       [32.    ,  0.    ,  0.    ,  7.75  ]])"
      ]
     },
     "execution_count": 112,
     "metadata": {},
     "output_type": "execute_result"
    }
   ],
   "source": [
    "num_pipeline.fit_transform(train_data)"
   ]
  },
  {
   "cell_type": "markdown",
   "metadata": {},
   "source": [
    "We will also need an imputer for the string categorical columns (the regular `SimpleImputer` does not work on those):"
   ]
  },
  {
   "cell_type": "code",
   "execution_count": 113,
   "metadata": {},
   "outputs": [],
   "source": [
    "# Inspired from stackoverflow.com/questions/25239958\n",
    "class MostFrequentImputer(BaseEstimator, TransformerMixin):\n",
    "    def fit(self, X, y=None):\n",
    "        self.most_frequent_ = pd.Series([X[c].value_counts().index[0] for c in X],\n",
    "                                        index=X.columns)\n",
    "        return self\n",
    "    def transform(self, X, y=None):\n",
    "        return X.fillna(self.most_frequent_)"
   ]
  },
  {
   "cell_type": "code",
   "execution_count": 114,
   "metadata": {},
   "outputs": [],
   "source": [
    "from sklearn.preprocessing import OneHotEncoder"
   ]
  },
  {
   "cell_type": "markdown",
   "metadata": {},
   "source": [
    "Now we can build the pipeline for the categorical attributes:"
   ]
  },
  {
   "cell_type": "code",
   "execution_count": 115,
   "metadata": {},
   "outputs": [],
   "source": [
    "cat_pipeline = Pipeline([\n",
    "        (\"select_cat\", DataFrameSelector([\"Pclass\", \"Sex\", \"Embarked\"])),\n",
    "        (\"imputer\", MostFrequentImputer()),\n",
    "        (\"cat_encoder\", OneHotEncoder(sparse=False)),\n",
    "    ])"
   ]
  },
  {
   "cell_type": "code",
   "execution_count": 116,
   "metadata": {},
   "outputs": [
    {
     "data": {
      "text/plain": [
       "array([[0., 0., 1., ..., 0., 0., 1.],\n",
       "       [1., 0., 0., ..., 1., 0., 0.],\n",
       "       [0., 0., 1., ..., 0., 0., 1.],\n",
       "       ...,\n",
       "       [0., 0., 1., ..., 0., 0., 1.],\n",
       "       [1., 0., 0., ..., 1., 0., 0.],\n",
       "       [0., 0., 1., ..., 0., 1., 0.]])"
      ]
     },
     "execution_count": 116,
     "metadata": {},
     "output_type": "execute_result"
    }
   ],
   "source": [
    "cat_pipeline.fit_transform(train_data)"
   ]
  },
  {
   "cell_type": "markdown",
   "metadata": {},
   "source": [
    "Finally, let's join the numerical and categorical pipelines:"
   ]
  },
  {
   "cell_type": "code",
   "execution_count": 117,
   "metadata": {},
   "outputs": [],
   "source": [
    "from sklearn.pipeline import FeatureUnion\n",
    "preprocess_pipeline = FeatureUnion(transformer_list=[\n",
    "        (\"num_pipeline\", num_pipeline),\n",
    "        (\"cat_pipeline\", cat_pipeline),\n",
    "    ])"
   ]
  },
  {
   "cell_type": "markdown",
   "metadata": {},
   "source": [
    "Cool! Now we have a nice preprocessing pipeline that takes the raw data and outputs numerical input features that we can feed to any Machine Learning model we want."
   ]
  },
  {
   "cell_type": "code",
   "execution_count": 118,
   "metadata": {},
   "outputs": [
    {
     "data": {
      "text/plain": [
       "array([[22.,  1.,  0., ...,  0.,  0.,  1.],\n",
       "       [38.,  1.,  0., ...,  1.,  0.,  0.],\n",
       "       [26.,  0.,  0., ...,  0.,  0.,  1.],\n",
       "       ...,\n",
       "       [28.,  1.,  2., ...,  0.,  0.,  1.],\n",
       "       [26.,  0.,  0., ...,  1.,  0.,  0.],\n",
       "       [32.,  0.,  0., ...,  0.,  1.,  0.]])"
      ]
     },
     "execution_count": 118,
     "metadata": {},
     "output_type": "execute_result"
    }
   ],
   "source": [
    "X_train = preprocess_pipeline.fit_transform(train_data)\n",
    "X_train"
   ]
  },
  {
   "cell_type": "markdown",
   "metadata": {},
   "source": [
    "Let's not forget to get the labels:"
   ]
  },
  {
   "cell_type": "code",
   "execution_count": 119,
   "metadata": {},
   "outputs": [],
   "source": [
    "y_train = train_data[\"Survived\"]"
   ]
  },
  {
   "cell_type": "markdown",
   "metadata": {},
   "source": [
    "We are now ready to train a classifier. Let's start with an `SVC`:"
   ]
  },
  {
   "cell_type": "code",
   "execution_count": 120,
   "metadata": {},
   "outputs": [
    {
     "data": {
      "text/plain": [
       "SVC(C=1.0, cache_size=200, class_weight=None, coef0=0.0,\n",
       "  decision_function_shape='ovr', degree=3, gamma='auto', kernel='rbf',\n",
       "  max_iter=-1, probability=False, random_state=None, shrinking=True,\n",
       "  tol=0.001, verbose=False)"
      ]
     },
     "execution_count": 120,
     "metadata": {},
     "output_type": "execute_result"
    }
   ],
   "source": [
    "from sklearn.svm import SVC\n",
    "\n",
    "svm_clf = SVC(gamma=\"auto\")\n",
    "svm_clf.fit(X_train, y_train)"
   ]
  },
  {
   "cell_type": "markdown",
   "metadata": {},
   "source": [
    "Great, our model is trained, let's use it to make predictions on the test set:"
   ]
  },
  {
   "cell_type": "code",
   "execution_count": 121,
   "metadata": {},
   "outputs": [],
   "source": [
    "X_test = preprocess_pipeline.transform(test_data)\n",
    "y_pred = svm_clf.predict(X_test)"
   ]
  },
  {
   "cell_type": "markdown",
   "metadata": {},
   "source": [
    "And now we could just build a CSV file with these predictions (respecting the format excepted by Kaggle), then upload it and hope for the best. But wait! We can do better than hope. Why don't we use cross-validation to have an idea of how good our model is?"
   ]
  },
  {
   "cell_type": "code",
   "execution_count": 122,
   "metadata": {},
   "outputs": [
    {
     "data": {
      "text/plain": [
       "0.7365250822835092"
      ]
     },
     "execution_count": 122,
     "metadata": {},
     "output_type": "execute_result"
    }
   ],
   "source": [
    "from sklearn.model_selection import cross_val_score\n",
    "\n",
    "svm_scores = cross_val_score(svm_clf, X_train, y_train, cv=10)\n",
    "svm_scores.mean()"
   ]
  },
  {
   "cell_type": "markdown",
   "metadata": {},
   "source": [
    "Okay, over 73% accuracy, clearly better than random chance, but it's not a great score. Looking at the [leaderboard](https://www.kaggle.com/c/titanic/leaderboard) for the Titanic competition on Kaggle, you can see that you need to reach above 80% accuracy to be within the top 10% Kagglers. Some reached 100%, but since you can easily find the [list of victims](https://www.encyclopedia-titanica.org/titanic-victims/) of the Titanic, it seems likely that there was little Machine Learning involved in their performance! ;-) So let's try to build a model that reaches 80% accuracy."
   ]
  },
  {
   "cell_type": "markdown",
   "metadata": {},
   "source": [
    "Let's try a `RandomForestClassifier`:"
   ]
  },
  {
   "cell_type": "code",
   "execution_count": 123,
   "metadata": {},
   "outputs": [
    {
     "data": {
      "text/plain": [
       "0.8149526160481217"
      ]
     },
     "execution_count": 123,
     "metadata": {},
     "output_type": "execute_result"
    }
   ],
   "source": [
    "from sklearn.ensemble import RandomForestClassifier\n",
    "\n",
    "forest_clf = RandomForestClassifier(n_estimators=100, random_state=42)\n",
    "forest_scores = cross_val_score(forest_clf, X_train, y_train, cv=10)\n",
    "forest_scores.mean()"
   ]
  },
  {
   "cell_type": "markdown",
   "metadata": {},
   "source": [
    "That's much better!"
   ]
  },
  {
   "cell_type": "markdown",
   "metadata": {},
   "source": [
    "Instead of just looking at the mean accuracy across the 10 cross-validation folds, let's plot all 10 scores for each model, along with a box plot highlighting the lower and upper quartiles, and \"whiskers\" showing the extent of the scores (thanks to Nevin Yilmaz for suggesting this visualization). Note that the `boxplot()` function detects outliers (called \"fliers\") and does not include them within the whiskers. Specifically, if the lower quartile is $Q_1$ and the upper quartile is $Q_3$, then the interquartile range $IQR = Q_3 - Q_1$ (this is the box's height), and any score lower than $Q_1 - 1.5 \\times IQR$ is a flier, and so is any score greater than $Q3 + 1.5 \\times IQR$."
   ]
  },
  {
   "cell_type": "code",
   "execution_count": 124,
   "metadata": {},
   "outputs": [
    {
     "data": {
      "image/png": "[encoded data removed]",
      "text/plain": [
       "<Figure size 576x288 with 1 Axes>"
      ]
     },
     "metadata": {
      "needs_background": "light"
     },
     "output_type": "display_data"
    }
   ],
   "source": [
    "plt.figure(figsize=(8, 4))\n",
    "plt.plot([1]*10, svm_scores, \".\")\n",
    "plt.plot([2]*10, forest_scores, \".\")\n",
    "plt.boxplot([svm_scores, forest_scores], labels=(\"SVM\",\"Random Forest\"))\n",
    "plt.ylabel(\"Accuracy\", fontsize=14)\n",
    "plt.show()"
   ]
  },
  {
   "cell_type": "markdown",
   "metadata": {},
   "source": [
    "To improve this result further, you could:\n",
    "* Compare many more models and tune hyperparameters using cross validation and grid search,\n",
    "* Do more feature engineering, for example:\n",
    "  * replace **SibSp** and **Parch** with their sum,\n",
    "  * try to identify parts of names that correlate well with the **Survived** attribute (e.g. if the name contains \"Countess\", then survival seems more likely),\n",
    "* try to convert numerical attributes to categorical attributes: for example, different age groups had very different survival rates (see below), so it may help to create an age bucket category and use it instead of the age. Similarly, it may be useful to have a special category for people traveling alone since only 30% of them survived (see below)."
   ]
  },
  {
   "cell_type": "code",
   "execution_count": 125,
   "metadata": {},
   "outputs": [
    {
     "data": {
      "text/html": [
       "<div>\n",
       "<style scoped>\n",
       "    .dataframe tbody tr th:only-of-type {\n",
       "        vertical-align: middle;\n",
       "    }\n",
       "\n",
       "    .dataframe tbody tr th {\n",
       "        vertical-align: top;\n",
       "    }\n",
       "\n",
       "    .dataframe thead th {\n",
       "        text-align: right;\n",
       "    }\n",
       "</style>\n",
       "<table border=\"1\" class=\"dataframe\">\n",
       "  <thead>\n",
       "    <tr style=\"text-align: right;\">\n",
       "      <th></th>\n",
       "      <th>Survived</th>\n",
       "    </tr>\n",
       "    <tr>\n",
       "      <th>AgeBucket</th>\n",
       "      <th></th>\n",
       "    </tr>\n",
       "  </thead>\n",
       "  <tbody>\n",
       "    <tr>\n",
       "      <th>0.0</th>\n",
       "      <td>0.576923</td>\n",
       "    </tr>\n",
       "    <tr>\n",
       "      <th>15.0</th>\n",
       "      <td>0.362745</td>\n",
       "    </tr>\n",
       "    <tr>\n",
       "      <th>30.0</th>\n",
       "      <td>0.423256</td>\n",
       "    </tr>\n",
       "    <tr>\n",
       "      <th>45.0</th>\n",
       "      <td>0.404494</td>\n",
       "    </tr>\n",
       "    <tr>\n",
       "      <th>60.0</th>\n",
       "      <td>0.240000</td>\n",
       "    </tr>\n",
       "    <tr>\n",
       "      <th>75.0</th>\n",
       "      <td>1.000000</td>\n",
       "    </tr>\n",
       "  </tbody>\n",
       "</table>\n",
       "</div>"
      ],
      "text/plain": [
       "           Survived\n",
       "AgeBucket          \n",
       "0.0        0.576923\n",
       "15.0       0.362745\n",
       "30.0       0.423256\n",
       "45.0       0.404494\n",
       "60.0       0.240000\n",
       "75.0       1.000000"
      ]
     },
     "execution_count": 125,
     "metadata": {},
     "output_type": "execute_result"
    }
   ],
   "source": [
    "train_data[\"AgeBucket\"] = train_data[\"Age\"] // 15 * 15\n",
    "train_data[[\"AgeBucket\", \"Survived\"]].groupby(['AgeBucket']).mean()"
   ]
  },
  {
   "cell_type": "code",
   "execution_count": 126,
   "metadata": {},
   "outputs": [
    {
     "data": {
      "text/html": [
       "<div>\n",
       "<style scoped>\n",
       "    .dataframe tbody tr th:only-of-type {\n",
       "        vertical-align: middle;\n",
       "    }\n",
       "\n",
       "    .dataframe tbody tr th {\n",
       "        vertical-align: top;\n",
       "    }\n",
       "\n",
       "    .dataframe thead th {\n",
       "        text-align: right;\n",
       "    }\n",
       "</style>\n",
       "<table border=\"1\" class=\"dataframe\">\n",
       "  <thead>\n",
       "    <tr style=\"text-align: right;\">\n",
       "      <th></th>\n",
       "      <th>Survived</th>\n",
       "    </tr>\n",
       "    <tr>\n",
       "      <th>RelativesOnboard</th>\n",
       "      <th></th>\n",
       "    </tr>\n",
       "  </thead>\n",
       "  <tbody>\n",
       "    <tr>\n",
       "      <th>0</th>\n",
       "      <td>0.303538</td>\n",
       "    </tr>\n",
       "    <tr>\n",
       "      <th>1</th>\n",
       "      <td>0.552795</td>\n",
       "    </tr>\n",
       "    <tr>\n",
       "      <th>2</th>\n",
       "      <td>0.578431</td>\n",
       "    </tr>\n",
       "    <tr>\n",
       "      <th>3</th>\n",
       "      <td>0.724138</td>\n",
       "    </tr>\n",
       "    <tr>\n",
       "      <th>4</th>\n",
       "      <td>0.200000</td>\n",
       "    </tr>\n",
       "    <tr>\n",
       "      <th>5</th>\n",
       "      <td>0.136364</td>\n",
       "    </tr>\n",
       "    <tr>\n",
       "      <th>6</th>\n",
       "      <td>0.333333</td>\n",
       "    </tr>\n",
       "    <tr>\n",
       "      <th>7</th>\n",
       "      <td>0.000000</td>\n",
       "    </tr>\n",
       "    <tr>\n",
       "      <th>10</th>\n",
       "      <td>0.000000</td>\n",
       "    </tr>\n",
       "  </tbody>\n",
       "</table>\n",
       "</div>"
      ],
      "text/plain": [
       "                  Survived\n",
       "RelativesOnboard          \n",
       "0                 0.303538\n",
       "1                 0.552795\n",
       "2                 0.578431\n",
       "3                 0.724138\n",
       "4                 0.200000\n",
       "5                 0.136364\n",
       "6                 0.333333\n",
       "7                 0.000000\n",
       "10                0.000000"
      ]
     },
     "execution_count": 126,
     "metadata": {},
     "output_type": "execute_result"
    }
   ],
   "source": [
    "train_data[\"RelativesOnboard\"] = train_data[\"SibSp\"] + train_data[\"Parch\"]\n",
    "train_data[[\"RelativesOnboard\", \"Survived\"]].groupby(['RelativesOnboard']).mean()"
   ]
  },
  {
   "cell_type": "markdown",
   "metadata": {},
   "source": [
    "## 4. Spam classifier"
   ]
  },
  {
   "cell_type": "markdown",
   "metadata": {},
   "source": [
    "First, let's fetch the data:"
   ]
  },
  {
   "cell_type": "code",
   "execution_count": 127,
   "metadata": {},
   "outputs": [],
   "source": [
    "import os\n",
    "import tarfile\n",
    "import urllib\n",
    "\n",
    "DOWNLOAD_ROOT = \"http://spamassassin.apache.org/old/publiccorpus/\"\n",
    "HAM_URL = DOWNLOAD_ROOT + \"20030228_easy_ham.tar.bz2\"\n",
    "SPAM_URL = DOWNLOAD_ROOT + \"20030228_spam.tar.bz2\"\n",
    "SPAM_PATH = os.path.join(\"datasets\", \"spam\")\n",
    "\n",
    "def fetch_spam_data(spam_url=SPAM_URL, spam_path=SPAM_PATH):\n",
    "    if not os.path.isdir(spam_path):\n",
    "        os.makedirs(spam_path)\n",
    "    for filename, url in ((\"ham.tar.bz2\", HAM_URL), (\"spam.tar.bz2\", SPAM_URL)):\n",
    "        path = os.path.join(spam_path, filename)\n",
    "        if not os.path.isfile(path):\n",
    "            urllib.request.urlretrieve(url, path)\n",
    "        tar_bz2_file = tarfile.open(path)\n",
    "        tar_bz2_file.extractall(path=SPAM_PATH)\n",
    "        tar_bz2_file.close()"
   ]
  },
  {
   "cell_type": "code",
   "execution_count": 128,
   "metadata": {},
   "outputs": [],
   "source": [
    "fetch_spam_data()"
   ]
  },
  {
   "cell_type": "markdown",
   "metadata": {},
   "source": [
    "Next, let's load all the emails:"
   ]
  },
  {
   "cell_type": "code",
   "execution_count": 129,
   "metadata": {},
   "outputs": [],
   "source": [
    "HAM_DIR = os.path.join(SPAM_PATH, \"easy_ham\")\n",
    "SPAM_DIR = os.path.join(SPAM_PATH, \"spam\")\n",
    "ham_filenames = [name for name in sorted(os.listdir(HAM_DIR)) if len(name) > 20]\n",
    "spam_filenames = [name for name in sorted(os.listdir(SPAM_DIR)) if len(name) > 20]"
   ]
  },
  {
   "cell_type": "code",
   "execution_count": 130,
   "metadata": {},
   "outputs": [
    {
     "data": {
      "text/plain": [
       "2500"
      ]
     },
     "execution_count": 130,
     "metadata": {},
     "output_type": "execute_result"
    }
   ],
   "source": [
    "len(ham_filenames)"
   ]
  },
  {
   "cell_type": "code",
   "execution_count": 131,
   "metadata": {},
   "outputs": [
    {
     "data": {
      "text/plain": [
       "500"
      ]
     },
     "execution_count": 131,
     "metadata": {},
     "output_type": "execute_result"
    }
   ],
   "source": [
    "len(spam_filenames)"
   ]
  },
  {
   "cell_type": "markdown",
   "metadata": {},
   "source": [
    "We can use Python's `email` module to parse these emails (this handles headers, encoding, and so on):"
   ]
  },
  {
   "cell_type": "code",
   "execution_count": 132,
   "metadata": {},
   "outputs": [],
   "source": [
    "import email\n",
    "import email.policy\n",
    "\n",
    "def load_email(is_spam, filename, spam_path=SPAM_PATH):\n",
    "    directory = \"spam\" if is_spam else \"easy_ham\"\n",
    "    with open(os.path.join(spam_path, directory, filename), \"rb\") as f:\n",
    "        return email.parser.BytesParser(policy=email.policy.default).parse(f)"
   ]
  },
  {
   "cell_type": "code",
   "execution_count": 133,
   "metadata": {},
   "outputs": [],
   "source": [
    "ham_emails = [load_email(is_spam=False, filename=name) for name in ham_filenames]\n",
    "spam_emails = [load_email(is_spam=True, filename=name) for name in spam_filenames]"
   ]
  },
  {
   "cell_type": "markdown",
   "metadata": {},
   "source": [
    "Let's look at one example of ham and one example of spam, to get a feel of what the data looks like:"
   ]
  },
  {
   "cell_type": "code",
   "execution_count": 134,
   "metadata": {},
   "outputs": [
    {
     "name": "stdout",
     "output_type": "stream",
     "text": [
      "Martin A posted:\n",
      "Tassos Papadopoulos, the Greek sculptor behind the plan, judged that the\n",
      " limestone of Mount Kerdylio, 70 miles east of Salonika and not far from the\n",
      " Mount Athos monastic community, was ideal for the patriotic sculpture. \n",
      " \n",
      " As well as Alexander's granite features, 240 ft high and 170 ft wide, a\n",
      " museum, a restored amphitheatre and car park for admiring crowds are\n",
      "planned\n",
      "---------------------\n",
      "So is this mountain limestone or granite?\n",
      "If it's limestone, it'll weather pretty fast.\n",
      "\n",
      "------------------------ Yahoo! Groups Sponsor ---------------------~-->\n",
      "4 DVDs Free +s&p Join Now\n",
      "http://us.click.yahoo.com/pt6YBB/NXiEAA/mG3HAA/7gSolB/TM\n",
      "---------------------------------------------------------------------~->\n",
      "\n",
      "To unsubscribe from this group, send an email to:\n",
      "forteana-unsubscribe@egroups.com\n",
      "\n",
      " \n",
      "\n",
      "Your use of Yahoo! Groups is subject to http://docs.yahoo.com/info/terms/\n"
     ]
    }
   ],
   "source": [
    "print(ham_emails[1].get_content().strip())"
   ]
  },
  {
   "cell_type": "code",
   "execution_count": 135,
   "metadata": {},
   "outputs": [
    {
     "name": "stdout",
     "output_type": "stream",
     "text": [
      "Help wanted.  We are a 14 year old fortune 500 company, that is\n",
      "growing at a tremendous rate.  We are looking for individuals who\n",
      "want to work from home.\n",
      "\n",
      "This is an opportunity to make an excellent income.  No experience\n",
      "is required.  We will train you.\n",
      "\n",
      "So if you are looking to be employed from home with a career that has\n",
      "vast opportunities, then go:\n",
      "\n",
      "http://www.basetel.com/wealthnow\n",
      "\n",
      "We are looking for energetic and self motivated people.  If that is you\n",
      "than click on the link and fill out the form, and one of our\n",
      "employement specialist will contact you.\n",
      "\n",
      "To be removed from our link simple go to:\n",
      "\n",
      "http://www.basetel.com/remove.html\n",
      "\n",
      "\n",
      "4139vOLW7-758DoDY1425FRhM1-764SMFc8513fCsLl40\n"
     ]
    }
   ],
   "source": [
    "print(spam_emails[6].get_content().strip())"
   ]
  },
  {
   "cell_type": "markdown",
   "metadata": {},
   "source": [
    "Some emails are actually multipart, with images and attachments (which can have their own attachments). Let's look at the various types of structures we have:"
   ]
  },
  {
   "cell_type": "code",
   "execution_count": 136,
   "metadata": {},
   "outputs": [],
   "source": [
    "def get_email_structure(email):\n",
    "    if isinstance(email, str):\n",
    "        return email\n",
    "    payload = email.get_payload()\n",
    "    if isinstance(payload, list):\n",
    "        return \"multipart({})\".format(\", \".join([\n",
    "            get_email_structure(sub_email)\n",
    "            for sub_email in payload\n",
    "        ]))\n",
    "    else:\n",
    "        return email.get_content_type()"
   ]
  },
  {
   "cell_type": "code",
   "execution_count": 137,
   "metadata": {},
   "outputs": [],
   "source": [
    "from collections import Counter\n",
    "\n",
    "def structures_counter(emails):\n",
    "    structures = Counter()\n",
    "    for email in emails:\n",
    "        structure = get_email_structure(email)\n",
    "        structures[structure] += 1\n",
    "    return structures"
   ]
  },
  {
   "cell_type": "code",
   "execution_count": 138,
   "metadata": {},
   "outputs": [
    {
     "data": {
      "text/plain": [
       "[('text/plain', 2408),\n",
       " ('multipart(text/plain, application/pgp-signature)', 66),\n",
       " ('multipart(text/plain, text/html)', 8),\n",
       " ('multipart(text/plain, text/plain)', 4),\n",
       " ('multipart(text/plain)', 3),\n",
       " ('multipart(text/plain, application/octet-stream)', 2),\n",
       " ('multipart(text/plain, text/enriched)', 1),\n",
       " ('multipart(text/plain, application/ms-tnef, text/plain)', 1),\n",
       " ('multipart(multipart(text/plain, text/plain, text/plain), application/pgp-signature)',\n",
       "  1),\n",
       " ('multipart(text/plain, video/mng)', 1),\n",
       " ('multipart(text/plain, multipart(text/plain))', 1),\n",
       " ('multipart(text/plain, application/x-pkcs7-signature)', 1),\n",
       " ('multipart(text/plain, multipart(text/plain, text/plain), text/rfc822-headers)',\n",
       "  1),\n",
       " ('multipart(text/plain, multipart(text/plain, text/plain), multipart(multipart(text/plain, application/x-pkcs7-signature)))',\n",
       "  1),\n",
       " ('multipart(text/plain, application/x-java-applet)', 1)]"
      ]
     },
     "execution_count": 138,
     "metadata": {},
     "output_type": "execute_result"
    }
   ],
   "source": [
    "structures_counter(ham_emails).most_common()"
   ]
  },
  {
   "cell_type": "code",
   "execution_count": 139,
   "metadata": {},
   "outputs": [
    {
     "data": {
      "text/plain": [
       "[('text/plain', 218),\n",
       " ('text/html', 183),\n",
       " ('multipart(text/plain, text/html)', 45),\n",
       " ('multipart(text/html)', 20),\n",
       " ('multipart(text/plain)', 19),\n",
       " ('multipart(multipart(text/html))', 5),\n",
       " ('multipart(text/plain, image/jpeg)', 3),\n",
       " ('multipart(text/html, application/octet-stream)', 2),\n",
       " ('multipart(text/plain, application/octet-stream)', 1),\n",
       " ('multipart(text/html, text/plain)', 1),\n",
       " ('multipart(multipart(text/html), application/octet-stream, image/jpeg)', 1),\n",
       " ('multipart(multipart(text/plain, text/html), image/gif)', 1),\n",
       " ('multipart/alternative', 1)]"
      ]
     },
     "execution_count": 139,
     "metadata": {},
     "output_type": "execute_result"
    }
   ],
   "source": [
    "structures_counter(spam_emails).most_common()"
   ]
  },
  {
   "cell_type": "markdown",
   "metadata": {},
   "source": [
    "It seems that the ham emails are more often plain text, while spam has quite a lot of HTML. Moreover, quite a few ham emails are signed using PGP, while no spam is. In short, it seems that the email structure is useful information to have."
   ]
  },
  {
   "cell_type": "markdown",
   "metadata": {},
   "source": [
    "Now let's take a look at the email headers:"
   ]
  },
  {
   "cell_type": "code",
   "execution_count": 140,
   "metadata": {},
   "outputs": [
    {
     "name": "stdout",
     "output_type": "stream",
     "text": [
      "Return-Path : <12a1mailbot1@web.de>\n",
      "Delivered-To : zzzz@localhost.spamassassin.taint.org\n",
      "Received : from localhost (localhost [127.0.0.1])\tby phobos.labs.spamassassin.taint.org (Postfix) with ESMTP id 136B943C32\tfor <zzzz@localhost>; Thu, 22 Aug 2002 08:17:21 -0400 (EDT)\n",
      "Received : from mail.webnote.net [193.120.211.219]\tby localhost with POP3 (fetchmail-5.9.0)\tfor zzzz@localhost (single-drop); Thu, 22 Aug 2002 13:17:21 +0100 (IST)\n",
      "Received : from dd_it7 ([210.97.77.167])\tby webnote.net (8.9.3/8.9.3) with ESMTP id NAA04623\tfor <zzzz@spamassassin.taint.org>; Thu, 22 Aug 2002 13:09:41 +0100\n",
      "From : 12a1mailbot1@web.de\n",
      "Received : from r-smtp.korea.com - 203.122.2.197 by dd_it7  with Microsoft SMTPSVC(5.5.1775.675.6);\t Sat, 24 Aug 2002 09:42:10 +0900\n",
      "To : dcek1a1@netsgo.com\n",
      "Subject : Life Insurance - Why Pay More?\n",
      "Date : Wed, 21 Aug 2002 20:31:57 -1600\n",
      "MIME-Version : 1.0\n",
      "Message-ID : <0103c1042001882DD_IT7@dd_it7>\n",
      "Content-Type : text/html; charset=\"iso-8859-1\"\n",
      "Content-Transfer-Encoding : quoted-printable\n"
     ]
    }
   ],
   "source": [
    "for header, value in spam_emails[0].items():\n",
    "    print(header,\":\",value)"
   ]
  },
  {
   "cell_type": "markdown",
   "metadata": {},
   "source": [
    "There's probably a lot of useful information in there, such as the sender's email address (12a1mailbot1@web.de looks fishy), but we will just focus on the `Subject` header:"
   ]
  },
  {
   "cell_type": "code",
   "execution_count": 141,
   "metadata": {},
   "outputs": [
    {
     "data": {
      "text/plain": [
       "'Life Insurance - Why Pay More?'"
      ]
     },
     "execution_count": 141,
     "metadata": {},
     "output_type": "execute_result"
    }
   ],
   "source": [
    "spam_emails[0][\"Subject\"]"
   ]
  },
  {
   "cell_type": "markdown",
   "metadata": {},
   "source": [
    "Okay, before we learn too much about the data, let's not forget to split it into a training set and a test set:"
   ]
  },
  {
   "cell_type": "code",
   "execution_count": 142,
   "metadata": {},
   "outputs": [],
   "source": [
    "import numpy as np\n",
    "from sklearn.model_selection import train_test_split\n",
    "\n",
    "X = np.array(ham_emails + spam_emails)\n",
    "y = np.array([0] * len(ham_emails) + [1] * len(spam_emails))\n",
    "\n",
    "X_train, X_test, y_train, y_test = train_test_split(X, y, test_size=0.2, random_state=42)"
   ]
  },
  {
   "cell_type": "markdown",
   "metadata": {},
   "source": [
    "Okay, let's start writing the preprocessing functions. First, we will need a function to convert HTML to plain text. Arguably the best way to do this would be to use the great [BeautifulSoup](https://www.crummy.com/software/BeautifulSoup/) library, but I would like to avoid adding another dependency to this project, so let's hack a quick & dirty solution using regular expressions (at the risk of [un̨ho͞ly radiańcé destro҉ying all enli̍̈́̂̈́ghtenment](https://stackoverflow.com/a/1732454/38626)). The following function first drops the `<head>` section, then converts all `<a>` tags to the word HYPERLINK, then it gets rid of all HTML tags, leaving only the plain text. For readability, it also replaces multiple newlines with single newlines, and finally it unescapes html entities (such as `&gt;` or `&nbsp;`):"
   ]
  },
  {
   "cell_type": "code",
   "execution_count": 143,
   "metadata": {},
   "outputs": [],
   "source": [
    "import re\n",
    "from html import unescape\n",
    "\n",
    "def html_to_plain_text(html):\n",
    "    text = re.sub('<head.*?>.*?</head>', '', html, flags=re.M | re.S | re.I)\n",
    "    text = re.sub('<a\\s.*?>', ' HYPERLINK ', text, flags=re.M | re.S | re.I)\n",
    "    text = re.sub('<.*?>', '', text, flags=re.M | re.S)\n",
    "    text = re.sub(r'(\\s*\\n)+', '\\n', text, flags=re.M | re.S)\n",
    "    return unescape(text)"
   ]
  },
  {
   "cell_type": "markdown",
   "metadata": {},
   "source": [
    "Let's see if it works. This is HTML spam:"
   ]
  },
  {
   "cell_type": "code",
   "execution_count": 144,
   "metadata": {},
   "outputs": [
    {
     "name": "stdout",
     "output_type": "stream",
     "text": [
      "<HTML><HEAD><TITLE></TITLE><META http-equiv=\"Content-Type\" content=\"text/html; charset=windows-1252\"><STYLE>A:link {TEX-DECORATION: none}A:active {TEXT-DECORATION: none}A:visited {TEXT-DECORATION: none}A:hover {COLOR: #0033ff; TEXT-DECORATION: underline}</STYLE><META content=\"MSHTML 6.00.2713.1100\" name=\"GENERATOR\"></HEAD>\n",
      "<BODY text=\"#000000\" vLink=\"#0033ff\" link=\"#0033ff\" bgColor=\"#CCCC99\"><TABLE borderColor=\"#660000\" cellSpacing=\"0\" cellPadding=\"0\" border=\"0\" width=\"100%\"><TR><TD bgColor=\"#CCCC99\" valign=\"top\" colspan=\"2\" height=\"27\">\n",
      "<font size=\"6\" face=\"Arial, Helvetica, sans-serif\" color=\"#660000\">\n",
      "<b>OTC</b></font></TD></TR><TR><TD height=\"2\" bgcolor=\"#6a694f\">\n",
      "<font size=\"5\" face=\"Times New Roman, Times, serif\" color=\"#FFFFFF\">\n",
      "<b>&nbsp;Newsletter</b></font></TD><TD height=\"2\" bgcolor=\"#6a694f\"><div align=\"right\"><font color=\"#FFFFFF\">\n",
      "<b>Discover Tomorrow's Winners&nbsp;</b></font></div></TD></TR><TR><TD height=\"25\" colspan=\"2\" bgcolor=\"#CCCC99\"><table width=\"100%\" border=\"0\"  ...\n"
     ]
    }
   ],
   "source": [
    "html_spam_emails = [email for email in X_train[y_train==1]\n",
    "                    if get_email_structure(email) == \"text/html\"]\n",
    "sample_html_spam = html_spam_emails[7]\n",
    "print(sample_html_spam.get_content().strip()[:1000], \"...\")"
   ]
  },
  {
   "cell_type": "markdown",
   "metadata": {},
   "source": [
    "And this is the resulting plain text:"
   ]
  },
  {
   "cell_type": "code",
   "execution_count": 145,
   "metadata": {},
   "outputs": [
    {
     "name": "stdout",
     "output_type": "stream",
     "text": [
      "\n",
      "OTC\n",
      " Newsletter\n",
      "Discover Tomorrow's Winners \n",
      "For Immediate Release\n",
      "Cal-Bay (Stock Symbol: CBYI)\n",
      "Watch for analyst \"Strong Buy Recommendations\" and several advisory newsletters picking CBYI.  CBYI has filed to be traded on the OTCBB, share prices historically INCREASE when companies get listed on this larger trading exchange. CBYI is trading around 25 cents and should skyrocket to $2.66 - $3.25 a share in the near future.\n",
      "Put CBYI on your watch list, acquire a position TODAY.\n",
      "REASONS TO INVEST IN CBYI\n",
      "A profitable company and is on track to beat ALL earnings estimates!\n",
      "One of the FASTEST growing distributors in environmental & safety equipment instruments.\n",
      "Excellent management team, several EXCLUSIVE contracts.  IMPRESSIVE client list including the U.S. Air Force, Anheuser-Busch, Chevron Refining and Mitsubishi Heavy Industries, GE-Energy & Environmental Research.\n",
      "RAPIDLY GROWING INDUSTRY\n",
      "Industry revenues exceed $900 million, estimates indicate that there could be as much as $25 billi ...\n"
     ]
    }
   ],
   "source": [
    "print(html_to_plain_text(sample_html_spam.get_content())[:1000], \"...\")"
   ]
  },
  {
   "cell_type": "markdown",
   "metadata": {},
   "source": [
    "Great! Now let's write a function that takes an email as input and returns its content as plain text, whatever its format is:"
   ]
  },
  {
   "cell_type": "code",
   "execution_count": 146,
   "metadata": {},
   "outputs": [],
   "source": [
    "def email_to_text(email):\n",
    "    html = None\n",
    "    for part in email.walk():\n",
    "        ctype = part.get_content_type()\n",
    "        if not ctype in (\"text/plain\", \"text/html\"):\n",
    "            continue\n",
    "        try:\n",
    "            content = part.get_content()\n",
    "        except: # in case of encoding issues\n",
    "            content = str(part.get_payload())\n",
    "        if ctype == \"text/plain\":\n",
    "            return content\n",
    "        else:\n",
    "            html = content\n",
    "    if html:\n",
    "        return html_to_plain_text(html)"
   ]
  },
  {
   "cell_type": "code",
   "execution_count": 147,
   "metadata": {},
   "outputs": [
    {
     "name": "stdout",
     "output_type": "stream",
     "text": [
      "\n",
      "OTC\n",
      " Newsletter\n",
      "Discover Tomorrow's Winners \n",
      "For Immediate Release\n",
      "Cal-Bay (Stock Symbol: CBYI)\n",
      "Wat ...\n"
     ]
    }
   ],
   "source": [
    "print(email_to_text(sample_html_spam)[:100], \"...\")"
   ]
  },
  {
   "cell_type": "markdown",
   "metadata": {},
   "source": [
    "Let's throw in some stemming! For this to work, you need to install the Natural Language Toolkit ([NLTK](http://www.nltk.org/)). It's as simple as running the following command (don't forget to activate your virtualenv first; if you don't have one, you will likely need administrator rights, or use the `--user` option):\n",
    "\n",
    "`$ pip3 install nltk`"
   ]
  },
  {
   "cell_type": "code",
   "execution_count": 148,
   "metadata": {},
   "outputs": [
    {
     "name": "stdout",
     "output_type": "stream",
     "text": [
      "Computations => comput\n",
      "Computation => comput\n",
      "Computing => comput\n",
      "Computed => comput\n",
      "Compute => comput\n",
      "Compulsive => compuls\n"
     ]
    }
   ],
   "source": [
    "try:\n",
    "    import nltk\n",
    "\n",
    "    stemmer = nltk.PorterStemmer()\n",
    "    for word in (\"Computations\", \"Computation\", \"Computing\", \"Computed\", \"Compute\", \"Compulsive\"):\n",
    "        print(word, \"=>\", stemmer.stem(word))\n",
    "except ImportError:\n",
    "    print(\"Error: stemming requires the NLTK module.\")\n",
    "    stemmer = None"
   ]
  },
  {
   "cell_type": "markdown",
   "metadata": {},
   "source": [
    "We will also need a way to replace URLs with the word \"URL\". For this, we could use hard core [regular expressions](https://mathiasbynens.be/demo/url-regex) but we will just use the [urlextract](https://github.com/lipoja/URLExtract) library. You can install it with the following command (don't forget to activate your virtualenv first; if you don't have one, you will likely need administrator rights, or use the `--user` option):\n",
    "\n",
    "`$ pip3 install urlextract`"
   ]
  },
  {
   "cell_type": "code",
   "execution_count": 149,
   "metadata": {},
   "outputs": [],
   "source": [
    "# if running this notebook on Colab, we just pip install urlextract\n",
    "try:\n",
    "    import google.colab\n",
    "    !pip install -q -U urlextract\n",
    "except ImportError:\n",
    "    pass # not running on Colab"
   ]
  },
  {
   "cell_type": "code",
   "execution_count": 150,
   "metadata": {},
   "outputs": [
    {
     "name": "stdout",
     "output_type": "stream",
     "text": [
      "['github.com', 'https://youtu.be/7Pq-S557XQU?t=3m32s']\n"
     ]
    }
   ],
   "source": [
    "try:\n",
    "    import urlextract # may require an Internet connection to download root domain names\n",
    "    \n",
    "    url_extractor = urlextract.URLExtract()\n",
    "    print(url_extractor.find_urls(\"Will it detect github.com and https://youtu.be/7Pq-S557XQU?t=3m32s\"))\n",
    "except ImportError:\n",
    "    print(\"Error: replacing URLs requires the urlextract module.\")\n",
    "    url_extractor = None"
   ]
  },
  {
   "cell_type": "markdown",
   "metadata": {},
   "source": [
    "We are ready to put all this together into a transformer that we will use to convert emails to word counters. Note that we split sentences into words using Python's `split()` method, which uses whitespaces for word boundaries. This works for many written languages, but not all. For example, Chinese and Japanese scripts generally don't use spaces between words, and Vietnamese often uses spaces even between syllables. It's okay in this exercise, because the dataset is (mostly) in English."
   ]
  },
  {
   "cell_type": "code",
   "execution_count": 151,
   "metadata": {},
   "outputs": [],
   "source": [
    "from sklearn.base import BaseEstimator, TransformerMixin\n",
    "\n",
    "class EmailToWordCounterTransformer(BaseEstimator, TransformerMixin):\n",
    "    def __init__(self, strip_headers=True, lower_case=True, remove_punctuation=True,\n",
    "                 replace_urls=True, replace_numbers=True, stemming=True):\n",
    "        self.strip_headers = strip_headers\n",
    "        self.lower_case = lower_case\n",
    "        self.remove_punctuation = remove_punctuation\n",
    "        self.replace_urls = replace_urls\n",
    "        self.replace_numbers = replace_numbers\n",
    "        self.stemming = stemming\n",
    "    def fit(self, X, y=None):\n",
    "        return self\n",
    "    def transform(self, X, y=None):\n",
    "        X_transformed = []\n",
    "        for email in X:\n",
    "            text = email_to_text(email) or \"\"\n",
    "            if self.lower_case:\n",
    "                text = text.lower()\n",
    "            if self.replace_urls and url_extractor is not None:\n",
    "                urls = list(set(url_extractor.find_urls(text)))\n",
    "                urls.sort(key=lambda url: len(url), reverse=True)\n",
    "                for url in urls:\n",
    "                    text = text.replace(url, \" URL \")\n",
    "            if self.replace_numbers:\n",
    "                text = re.sub(r'\\d+(?:\\.\\d*(?:[eE]\\d+))?', 'NUMBER', text)\n",
    "            if self.remove_punctuation:\n",
    "                text = re.sub(r'\\W+', ' ', text, flags=re.M)\n",
    "            word_counts = Counter(text.split())\n",
    "            if self.stemming and stemmer is not None:\n",
    "                stemmed_word_counts = Counter()\n",
    "                for word, count in word_counts.items():\n",
    "                    stemmed_word = stemmer.stem(word)\n",
    "                    stemmed_word_counts[stemmed_word] += count\n",
    "                word_counts = stemmed_word_counts\n",
    "            X_transformed.append(word_counts)\n",
    "        return np.array(X_transformed)"
   ]
  },
  {
   "cell_type": "markdown",
   "metadata": {},
   "source": [
    "Let's try this transformer on a few emails:"
   ]
  },
  {
   "cell_type": "code",
   "execution_count": 152,
   "metadata": {},
   "outputs": [
    {
     "data": {
      "text/plain": [
       "array([Counter({'chuck': 1, 'murcko': 1, 'wrote': 1, 'stuff': 1, 'yawn': 1, 'r': 1}),\n",
       "       Counter({'the': 11, 'of': 9, 'and': 8, 'all': 3, 'christian': 3, 'to': 3, 'by': 3, 'jefferson': 2, 'i': 2, 'have': 2, 'superstit': 2, 'one': 2, 'on': 2, 'been': 2, 'ha': 2, 'half': 2, 'rogueri': 2, 'teach': 2, 'jesu': 2, 'some': 1, 'interest': 1, 'quot': 1, 'url': 1, 'thoma': 1, 'examin': 1, 'known': 1, 'word': 1, 'do': 1, 'not': 1, 'find': 1, 'in': 1, 'our': 1, 'particular': 1, 'redeem': 1, 'featur': 1, 'they': 1, 'are': 1, 'alik': 1, 'found': 1, 'fabl': 1, 'mytholog': 1, 'million': 1, 'innoc': 1, 'men': 1, 'women': 1, 'children': 1, 'sinc': 1, 'introduct': 1, 'burnt': 1, 'tortur': 1, 'fine': 1, 'imprison': 1, 'what': 1, 'effect': 1, 'thi': 1, 'coercion': 1, 'make': 1, 'world': 1, 'fool': 1, 'other': 1, 'hypocrit': 1, 'support': 1, 'error': 1, 'over': 1, 'earth': 1, 'six': 1, 'histor': 1, 'american': 1, 'john': 1, 'e': 1, 'remsburg': 1, 'letter': 1, 'william': 1, 'short': 1, 'again': 1, 'becom': 1, 'most': 1, 'pervert': 1, 'system': 1, 'that': 1, 'ever': 1, 'shone': 1, 'man': 1, 'absurd': 1, 'untruth': 1, 'were': 1, 'perpetr': 1, 'upon': 1, 'a': 1, 'larg': 1, 'band': 1, 'dupe': 1, 'import': 1, 'led': 1, 'paul': 1, 'first': 1, 'great': 1, 'corrupt': 1}),\n",
       "       Counter({'url': 5, 's': 3, 'group': 3, 'to': 3, 'in': 2, 'forteana': 2, 'martin': 2, 'an': 2, 'and': 2, 'we': 2, 'is': 2, 'yahoo': 2, 'unsubscrib': 2, 'y': 1, 'adamson': 1, 'wrote': 1, 'for': 1, 'altern': 1, 'rather': 1, 'more': 1, 'factual': 1, 'base': 1, 'rundown': 1, 'on': 1, 'hamza': 1, 'career': 1, 'includ': 1, 'hi': 1, 'belief': 1, 'that': 1, 'all': 1, 'non': 1, 'muslim': 1, 'yemen': 1, 'should': 1, 'be': 1, 'murder': 1, 'outright': 1, 'know': 1, 'how': 1, 'unbias': 1, 'memri': 1, 'don': 1, 't': 1, 'html': 1, 'rob': 1, 'sponsor': 1, 'number': 1, 'dvd': 1, 'free': 1, 'p': 1, 'join': 1, 'now': 1, 'from': 1, 'thi': 1, 'send': 1, 'email': 1, 'your': 1, 'use': 1, 'of': 1, 'subject': 1})],\n",
       "      dtype=object)"
      ]
     },
     "execution_count": 152,
     "metadata": {},
     "output_type": "execute_result"
    }
   ],
   "source": [
    "X_few = X_train[:3]\n",
    "X_few_wordcounts = EmailToWordCounterTransformer().fit_transform(X_few)\n",
    "X_few_wordcounts"
   ]
  },
  {
   "cell_type": "markdown",
   "metadata": {},
   "source": [
    "This looks about right!"
   ]
  },
  {
   "cell_type": "markdown",
   "metadata": {},
   "source": [
    "Now we have the word counts, and we need to convert them to vectors. For this, we will build another transformer whose `fit()` method will build the vocabulary (an ordered list of the most common words) and whose `transform()` method will use the vocabulary to convert word counts to vectors. The output is a sparse matrix."
   ]
  },
  {
   "cell_type": "code",
   "execution_count": 153,
   "metadata": {},
   "outputs": [],
   "source": [
    "from scipy.sparse import csr_matrix\n",
    "\n",
    "class WordCounterToVectorTransformer(BaseEstimator, TransformerMixin):\n",
    "    def __init__(self, vocabulary_size=1000):\n",
    "        self.vocabulary_size = vocabulary_size\n",
    "    def fit(self, X, y=None):\n",
    "        total_count = Counter()\n",
    "        for word_count in X:\n",
    "            for word, count in word_count.items():\n",
    "                total_count[word] += min(count, 10)\n",
    "        most_common = total_count.most_common()[:self.vocabulary_size]\n",
    "        self.most_common_ = most_common\n",
    "        self.vocabulary_ = {word: index + 1 for index, (word, count) in enumerate(most_common)}\n",
    "        return self\n",
    "    def transform(self, X, y=None):\n",
    "        rows = []\n",
    "        cols = []\n",
    "        data = []\n",
    "        for row, word_count in enumerate(X):\n",
    "            for word, count in word_count.items():\n",
    "                rows.append(row)\n",
    "                cols.append(self.vocabulary_.get(word, 0))\n",
    "                data.append(count)\n",
    "        return csr_matrix((data, (rows, cols)), shape=(len(X), self.vocabulary_size + 1))"
   ]
  },
  {
   "cell_type": "code",
   "execution_count": 154,
   "metadata": {},
   "outputs": [
    {
     "data": {
      "text/plain": [
       "<3x11 sparse matrix of type '<class 'numpy.int64'>'\n",
       "\twith 20 stored elements in Compressed Sparse Row format>"
      ]
     },
     "execution_count": 154,
     "metadata": {},
     "output_type": "execute_result"
    }
   ],
   "source": [
    "vocab_transformer = WordCounterToVectorTransformer(vocabulary_size=10)\n",
    "X_few_vectors = vocab_transformer.fit_transform(X_few_wordcounts)\n",
    "X_few_vectors"
   ]
  },
  {
   "cell_type": "code",
   "execution_count": 155,
   "metadata": {},
   "outputs": [
    {
     "data": {
      "text/plain": [
       "array([[ 6,  0,  0,  0,  0,  0,  0,  0,  0,  0,  0],\n",
       "       [99, 11,  9,  8,  1,  3,  3,  1,  3,  2,  3],\n",
       "       [65,  0,  1,  2,  5,  3,  1,  2,  0,  1,  0]], dtype=int64)"
      ]
     },
     "execution_count": 155,
     "metadata": {},
     "output_type": "execute_result"
    }
   ],
   "source": [
    "X_few_vectors.toarray()"
   ]
  },
  {
   "cell_type": "markdown",
   "metadata": {},
   "source": [
    "What does this matrix mean? Well, the 99 in the second row, first column, means that the second email contains 99 words that are not part of the vocabulary. The 11 next to it means that the first word in the vocabulary is present 11 times in this email. The 9 next to it means that the second word is present 9 times, and so on. You can look at the vocabulary to know which words we are talking about. The first word is \"the\", the second word is \"of\", etc."
   ]
  },
  {
   "cell_type": "code",
   "execution_count": 156,
   "metadata": {},
   "outputs": [
    {
     "data": {
      "text/plain": [
       "{'the': 1,\n",
       " 'of': 2,\n",
       " 'and': 3,\n",
       " 'url': 4,\n",
       " 'to': 5,\n",
       " 'all': 6,\n",
       " 'in': 7,\n",
       " 'christian': 8,\n",
       " 'on': 9,\n",
       " 'by': 10}"
      ]
     },
     "execution_count": 156,
     "metadata": {},
     "output_type": "execute_result"
    }
   ],
   "source": [
    "vocab_transformer.vocabulary_"
   ]
  },
  {
   "cell_type": "markdown",
   "metadata": {},
   "source": [
    "We are now ready to train our first spam classifier! Let's transform the whole dataset:"
   ]
  },
  {
   "cell_type": "code",
   "execution_count": 157,
   "metadata": {},
   "outputs": [],
   "source": [
    "from sklearn.pipeline import Pipeline\n",
    "\n",
    "preprocess_pipeline = Pipeline([\n",
    "    (\"email_to_wordcount\", EmailToWordCounterTransformer()),\n",
    "    (\"wordcount_to_vector\", WordCounterToVectorTransformer()),\n",
    "])\n",
    "\n",
    "X_train_transformed = preprocess_pipeline.fit_transform(X_train)"
   ]
  },
  {
   "cell_type": "markdown",
   "metadata": {},
   "source": [
    "**Note**: to be future-proof, we set `solver=\"lbfgs\"` since this will be the default value in Scikit-Learn 0.22."
   ]
  },
  {
   "cell_type": "code",
   "execution_count": 158,
   "metadata": {},
   "outputs": [
    {
     "name": "stderr",
     "output_type": "stream",
     "text": [
      "[Parallel(n_jobs=1)]: Using backend SequentialBackend with 1 concurrent workers.\n",
      "/Users/ageron/.virtualenvs/tf2/lib/python3.6/site-packages/sklearn/linear_model/logistic.py:758: ConvergenceWarning: lbfgs failed to converge. Increase the number of iterations.\n",
      "  \"of iterations.\", ConvergenceWarning)\n",
      "[Parallel(n_jobs=1)]: Done   1 out of   1 | elapsed:    0.1s remaining:    0.0s\n"
     ]
    },
    {
     "name": "stdout",
     "output_type": "stream",
     "text": [
      "[CV]  ................................................................\n",
      "[CV] .................................... , score=0.985, total=   0.1s\n",
      "[CV]  ................................................................\n",
      "[CV] .................................... , score=0.985, total=   0.1s\n",
      "[CV]  ................................................................\n",
      "[CV] ................................... , score=0.9925, total=   0.1s\n"
     ]
    },
    {
     "name": "stderr",
     "output_type": "stream",
     "text": [
      "/Users/ageron/.virtualenvs/tf2/lib/python3.6/site-packages/sklearn/linear_model/logistic.py:758: ConvergenceWarning: lbfgs failed to converge. Increase the number of iterations.\n",
      "  \"of iterations.\", ConvergenceWarning)\n",
      "[Parallel(n_jobs=1)]: Done   2 out of   2 | elapsed:    0.2s remaining:    0.0s\n",
      "/Users/ageron/.virtualenvs/tf2/lib/python3.6/site-packages/sklearn/linear_model/logistic.py:758: ConvergenceWarning: lbfgs failed to converge. Increase the number of iterations.\n",
      "  \"of iterations.\", ConvergenceWarning)\n",
      "[Parallel(n_jobs=1)]: Done   3 out of   3 | elapsed:    0.4s finished\n"
     ]
    },
    {
     "data": {
      "text/plain": [
       "0.9874999999999999"
      ]
     },
     "execution_count": 158,
     "metadata": {},
     "output_type": "execute_result"
    }
   ],
   "source": [
    "from sklearn.linear_model import LogisticRegression\n",
    "from sklearn.model_selection import cross_val_score\n",
    "\n",
    "log_clf = LogisticRegression(solver=\"lbfgs\", random_state=42)\n",
    "score = cross_val_score(log_clf, X_train_transformed, y_train, cv=3, verbose=3)\n",
    "score.mean()"
   ]
  },
  {
   "cell_type": "markdown",
   "metadata": {},
   "source": [
    "Over 98.7%, not bad for a first try! :) However, remember that we are using the \"easy\" dataset. You can try with the harder datasets, the results won't be so amazing. You would have to try multiple models, select the best ones and fine-tune them using cross-validation, and so on.\n",
    "\n",
    "But you get the picture, so let's stop now, and just print out the precision/recall we get on the test set:"
   ]
  },
  {
   "cell_type": "code",
   "execution_count": 159,
   "metadata": {},
   "outputs": [
    {
     "name": "stdout",
     "output_type": "stream",
     "text": [
      "Precision: 95.88%\n",
      "Recall: 97.89%\n"
     ]
    },
    {
     "name": "stderr",
     "output_type": "stream",
     "text": [
      "/Users/ageron/.virtualenvs/tf2/lib/python3.6/site-packages/sklearn/linear_model/logistic.py:758: ConvergenceWarning: lbfgs failed to converge. Increase the number of iterations.\n",
      "  \"of iterations.\", ConvergenceWarning)\n"
     ]
    }
   ],
   "source": [
    "from sklearn.metrics import precision_score, recall_score\n",
    "\n",
    "X_test_transformed = preprocess_pipeline.transform(X_test)\n",
    "\n",
    "log_clf = LogisticRegression(solver=\"lbfgs\", random_state=42)\n",
    "log_clf.fit(X_train_transformed, y_train)\n",
    "\n",
    "y_pred = log_clf.predict(X_test_transformed)\n",
    "\n",
    "print(\"Precision: {:.2f}%\".format(100 * precision_score(y_test, y_pred)))\n",
    "print(\"Recall: {:.2f}%\".format(100 * recall_score(y_test, y_pred)))"
   ]
  },
  {
   "cell_type": "code",
   "execution_count": null,
   "metadata": {},
   "outputs": [],
   "source": []
  }
 ],
 "metadata": {
  "kernelspec": {
   "display_name": "Python 3",
   "language": "python",
   "name": "python3"
  },
  "language_info": {
   "codemirror_mode": {
    "name": "ipython",
    "version": 3
   },
   "file_extension": ".py",
   "mimetype": "text/x-python",
   "name": "python",
   "nbconvert_exporter": "python",
   "pygments_lexer": "ipython3",
   "version": "3.7.4"
  },
  "nav_menu": {},
  "toc": {
   "navigate_menu": true,
   "number_sections": true,
   "sideBar": true,
   "threshold": 6,
   "toc_cell": false,
   "toc_section_display": "block",
   "toc_window_display": false
  }
 },
 "nbformat": 4,
 "nbformat_minor": 4
}
